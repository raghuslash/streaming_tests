{
 "cells": [
  {
   "cell_type": "code",
   "execution_count": 1,
   "metadata": {},
   "outputs": [],
   "source": [
    "import pandas as pd\n",
    "import matplotlib.pyplot as plt\n",
    "import scipy.signal\n",
    "import numpy as np\n",
    "import seaborn as sns"
   ]
  },
  {
   "cell_type": "code",
   "execution_count": 2,
   "metadata": {},
   "outputs": [],
   "source": [
    "plt.rcParams[\"figure.figsize\"]=[15,5]"
   ]
  },
  {
   "cell_type": "code",
   "execution_count": 3,
   "metadata": {},
   "outputs": [],
   "source": [
    "raw_pp=pd.read_csv('9thhour.csv', usecols=['timestamp', 'data.ax', 'data.az'])\n",
    "raw_pp.dropna(axis=1, inplace=True)\n",
    "raw_pp['timestamp'] =  pd.to_datetime(raw_pp['timestamp'])"
   ]
  },
  {
   "cell_type": "code",
   "execution_count": 4,
   "metadata": {},
   "outputs": [
    {
     "name": "stderr",
     "output_type": "stream",
     "text": [
      "/home/raghu/anaconda3/lib/python3.6/site-packages/ipykernel_launcher.py:7: SettingWithCopyWarning: \n",
      "A value is trying to be set on a copy of a slice from a DataFrame.\n",
      "Try using .loc[row_indexer,col_indexer] = value instead\n",
      "\n",
      "See the caveats in the documentation: http://pandas.pydata.org/pandas-docs/stable/indexing.html#indexing-view-versus-copy\n",
      "  import sys\n"
     ]
    }
   ],
   "source": [
    "#Load LD data and plot\n",
    "raw_pp[\"acc\"] = ( raw_pp[\"data.ax\"]**2 + raw_pp[\"data.az\"]**2) ** 0.5\n",
    "acc=raw_pp[[\"timestamp\", \"acc\"]]\n",
    "acc.index = acc.timestamp\n",
    "test_pp=acc\n",
    "# test_pp['acc_rolling_sum']=pd.Series.to_frame(test_pp.acc.rolling(100*10, center=True).sum())\n",
    "test_pp['acc_rolling_std']=pd.Series.to_frame(test_pp.acc.rolling(100*2, center=True).std())\n"
   ]
  },
  {
   "cell_type": "code",
   "execution_count": 5,
   "metadata": {},
   "outputs": [],
   "source": [
    "%matplotlib qt"
   ]
  },
  {
   "cell_type": "code",
   "execution_count": 6,
   "metadata": {},
   "outputs": [],
   "source": [
    "# plt.plot(test_pp['timestamp'], test_pp['acc'])\n",
    "# plt.plot(test_pp['timestamp'], test_pp['acc_rolling_std'])"
   ]
  },
  {
   "cell_type": "code",
   "execution_count": 7,
   "metadata": {},
   "outputs": [],
   "source": [
    "test_pp['detections']=pd.Series.to_frame(test_pp.acc_rolling_std.rolling(100, center=True).sum())"
   ]
  },
  {
   "cell_type": "code",
   "execution_count": 8,
   "metadata": {},
   "outputs": [
    {
     "data": {
      "text/plain": [
       "[<matplotlib.lines.Line2D at 0x7fe1b8cb9f60>]"
      ]
     },
     "execution_count": 8,
     "metadata": {},
     "output_type": "execute_result"
    }
   ],
   "source": [
    "plt.plot(test_pp['timestamp'], test_pp['acc']*100)\n",
    "plt.plot(test_pp['timestamp'], test_pp['detections'])"
   ]
  },
  {
   "cell_type": "code",
   "execution_count": 9,
   "metadata": {},
   "outputs": [
    {
     "data": {
      "text/plain": [
       "[<matplotlib.lines.Line2D at 0x7fe1b804cba8>]"
      ]
     },
     "execution_count": 9,
     "metadata": {},
     "output_type": "execute_result"
    }
   ],
   "source": [
    "plt.plot(test_pp['timestamp'], test_pp['detections'])"
   ]
  },
  {
   "cell_type": "code",
   "execution_count": 13,
   "metadata": {},
   "outputs": [
    {
     "name": "stderr",
     "output_type": "stream",
     "text": [
      "/home/raghu/anaconda3/lib/python3.6/site-packages/ipykernel_launcher.py:2: SettingWithCopyWarning: \n",
      "A value is trying to be set on a copy of a slice from a DataFrame\n",
      "\n",
      "See the caveats in the documentation: http://pandas.pydata.org/pandas-docs/stable/indexing.html#indexing-view-versus-copy\n",
      "  \n"
     ]
    }
   ],
   "source": [
    "test_pp['boards']=0\n",
    "test_pp['boards'][test_pp['detections']>=2] = 1"
   ]
  },
  {
   "cell_type": "code",
   "execution_count": 14,
   "metadata": {},
   "outputs": [
    {
     "data": {
      "text/plain": [
       "[<matplotlib.lines.Line2D at 0x7fe195ec9828>]"
      ]
     },
     "execution_count": 14,
     "metadata": {},
     "output_type": "execute_result"
    }
   ],
   "source": [
    "plt.plot(test_pp[\"timestamp\"],test_pp[\"boards\"])"
   ]
  },
  {
   "cell_type": "code",
   "execution_count": 15,
   "metadata": {},
   "outputs": [],
   "source": [
    "working_times_raw=scipy.signal.find_peaks(test_pp.boards, distance=40*72, width=1)"
   ]
  },
  {
   "cell_type": "code",
   "execution_count": 16,
   "metadata": {},
   "outputs": [],
   "source": [
    "working_times_raw_df=pd.DataFrame({\"sample_number\":working_times_raw[0], \"working_time\":working_times_raw[1]['widths']/72})"
   ]
  },
  {
   "cell_type": "code",
   "execution_count": 17,
   "metadata": {},
   "outputs": [],
   "source": [
    "working_times_df=working_times_raw_df[working_times_raw_df.working_time>30]"
   ]
  },
  {
   "cell_type": "code",
   "execution_count": 18,
   "metadata": {},
   "outputs": [],
   "source": [
    "PP_events=pd.DataFrame({\"timestamp\":test_pp.iloc[working_times_df.sample_number].timestamp, \"event\":1, \"working_time\":working_times_df.working_time.tolist()})\n",
    "PP_events.drop(\"timestamp\",axis=1, inplace=True)"
   ]
  },
  {
   "cell_type": "code",
   "execution_count": 19,
   "metadata": {},
   "outputs": [
    {
     "data": {
      "text/plain": [
       "59.111111111111114"
      ]
     },
     "execution_count": 19,
     "metadata": {},
     "output_type": "execute_result"
    }
   ],
   "source": [
    "PP_events.working_time.mode().mean()"
   ]
  },
  {
   "cell_type": "code",
   "execution_count": 21,
   "metadata": {},
   "outputs": [
    {
     "data": {
      "text/html": [
       "<div>\n",
       "<style scoped>\n",
       "    .dataframe tbody tr th:only-of-type {\n",
       "        vertical-align: middle;\n",
       "    }\n",
       "\n",
       "    .dataframe tbody tr th {\n",
       "        vertical-align: top;\n",
       "    }\n",
       "\n",
       "    .dataframe thead th {\n",
       "        text-align: right;\n",
       "    }\n",
       "</style>\n",
       "<table border=\"1\" class=\"dataframe\">\n",
       "  <thead>\n",
       "    <tr style=\"text-align: right;\">\n",
       "      <th></th>\n",
       "      <th>event</th>\n",
       "      <th>working_time</th>\n",
       "    </tr>\n",
       "    <tr>\n",
       "      <th>timestamp</th>\n",
       "      <th></th>\n",
       "      <th></th>\n",
       "    </tr>\n",
       "  </thead>\n",
       "  <tbody>\n",
       "    <tr>\n",
       "      <th>2019-01-02 09:03:48.801577</th>\n",
       "      <td>1</td>\n",
       "      <td>58.611111</td>\n",
       "    </tr>\n",
       "    <tr>\n",
       "      <th>2019-01-02 09:05:41.799734</th>\n",
       "      <td>1</td>\n",
       "      <td>59.152778</td>\n",
       "    </tr>\n",
       "    <tr>\n",
       "      <th>2019-01-02 09:09:12.983902</th>\n",
       "      <td>1</td>\n",
       "      <td>58.916667</td>\n",
       "    </tr>\n",
       "    <tr>\n",
       "      <th>2019-01-02 09:11:05.031178</th>\n",
       "      <td>1</td>\n",
       "      <td>61.347222</td>\n",
       "    </tr>\n",
       "    <tr>\n",
       "      <th>2019-01-02 09:12:57.702438</th>\n",
       "      <td>1</td>\n",
       "      <td>63.055556</td>\n",
       "    </tr>\n",
       "    <tr>\n",
       "      <th>2019-01-02 09:14:49.710774</th>\n",
       "      <td>1</td>\n",
       "      <td>64.583333</td>\n",
       "    </tr>\n",
       "    <tr>\n",
       "      <th>2019-01-02 09:16:34.976179</th>\n",
       "      <td>1</td>\n",
       "      <td>53.111111</td>\n",
       "    </tr>\n",
       "    <tr>\n",
       "      <th>2019-01-02 09:18:31.202200</th>\n",
       "      <td>1</td>\n",
       "      <td>59.041667</td>\n",
       "    </tr>\n",
       "    <tr>\n",
       "      <th>2019-01-02 09:20:54.195563</th>\n",
       "      <td>1</td>\n",
       "      <td>42.666667</td>\n",
       "    </tr>\n",
       "    <tr>\n",
       "      <th>2019-01-02 09:22:13.358321</th>\n",
       "      <td>1</td>\n",
       "      <td>59.111111</td>\n",
       "    </tr>\n",
       "    <tr>\n",
       "      <th>2019-01-02 09:26:16.889881</th>\n",
       "      <td>1</td>\n",
       "      <td>115.333333</td>\n",
       "    </tr>\n",
       "    <tr>\n",
       "      <th>2019-01-02 09:27:47.328948</th>\n",
       "      <td>1</td>\n",
       "      <td>59.097222</td>\n",
       "    </tr>\n",
       "    <tr>\n",
       "      <th>2019-01-02 09:31:01.584249</th>\n",
       "      <td>1</td>\n",
       "      <td>58.583333</td>\n",
       "    </tr>\n",
       "    <tr>\n",
       "      <th>2019-01-02 09:32:52.352307</th>\n",
       "      <td>1</td>\n",
       "      <td>58.847222</td>\n",
       "    </tr>\n",
       "    <tr>\n",
       "      <th>2019-01-02 09:44:35.980940</th>\n",
       "      <td>1</td>\n",
       "      <td>59.111111</td>\n",
       "    </tr>\n",
       "    <tr>\n",
       "      <th>2019-01-02 09:46:26.253495</th>\n",
       "      <td>1</td>\n",
       "      <td>59.055556</td>\n",
       "    </tr>\n",
       "    <tr>\n",
       "      <th>2019-01-02 09:48:17.810135</th>\n",
       "      <td>1</td>\n",
       "      <td>58.444444</td>\n",
       "    </tr>\n",
       "    <tr>\n",
       "      <th>2019-01-02 09:50:08.962431</th>\n",
       "      <td>1</td>\n",
       "      <td>58.972222</td>\n",
       "    </tr>\n",
       "    <tr>\n",
       "      <th>2019-01-02 09:52:00.663063</th>\n",
       "      <td>1</td>\n",
       "      <td>58.597222</td>\n",
       "    </tr>\n",
       "    <tr>\n",
       "      <th>2019-01-02 09:54:49.287138</th>\n",
       "      <td>1</td>\n",
       "      <td>58.375000</td>\n",
       "    </tr>\n",
       "    <tr>\n",
       "      <th>2019-01-02 09:56:39.921326</th>\n",
       "      <td>1</td>\n",
       "      <td>59.027778</td>\n",
       "    </tr>\n",
       "    <tr>\n",
       "      <th>2019-01-02 09:58:26.635399</th>\n",
       "      <td>1</td>\n",
       "      <td>48.041667</td>\n",
       "    </tr>\n",
       "  </tbody>\n",
       "</table>\n",
       "</div>"
      ],
      "text/plain": [
       "                            event  working_time\n",
       "timestamp                                      \n",
       "2019-01-02 09:03:48.801577      1     58.611111\n",
       "2019-01-02 09:05:41.799734      1     59.152778\n",
       "2019-01-02 09:09:12.983902      1     58.916667\n",
       "2019-01-02 09:11:05.031178      1     61.347222\n",
       "2019-01-02 09:12:57.702438      1     63.055556\n",
       "2019-01-02 09:14:49.710774      1     64.583333\n",
       "2019-01-02 09:16:34.976179      1     53.111111\n",
       "2019-01-02 09:18:31.202200      1     59.041667\n",
       "2019-01-02 09:20:54.195563      1     42.666667\n",
       "2019-01-02 09:22:13.358321      1     59.111111\n",
       "2019-01-02 09:26:16.889881      1    115.333333\n",
       "2019-01-02 09:27:47.328948      1     59.097222\n",
       "2019-01-02 09:31:01.584249      1     58.583333\n",
       "2019-01-02 09:32:52.352307      1     58.847222\n",
       "2019-01-02 09:44:35.980940      1     59.111111\n",
       "2019-01-02 09:46:26.253495      1     59.055556\n",
       "2019-01-02 09:48:17.810135      1     58.444444\n",
       "2019-01-02 09:50:08.962431      1     58.972222\n",
       "2019-01-02 09:52:00.663063      1     58.597222\n",
       "2019-01-02 09:54:49.287138      1     58.375000\n",
       "2019-01-02 09:56:39.921326      1     59.027778\n",
       "2019-01-02 09:58:26.635399      1     48.041667"
      ]
     },
     "execution_count": 21,
     "metadata": {},
     "output_type": "execute_result"
    }
   ],
   "source": [
    "PP_events"
   ]
  },
  {
   "cell_type": "code",
   "execution_count": null,
   "metadata": {},
   "outputs": [],
   "source": []
  }
 ],
 "metadata": {
  "kernelspec": {
   "display_name": "Python 3",
   "language": "python",
   "name": "python3"
  },
  "language_info": {
   "codemirror_mode": {
    "name": "ipython",
    "version": 3
   },
   "file_extension": ".py",
   "mimetype": "text/x-python",
   "name": "python",
   "nbconvert_exporter": "python",
   "pygments_lexer": "ipython3",
   "version": "3.6.7"
  }
 },
 "nbformat": 4,
 "nbformat_minor": 2
}
