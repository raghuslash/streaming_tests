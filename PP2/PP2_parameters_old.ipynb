{
 "cells": [
  {
   "cell_type": "code",
   "execution_count": 1,
   "metadata": {},
   "outputs": [],
   "source": [
    "import pandas as pd\n",
    "import matplotlib.pyplot as plt\n",
    "import scipy.signal\n",
    "import numpy as np\n",
    "import seaborn as sns"
   ]
  },
  {
   "cell_type": "code",
   "execution_count": 2,
   "metadata": {},
   "outputs": [],
   "source": [
    "plt.rcParams[\"figure.figsize\"]=[15,5]"
   ]
  },
  {
   "cell_type": "code",
   "execution_count": 21,
   "metadata": {},
   "outputs": [],
   "source": [
    "raw_pp=pd.read_csv('out_pickandplace1.csv', usecols=['timestamp', 'data.ax', 'data.az'])\n",
    "raw_pp.sort_values(by=['timestamp'], inplace=True)\n",
    "raw_pp.reset_index(inplace=True)\n",
    "raw_pp.dropna(axis=0, inplace=True)\n",
    "raw_pp['timestamp'] =  pd.to_datetime(raw_pp['timestamp'])"
   ]
  },
  {
   "cell_type": "code",
   "execution_count": 22,
   "metadata": {},
   "outputs": [
    {
     "data": {
      "text/html": [
       "<div>\n",
       "<style scoped>\n",
       "    .dataframe tbody tr th:only-of-type {\n",
       "        vertical-align: middle;\n",
       "    }\n",
       "\n",
       "    .dataframe tbody tr th {\n",
       "        vertical-align: top;\n",
       "    }\n",
       "\n",
       "    .dataframe thead th {\n",
       "        text-align: right;\n",
       "    }\n",
       "</style>\n",
       "<table border=\"1\" class=\"dataframe\">\n",
       "  <thead>\n",
       "    <tr style=\"text-align: right;\">\n",
       "      <th></th>\n",
       "      <th>index</th>\n",
       "      <th>timestamp</th>\n",
       "      <th>data.ax</th>\n",
       "      <th>data.az</th>\n",
       "    </tr>\n",
       "  </thead>\n",
       "  <tbody>\n",
       "    <tr>\n",
       "      <th>0</th>\n",
       "      <td>65437</td>\n",
       "      <td>2019-01-01 18:29:59.808471</td>\n",
       "      <td>0.018433</td>\n",
       "      <td>0.082947</td>\n",
       "    </tr>\n",
       "    <tr>\n",
       "      <th>1</th>\n",
       "      <td>65438</td>\n",
       "      <td>2019-01-01 18:29:59.809549</td>\n",
       "      <td>0.014771</td>\n",
       "      <td>0.075562</td>\n",
       "    </tr>\n",
       "    <tr>\n",
       "      <th>2</th>\n",
       "      <td>65439</td>\n",
       "      <td>2019-01-01 18:29:59.810583</td>\n",
       "      <td>0.013062</td>\n",
       "      <td>0.079468</td>\n",
       "    </tr>\n",
       "    <tr>\n",
       "      <th>3</th>\n",
       "      <td>65440</td>\n",
       "      <td>2019-01-01 18:29:59.811605</td>\n",
       "      <td>0.017639</td>\n",
       "      <td>0.082520</td>\n",
       "    </tr>\n",
       "    <tr>\n",
       "      <th>4</th>\n",
       "      <td>65441</td>\n",
       "      <td>2019-01-01 18:29:59.812619</td>\n",
       "      <td>0.014832</td>\n",
       "      <td>0.081970</td>\n",
       "    </tr>\n",
       "    <tr>\n",
       "      <th>5</th>\n",
       "      <td>65442</td>\n",
       "      <td>2019-01-01 18:29:59.813656</td>\n",
       "      <td>0.015808</td>\n",
       "      <td>0.083130</td>\n",
       "    </tr>\n",
       "    <tr>\n",
       "      <th>6</th>\n",
       "      <td>65443</td>\n",
       "      <td>2019-01-01 18:29:59.814662</td>\n",
       "      <td>0.017029</td>\n",
       "      <td>0.082031</td>\n",
       "    </tr>\n",
       "    <tr>\n",
       "      <th>7</th>\n",
       "      <td>65444</td>\n",
       "      <td>2019-01-01 18:29:59.815705</td>\n",
       "      <td>0.015198</td>\n",
       "      <td>0.081482</td>\n",
       "    </tr>\n",
       "    <tr>\n",
       "      <th>8</th>\n",
       "      <td>65445</td>\n",
       "      <td>2019-01-01 18:29:59.845527</td>\n",
       "      <td>0.016235</td>\n",
       "      <td>0.079468</td>\n",
       "    </tr>\n",
       "    <tr>\n",
       "      <th>9</th>\n",
       "      <td>65446</td>\n",
       "      <td>2019-01-01 18:29:59.851279</td>\n",
       "      <td>0.015259</td>\n",
       "      <td>0.083496</td>\n",
       "    </tr>\n",
       "    <tr>\n",
       "      <th>10</th>\n",
       "      <td>65447</td>\n",
       "      <td>2019-01-01 18:29:59.852379</td>\n",
       "      <td>0.015869</td>\n",
       "      <td>0.083374</td>\n",
       "    </tr>\n",
       "    <tr>\n",
       "      <th>11</th>\n",
       "      <td>65448</td>\n",
       "      <td>2019-01-01 18:29:59.853399</td>\n",
       "      <td>0.015198</td>\n",
       "      <td>0.083374</td>\n",
       "    </tr>\n",
       "    <tr>\n",
       "      <th>12</th>\n",
       "      <td>65449</td>\n",
       "      <td>2019-01-01 18:29:59.854421</td>\n",
       "      <td>0.016724</td>\n",
       "      <td>0.082336</td>\n",
       "    </tr>\n",
       "    <tr>\n",
       "      <th>13</th>\n",
       "      <td>65450</td>\n",
       "      <td>2019-01-01 18:29:59.871229</td>\n",
       "      <td>0.016357</td>\n",
       "      <td>0.079773</td>\n",
       "    </tr>\n",
       "    <tr>\n",
       "      <th>14</th>\n",
       "      <td>65451</td>\n",
       "      <td>2019-01-01 18:29:59.872360</td>\n",
       "      <td>0.016724</td>\n",
       "      <td>0.077332</td>\n",
       "    </tr>\n",
       "    <tr>\n",
       "      <th>15</th>\n",
       "      <td>65452</td>\n",
       "      <td>2019-01-01 18:29:59.873383</td>\n",
       "      <td>0.016968</td>\n",
       "      <td>0.080017</td>\n",
       "    </tr>\n",
       "    <tr>\n",
       "      <th>16</th>\n",
       "      <td>65453</td>\n",
       "      <td>2019-01-01 18:29:59.874406</td>\n",
       "      <td>0.017273</td>\n",
       "      <td>0.075684</td>\n",
       "    </tr>\n",
       "    <tr>\n",
       "      <th>17</th>\n",
       "      <td>65454</td>\n",
       "      <td>2019-01-01 18:29:59.875439</td>\n",
       "      <td>0.018005</td>\n",
       "      <td>0.084961</td>\n",
       "    </tr>\n",
       "    <tr>\n",
       "      <th>18</th>\n",
       "      <td>65455</td>\n",
       "      <td>2019-01-01 18:29:59.886636</td>\n",
       "      <td>0.016724</td>\n",
       "      <td>0.078674</td>\n",
       "    </tr>\n",
       "    <tr>\n",
       "      <th>19</th>\n",
       "      <td>65456</td>\n",
       "      <td>2019-01-01 18:29:59.888026</td>\n",
       "      <td>0.014526</td>\n",
       "      <td>0.084595</td>\n",
       "    </tr>\n",
       "    <tr>\n",
       "      <th>20</th>\n",
       "      <td>65457</td>\n",
       "      <td>2019-01-01 18:29:59.889058</td>\n",
       "      <td>0.015381</td>\n",
       "      <td>0.081177</td>\n",
       "    </tr>\n",
       "    <tr>\n",
       "      <th>21</th>\n",
       "      <td>65458</td>\n",
       "      <td>2019-01-01 18:29:59.890414</td>\n",
       "      <td>0.015198</td>\n",
       "      <td>0.086182</td>\n",
       "    </tr>\n",
       "    <tr>\n",
       "      <th>22</th>\n",
       "      <td>65459</td>\n",
       "      <td>2019-01-01 18:29:59.891461</td>\n",
       "      <td>0.016968</td>\n",
       "      <td>0.081848</td>\n",
       "    </tr>\n",
       "    <tr>\n",
       "      <th>23</th>\n",
       "      <td>65460</td>\n",
       "      <td>2019-01-01 18:29:59.892473</td>\n",
       "      <td>0.017029</td>\n",
       "      <td>0.081299</td>\n",
       "    </tr>\n",
       "    <tr>\n",
       "      <th>24</th>\n",
       "      <td>65461</td>\n",
       "      <td>2019-01-01 18:29:59.893484</td>\n",
       "      <td>0.016357</td>\n",
       "      <td>0.079041</td>\n",
       "    </tr>\n",
       "    <tr>\n",
       "      <th>25</th>\n",
       "      <td>65462</td>\n",
       "      <td>2019-01-01 18:29:59.894496</td>\n",
       "      <td>0.017456</td>\n",
       "      <td>0.085327</td>\n",
       "    </tr>\n",
       "    <tr>\n",
       "      <th>26</th>\n",
       "      <td>65463</td>\n",
       "      <td>2019-01-01 18:29:59.895537</td>\n",
       "      <td>0.015930</td>\n",
       "      <td>0.078308</td>\n",
       "    </tr>\n",
       "    <tr>\n",
       "      <th>27</th>\n",
       "      <td>65464</td>\n",
       "      <td>2019-01-01 18:29:59.901135</td>\n",
       "      <td>0.015564</td>\n",
       "      <td>0.080933</td>\n",
       "    </tr>\n",
       "    <tr>\n",
       "      <th>28</th>\n",
       "      <td>65465</td>\n",
       "      <td>2019-01-01 18:29:59.902310</td>\n",
       "      <td>0.015686</td>\n",
       "      <td>0.077332</td>\n",
       "    </tr>\n",
       "    <tr>\n",
       "      <th>29</th>\n",
       "      <td>65466</td>\n",
       "      <td>2019-01-01 18:29:59.903330</td>\n",
       "      <td>0.016907</td>\n",
       "      <td>0.079285</td>\n",
       "    </tr>\n",
       "    <tr>\n",
       "      <th>...</th>\n",
       "      <td>...</td>\n",
       "      <td>...</td>\n",
       "      <td>...</td>\n",
       "      <td>...</td>\n",
       "    </tr>\n",
       "    <tr>\n",
       "      <th>6273006</th>\n",
       "      <td>6273007</td>\n",
       "      <td>2019-01-02 18:29:58.689523</td>\n",
       "      <td>0.025269</td>\n",
       "      <td>0.081238</td>\n",
       "    </tr>\n",
       "    <tr>\n",
       "      <th>6273007</th>\n",
       "      <td>6273008</td>\n",
       "      <td>2019-01-02 18:29:58.691382</td>\n",
       "      <td>0.025085</td>\n",
       "      <td>0.079224</td>\n",
       "    </tr>\n",
       "    <tr>\n",
       "      <th>6273008</th>\n",
       "      <td>6273009</td>\n",
       "      <td>2019-01-02 18:29:58.692522</td>\n",
       "      <td>0.024902</td>\n",
       "      <td>0.075623</td>\n",
       "    </tr>\n",
       "    <tr>\n",
       "      <th>6273009</th>\n",
       "      <td>6273010</td>\n",
       "      <td>2019-01-02 18:29:58.694233</td>\n",
       "      <td>0.023499</td>\n",
       "      <td>0.080627</td>\n",
       "    </tr>\n",
       "    <tr>\n",
       "      <th>6273010</th>\n",
       "      <td>6273011</td>\n",
       "      <td>2019-01-02 18:29:58.695302</td>\n",
       "      <td>0.025146</td>\n",
       "      <td>0.079773</td>\n",
       "    </tr>\n",
       "    <tr>\n",
       "      <th>6273011</th>\n",
       "      <td>6273012</td>\n",
       "      <td>2019-01-02 18:29:58.758399</td>\n",
       "      <td>0.025146</td>\n",
       "      <td>0.085144</td>\n",
       "    </tr>\n",
       "    <tr>\n",
       "      <th>6273012</th>\n",
       "      <td>6273013</td>\n",
       "      <td>2019-01-02 18:29:58.760182</td>\n",
       "      <td>0.022522</td>\n",
       "      <td>0.079041</td>\n",
       "    </tr>\n",
       "    <tr>\n",
       "      <th>6273013</th>\n",
       "      <td>6273014</td>\n",
       "      <td>2019-01-02 18:29:58.761248</td>\n",
       "      <td>0.024292</td>\n",
       "      <td>0.080261</td>\n",
       "    </tr>\n",
       "    <tr>\n",
       "      <th>6273014</th>\n",
       "      <td>6273015</td>\n",
       "      <td>2019-01-02 18:29:58.762265</td>\n",
       "      <td>0.024292</td>\n",
       "      <td>0.074951</td>\n",
       "    </tr>\n",
       "    <tr>\n",
       "      <th>6273015</th>\n",
       "      <td>6273016</td>\n",
       "      <td>2019-01-02 18:29:58.763285</td>\n",
       "      <td>0.023621</td>\n",
       "      <td>0.076355</td>\n",
       "    </tr>\n",
       "    <tr>\n",
       "      <th>6273016</th>\n",
       "      <td>6273017</td>\n",
       "      <td>2019-01-02 18:29:58.825833</td>\n",
       "      <td>0.024292</td>\n",
       "      <td>0.080444</td>\n",
       "    </tr>\n",
       "    <tr>\n",
       "      <th>6273017</th>\n",
       "      <td>6273018</td>\n",
       "      <td>2019-01-02 18:29:58.827569</td>\n",
       "      <td>0.021362</td>\n",
       "      <td>0.076660</td>\n",
       "    </tr>\n",
       "    <tr>\n",
       "      <th>6273018</th>\n",
       "      <td>6273019</td>\n",
       "      <td>2019-01-02 18:29:58.828633</td>\n",
       "      <td>0.024841</td>\n",
       "      <td>0.081055</td>\n",
       "    </tr>\n",
       "    <tr>\n",
       "      <th>6273019</th>\n",
       "      <td>6273020</td>\n",
       "      <td>2019-01-02 18:29:58.829644</td>\n",
       "      <td>0.022400</td>\n",
       "      <td>0.070984</td>\n",
       "    </tr>\n",
       "    <tr>\n",
       "      <th>6273020</th>\n",
       "      <td>6273021</td>\n",
       "      <td>2019-01-02 18:29:58.830963</td>\n",
       "      <td>0.028076</td>\n",
       "      <td>0.084290</td>\n",
       "    </tr>\n",
       "    <tr>\n",
       "      <th>6273021</th>\n",
       "      <td>6273022</td>\n",
       "      <td>2019-01-02 18:29:58.893334</td>\n",
       "      <td>0.024170</td>\n",
       "      <td>0.076538</td>\n",
       "    </tr>\n",
       "    <tr>\n",
       "      <th>6273022</th>\n",
       "      <td>6273023</td>\n",
       "      <td>2019-01-02 18:29:58.894997</td>\n",
       "      <td>0.022644</td>\n",
       "      <td>0.083557</td>\n",
       "    </tr>\n",
       "    <tr>\n",
       "      <th>6273023</th>\n",
       "      <td>6273024</td>\n",
       "      <td>2019-01-02 18:29:58.896077</td>\n",
       "      <td>0.024109</td>\n",
       "      <td>0.080322</td>\n",
       "    </tr>\n",
       "    <tr>\n",
       "      <th>6273024</th>\n",
       "      <td>6273025</td>\n",
       "      <td>2019-01-02 18:29:58.897223</td>\n",
       "      <td>0.022278</td>\n",
       "      <td>0.076416</td>\n",
       "    </tr>\n",
       "    <tr>\n",
       "      <th>6273025</th>\n",
       "      <td>6273026</td>\n",
       "      <td>2019-01-02 18:29:58.898251</td>\n",
       "      <td>0.024780</td>\n",
       "      <td>0.081055</td>\n",
       "    </tr>\n",
       "    <tr>\n",
       "      <th>6273026</th>\n",
       "      <td>6273027</td>\n",
       "      <td>2019-01-02 18:29:58.959592</td>\n",
       "      <td>0.023438</td>\n",
       "      <td>0.080322</td>\n",
       "    </tr>\n",
       "    <tr>\n",
       "      <th>6273027</th>\n",
       "      <td>6273028</td>\n",
       "      <td>2019-01-02 18:29:58.962260</td>\n",
       "      <td>0.022583</td>\n",
       "      <td>0.075745</td>\n",
       "    </tr>\n",
       "    <tr>\n",
       "      <th>6273028</th>\n",
       "      <td>6273029</td>\n",
       "      <td>2019-01-02 18:29:58.963346</td>\n",
       "      <td>0.024109</td>\n",
       "      <td>0.088074</td>\n",
       "    </tr>\n",
       "    <tr>\n",
       "      <th>6273029</th>\n",
       "      <td>6273030</td>\n",
       "      <td>2019-01-02 18:29:58.964364</td>\n",
       "      <td>0.023071</td>\n",
       "      <td>0.075928</td>\n",
       "    </tr>\n",
       "    <tr>\n",
       "      <th>6273030</th>\n",
       "      <td>6273031</td>\n",
       "      <td>2019-01-02 18:29:58.965398</td>\n",
       "      <td>0.023987</td>\n",
       "      <td>0.083313</td>\n",
       "    </tr>\n",
       "    <tr>\n",
       "      <th>6273031</th>\n",
       "      <td>6273032</td>\n",
       "      <td>2019-01-02 18:29:59.027164</td>\n",
       "      <td>0.022461</td>\n",
       "      <td>0.078735</td>\n",
       "    </tr>\n",
       "    <tr>\n",
       "      <th>6273032</th>\n",
       "      <td>6273033</td>\n",
       "      <td>2019-01-02 18:29:59.029601</td>\n",
       "      <td>0.021851</td>\n",
       "      <td>0.077881</td>\n",
       "    </tr>\n",
       "    <tr>\n",
       "      <th>6273033</th>\n",
       "      <td>6273034</td>\n",
       "      <td>2019-01-02 18:29:59.030672</td>\n",
       "      <td>0.021240</td>\n",
       "      <td>0.079285</td>\n",
       "    </tr>\n",
       "    <tr>\n",
       "      <th>6273034</th>\n",
       "      <td>6273035</td>\n",
       "      <td>2019-01-02 18:29:59.031723</td>\n",
       "      <td>0.020142</td>\n",
       "      <td>0.078857</td>\n",
       "    </tr>\n",
       "    <tr>\n",
       "      <th>6273035</th>\n",
       "      <td>6273036</td>\n",
       "      <td>2019-01-02 18:29:59.032973</td>\n",
       "      <td>0.025330</td>\n",
       "      <td>0.080017</td>\n",
       "    </tr>\n",
       "  </tbody>\n",
       "</table>\n",
       "<p>6207600 rows × 4 columns</p>\n",
       "</div>"
      ],
      "text/plain": [
       "           index                  timestamp   data.ax   data.az\n",
       "0          65437 2019-01-01 18:29:59.808471  0.018433  0.082947\n",
       "1          65438 2019-01-01 18:29:59.809549  0.014771  0.075562\n",
       "2          65439 2019-01-01 18:29:59.810583  0.013062  0.079468\n",
       "3          65440 2019-01-01 18:29:59.811605  0.017639  0.082520\n",
       "4          65441 2019-01-01 18:29:59.812619  0.014832  0.081970\n",
       "5          65442 2019-01-01 18:29:59.813656  0.015808  0.083130\n",
       "6          65443 2019-01-01 18:29:59.814662  0.017029  0.082031\n",
       "7          65444 2019-01-01 18:29:59.815705  0.015198  0.081482\n",
       "8          65445 2019-01-01 18:29:59.845527  0.016235  0.079468\n",
       "9          65446 2019-01-01 18:29:59.851279  0.015259  0.083496\n",
       "10         65447 2019-01-01 18:29:59.852379  0.015869  0.083374\n",
       "11         65448 2019-01-01 18:29:59.853399  0.015198  0.083374\n",
       "12         65449 2019-01-01 18:29:59.854421  0.016724  0.082336\n",
       "13         65450 2019-01-01 18:29:59.871229  0.016357  0.079773\n",
       "14         65451 2019-01-01 18:29:59.872360  0.016724  0.077332\n",
       "15         65452 2019-01-01 18:29:59.873383  0.016968  0.080017\n",
       "16         65453 2019-01-01 18:29:59.874406  0.017273  0.075684\n",
       "17         65454 2019-01-01 18:29:59.875439  0.018005  0.084961\n",
       "18         65455 2019-01-01 18:29:59.886636  0.016724  0.078674\n",
       "19         65456 2019-01-01 18:29:59.888026  0.014526  0.084595\n",
       "20         65457 2019-01-01 18:29:59.889058  0.015381  0.081177\n",
       "21         65458 2019-01-01 18:29:59.890414  0.015198  0.086182\n",
       "22         65459 2019-01-01 18:29:59.891461  0.016968  0.081848\n",
       "23         65460 2019-01-01 18:29:59.892473  0.017029  0.081299\n",
       "24         65461 2019-01-01 18:29:59.893484  0.016357  0.079041\n",
       "25         65462 2019-01-01 18:29:59.894496  0.017456  0.085327\n",
       "26         65463 2019-01-01 18:29:59.895537  0.015930  0.078308\n",
       "27         65464 2019-01-01 18:29:59.901135  0.015564  0.080933\n",
       "28         65465 2019-01-01 18:29:59.902310  0.015686  0.077332\n",
       "29         65466 2019-01-01 18:29:59.903330  0.016907  0.079285\n",
       "...          ...                        ...       ...       ...\n",
       "6273006  6273007 2019-01-02 18:29:58.689523  0.025269  0.081238\n",
       "6273007  6273008 2019-01-02 18:29:58.691382  0.025085  0.079224\n",
       "6273008  6273009 2019-01-02 18:29:58.692522  0.024902  0.075623\n",
       "6273009  6273010 2019-01-02 18:29:58.694233  0.023499  0.080627\n",
       "6273010  6273011 2019-01-02 18:29:58.695302  0.025146  0.079773\n",
       "6273011  6273012 2019-01-02 18:29:58.758399  0.025146  0.085144\n",
       "6273012  6273013 2019-01-02 18:29:58.760182  0.022522  0.079041\n",
       "6273013  6273014 2019-01-02 18:29:58.761248  0.024292  0.080261\n",
       "6273014  6273015 2019-01-02 18:29:58.762265  0.024292  0.074951\n",
       "6273015  6273016 2019-01-02 18:29:58.763285  0.023621  0.076355\n",
       "6273016  6273017 2019-01-02 18:29:58.825833  0.024292  0.080444\n",
       "6273017  6273018 2019-01-02 18:29:58.827569  0.021362  0.076660\n",
       "6273018  6273019 2019-01-02 18:29:58.828633  0.024841  0.081055\n",
       "6273019  6273020 2019-01-02 18:29:58.829644  0.022400  0.070984\n",
       "6273020  6273021 2019-01-02 18:29:58.830963  0.028076  0.084290\n",
       "6273021  6273022 2019-01-02 18:29:58.893334  0.024170  0.076538\n",
       "6273022  6273023 2019-01-02 18:29:58.894997  0.022644  0.083557\n",
       "6273023  6273024 2019-01-02 18:29:58.896077  0.024109  0.080322\n",
       "6273024  6273025 2019-01-02 18:29:58.897223  0.022278  0.076416\n",
       "6273025  6273026 2019-01-02 18:29:58.898251  0.024780  0.081055\n",
       "6273026  6273027 2019-01-02 18:29:58.959592  0.023438  0.080322\n",
       "6273027  6273028 2019-01-02 18:29:58.962260  0.022583  0.075745\n",
       "6273028  6273029 2019-01-02 18:29:58.963346  0.024109  0.088074\n",
       "6273029  6273030 2019-01-02 18:29:58.964364  0.023071  0.075928\n",
       "6273030  6273031 2019-01-02 18:29:58.965398  0.023987  0.083313\n",
       "6273031  6273032 2019-01-02 18:29:59.027164  0.022461  0.078735\n",
       "6273032  6273033 2019-01-02 18:29:59.029601  0.021851  0.077881\n",
       "6273033  6273034 2019-01-02 18:29:59.030672  0.021240  0.079285\n",
       "6273034  6273035 2019-01-02 18:29:59.031723  0.020142  0.078857\n",
       "6273035  6273036 2019-01-02 18:29:59.032973  0.025330  0.080017\n",
       "\n",
       "[6207600 rows x 4 columns]"
      ]
     },
     "execution_count": 22,
     "metadata": {},
     "output_type": "execute_result"
    }
   ],
   "source": [
    "raw_pp"
   ]
  },
  {
   "cell_type": "code",
   "execution_count": 14,
   "metadata": {},
   "outputs": [
    {
     "ename": "KeyError",
     "evalue": "'data.ax'",
     "output_type": "error",
     "traceback": [
      "\u001b[0;31m---------------------------------------------------------------------------\u001b[0m",
      "\u001b[0;31mKeyError\u001b[0m                                  Traceback (most recent call last)",
      "\u001b[0;32m~/anaconda3/lib/python3.6/site-packages/pandas/core/indexes/base.py\u001b[0m in \u001b[0;36mget_loc\u001b[0;34m(self, key, method, tolerance)\u001b[0m\n\u001b[1;32m   3077\u001b[0m             \u001b[0;32mtry\u001b[0m\u001b[0;34m:\u001b[0m\u001b[0;34m\u001b[0m\u001b[0;34m\u001b[0m\u001b[0m\n\u001b[0;32m-> 3078\u001b[0;31m                 \u001b[0;32mreturn\u001b[0m \u001b[0mself\u001b[0m\u001b[0;34m.\u001b[0m\u001b[0m_engine\u001b[0m\u001b[0;34m.\u001b[0m\u001b[0mget_loc\u001b[0m\u001b[0;34m(\u001b[0m\u001b[0mkey\u001b[0m\u001b[0;34m)\u001b[0m\u001b[0;34m\u001b[0m\u001b[0;34m\u001b[0m\u001b[0m\n\u001b[0m\u001b[1;32m   3079\u001b[0m             \u001b[0;32mexcept\u001b[0m \u001b[0mKeyError\u001b[0m\u001b[0;34m:\u001b[0m\u001b[0;34m\u001b[0m\u001b[0;34m\u001b[0m\u001b[0m\n",
      "\u001b[0;32mpandas/_libs/index.pyx\u001b[0m in \u001b[0;36mpandas._libs.index.IndexEngine.get_loc\u001b[0;34m()\u001b[0m\n",
      "\u001b[0;32mpandas/_libs/index.pyx\u001b[0m in \u001b[0;36mpandas._libs.index.IndexEngine.get_loc\u001b[0;34m()\u001b[0m\n",
      "\u001b[0;32mpandas/_libs/hashtable_class_helper.pxi\u001b[0m in \u001b[0;36mpandas._libs.hashtable.PyObjectHashTable.get_item\u001b[0;34m()\u001b[0m\n",
      "\u001b[0;32mpandas/_libs/hashtable_class_helper.pxi\u001b[0m in \u001b[0;36mpandas._libs.hashtable.PyObjectHashTable.get_item\u001b[0;34m()\u001b[0m\n",
      "\u001b[0;31mKeyError\u001b[0m: 'data.ax'",
      "\nDuring handling of the above exception, another exception occurred:\n",
      "\u001b[0;31mKeyError\u001b[0m                                  Traceback (most recent call last)",
      "\u001b[0;32m<ipython-input-14-6508d66467ae>\u001b[0m in \u001b[0;36m<module>\u001b[0;34m\u001b[0m\n\u001b[1;32m      1\u001b[0m \u001b[0;31m#Load LD data and plot\u001b[0m\u001b[0;34m\u001b[0m\u001b[0;34m\u001b[0m\u001b[0;34m\u001b[0m\u001b[0m\n\u001b[0;32m----> 2\u001b[0;31m \u001b[0mraw_pp\u001b[0m\u001b[0;34m[\u001b[0m\u001b[0;34m\"acc\"\u001b[0m\u001b[0;34m]\u001b[0m \u001b[0;34m=\u001b[0m \u001b[0;34m(\u001b[0m\u001b[0mraw_pp\u001b[0m\u001b[0;34m[\u001b[0m\u001b[0;34m\"data.ax\"\u001b[0m\u001b[0;34m]\u001b[0m\u001b[0;34m**\u001b[0m\u001b[0;36m2\u001b[0m \u001b[0;34m+\u001b[0m \u001b[0mraw_pp\u001b[0m\u001b[0;34m[\u001b[0m\u001b[0;34m\"data.az\"\u001b[0m\u001b[0;34m]\u001b[0m\u001b[0;34m**\u001b[0m\u001b[0;36m2\u001b[0m\u001b[0;34m)\u001b[0m \u001b[0;34m**\u001b[0m \u001b[0;36m0.5\u001b[0m\u001b[0;34m\u001b[0m\u001b[0;34m\u001b[0m\u001b[0m\n\u001b[0m\u001b[1;32m      3\u001b[0m \u001b[0macc\u001b[0m\u001b[0;34m=\u001b[0m\u001b[0mraw_pp\u001b[0m\u001b[0;34m[\u001b[0m\u001b[0;34m[\u001b[0m\u001b[0;34m\"timestamp\"\u001b[0m\u001b[0;34m,\u001b[0m \u001b[0;34m\"acc\"\u001b[0m\u001b[0;34m]\u001b[0m\u001b[0;34m]\u001b[0m\u001b[0;34m\u001b[0m\u001b[0;34m\u001b[0m\u001b[0m\n\u001b[1;32m      4\u001b[0m \u001b[0mtest_pp\u001b[0m\u001b[0;34m=\u001b[0m\u001b[0macc\u001b[0m\u001b[0;34m\u001b[0m\u001b[0;34m\u001b[0m\u001b[0m\n\u001b[1;32m      5\u001b[0m \u001b[0;31m# test_pp['acc_rolling_sum']=pd.Series.to_frame(test_pp.acc.rolling(100*10, center=True).sum())\u001b[0m\u001b[0;34m\u001b[0m\u001b[0;34m\u001b[0m\u001b[0;34m\u001b[0m\u001b[0m\n",
      "\u001b[0;32m~/anaconda3/lib/python3.6/site-packages/pandas/core/frame.py\u001b[0m in \u001b[0;36m__getitem__\u001b[0;34m(self, key)\u001b[0m\n\u001b[1;32m   2686\u001b[0m             \u001b[0;32mreturn\u001b[0m \u001b[0mself\u001b[0m\u001b[0;34m.\u001b[0m\u001b[0m_getitem_multilevel\u001b[0m\u001b[0;34m(\u001b[0m\u001b[0mkey\u001b[0m\u001b[0;34m)\u001b[0m\u001b[0;34m\u001b[0m\u001b[0;34m\u001b[0m\u001b[0m\n\u001b[1;32m   2687\u001b[0m         \u001b[0;32melse\u001b[0m\u001b[0;34m:\u001b[0m\u001b[0;34m\u001b[0m\u001b[0;34m\u001b[0m\u001b[0m\n\u001b[0;32m-> 2688\u001b[0;31m             \u001b[0;32mreturn\u001b[0m \u001b[0mself\u001b[0m\u001b[0;34m.\u001b[0m\u001b[0m_getitem_column\u001b[0m\u001b[0;34m(\u001b[0m\u001b[0mkey\u001b[0m\u001b[0;34m)\u001b[0m\u001b[0;34m\u001b[0m\u001b[0;34m\u001b[0m\u001b[0m\n\u001b[0m\u001b[1;32m   2689\u001b[0m \u001b[0;34m\u001b[0m\u001b[0m\n\u001b[1;32m   2690\u001b[0m     \u001b[0;32mdef\u001b[0m \u001b[0m_getitem_column\u001b[0m\u001b[0;34m(\u001b[0m\u001b[0mself\u001b[0m\u001b[0;34m,\u001b[0m \u001b[0mkey\u001b[0m\u001b[0;34m)\u001b[0m\u001b[0;34m:\u001b[0m\u001b[0;34m\u001b[0m\u001b[0;34m\u001b[0m\u001b[0m\n",
      "\u001b[0;32m~/anaconda3/lib/python3.6/site-packages/pandas/core/frame.py\u001b[0m in \u001b[0;36m_getitem_column\u001b[0;34m(self, key)\u001b[0m\n\u001b[1;32m   2693\u001b[0m         \u001b[0;31m# get column\u001b[0m\u001b[0;34m\u001b[0m\u001b[0;34m\u001b[0m\u001b[0;34m\u001b[0m\u001b[0m\n\u001b[1;32m   2694\u001b[0m         \u001b[0;32mif\u001b[0m \u001b[0mself\u001b[0m\u001b[0;34m.\u001b[0m\u001b[0mcolumns\u001b[0m\u001b[0;34m.\u001b[0m\u001b[0mis_unique\u001b[0m\u001b[0;34m:\u001b[0m\u001b[0;34m\u001b[0m\u001b[0;34m\u001b[0m\u001b[0m\n\u001b[0;32m-> 2695\u001b[0;31m             \u001b[0;32mreturn\u001b[0m \u001b[0mself\u001b[0m\u001b[0;34m.\u001b[0m\u001b[0m_get_item_cache\u001b[0m\u001b[0;34m(\u001b[0m\u001b[0mkey\u001b[0m\u001b[0;34m)\u001b[0m\u001b[0;34m\u001b[0m\u001b[0;34m\u001b[0m\u001b[0m\n\u001b[0m\u001b[1;32m   2696\u001b[0m \u001b[0;34m\u001b[0m\u001b[0m\n\u001b[1;32m   2697\u001b[0m         \u001b[0;31m# duplicate columns & possible reduce dimensionality\u001b[0m\u001b[0;34m\u001b[0m\u001b[0;34m\u001b[0m\u001b[0;34m\u001b[0m\u001b[0m\n",
      "\u001b[0;32m~/anaconda3/lib/python3.6/site-packages/pandas/core/generic.py\u001b[0m in \u001b[0;36m_get_item_cache\u001b[0;34m(self, item)\u001b[0m\n\u001b[1;32m   2487\u001b[0m         \u001b[0mres\u001b[0m \u001b[0;34m=\u001b[0m \u001b[0mcache\u001b[0m\u001b[0;34m.\u001b[0m\u001b[0mget\u001b[0m\u001b[0;34m(\u001b[0m\u001b[0mitem\u001b[0m\u001b[0;34m)\u001b[0m\u001b[0;34m\u001b[0m\u001b[0;34m\u001b[0m\u001b[0m\n\u001b[1;32m   2488\u001b[0m         \u001b[0;32mif\u001b[0m \u001b[0mres\u001b[0m \u001b[0;32mis\u001b[0m \u001b[0;32mNone\u001b[0m\u001b[0;34m:\u001b[0m\u001b[0;34m\u001b[0m\u001b[0;34m\u001b[0m\u001b[0m\n\u001b[0;32m-> 2489\u001b[0;31m             \u001b[0mvalues\u001b[0m \u001b[0;34m=\u001b[0m \u001b[0mself\u001b[0m\u001b[0;34m.\u001b[0m\u001b[0m_data\u001b[0m\u001b[0;34m.\u001b[0m\u001b[0mget\u001b[0m\u001b[0;34m(\u001b[0m\u001b[0mitem\u001b[0m\u001b[0;34m)\u001b[0m\u001b[0;34m\u001b[0m\u001b[0;34m\u001b[0m\u001b[0m\n\u001b[0m\u001b[1;32m   2490\u001b[0m             \u001b[0mres\u001b[0m \u001b[0;34m=\u001b[0m \u001b[0mself\u001b[0m\u001b[0;34m.\u001b[0m\u001b[0m_box_item_values\u001b[0m\u001b[0;34m(\u001b[0m\u001b[0mitem\u001b[0m\u001b[0;34m,\u001b[0m \u001b[0mvalues\u001b[0m\u001b[0;34m)\u001b[0m\u001b[0;34m\u001b[0m\u001b[0;34m\u001b[0m\u001b[0m\n\u001b[1;32m   2491\u001b[0m             \u001b[0mcache\u001b[0m\u001b[0;34m[\u001b[0m\u001b[0mitem\u001b[0m\u001b[0;34m]\u001b[0m \u001b[0;34m=\u001b[0m \u001b[0mres\u001b[0m\u001b[0;34m\u001b[0m\u001b[0;34m\u001b[0m\u001b[0m\n",
      "\u001b[0;32m~/anaconda3/lib/python3.6/site-packages/pandas/core/internals.py\u001b[0m in \u001b[0;36mget\u001b[0;34m(self, item, fastpath)\u001b[0m\n\u001b[1;32m   4113\u001b[0m \u001b[0;34m\u001b[0m\u001b[0m\n\u001b[1;32m   4114\u001b[0m             \u001b[0;32mif\u001b[0m \u001b[0;32mnot\u001b[0m \u001b[0misna\u001b[0m\u001b[0;34m(\u001b[0m\u001b[0mitem\u001b[0m\u001b[0;34m)\u001b[0m\u001b[0;34m:\u001b[0m\u001b[0;34m\u001b[0m\u001b[0;34m\u001b[0m\u001b[0m\n\u001b[0;32m-> 4115\u001b[0;31m                 \u001b[0mloc\u001b[0m \u001b[0;34m=\u001b[0m \u001b[0mself\u001b[0m\u001b[0;34m.\u001b[0m\u001b[0mitems\u001b[0m\u001b[0;34m.\u001b[0m\u001b[0mget_loc\u001b[0m\u001b[0;34m(\u001b[0m\u001b[0mitem\u001b[0m\u001b[0;34m)\u001b[0m\u001b[0;34m\u001b[0m\u001b[0;34m\u001b[0m\u001b[0m\n\u001b[0m\u001b[1;32m   4116\u001b[0m             \u001b[0;32melse\u001b[0m\u001b[0;34m:\u001b[0m\u001b[0;34m\u001b[0m\u001b[0;34m\u001b[0m\u001b[0m\n\u001b[1;32m   4117\u001b[0m                 \u001b[0mindexer\u001b[0m \u001b[0;34m=\u001b[0m \u001b[0mnp\u001b[0m\u001b[0;34m.\u001b[0m\u001b[0marange\u001b[0m\u001b[0;34m(\u001b[0m\u001b[0mlen\u001b[0m\u001b[0;34m(\u001b[0m\u001b[0mself\u001b[0m\u001b[0;34m.\u001b[0m\u001b[0mitems\u001b[0m\u001b[0;34m)\u001b[0m\u001b[0;34m)\u001b[0m\u001b[0;34m[\u001b[0m\u001b[0misna\u001b[0m\u001b[0;34m(\u001b[0m\u001b[0mself\u001b[0m\u001b[0;34m.\u001b[0m\u001b[0mitems\u001b[0m\u001b[0;34m)\u001b[0m\u001b[0;34m]\u001b[0m\u001b[0;34m\u001b[0m\u001b[0;34m\u001b[0m\u001b[0m\n",
      "\u001b[0;32m~/anaconda3/lib/python3.6/site-packages/pandas/core/indexes/base.py\u001b[0m in \u001b[0;36mget_loc\u001b[0;34m(self, key, method, tolerance)\u001b[0m\n\u001b[1;32m   3078\u001b[0m                 \u001b[0;32mreturn\u001b[0m \u001b[0mself\u001b[0m\u001b[0;34m.\u001b[0m\u001b[0m_engine\u001b[0m\u001b[0;34m.\u001b[0m\u001b[0mget_loc\u001b[0m\u001b[0;34m(\u001b[0m\u001b[0mkey\u001b[0m\u001b[0;34m)\u001b[0m\u001b[0;34m\u001b[0m\u001b[0;34m\u001b[0m\u001b[0m\n\u001b[1;32m   3079\u001b[0m             \u001b[0;32mexcept\u001b[0m \u001b[0mKeyError\u001b[0m\u001b[0;34m:\u001b[0m\u001b[0;34m\u001b[0m\u001b[0;34m\u001b[0m\u001b[0m\n\u001b[0;32m-> 3080\u001b[0;31m                 \u001b[0;32mreturn\u001b[0m \u001b[0mself\u001b[0m\u001b[0;34m.\u001b[0m\u001b[0m_engine\u001b[0m\u001b[0;34m.\u001b[0m\u001b[0mget_loc\u001b[0m\u001b[0;34m(\u001b[0m\u001b[0mself\u001b[0m\u001b[0;34m.\u001b[0m\u001b[0m_maybe_cast_indexer\u001b[0m\u001b[0;34m(\u001b[0m\u001b[0mkey\u001b[0m\u001b[0;34m)\u001b[0m\u001b[0;34m)\u001b[0m\u001b[0;34m\u001b[0m\u001b[0;34m\u001b[0m\u001b[0m\n\u001b[0m\u001b[1;32m   3081\u001b[0m \u001b[0;34m\u001b[0m\u001b[0m\n\u001b[1;32m   3082\u001b[0m         \u001b[0mindexer\u001b[0m \u001b[0;34m=\u001b[0m \u001b[0mself\u001b[0m\u001b[0;34m.\u001b[0m\u001b[0mget_indexer\u001b[0m\u001b[0;34m(\u001b[0m\u001b[0;34m[\u001b[0m\u001b[0mkey\u001b[0m\u001b[0;34m]\u001b[0m\u001b[0;34m,\u001b[0m \u001b[0mmethod\u001b[0m\u001b[0;34m=\u001b[0m\u001b[0mmethod\u001b[0m\u001b[0;34m,\u001b[0m \u001b[0mtolerance\u001b[0m\u001b[0;34m=\u001b[0m\u001b[0mtolerance\u001b[0m\u001b[0;34m)\u001b[0m\u001b[0;34m\u001b[0m\u001b[0;34m\u001b[0m\u001b[0m\n",
      "\u001b[0;32mpandas/_libs/index.pyx\u001b[0m in \u001b[0;36mpandas._libs.index.IndexEngine.get_loc\u001b[0;34m()\u001b[0m\n",
      "\u001b[0;32mpandas/_libs/index.pyx\u001b[0m in \u001b[0;36mpandas._libs.index.IndexEngine.get_loc\u001b[0;34m()\u001b[0m\n",
      "\u001b[0;32mpandas/_libs/hashtable_class_helper.pxi\u001b[0m in \u001b[0;36mpandas._libs.hashtable.PyObjectHashTable.get_item\u001b[0;34m()\u001b[0m\n",
      "\u001b[0;32mpandas/_libs/hashtable_class_helper.pxi\u001b[0m in \u001b[0;36mpandas._libs.hashtable.PyObjectHashTable.get_item\u001b[0;34m()\u001b[0m\n",
      "\u001b[0;31mKeyError\u001b[0m: 'data.ax'"
     ]
    }
   ],
   "source": [
    "#Load LD data and plot\n",
    "raw_pp[\"acc\"] = (raw_pp[\"data.ax\"]**2 + raw_pp[\"data.az\"]**2) ** 0.5\n",
    "acc=raw_pp[[\"timestamp\", \"acc\"]]\n",
    "test_pp=acc\n",
    "# test_pp['acc_rolling_sum']=pd.Series.to_frame(test_pp.acc.rolling(100*10, center=True).sum())\n",
    "test_pp['acc_rolling_std']=pd.Series.to_frame(test_pp.acc.rolling(100*2, center=True).std())\n"
   ]
  },
  {
   "cell_type": "code",
   "execution_count": null,
   "metadata": {},
   "outputs": [],
   "source": []
  },
  {
   "cell_type": "code",
   "execution_count": 5,
   "metadata": {},
   "outputs": [],
   "source": [
    "%matplotlib qt"
   ]
  },
  {
   "cell_type": "code",
   "execution_count": 6,
   "metadata": {},
   "outputs": [],
   "source": [
    "# plt.plot(test_pp['timestamp'], test_pp['acc'])\n",
    "# plt.plot(test_pp['timestamp'], test_pp['acc_rolling_std'])"
   ]
  },
  {
   "cell_type": "code",
   "execution_count": 7,
   "metadata": {},
   "outputs": [
    {
     "name": "stderr",
     "output_type": "stream",
     "text": [
      "/home/raghu/anaconda3/lib/python3.6/site-packages/ipykernel_launcher.py:1: SettingWithCopyWarning: \n",
      "A value is trying to be set on a copy of a slice from a DataFrame.\n",
      "Try using .loc[row_indexer,col_indexer] = value instead\n",
      "\n",
      "See the caveats in the documentation: http://pandas.pydata.org/pandas-docs/stable/indexing.html#indexing-view-versus-copy\n",
      "  \"\"\"Entry point for launching an IPython kernel.\n"
     ]
    }
   ],
   "source": [
    "test_pp['detections']=pd.Series.to_frame(test_pp.acc_rolling_std.rolling(100, center=True).sum())"
   ]
  },
  {
   "cell_type": "code",
   "execution_count": 8,
   "metadata": {},
   "outputs": [
    {
     "data": {
      "text/plain": [
       "[<matplotlib.lines.Line2D at 0x7fa54f22d978>]"
      ]
     },
     "execution_count": 8,
     "metadata": {},
     "output_type": "execute_result"
    }
   ],
   "source": [
    "plt.plot(test_pp['timestamp'], test_pp['acc']*100)\n",
    "plt.plot(test_pp['timestamp'], test_pp['detections'])"
   ]
  },
  {
   "cell_type": "code",
   "execution_count": 9,
   "metadata": {},
   "outputs": [
    {
     "data": {
      "text/plain": [
       "[<matplotlib.lines.Line2D at 0x7fa54f22da90>]"
      ]
     },
     "execution_count": 9,
     "metadata": {},
     "output_type": "execute_result"
    }
   ],
   "source": [
    "plt.plot(test_pp['timestamp'], test_pp['detections'])"
   ]
  },
  {
   "cell_type": "code",
   "execution_count": 10,
   "metadata": {},
   "outputs": [
    {
     "name": "stderr",
     "output_type": "stream",
     "text": [
      "/home/raghu/anaconda3/lib/python3.6/site-packages/ipykernel_launcher.py:2: SettingWithCopyWarning: \n",
      "A value is trying to be set on a copy of a slice from a DataFrame\n",
      "\n",
      "See the caveats in the documentation: http://pandas.pydata.org/pandas-docs/stable/indexing.html#indexing-view-versus-copy\n",
      "  \n"
     ]
    }
   ],
   "source": [
    "test_pp['boards']=0\n",
    "test_pp['boards'][test_pp['detections']>=2]=1"
   ]
  },
  {
   "cell_type": "code",
   "execution_count": 11,
   "metadata": {},
   "outputs": [
    {
     "data": {
      "text/plain": [
       "[<matplotlib.lines.Line2D at 0x7fa557ccf4a8>]"
      ]
     },
     "execution_count": 11,
     "metadata": {},
     "output_type": "execute_result"
    }
   ],
   "source": [
    "plt.plot(test_pp[\"timestamp\"],test_pp[\"boards\"])"
   ]
  },
  {
   "cell_type": "code",
   "execution_count": 12,
   "metadata": {},
   "outputs": [],
   "source": [
    "working_times_raw=scipy.signal.find_peaks(test_pp.boards, distance=40*72, width=1)"
   ]
  },
  {
   "cell_type": "code",
   "execution_count": 13,
   "metadata": {},
   "outputs": [],
   "source": [
    "working_times_raw_df=pd.DataFrame({\"sample_number\":working_times_raw[0], \"working_time\":working_times_raw[1]['widths']/72})"
   ]
  },
  {
   "cell_type": "code",
   "execution_count": 14,
   "metadata": {},
   "outputs": [
    {
     "name": "stderr",
     "output_type": "stream",
     "text": [
      "/home/raghu/anaconda3/lib/python3.6/site-packages/ipykernel_launcher.py:2: DeprecationWarning: \n",
      ".ix is deprecated. Please use\n",
      ".loc for label based indexing or\n",
      ".iloc for positional indexing\n",
      "\n",
      "See the documentation here:\n",
      "http://pandas.pydata.org/pandas-docs/stable/indexing.html#ix-indexer-is-deprecated\n",
      "  \n",
      "/home/raghu/anaconda3/lib/python3.6/site-packages/ipykernel_launcher.py:3: DeprecationWarning: \n",
      ".ix is deprecated. Please use\n",
      ".loc for label based indexing or\n",
      ".iloc for positional indexing\n",
      "\n",
      "See the documentation here:\n",
      "http://pandas.pydata.org/pandas-docs/stable/indexing.html#ix-indexer-is-deprecated\n",
      "  This is separate from the ipykernel package so we can avoid doing imports until\n",
      "/home/raghu/anaconda3/lib/python3.6/site-packages/ipykernel_launcher.py:4: DeprecationWarning: \n",
      ".ix is deprecated. Please use\n",
      ".loc for label based indexing or\n",
      ".iloc for positional indexing\n",
      "\n",
      "See the documentation here:\n",
      "http://pandas.pydata.org/pandas-docs/stable/indexing.html#ix-indexer-is-deprecated\n",
      "  after removing the cwd from sys.path.\n"
     ]
    }
   ],
   "source": [
    "for x, row in working_times_raw_df.iterrows():\n",
    "    working_times_raw_df.ix[x,'start_time']=test_pp.iloc[int(working_times_raw[1]['left_ips'][x])].timestamp\n",
    "    working_times_raw_df.ix[x,'end_time']=test_pp.iloc[int(working_times_raw[1]['right_ips'][x])].timestamp\n",
    "    working_times_raw_df.ix[x,'timestamp']=test_pp.iloc[int(working_times_raw[0][x])].timestamp"
   ]
  },
  {
   "cell_type": "code",
   "execution_count": 15,
   "metadata": {},
   "outputs": [],
   "source": [
    "working_times_df=working_times_raw_df[working_times_raw_df.working_time>30]"
   ]
  },
  {
   "cell_type": "code",
   "execution_count": 16,
   "metadata": {},
   "outputs": [
    {
     "name": "stderr",
     "output_type": "stream",
     "text": [
      "/home/raghu/anaconda3/lib/python3.6/site-packages/ipykernel_launcher.py:1: SettingWithCopyWarning: \n",
      "A value is trying to be set on a copy of a slice from a DataFrame.\n",
      "Try using .loc[row_indexer,col_indexer] = value instead\n",
      "\n",
      "See the caveats in the documentation: http://pandas.pydata.org/pandas-docs/stable/indexing.html#indexing-view-versus-copy\n",
      "  \"\"\"Entry point for launching an IPython kernel.\n"
     ]
    }
   ],
   "source": [
    "working_times_df['event']=1"
   ]
  },
  {
   "cell_type": "code",
   "execution_count": 17,
   "metadata": {},
   "outputs": [],
   "source": [
    "raw_pp_current=pd.read_csv('out_pickandplace1.csv', usecols=['timestamp', 'data.A1', 'data.A2', 'data.A3'])\n",
    "raw_pp_current.dropna(axis=1, inplace=True)\n",
    "raw_pp_current.sort_values(by=['timestamp'])\n",
    "raw_pp_current.reset_index(inplace=True)\n",
    "raw_pp_current['total_current']=raw_pp_current['data.A1']+raw_pp_current['data.A2']+raw_pp_current['data.A3']\n",
    "raw_pp_current['timestamp']=pd.to_datetime(raw_pp_current['timestamp'])\n",
    "raw_pp_current.index=raw_pp_current['timestamp']\n"
   ]
  },
  {
   "cell_type": "code",
   "execution_count": 18,
   "metadata": {},
   "outputs": [],
   "source": [
    "# working_times_df['energy']=raw_pp_current[(raw_pp_current['timestamp'] <= working_times_df['end_time']) & (raw_pp_current['timestamp'] >= working_times_df['start_time'])]['total_current'].sum()*230"
   ]
  },
  {
   "cell_type": "code",
   "execution_count": 19,
   "metadata": {},
   "outputs": [
    {
     "name": "stderr",
     "output_type": "stream",
     "text": [
      "/home/raghu/anaconda3/lib/python3.6/site-packages/ipykernel_launcher.py:3: SettingWithCopyWarning: \n",
      "A value is trying to be set on a copy of a slice from a DataFrame.\n",
      "Try using .loc[row_indexer,col_indexer] = value instead\n",
      "\n",
      "See the caveats in the documentation: http://pandas.pydata.org/pandas-docs/stable/indexing.html#indexing-view-versus-copy\n",
      "  This is separate from the ipykernel package so we can avoid doing imports until\n"
     ]
    }
   ],
   "source": [
    "working_times_df['energy'] = working_times_df.apply(lambda x: raw_pp_current.loc[(raw_pp_current.timestamp <= x.end_time) & \n",
    "                                                            (x.start_time <= raw_pp_current.timestamp),\n",
    "                                                            ['total_current']].sum()*230, axis=1)"
   ]
  },
  {
   "cell_type": "code",
   "execution_count": 20,
   "metadata": {},
   "outputs": [
    {
     "name": "stderr",
     "output_type": "stream",
     "text": [
      "/home/raghu/anaconda3/lib/python3.6/site-packages/pandas/core/frame.py:3697: SettingWithCopyWarning: \n",
      "A value is trying to be set on a copy of a slice from a DataFrame\n",
      "\n",
      "See the caveats in the documentation: http://pandas.pydata.org/pandas-docs/stable/indexing.html#indexing-view-versus-copy\n",
      "  errors=errors)\n"
     ]
    }
   ],
   "source": [
    "working_times_df.index=working_times_df.timestamp\n",
    "working_times_df.drop('timestamp', axis=1, inplace=True)\n",
    "working_times_df.drop('sample_number', axis=1, inplace=True)"
   ]
  },
  {
   "cell_type": "code",
   "execution_count": 23,
   "metadata": {},
   "outputs": [
    {
     "data": {
      "text/plain": [
       "[<matplotlib.lines.Line2D at 0x7fa5374fee80>]"
      ]
     },
     "execution_count": 23,
     "metadata": {},
     "output_type": "execute_result"
    }
   ],
   "source": [
    "plt.plot(test_pp[\"timestamp\"],test_pp[\"boards\"])\n",
    "plt.plot(raw_pp_current.timestamp, raw_pp_current['total_current'])"
   ]
  },
  {
   "cell_type": "code",
   "execution_count": 25,
   "metadata": {},
   "outputs": [],
   "source": [
    "PP_events=working_times_df[['event', 'working_time', 'energy']]"
   ]
  },
  {
   "cell_type": "code",
   "execution_count": 35,
   "metadata": {},
   "outputs": [
    {
     "data": {
      "text/plain": [
       "Text(0.5, 1.0, 'PP2 Working times Histogram')"
      ]
     },
     "execution_count": 35,
     "metadata": {},
     "output_type": "execute_result"
    }
   ],
   "source": [
    "sns.distplot(PP_events.working_time)\n",
    "plt.title('PP2 Working Times Histogram')"
   ]
  },
  {
   "cell_type": "code",
   "execution_count": 34,
   "metadata": {},
   "outputs": [
    {
     "name": "stdout",
     "output_type": "stream",
     "text": [
      "PP working time mode:  59.111111111111114\n"
     ]
    }
   ],
   "source": [
    "print('PP working time mode: ', PP_events.working_time.mode().mean())"
   ]
  },
  {
   "cell_type": "code",
   "execution_count": null,
   "metadata": {},
   "outputs": [],
   "source": []
  },
  {
   "cell_type": "code",
   "execution_count": null,
   "metadata": {},
   "outputs": [],
   "source": []
  }
 ],
 "metadata": {
  "kernelspec": {
   "display_name": "Python 3",
   "language": "python",
   "name": "python3"
  },
  "language_info": {
   "codemirror_mode": {
    "name": "ipython",
    "version": 3
   },
   "file_extension": ".py",
   "mimetype": "text/x-python",
   "name": "python",
   "nbconvert_exporter": "python",
   "pygments_lexer": "ipython3",
   "version": "3.6.7"
  }
 },
 "nbformat": 4,
 "nbformat_minor": 2
}
