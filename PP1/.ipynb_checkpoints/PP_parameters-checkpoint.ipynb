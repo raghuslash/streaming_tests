{
 "cells": [
  {
   "cell_type": "code",
   "execution_count": 1,
   "metadata": {},
   "outputs": [],
   "source": [
    "import pandas as pd\n",
    "import matplotlib.pyplot as plt\n",
    "import scipy.signal\n",
    "import numpy as np\n",
    "import seaborn as sns"
   ]
  },
  {
   "cell_type": "code",
   "execution_count": 2,
   "metadata": {},
   "outputs": [],
   "source": [
    "plt.rcParams[\"figure.figsize\"]=[15,5]"
   ]
  },
  {
   "cell_type": "code",
   "execution_count": 3,
   "metadata": {},
   "outputs": [],
   "source": [
    "raw_pp=pd.read_csv('pickandplace1_vibration.csv', usecols=['timestamp', 'data.ax', 'data.ay', 'data.az'])\n",
    "raw_pp.dropna(axis=1, inplace=True)\n",
    "raw_pp['timestamp'] =  pd.to_datetime(raw_pp['timestamp'])"
   ]
  },
  {
   "cell_type": "code",
   "execution_count": 4,
   "metadata": {},
   "outputs": [
    {
     "name": "stderr",
     "output_type": "stream",
     "text": [
      "/home/raghu/anaconda3/lib/python3.6/site-packages/ipykernel_launcher.py:7: SettingWithCopyWarning: \n",
      "A value is trying to be set on a copy of a slice from a DataFrame.\n",
      "Try using .loc[row_indexer,col_indexer] = value instead\n",
      "\n",
      "See the caveats in the documentation: http://pandas.pydata.org/pandas-docs/stable/indexing.html#indexing-view-versus-copy\n",
      "  import sys\n"
     ]
    }
   ],
   "source": [
    "#Load LD data and plot\n",
    "raw_pp[\"acc\"] = ( raw_pp[\"data.ax\"]**2 + raw_pp[\"data.az\"]**2) ** 0.5\n",
    "acc=raw_pp[[\"timestamp\", \"acc\"]]\n",
    "acc.index = acc.timestamp\n",
    "test_pp=acc\n",
    "# test_pp['acc_rolling_sum']=pd.Series.to_frame(test_pp.acc.rolling(100*10, center=True).sum())\n",
    "test_pp['acc_rolling_std']=pd.Series.to_frame(test_pp.acc.rolling(100*2, center=True).std())\n"
   ]
  },
  {
   "cell_type": "code",
   "execution_count": 5,
   "metadata": {},
   "outputs": [],
   "source": [
    "%matplotlib qt"
   ]
  },
  {
   "cell_type": "code",
   "execution_count": 6,
   "metadata": {},
   "outputs": [],
   "source": [
    "# plt.plot(test_pp['timestamp'], test_pp['acc'])\n",
    "# plt.plot(test_pp['timestamp'], test_pp['acc_rolling_std'])"
   ]
  },
  {
   "cell_type": "code",
   "execution_count": 7,
   "metadata": {},
   "outputs": [
    {
     "name": "stderr",
     "output_type": "stream",
     "text": [
      "/home/raghu/anaconda3/lib/python3.6/site-packages/ipykernel_launcher.py:1: SettingWithCopyWarning: \n",
      "A value is trying to be set on a copy of a slice from a DataFrame.\n",
      "Try using .loc[row_indexer,col_indexer] = value instead\n",
      "\n",
      "See the caveats in the documentation: http://pandas.pydata.org/pandas-docs/stable/indexing.html#indexing-view-versus-copy\n",
      "  \"\"\"Entry point for launching an IPython kernel.\n"
     ]
    }
   ],
   "source": [
    "test_pp['detections']=pd.Series.to_frame(test_pp.acc_rolling_std.rolling(100, center=True).sum())"
   ]
  },
  {
   "cell_type": "code",
   "execution_count": 8,
   "metadata": {},
   "outputs": [
    {
     "data": {
      "text/plain": [
       "[<matplotlib.lines.Line2D at 0x7fbefcdb2978>]"
      ]
     },
     "execution_count": 8,
     "metadata": {},
     "output_type": "execute_result"
    }
   ],
   "source": [
    "plt.plot(test_pp['timestamp'], test_pp['acc']*100)\n",
    "plt.plot(test_pp['timestamp'], test_pp['detections'])"
   ]
  },
  {
   "cell_type": "code",
   "execution_count": 9,
   "metadata": {},
   "outputs": [
    {
     "data": {
      "text/plain": [
       "[<matplotlib.lines.Line2D at 0x7fbefc61c048>]"
      ]
     },
     "execution_count": 9,
     "metadata": {},
     "output_type": "execute_result"
    }
   ],
   "source": [
    "plt.plot(test_pp['timestamp'], test_pp['detections'])"
   ]
  },
  {
   "cell_type": "code",
   "execution_count": 10,
   "metadata": {},
   "outputs": [
    {
     "name": "stderr",
     "output_type": "stream",
     "text": [
      "/home/raghu/anaconda3/lib/python3.6/site-packages/ipykernel_launcher.py:2: SettingWithCopyWarning: \n",
      "A value is trying to be set on a copy of a slice from a DataFrame\n",
      "\n",
      "See the caveats in the documentation: http://pandas.pydata.org/pandas-docs/stable/indexing.html#indexing-view-versus-copy\n",
      "  \n"
     ]
    }
   ],
   "source": [
    "test_pp[\"boards\"]=0\n",
    "test_pp[\"boards\"][test_pp['detections']>=2] = 1"
   ]
  },
  {
   "cell_type": "code",
   "execution_count": 11,
   "metadata": {},
   "outputs": [
    {
     "data": {
      "text/plain": [
       "[<matplotlib.lines.Line2D at 0x7fbefcd8f5f8>]"
      ]
     },
     "execution_count": 11,
     "metadata": {},
     "output_type": "execute_result"
    }
   ],
   "source": [
    "plt.plot(test_pp[\"timestamp\"],test_pp[\"boards\"])"
   ]
  },
  {
   "cell_type": "code",
   "execution_count": 12,
   "metadata": {},
   "outputs": [],
   "source": [
    "working_times_raw=scipy.signal.find_peaks(test_pp.boards, distance=50*72, width=1)"
   ]
  },
  {
   "cell_type": "code",
   "execution_count": 13,
   "metadata": {},
   "outputs": [],
   "source": [
    "# plt.plot(test_pp.index, test_pp.boards)\n",
    "# plt.stem(working_times_raw[1]['right_ips'], np.ones(len(working_times_raw[0])), 'r')"
   ]
  },
  {
   "cell_type": "code",
   "execution_count": 14,
   "metadata": {},
   "outputs": [
    {
     "name": "stderr",
     "output_type": "stream",
     "text": [
      "/home/raghu/anaconda3/lib/python3.6/site-packages/scipy/stats/stats.py:1713: FutureWarning: Using a non-tuple sequence for multidimensional indexing is deprecated; use `arr[tuple(seq)]` instead of `arr[seq]`. In the future this will be interpreted as an array index, `arr[np.array(seq)]`, which will result either in an error or a different result.\n",
      "  return np.add.reduce(sorted[indexer] * weights, axis=axis) / sumval\n"
     ]
    },
    {
     "data": {
      "text/plain": [
       "<matplotlib.axes._subplots.AxesSubplot at 0x7fbefc8b63c8>"
      ]
     },
     "execution_count": 14,
     "metadata": {},
     "output_type": "execute_result"
    }
   ],
   "source": [
    "sns.distplot(working_times_raw[1]['widths']/72)"
   ]
  },
  {
   "cell_type": "code",
   "execution_count": 15,
   "metadata": {},
   "outputs": [
    {
     "data": {
      "text/plain": [
       "Timedelta('0 days 23:59:59.224502')"
      ]
     },
     "execution_count": 15,
     "metadata": {},
     "output_type": "execute_result"
    }
   ],
   "source": [
    "test_pp.iloc[-1]['timestamp'] - test_pp.iloc[0]['timestamp']"
   ]
  },
  {
   "cell_type": "code",
   "execution_count": 16,
   "metadata": {},
   "outputs": [],
   "source": [
    "board_times_raw=pd.Series(working_times_raw[1]['widths'])/72"
   ]
  },
  {
   "cell_type": "code",
   "execution_count": 17,
   "metadata": {},
   "outputs": [
    {
     "data": {
      "text/plain": [
       "109.41666666666667"
      ]
     },
     "execution_count": 17,
     "metadata": {},
     "output_type": "execute_result"
    }
   ],
   "source": [
    "board_times_raw.mode().mean()"
   ]
  },
  {
   "cell_type": "code",
   "execution_count": 18,
   "metadata": {},
   "outputs": [],
   "source": [
    "# printing_delays[1]['widths']\n",
    "q1 = np.percentile(board_times_raw, 5)\n",
    "q3 = np.percentile(board_times_raw, 95)\n",
    "\n",
    "#board_times = [i for i in board_times_raw if i > q1 and i < q3]\n",
    "\n",
    "board_times = board_times_raw[board_times_raw.between(q1,q3)]\n",
    "# printing_delays = filter(lambda x: x)"
   ]
  },
  {
   "cell_type": "code",
   "execution_count": 19,
   "metadata": {},
   "outputs": [
    {
     "data": {
      "text/plain": [
       "<matplotlib.axes._subplots.AxesSubplot at 0x7fbefc8b63c8>"
      ]
     },
     "execution_count": 19,
     "metadata": {},
     "output_type": "execute_result"
    }
   ],
   "source": [
    "sns.distplot(board_times, bins=30, color='chocolate')"
   ]
  },
  {
   "cell_type": "code",
   "execution_count": 20,
   "metadata": {},
   "outputs": [
    {
     "data": {
      "text/plain": [
       "109.41666666666667"
      ]
     },
     "execution_count": 20,
     "metadata": {},
     "output_type": "execute_result"
    }
   ],
   "source": [
    "board_times.mode().mean()"
   ]
  },
  {
   "cell_type": "code",
   "execution_count": 21,
   "metadata": {},
   "outputs": [
    {
     "ename": "SyntaxError",
     "evalue": "invalid syntax (<ipython-input-21-981764b1a085>, line 1)",
     "output_type": "error",
     "traceback": [
      "\u001b[0;36m  File \u001b[0;32m\"<ipython-input-21-981764b1a085>\"\u001b[0;36m, line \u001b[0;32m1\u001b[0m\n\u001b[0;31m    print('Number of Boards deteced: 'board_times.shape[0])\u001b[0m\n\u001b[0m                                                ^\u001b[0m\n\u001b[0;31mSyntaxError\u001b[0m\u001b[0;31m:\u001b[0m invalid syntax\n"
     ]
    },
    {
     "name": "stderr",
     "output_type": "stream",
     "text": [
      "Traceback (most recent call last):\n",
      "  File \"/home/raghu/anaconda3/lib/python3.6/site-packages/matplotlib/backends/backend_qt5.py\", line 519, in _draw_idle\n",
      "    self.draw()\n",
      "  File \"/home/raghu/anaconda3/lib/python3.6/site-packages/matplotlib/backends/backend_agg.py\", line 402, in draw\n",
      "    self.figure.draw(self.renderer)\n",
      "  File \"/home/raghu/anaconda3/lib/python3.6/site-packages/matplotlib/artist.py\", line 50, in draw_wrapper\n",
      "    return draw(artist, renderer, *args, **kwargs)\n",
      "  File \"/home/raghu/anaconda3/lib/python3.6/site-packages/matplotlib/figure.py\", line 1649, in draw\n",
      "    renderer, self, artists, self.suppressComposite)\n",
      "  File \"/home/raghu/anaconda3/lib/python3.6/site-packages/matplotlib/image.py\", line 138, in _draw_list_compositing_images\n",
      "    a.draw(renderer)\n",
      "  File \"/home/raghu/anaconda3/lib/python3.6/site-packages/matplotlib/artist.py\", line 50, in draw_wrapper\n",
      "    return draw(artist, renderer, *args, **kwargs)\n",
      "  File \"/home/raghu/anaconda3/lib/python3.6/site-packages/matplotlib/axes/_base.py\", line 2628, in draw\n",
      "    mimage._draw_list_compositing_images(renderer, self, artists)\n",
      "  File \"/home/raghu/anaconda3/lib/python3.6/site-packages/matplotlib/image.py\", line 138, in _draw_list_compositing_images\n",
      "    a.draw(renderer)\n",
      "  File \"/home/raghu/anaconda3/lib/python3.6/site-packages/matplotlib/artist.py\", line 50, in draw_wrapper\n",
      "    return draw(artist, renderer, *args, **kwargs)\n",
      "  File \"/home/raghu/anaconda3/lib/python3.6/site-packages/matplotlib/axis.py\", line 1185, in draw\n",
      "    ticks_to_draw = self._update_ticks(renderer)\n",
      "  File \"/home/raghu/anaconda3/lib/python3.6/site-packages/matplotlib/axis.py\", line 1023, in _update_ticks\n",
      "    tick_tups = list(self.iter_ticks())  # iter_ticks calls the locator\n",
      "  File \"/home/raghu/anaconda3/lib/python3.6/site-packages/matplotlib/axis.py\", line 967, in iter_ticks\n",
      "    majorLocs = self.major.locator()\n",
      "  File \"/home/raghu/anaconda3/lib/python3.6/site-packages/matplotlib/dates.py\", line 1230, in __call__\n",
      "    self.refresh()\n",
      "  File \"/home/raghu/anaconda3/lib/python3.6/site-packages/matplotlib/dates.py\", line 1250, in refresh\n",
      "    dmin, dmax = self.viewlim_to_dt()\n",
      "  File \"/home/raghu/anaconda3/lib/python3.6/site-packages/matplotlib/dates.py\", line 1001, in viewlim_to_dt\n",
      "    .format(vmin))\n",
      "ValueError: view limit minimum -36930.82424153373 is less than 1 and is an invalid Matplotlib date value. This often happens if you pass a non-datetime value to an axis that has datetime units\n",
      "Traceback (most recent call last):\n",
      "  File \"/home/raghu/anaconda3/lib/python3.6/site-packages/matplotlib/cbook/__init__.py\", line 215, in process\n",
      "    func(*args, **kwargs)\n",
      "  File \"/home/raghu/anaconda3/lib/python3.6/site-packages/matplotlib/backend_bases.py\", line 1675, in pick\n",
      "    self.figure.pick(mouseevent)\n",
      "  File \"/home/raghu/anaconda3/lib/python3.6/site-packages/matplotlib/artist.py\", line 447, in pick\n",
      "    a.pick(mouseevent)\n",
      "  File \"/home/raghu/anaconda3/lib/python3.6/site-packages/matplotlib/axes/_base.py\", line 4304, in pick\n",
      "    martist.Artist.pick(self, args[0])\n",
      "  File \"/home/raghu/anaconda3/lib/python3.6/site-packages/matplotlib/artist.py\", line 447, in pick\n",
      "    a.pick(mouseevent)\n",
      "  File \"/home/raghu/anaconda3/lib/python3.6/site-packages/matplotlib/artist.py\", line 436, in pick\n",
      "    for a in self.get_children():\n",
      "  File \"/home/raghu/anaconda3/lib/python3.6/site-packages/matplotlib/axis.py\", line 790, in get_children\n",
      "    majorticks = self.get_major_ticks()\n",
      "  File \"/home/raghu/anaconda3/lib/python3.6/site-packages/matplotlib/axis.py\", line 1391, in get_major_ticks\n",
      "    numticks = len(self.get_major_locator()())\n",
      "  File \"/home/raghu/anaconda3/lib/python3.6/site-packages/matplotlib/dates.py\", line 1230, in __call__\n",
      "    self.refresh()\n",
      "  File \"/home/raghu/anaconda3/lib/python3.6/site-packages/matplotlib/dates.py\", line 1250, in refresh\n",
      "    dmin, dmax = self.viewlim_to_dt()\n",
      "  File \"/home/raghu/anaconda3/lib/python3.6/site-packages/matplotlib/dates.py\", line 1001, in viewlim_to_dt\n",
      "    .format(vmin))\n",
      "ValueError: view limit minimum -36930.82424153373 is less than 1 and is an invalid Matplotlib date value. This often happens if you pass a non-datetime value to an axis that has datetime units\n",
      "Traceback (most recent call last):\n",
      "  File \"/home/raghu/anaconda3/lib/python3.6/site-packages/matplotlib/backends/backend_qt5.py\", line 519, in _draw_idle\n",
      "    self.draw()\n",
      "  File \"/home/raghu/anaconda3/lib/python3.6/site-packages/matplotlib/backends/backend_agg.py\", line 402, in draw\n",
      "    self.figure.draw(self.renderer)\n",
      "  File \"/home/raghu/anaconda3/lib/python3.6/site-packages/matplotlib/artist.py\", line 50, in draw_wrapper\n",
      "    return draw(artist, renderer, *args, **kwargs)\n",
      "  File \"/home/raghu/anaconda3/lib/python3.6/site-packages/matplotlib/figure.py\", line 1649, in draw\n",
      "    renderer, self, artists, self.suppressComposite)\n",
      "  File \"/home/raghu/anaconda3/lib/python3.6/site-packages/matplotlib/image.py\", line 138, in _draw_list_compositing_images\n",
      "    a.draw(renderer)\n",
      "  File \"/home/raghu/anaconda3/lib/python3.6/site-packages/matplotlib/artist.py\", line 50, in draw_wrapper\n",
      "    return draw(artist, renderer, *args, **kwargs)\n",
      "  File \"/home/raghu/anaconda3/lib/python3.6/site-packages/matplotlib/axes/_base.py\", line 2628, in draw\n",
      "    mimage._draw_list_compositing_images(renderer, self, artists)\n",
      "  File \"/home/raghu/anaconda3/lib/python3.6/site-packages/matplotlib/image.py\", line 138, in _draw_list_compositing_images\n",
      "    a.draw(renderer)\n",
      "  File \"/home/raghu/anaconda3/lib/python3.6/site-packages/matplotlib/artist.py\", line 50, in draw_wrapper\n",
      "    return draw(artist, renderer, *args, **kwargs)\n",
      "  File \"/home/raghu/anaconda3/lib/python3.6/site-packages/matplotlib/axis.py\", line 1185, in draw\n",
      "    ticks_to_draw = self._update_ticks(renderer)\n",
      "  File \"/home/raghu/anaconda3/lib/python3.6/site-packages/matplotlib/axis.py\", line 1023, in _update_ticks\n",
      "    tick_tups = list(self.iter_ticks())  # iter_ticks calls the locator\n",
      "  File \"/home/raghu/anaconda3/lib/python3.6/site-packages/matplotlib/axis.py\", line 967, in iter_ticks\n",
      "    majorLocs = self.major.locator()\n",
      "  File \"/home/raghu/anaconda3/lib/python3.6/site-packages/matplotlib/dates.py\", line 1230, in __call__\n",
      "    self.refresh()\n",
      "  File \"/home/raghu/anaconda3/lib/python3.6/site-packages/matplotlib/dates.py\", line 1250, in refresh\n",
      "    dmin, dmax = self.viewlim_to_dt()\n",
      "  File \"/home/raghu/anaconda3/lib/python3.6/site-packages/matplotlib/dates.py\", line 1001, in viewlim_to_dt\n",
      "    .format(vmin))\n",
      "ValueError: view limit minimum -36930.82424153373 is less than 1 and is an invalid Matplotlib date value. This often happens if you pass a non-datetime value to an axis that has datetime units\n"
     ]
    }
   ],
   "source": [
    "print('Number of Boards deteced: 'board_times.shape[0])"
   ]
  }
 ],
 "metadata": {
  "kernelspec": {
   "display_name": "Python 3",
   "language": "python",
   "name": "python3"
  },
  "language_info": {
   "codemirror_mode": {
    "name": "ipython",
    "version": 3
   },
   "file_extension": ".py",
   "mimetype": "text/x-python",
   "name": "python",
   "nbconvert_exporter": "python",
   "pygments_lexer": "ipython3",
   "version": "3.6.7"
  }
 },
 "nbformat": 4,
 "nbformat_minor": 2
}
