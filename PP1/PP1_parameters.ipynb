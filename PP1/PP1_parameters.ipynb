{
 "cells": [
  {
   "cell_type": "code",
   "execution_count": 1,
   "metadata": {},
   "outputs": [],
   "source": [
    "import pandas as pd\n",
    "import matplotlib.pyplot as plt\n",
    "import scipy.signal\n",
    "import numpy as np\n",
    "import seaborn as sns"
   ]
  },
  {
   "cell_type": "code",
   "execution_count": 2,
   "metadata": {},
   "outputs": [],
   "source": [
    "plt.rcParams[\"figure.figsize\"]=[15,5]"
   ]
  },
  {
   "cell_type": "code",
   "execution_count": 3,
   "metadata": {},
   "outputs": [],
   "source": [
    "raw_pp=pd.read_csv('9thhour.csv', usecols=['timestamp', 'data.ax', 'data.az'])\n",
    "raw_pp.sort_values(by=['timestamp'], inplace=True)\n",
    "raw_pp.reset_index(inplace=True)\n",
    "raw_pp.dropna(axis=0, inplace=True)\n",
    "raw_pp['timestamp'] =  pd.to_datetime(raw_pp['timestamp'])"
   ]
  },
  {
   "cell_type": "code",
   "execution_count": 4,
   "metadata": {},
   "outputs": [
    {
     "name": "stderr",
     "output_type": "stream",
     "text": [
      "/home/raghu/anaconda3/lib/python3.6/site-packages/ipykernel_launcher.py:6: SettingWithCopyWarning: \n",
      "A value is trying to be set on a copy of a slice from a DataFrame.\n",
      "Try using .loc[row_indexer,col_indexer] = value instead\n",
      "\n",
      "See the caveats in the documentation: http://pandas.pydata.org/pandas-docs/stable/indexing.html#indexing-view-versus-copy\n",
      "  \n"
     ]
    }
   ],
   "source": [
    "#Load LD data and plot\n",
    "raw_pp[\"acc\"] = ( raw_pp[\"data.ax\"]**2 + raw_pp[\"data.az\"]**2) ** 0.5\n",
    "acc=raw_pp[[\"timestamp\", \"acc\"]]\n",
    "test_pp=acc\n",
    "# test_pp['acc_rolling_sum']=pd.Series.to_frame(test_pp.acc.rolling(100*10, center=True).sum())\n",
    "test_pp['acc_rolling_std']=pd.Series.to_frame(test_pp.acc.rolling(100*2, center=True).std())\n"
   ]
  },
  {
   "cell_type": "code",
   "execution_count": 5,
   "metadata": {},
   "outputs": [],
   "source": [
    "%matplotlib qt"
   ]
  },
  {
   "cell_type": "code",
   "execution_count": 6,
   "metadata": {},
   "outputs": [],
   "source": [
    "# plt.plot(test_pp['timestamp'], test_pp['acc'])\n",
    "# plt.plot(test_pp['timestamp'], test_pp['acc_rolling_std'])"
   ]
  },
  {
   "cell_type": "code",
   "execution_count": 7,
   "metadata": {},
   "outputs": [
    {
     "name": "stderr",
     "output_type": "stream",
     "text": [
      "/home/raghu/anaconda3/lib/python3.6/site-packages/ipykernel_launcher.py:1: SettingWithCopyWarning: \n",
      "A value is trying to be set on a copy of a slice from a DataFrame.\n",
      "Try using .loc[row_indexer,col_indexer] = value instead\n",
      "\n",
      "See the caveats in the documentation: http://pandas.pydata.org/pandas-docs/stable/indexing.html#indexing-view-versus-copy\n",
      "  \"\"\"Entry point for launching an IPython kernel.\n"
     ]
    }
   ],
   "source": [
    "test_pp['detections']=pd.Series.to_frame(test_pp.acc_rolling_std.rolling(100, center=True).sum())"
   ]
  },
  {
   "cell_type": "code",
   "execution_count": 8,
   "metadata": {},
   "outputs": [],
   "source": [
    "# plt.plot(test_pp['timestamp'], test_pp['acc']*100)\n",
    "# plt.plot(test_pp['timestamp'], test_pp['detections'])"
   ]
  },
  {
   "cell_type": "code",
   "execution_count": 9,
   "metadata": {},
   "outputs": [],
   "source": [
    "# plt.plot(test_pp['timestamp'], test_pp['detections'])"
   ]
  },
  {
   "cell_type": "code",
   "execution_count": 10,
   "metadata": {},
   "outputs": [
    {
     "name": "stderr",
     "output_type": "stream",
     "text": [
      "/home/raghu/anaconda3/lib/python3.6/site-packages/ipykernel_launcher.py:2: SettingWithCopyWarning: \n",
      "A value is trying to be set on a copy of a slice from a DataFrame\n",
      "\n",
      "See the caveats in the documentation: http://pandas.pydata.org/pandas-docs/stable/indexing.html#indexing-view-versus-copy\n",
      "  \n"
     ]
    }
   ],
   "source": [
    "test_pp['boards']=0\n",
    "test_pp['boards'][test_pp['detections']>=2]=1"
   ]
  },
  {
   "cell_type": "code",
   "execution_count": 11,
   "metadata": {},
   "outputs": [],
   "source": [
    "# plt.plot(test_pp[\"timestamp\"],test_pp[\"boards\"])"
   ]
  },
  {
   "cell_type": "code",
   "execution_count": 12,
   "metadata": {},
   "outputs": [],
   "source": [
    "working_times_raw=scipy.signal.find_peaks(test_pp.boards, distance=40*72, width=1)"
   ]
  },
  {
   "cell_type": "code",
   "execution_count": 13,
   "metadata": {},
   "outputs": [],
   "source": [
    "working_times_raw_df=pd.DataFrame({\"sample_number\":working_times_raw[0], \"working_time\":working_times_raw[1]['widths']/72})"
   ]
  },
  {
   "cell_type": "code",
   "execution_count": 14,
   "metadata": {},
   "outputs": [],
   "source": [
    "test_pp['boards']=test_pp['boards']*-1\n",
    "idle_times_raw=scipy.signal.find_peaks(test_pp.boards, distance=40*72, width=1)\n",
    "idle_times_raw_df=pd.DataFrame({\"sample_number\":idle_times_raw[0], \"working_time\":idle_times_raw[1]['widths']/72})\n",
    "test_pp['boards']=test_pp['boards']*-1"
   ]
  },
  {
   "cell_type": "code",
   "execution_count": 15,
   "metadata": {},
   "outputs": [
    {
     "name": "stderr",
     "output_type": "stream",
     "text": [
      "/home/raghu/anaconda3/lib/python3.6/site-packages/ipykernel_launcher.py:2: DeprecationWarning: \n",
      ".ix is deprecated. Please use\n",
      ".loc for label based indexing or\n",
      ".iloc for positional indexing\n",
      "\n",
      "See the documentation here:\n",
      "http://pandas.pydata.org/pandas-docs/stable/indexing.html#ix-indexer-is-deprecated\n",
      "  \n",
      "/home/raghu/anaconda3/lib/python3.6/site-packages/ipykernel_launcher.py:3: DeprecationWarning: \n",
      ".ix is deprecated. Please use\n",
      ".loc for label based indexing or\n",
      ".iloc for positional indexing\n",
      "\n",
      "See the documentation here:\n",
      "http://pandas.pydata.org/pandas-docs/stable/indexing.html#ix-indexer-is-deprecated\n",
      "  This is separate from the ipykernel package so we can avoid doing imports until\n",
      "/home/raghu/anaconda3/lib/python3.6/site-packages/ipykernel_launcher.py:4: DeprecationWarning: \n",
      ".ix is deprecated. Please use\n",
      ".loc for label based indexing or\n",
      ".iloc for positional indexing\n",
      "\n",
      "See the documentation here:\n",
      "http://pandas.pydata.org/pandas-docs/stable/indexing.html#ix-indexer-is-deprecated\n",
      "  after removing the cwd from sys.path.\n"
     ]
    }
   ],
   "source": [
    "for x, row in working_times_raw_df.iterrows():\n",
    "    working_times_raw_df.ix[x,'start_time']=test_pp.iloc[int(working_times_raw[1]['left_ips'][x])].timestamp\n",
    "    working_times_raw_df.ix[x,'end_time']=test_pp.iloc[int(working_times_raw[1]['right_ips'][x])].timestamp\n",
    "    working_times_raw_df.ix[x,'timestamp']=test_pp.iloc[int(working_times_raw[0][x])].timestamp"
   ]
  },
  {
   "cell_type": "code",
   "execution_count": 16,
   "metadata": {},
   "outputs": [
    {
     "name": "stderr",
     "output_type": "stream",
     "text": [
      "/home/raghu/anaconda3/lib/python3.6/site-packages/ipykernel_launcher.py:2: DeprecationWarning: \n",
      ".ix is deprecated. Please use\n",
      ".loc for label based indexing or\n",
      ".iloc for positional indexing\n",
      "\n",
      "See the documentation here:\n",
      "http://pandas.pydata.org/pandas-docs/stable/indexing.html#ix-indexer-is-deprecated\n",
      "  \n",
      "/home/raghu/anaconda3/lib/python3.6/site-packages/ipykernel_launcher.py:3: DeprecationWarning: \n",
      ".ix is deprecated. Please use\n",
      ".loc for label based indexing or\n",
      ".iloc for positional indexing\n",
      "\n",
      "See the documentation here:\n",
      "http://pandas.pydata.org/pandas-docs/stable/indexing.html#ix-indexer-is-deprecated\n",
      "  This is separate from the ipykernel package so we can avoid doing imports until\n",
      "/home/raghu/anaconda3/lib/python3.6/site-packages/ipykernel_launcher.py:4: DeprecationWarning: \n",
      ".ix is deprecated. Please use\n",
      ".loc for label based indexing or\n",
      ".iloc for positional indexing\n",
      "\n",
      "See the documentation here:\n",
      "http://pandas.pydata.org/pandas-docs/stable/indexing.html#ix-indexer-is-deprecated\n",
      "  after removing the cwd from sys.path.\n"
     ]
    }
   ],
   "source": [
    "for x, row in idle_times_raw_df.iterrows():\n",
    "    idle_times_raw_df.ix[x,'start_time']=test_pp.iloc[int(idle_times_raw[1]['left_ips'][x])].timestamp\n",
    "    idle_times_raw_df.ix[x,'end_time']=test_pp.iloc[int(idle_times_raw[1]['right_ips'][x])].timestamp\n",
    "    idle_times_raw_df.ix[x,'timestamp']=test_pp.iloc[int(idle_times_raw[0][x])].timestamp"
   ]
  },
  {
   "cell_type": "code",
   "execution_count": 17,
   "metadata": {},
   "outputs": [],
   "source": [
    "working_times_df=working_times_raw_df[working_times_raw_df.working_time>30]"
   ]
  },
  {
   "cell_type": "code",
   "execution_count": 18,
   "metadata": {},
   "outputs": [
    {
     "name": "stderr",
     "output_type": "stream",
     "text": [
      "/home/raghu/anaconda3/lib/python3.6/site-packages/ipykernel_launcher.py:1: SettingWithCopyWarning: \n",
      "A value is trying to be set on a copy of a slice from a DataFrame.\n",
      "Try using .loc[row_indexer,col_indexer] = value instead\n",
      "\n",
      "See the caveats in the documentation: http://pandas.pydata.org/pandas-docs/stable/indexing.html#indexing-view-versus-copy\n",
      "  \"\"\"Entry point for launching an IPython kernel.\n"
     ]
    }
   ],
   "source": [
    "working_times_df['event']=1\n",
    "idle_times_raw_df['event']=0"
   ]
  },
  {
   "cell_type": "code",
   "execution_count": 19,
   "metadata": {},
   "outputs": [],
   "source": [
    "raw_pp_current=pd.read_csv('9thhourcur.csv', usecols=['timestamp', 'data.A1', 'data.A2', 'data.A3'])\n",
    "raw_pp_current.sort_values(by=['timestamp'])\n",
    "raw_pp_current.reset_index(inplace=True)\n",
    "raw_pp_current['total_current']=raw_pp_current['data.A1']+raw_pp_current['data.A2']+raw_pp_current['data.A3']\n",
    "raw_pp_current['timestamp']=pd.to_datetime(raw_pp_current['timestamp'])\n",
    "raw_pp_current.index=raw_pp_current['timestamp']\n"
   ]
  },
  {
   "cell_type": "code",
   "execution_count": 20,
   "metadata": {},
   "outputs": [],
   "source": [
    "# working_times_df['energy']=raw_pp_current[(raw_pp_current['timestamp'] <= working_times_df['end_time']) & (raw_pp_current['timestamp'] >= working_times_df['start_time'])]['total_current'].sum()*230"
   ]
  },
  {
   "cell_type": "code",
   "execution_count": 21,
   "metadata": {},
   "outputs": [
    {
     "name": "stderr",
     "output_type": "stream",
     "text": [
      "/home/raghu/anaconda3/lib/python3.6/site-packages/ipykernel_launcher.py:3: SettingWithCopyWarning: \n",
      "A value is trying to be set on a copy of a slice from a DataFrame.\n",
      "Try using .loc[row_indexer,col_indexer] = value instead\n",
      "\n",
      "See the caveats in the documentation: http://pandas.pydata.org/pandas-docs/stable/indexing.html#indexing-view-versus-copy\n",
      "  This is separate from the ipykernel package so we can avoid doing imports until\n"
     ]
    }
   ],
   "source": [
    "working_times_df['energy'] = working_times_df.apply(lambda x: raw_pp_current.loc[(raw_pp_current.timestamp <= x.end_time) & \n",
    "                                                            (x.start_time <= raw_pp_current.timestamp),\n",
    "                                                            ['total_current']].sum()*230/3600000, axis=1)"
   ]
  },
  {
   "cell_type": "code",
   "execution_count": 22,
   "metadata": {},
   "outputs": [],
   "source": [
    "idle_times_raw_df['energy'] = idle_times_raw_df.apply(lambda x: raw_pp_current.loc[(raw_pp_current.timestamp <= x.end_time) & \n",
    "                                                            (x.start_time <= raw_pp_current.timestamp),\n",
    "                                                            ['total_current']].sum()*230/3600000, axis=1)"
   ]
  },
  {
   "cell_type": "code",
   "execution_count": 23,
   "metadata": {},
   "outputs": [
    {
     "name": "stderr",
     "output_type": "stream",
     "text": [
      "/home/raghu/anaconda3/lib/python3.6/site-packages/pandas/core/frame.py:3697: SettingWithCopyWarning: \n",
      "A value is trying to be set on a copy of a slice from a DataFrame\n",
      "\n",
      "See the caveats in the documentation: http://pandas.pydata.org/pandas-docs/stable/indexing.html#indexing-view-versus-copy\n",
      "  errors=errors)\n"
     ]
    }
   ],
   "source": [
    "working_times_df.index=working_times_df.timestamp\n",
    "working_times_df.drop('timestamp', axis=1, inplace=True)\n",
    "working_times_df.drop('sample_number', axis=1, inplace=True)"
   ]
  },
  {
   "cell_type": "code",
   "execution_count": 24,
   "metadata": {},
   "outputs": [],
   "source": [
    "idle_times_raw_df.index=idle_times_raw_df.timestamp\n",
    "idle_times_raw_df.drop('timestamp', axis=1, inplace=True)\n",
    "idle_times_raw_df.drop('sample_number', axis=1, inplace=True)"
   ]
  },
  {
   "cell_type": "code",
   "execution_count": 25,
   "metadata": {},
   "outputs": [],
   "source": [
    "# plt.plot(test_pp[\"timestamp\"],test_pp[\"boards\"])\n",
    "# plt.plot(raw_pp_current.timestamp, raw_pp_current['total_current'])"
   ]
  },
  {
   "cell_type": "code",
   "execution_count": 26,
   "metadata": {},
   "outputs": [],
   "source": [
    "PP_events=working_times_df[['event', 'working_time', 'energy']]"
   ]
  },
  {
   "cell_type": "code",
   "execution_count": 27,
   "metadata": {},
   "outputs": [],
   "source": [
    "idle_times_df=idle_times_raw_df[['event', 'working_time', 'energy']]\n",
    "PP_events=PP_events.append(idle_times_df)"
   ]
  },
  {
   "cell_type": "code",
   "execution_count": 28,
   "metadata": {},
   "outputs": [
    {
     "name": "stderr",
     "output_type": "stream",
     "text": [
      "/home/raghu/anaconda3/lib/python3.6/site-packages/scipy/stats/stats.py:1713: FutureWarning: Using a non-tuple sequence for multidimensional indexing is deprecated; use `arr[tuple(seq)]` instead of `arr[seq]`. In the future this will be interpreted as an array index, `arr[np.array(seq)]`, which will result either in an error or a different result.\n",
      "  return np.add.reduce(sorted[indexer] * weights, axis=axis) / sumval\n"
     ]
    },
    {
     "data": {
      "text/plain": [
       "Text(0.5, 1.0, 'PP2 Working Times Histogram')"
      ]
     },
     "execution_count": 28,
     "metadata": {},
     "output_type": "execute_result"
    }
   ],
   "source": [
    "sns.distplot(PP_events.working_time)\n",
    "plt.title('PP2 Working Times Histogram')"
   ]
  },
  {
   "cell_type": "code",
   "execution_count": 29,
   "metadata": {},
   "outputs": [
    {
     "name": "stdout",
     "output_type": "stream",
     "text": [
      "PP working time mode:  59.111111111111114\n"
     ]
    }
   ],
   "source": [
    "print('PP working time mode: ', PP_events.working_time.mode().mean())"
   ]
  },
  {
   "cell_type": "code",
   "execution_count": 30,
   "metadata": {},
   "outputs": [
    {
     "data": {
      "text/plain": [
       "0.010297117424242426"
      ]
     },
     "execution_count": 30,
     "metadata": {},
     "output_type": "execute_result"
    }
   ],
   "source": [
    "PP_events.loc[PP_events.event==1, 'energy'].mean()"
   ]
  },
  {
   "cell_type": "code",
   "execution_count": 31,
   "metadata": {},
   "outputs": [
    {
     "data": {
      "text/plain": [
       "0.006257277777777777"
      ]
     },
     "execution_count": 31,
     "metadata": {},
     "output_type": "execute_result"
    }
   ],
   "source": [
    "PP_events.loc[PP_events.event==0, 'energy'].mean()"
   ]
  },
  {
   "cell_type": "code",
   "execution_count": 36,
   "metadata": {},
   "outputs": [
    {
     "data": {
      "text/plain": [
       "[<matplotlib.lines.Line2D at 0x7fbac379ab70>]"
      ]
     },
     "execution_count": 36,
     "metadata": {},
     "output_type": "execute_result"
    }
   ],
   "source": [
    "plt.plot(test_pp.timestamp, test_pp.acc)"
   ]
  },
  {
   "cell_type": "code",
   "execution_count": 37,
   "metadata": {},
   "outputs": [
    {
     "data": {
      "text/plain": [
       "[<matplotlib.lines.Line2D at 0x7fba9dd18a90>]"
      ]
     },
     "execution_count": 37,
     "metadata": {},
     "output_type": "execute_result"
    }
   ],
   "source": [
    "plt.plot(test_pp.timestamp, test_pp.boards)"
   ]
  },
  {
   "cell_type": "code",
   "execution_count": 38,
   "metadata": {},
   "outputs": [
    {
     "data": {
      "text/html": [
       "<div>\n",
       "<style scoped>\n",
       "    .dataframe tbody tr th:only-of-type {\n",
       "        vertical-align: middle;\n",
       "    }\n",
       "\n",
       "    .dataframe tbody tr th {\n",
       "        vertical-align: top;\n",
       "    }\n",
       "\n",
       "    .dataframe thead th {\n",
       "        text-align: right;\n",
       "    }\n",
       "</style>\n",
       "<table border=\"1\" class=\"dataframe\">\n",
       "  <thead>\n",
       "    <tr style=\"text-align: right;\">\n",
       "      <th></th>\n",
       "      <th>event</th>\n",
       "      <th>working_time</th>\n",
       "      <th>energy</th>\n",
       "    </tr>\n",
       "    <tr>\n",
       "      <th>timestamp</th>\n",
       "      <th></th>\n",
       "      <th></th>\n",
       "      <th></th>\n",
       "    </tr>\n",
       "  </thead>\n",
       "  <tbody>\n",
       "    <tr>\n",
       "      <th>2019-01-02 09:04:45.123017</th>\n",
       "      <td>0</td>\n",
       "      <td>55.777778</td>\n",
       "      <td>0.004700</td>\n",
       "    </tr>\n",
       "    <tr>\n",
       "      <th>2019-01-02 09:07:27.439327</th>\n",
       "      <td>0</td>\n",
       "      <td>155.277778</td>\n",
       "      <td>0.012992</td>\n",
       "    </tr>\n",
       "    <tr>\n",
       "      <th>2019-01-02 09:10:08.525213</th>\n",
       "      <td>0</td>\n",
       "      <td>53.458333</td>\n",
       "      <td>0.004479</td>\n",
       "    </tr>\n",
       "    <tr>\n",
       "      <th>2019-01-02 09:11:38.770379</th>\n",
       "      <td>0</td>\n",
       "      <td>6.750000</td>\n",
       "      <td>0.000447</td>\n",
       "    </tr>\n",
       "    <tr>\n",
       "      <th>2019-01-02 09:12:19.104090</th>\n",
       "      <td>0</td>\n",
       "      <td>14.430556</td>\n",
       "      <td>0.001234</td>\n",
       "    </tr>\n",
       "    <tr>\n",
       "      <th>2019-01-02 09:13:53.142894</th>\n",
       "      <td>0</td>\n",
       "      <td>49.916667</td>\n",
       "      <td>0.004131</td>\n",
       "    </tr>\n",
       "    <tr>\n",
       "      <th>2019-01-02 09:15:45.521730</th>\n",
       "      <td>0</td>\n",
       "      <td>47.555556</td>\n",
       "      <td>0.003902</td>\n",
       "    </tr>\n",
       "    <tr>\n",
       "      <th>2019-01-02 09:17:10.849731</th>\n",
       "      <td>0</td>\n",
       "      <td>20.069444</td>\n",
       "      <td>0.001450</td>\n",
       "    </tr>\n",
       "    <tr>\n",
       "      <th>2019-01-02 09:17:58.228741</th>\n",
       "      <td>0</td>\n",
       "      <td>6.791667</td>\n",
       "      <td>0.000561</td>\n",
       "    </tr>\n",
       "    <tr>\n",
       "      <th>2019-01-02 09:19:26.878862</th>\n",
       "      <td>0</td>\n",
       "      <td>54.013889</td>\n",
       "      <td>0.004593</td>\n",
       "    </tr>\n",
       "    <tr>\n",
       "      <th>2019-01-02 09:20:25.234733</th>\n",
       "      <td>0</td>\n",
       "      <td>17.083333</td>\n",
       "      <td>0.001441</td>\n",
       "    </tr>\n",
       "    <tr>\n",
       "      <th>2019-01-02 09:21:30.197909</th>\n",
       "      <td>0</td>\n",
       "      <td>28.916667</td>\n",
       "      <td>0.002460</td>\n",
       "    </tr>\n",
       "    <tr>\n",
       "      <th>2019-01-02 09:23:19.203600</th>\n",
       "      <td>0</td>\n",
       "      <td>74.000000</td>\n",
       "      <td>0.006222</td>\n",
       "    </tr>\n",
       "    <tr>\n",
       "      <th>2019-01-02 09:24:06.201730</th>\n",
       "      <td>0</td>\n",
       "      <td>7.888889</td>\n",
       "      <td>0.000557</td>\n",
       "    </tr>\n",
       "    <tr>\n",
       "      <th>2019-01-02 09:24:49.593283</th>\n",
       "      <td>0</td>\n",
       "      <td>61.541667</td>\n",
       "      <td>0.005604</td>\n",
       "    </tr>\n",
       "    <tr>\n",
       "      <th>2019-01-02 09:27:16.259626</th>\n",
       "      <td>0</td>\n",
       "      <td>4.250000</td>\n",
       "      <td>0.000338</td>\n",
       "    </tr>\n",
       "    <tr>\n",
       "      <th>2019-01-02 09:29:24.877580</th>\n",
       "      <td>0</td>\n",
       "      <td>138.388889</td>\n",
       "      <td>0.011473</td>\n",
       "    </tr>\n",
       "    <tr>\n",
       "      <th>2019-01-02 09:31:56.839875</th>\n",
       "      <td>0</td>\n",
       "      <td>53.888889</td>\n",
       "      <td>0.004460</td>\n",
       "    </tr>\n",
       "    <tr>\n",
       "      <th>2019-01-02 09:38:44.005840</th>\n",
       "      <td>0</td>\n",
       "      <td>653.708333</td>\n",
       "      <td>0.055284</td>\n",
       "    </tr>\n",
       "    <tr>\n",
       "      <th>2019-01-02 09:45:30.827865</th>\n",
       "      <td>0</td>\n",
       "      <td>53.152778</td>\n",
       "      <td>0.004452</td>\n",
       "    </tr>\n",
       "    <tr>\n",
       "      <th>2019-01-02 09:47:22.447939</th>\n",
       "      <td>0</td>\n",
       "      <td>54.347222</td>\n",
       "      <td>0.004456</td>\n",
       "    </tr>\n",
       "    <tr>\n",
       "      <th>2019-01-02 09:49:13.524915</th>\n",
       "      <td>0</td>\n",
       "      <td>53.819444</td>\n",
       "      <td>0.004454</td>\n",
       "    </tr>\n",
       "    <tr>\n",
       "      <th>2019-01-02 09:51:04.780381</th>\n",
       "      <td>0</td>\n",
       "      <td>53.666667</td>\n",
       "      <td>0.004573</td>\n",
       "    </tr>\n",
       "    <tr>\n",
       "      <th>2019-01-02 09:53:24.753884</th>\n",
       "      <td>0</td>\n",
       "      <td>112.152778</td>\n",
       "      <td>0.009374</td>\n",
       "    </tr>\n",
       "    <tr>\n",
       "      <th>2019-01-02 09:55:44.608480</th>\n",
       "      <td>0</td>\n",
       "      <td>53.861111</td>\n",
       "      <td>0.004463</td>\n",
       "    </tr>\n",
       "    <tr>\n",
       "      <th>2019-01-02 09:57:35.335811</th>\n",
       "      <td>0</td>\n",
       "      <td>54.555556</td>\n",
       "      <td>0.004589</td>\n",
       "    </tr>\n",
       "  </tbody>\n",
       "</table>\n",
       "</div>"
      ],
      "text/plain": [
       "                            event  working_time    energy\n",
       "timestamp                                                \n",
       "2019-01-02 09:04:45.123017      0     55.777778  0.004700\n",
       "2019-01-02 09:07:27.439327      0    155.277778  0.012992\n",
       "2019-01-02 09:10:08.525213      0     53.458333  0.004479\n",
       "2019-01-02 09:11:38.770379      0      6.750000  0.000447\n",
       "2019-01-02 09:12:19.104090      0     14.430556  0.001234\n",
       "2019-01-02 09:13:53.142894      0     49.916667  0.004131\n",
       "2019-01-02 09:15:45.521730      0     47.555556  0.003902\n",
       "2019-01-02 09:17:10.849731      0     20.069444  0.001450\n",
       "2019-01-02 09:17:58.228741      0      6.791667  0.000561\n",
       "2019-01-02 09:19:26.878862      0     54.013889  0.004593\n",
       "2019-01-02 09:20:25.234733      0     17.083333  0.001441\n",
       "2019-01-02 09:21:30.197909      0     28.916667  0.002460\n",
       "2019-01-02 09:23:19.203600      0     74.000000  0.006222\n",
       "2019-01-02 09:24:06.201730      0      7.888889  0.000557\n",
       "2019-01-02 09:24:49.593283      0     61.541667  0.005604\n",
       "2019-01-02 09:27:16.259626      0      4.250000  0.000338\n",
       "2019-01-02 09:29:24.877580      0    138.388889  0.011473\n",
       "2019-01-02 09:31:56.839875      0     53.888889  0.004460\n",
       "2019-01-02 09:38:44.005840      0    653.708333  0.055284\n",
       "2019-01-02 09:45:30.827865      0     53.152778  0.004452\n",
       "2019-01-02 09:47:22.447939      0     54.347222  0.004456\n",
       "2019-01-02 09:49:13.524915      0     53.819444  0.004454\n",
       "2019-01-02 09:51:04.780381      0     53.666667  0.004573\n",
       "2019-01-02 09:53:24.753884      0    112.152778  0.009374\n",
       "2019-01-02 09:55:44.608480      0     53.861111  0.004463\n",
       "2019-01-02 09:57:35.335811      0     54.555556  0.004589"
      ]
     },
     "execution_count": 38,
     "metadata": {},
     "output_type": "execute_result"
    }
   ],
   "source": [
    "PP_events[PP_events.event==0]"
   ]
  },
  {
   "cell_type": "code",
   "execution_count": null,
   "metadata": {},
   "outputs": [],
   "source": []
  }
 ],
 "metadata": {
  "kernelspec": {
   "display_name": "Python 3",
   "language": "python",
   "name": "python3"
  },
  "language_info": {
   "codemirror_mode": {
    "name": "ipython",
    "version": 3
   },
   "file_extension": ".py",
   "mimetype": "text/x-python",
   "name": "python",
   "nbconvert_exporter": "python",
   "pygments_lexer": "ipython3",
   "version": "3.6.7"
  }
 },
 "nbformat": 4,
 "nbformat_minor": 2
}
