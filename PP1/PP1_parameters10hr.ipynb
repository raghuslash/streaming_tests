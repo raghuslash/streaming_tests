{
 "cells": [
  {
   "cell_type": "code",
   "execution_count": 1,
   "metadata": {},
   "outputs": [],
   "source": [
    "import pandas as pd\n",
    "import matplotlib.pyplot as plt\n",
    "import scipy.signal\n",
    "import numpy as np\n",
    "import seaborn as sns"
   ]
  },
  {
   "cell_type": "code",
   "execution_count": 2,
   "metadata": {},
   "outputs": [],
   "source": [
    "plt.rcParams[\"figure.figsize\"]=[15,5]"
   ]
  },
  {
   "cell_type": "code",
   "execution_count": 3,
   "metadata": {},
   "outputs": [],
   "source": [
    "raw_pp=pd.read_csv('pickandplace1.csv', usecols=['timestamp', 'data.ax', 'data.az'])\n",
    "raw_pp.sort_values(by=['timestamp'], inplace=True)\n",
    "raw_pp.reset_index(inplace=True)\n",
    "raw_pp.dropna(axis=0, inplace=True)\n",
    "raw_pp['timestamp'] =  pd.to_datetime(raw_pp['timestamp'])"
   ]
  },
  {
   "cell_type": "code",
   "execution_count": 16,
   "metadata": {},
   "outputs": [
    {
     "name": "stderr",
     "output_type": "stream",
     "text": [
      "/home/raghu/anaconda3/lib/python3.7/site-packages/pandas/core/indexing.py:189: SettingWithCopyWarning: \n",
      "A value is trying to be set on a copy of a slice from a DataFrame\n",
      "\n",
      "See the caveats in the documentation: http://pandas.pydata.org/pandas-docs/stable/indexing.html#indexing-view-versus-copy\n",
      "  self._setitem_with_indexer(indexer, value)\n"
     ]
    }
   ],
   "source": [
    "raw_pp['timestamp'].iloc[-1]=0"
   ]
  },
  {
   "cell_type": "code",
   "execution_count": 17,
   "metadata": {},
   "outputs": [
    {
     "data": {
      "text/html": [
       "<div>\n",
       "<style scoped>\n",
       "    .dataframe tbody tr th:only-of-type {\n",
       "        vertical-align: middle;\n",
       "    }\n",
       "\n",
       "    .dataframe tbody tr th {\n",
       "        vertical-align: top;\n",
       "    }\n",
       "\n",
       "    .dataframe thead th {\n",
       "        text-align: right;\n",
       "    }\n",
       "</style>\n",
       "<table border=\"1\" class=\"dataframe\">\n",
       "  <thead>\n",
       "    <tr style=\"text-align: right;\">\n",
       "      <th></th>\n",
       "      <th>index</th>\n",
       "      <th>timestamp</th>\n",
       "      <th>data.ax</th>\n",
       "      <th>data.az</th>\n",
       "    </tr>\n",
       "  </thead>\n",
       "  <tbody>\n",
       "    <tr>\n",
       "      <th>0</th>\n",
       "      <td>2774</td>\n",
       "      <td>2019-03-01 10:00:00.009512</td>\n",
       "      <td>1.091309</td>\n",
       "      <td>-0.008606</td>\n",
       "    </tr>\n",
       "    <tr>\n",
       "      <th>1</th>\n",
       "      <td>2775</td>\n",
       "      <td>2019-03-01 10:00:00.019071</td>\n",
       "      <td>-0.002747</td>\n",
       "      <td>0.171997</td>\n",
       "    </tr>\n",
       "    <tr>\n",
       "      <th>2</th>\n",
       "      <td>2776</td>\n",
       "      <td>2019-03-01 10:00:00.020217</td>\n",
       "      <td>0.045105</td>\n",
       "      <td>0.029175</td>\n",
       "    </tr>\n",
       "    <tr>\n",
       "      <th>3</th>\n",
       "      <td>2777</td>\n",
       "      <td>2019-03-01 10:00:00.021259</td>\n",
       "      <td>0.026855</td>\n",
       "      <td>0.135559</td>\n",
       "    </tr>\n",
       "    <tr>\n",
       "      <th>4</th>\n",
       "      <td>2778</td>\n",
       "      <td>2019-03-01 10:00:00.022681</td>\n",
       "      <td>0.025513</td>\n",
       "      <td>0.064941</td>\n",
       "    </tr>\n",
       "    <tr>\n",
       "      <th>5</th>\n",
       "      <td>2779</td>\n",
       "      <td>2019-03-01 10:00:00.023762</td>\n",
       "      <td>0.034546</td>\n",
       "      <td>0.126831</td>\n",
       "    </tr>\n",
       "    <tr>\n",
       "      <th>6</th>\n",
       "      <td>2780</td>\n",
       "      <td>2019-03-01 10:00:00.024798</td>\n",
       "      <td>0.032410</td>\n",
       "      <td>0.107178</td>\n",
       "    </tr>\n",
       "    <tr>\n",
       "      <th>7</th>\n",
       "      <td>2781</td>\n",
       "      <td>2019-03-01 10:00:00.025821</td>\n",
       "      <td>0.038025</td>\n",
       "      <td>0.056763</td>\n",
       "    </tr>\n",
       "    <tr>\n",
       "      <th>8</th>\n",
       "      <td>2782</td>\n",
       "      <td>2019-03-01 10:00:00.026847</td>\n",
       "      <td>0.035461</td>\n",
       "      <td>0.070557</td>\n",
       "    </tr>\n",
       "    <tr>\n",
       "      <th>9</th>\n",
       "      <td>2783</td>\n",
       "      <td>2019-03-01 10:00:00.027874</td>\n",
       "      <td>0.037231</td>\n",
       "      <td>0.078613</td>\n",
       "    </tr>\n",
       "    <tr>\n",
       "      <th>10</th>\n",
       "      <td>2784</td>\n",
       "      <td>2019-03-01 10:00:00.036331</td>\n",
       "      <td>0.034241</td>\n",
       "      <td>0.069031</td>\n",
       "    </tr>\n",
       "    <tr>\n",
       "      <th>11</th>\n",
       "      <td>2785</td>\n",
       "      <td>2019-03-01 10:00:00.037435</td>\n",
       "      <td>0.033813</td>\n",
       "      <td>0.109375</td>\n",
       "    </tr>\n",
       "    <tr>\n",
       "      <th>12</th>\n",
       "      <td>2786</td>\n",
       "      <td>2019-03-01 10:00:00.038573</td>\n",
       "      <td>0.024048</td>\n",
       "      <td>0.064819</td>\n",
       "    </tr>\n",
       "    <tr>\n",
       "      <th>13</th>\n",
       "      <td>2787</td>\n",
       "      <td>2019-03-01 10:00:00.039662</td>\n",
       "      <td>0.042053</td>\n",
       "      <td>0.124023</td>\n",
       "    </tr>\n",
       "    <tr>\n",
       "      <th>14</th>\n",
       "      <td>2788</td>\n",
       "      <td>2019-03-01 10:00:00.040699</td>\n",
       "      <td>0.033691</td>\n",
       "      <td>0.026611</td>\n",
       "    </tr>\n",
       "    <tr>\n",
       "      <th>15</th>\n",
       "      <td>2789</td>\n",
       "      <td>2019-03-01 10:00:00.041732</td>\n",
       "      <td>0.024658</td>\n",
       "      <td>0.104736</td>\n",
       "    </tr>\n",
       "    <tr>\n",
       "      <th>16</th>\n",
       "      <td>2790</td>\n",
       "      <td>2019-03-01 10:00:00.048875</td>\n",
       "      <td>0.038513</td>\n",
       "      <td>0.048828</td>\n",
       "    </tr>\n",
       "    <tr>\n",
       "      <th>17</th>\n",
       "      <td>2791</td>\n",
       "      <td>2019-03-01 10:00:00.050004</td>\n",
       "      <td>0.031677</td>\n",
       "      <td>0.086426</td>\n",
       "    </tr>\n",
       "    <tr>\n",
       "      <th>18</th>\n",
       "      <td>2792</td>\n",
       "      <td>2019-03-01 10:00:00.051050</td>\n",
       "      <td>0.040833</td>\n",
       "      <td>0.062012</td>\n",
       "    </tr>\n",
       "    <tr>\n",
       "      <th>19</th>\n",
       "      <td>2793</td>\n",
       "      <td>2019-03-01 10:00:00.052090</td>\n",
       "      <td>0.031921</td>\n",
       "      <td>0.047546</td>\n",
       "    </tr>\n",
       "    <tr>\n",
       "      <th>20</th>\n",
       "      <td>2794</td>\n",
       "      <td>2019-03-01 10:00:00.057508</td>\n",
       "      <td>0.038086</td>\n",
       "      <td>0.125427</td>\n",
       "    </tr>\n",
       "    <tr>\n",
       "      <th>21</th>\n",
       "      <td>2795</td>\n",
       "      <td>2019-03-01 10:00:00.058734</td>\n",
       "      <td>0.032776</td>\n",
       "      <td>0.038879</td>\n",
       "    </tr>\n",
       "    <tr>\n",
       "      <th>22</th>\n",
       "      <td>2796</td>\n",
       "      <td>2019-03-01 10:00:00.059813</td>\n",
       "      <td>0.032288</td>\n",
       "      <td>0.088684</td>\n",
       "    </tr>\n",
       "    <tr>\n",
       "      <th>23</th>\n",
       "      <td>2797</td>\n",
       "      <td>2019-03-01 10:00:00.060858</td>\n",
       "      <td>0.035583</td>\n",
       "      <td>0.124390</td>\n",
       "    </tr>\n",
       "    <tr>\n",
       "      <th>24</th>\n",
       "      <td>2798</td>\n",
       "      <td>2019-03-01 10:00:00.061878</td>\n",
       "      <td>0.033325</td>\n",
       "      <td>0.032776</td>\n",
       "    </tr>\n",
       "    <tr>\n",
       "      <th>25</th>\n",
       "      <td>2799</td>\n",
       "      <td>2019-03-01 10:00:00.069677</td>\n",
       "      <td>0.038147</td>\n",
       "      <td>0.125671</td>\n",
       "    </tr>\n",
       "    <tr>\n",
       "      <th>26</th>\n",
       "      <td>2800</td>\n",
       "      <td>2019-03-01 10:00:00.070959</td>\n",
       "      <td>0.030701</td>\n",
       "      <td>0.024292</td>\n",
       "    </tr>\n",
       "    <tr>\n",
       "      <th>27</th>\n",
       "      <td>2801</td>\n",
       "      <td>2019-03-01 10:00:00.072001</td>\n",
       "      <td>0.045471</td>\n",
       "      <td>0.096497</td>\n",
       "    </tr>\n",
       "    <tr>\n",
       "      <th>28</th>\n",
       "      <td>2802</td>\n",
       "      <td>2019-03-01 10:00:00.080242</td>\n",
       "      <td>0.032837</td>\n",
       "      <td>0.030884</td>\n",
       "    </tr>\n",
       "    <tr>\n",
       "      <th>29</th>\n",
       "      <td>2803</td>\n",
       "      <td>2019-03-01 10:00:00.081340</td>\n",
       "      <td>0.037598</td>\n",
       "      <td>0.087280</td>\n",
       "    </tr>\n",
       "    <tr>\n",
       "      <th>...</th>\n",
       "      <td>...</td>\n",
       "      <td>...</td>\n",
       "      <td>...</td>\n",
       "      <td>...</td>\n",
       "    </tr>\n",
       "    <tr>\n",
       "      <th>264643</th>\n",
       "      <td>264643</td>\n",
       "      <td>2019-03-01 10:59:59.148310</td>\n",
       "      <td>0.042908</td>\n",
       "      <td>0.096558</td>\n",
       "    </tr>\n",
       "    <tr>\n",
       "      <th>264644</th>\n",
       "      <td>264644</td>\n",
       "      <td>2019-03-01 10:59:59.149500</td>\n",
       "      <td>0.023865</td>\n",
       "      <td>0.024353</td>\n",
       "    </tr>\n",
       "    <tr>\n",
       "      <th>264645</th>\n",
       "      <td>264645</td>\n",
       "      <td>2019-03-01 10:59:59.151210</td>\n",
       "      <td>0.042969</td>\n",
       "      <td>0.179138</td>\n",
       "    </tr>\n",
       "    <tr>\n",
       "      <th>264646</th>\n",
       "      <td>264646</td>\n",
       "      <td>2019-03-01 10:59:59.214978</td>\n",
       "      <td>0.018127</td>\n",
       "      <td>0.161743</td>\n",
       "    </tr>\n",
       "    <tr>\n",
       "      <th>264647</th>\n",
       "      <td>264647</td>\n",
       "      <td>2019-03-01 10:59:59.216098</td>\n",
       "      <td>0.026001</td>\n",
       "      <td>0.036316</td>\n",
       "    </tr>\n",
       "    <tr>\n",
       "      <th>264648</th>\n",
       "      <td>264648</td>\n",
       "      <td>2019-03-01 10:59:59.217366</td>\n",
       "      <td>0.037903</td>\n",
       "      <td>0.119202</td>\n",
       "    </tr>\n",
       "    <tr>\n",
       "      <th>264649</th>\n",
       "      <td>264649</td>\n",
       "      <td>2019-03-01 10:59:59.218518</td>\n",
       "      <td>0.037476</td>\n",
       "      <td>0.078369</td>\n",
       "    </tr>\n",
       "    <tr>\n",
       "      <th>264650</th>\n",
       "      <td>264650</td>\n",
       "      <td>2019-03-01 10:59:59.220005</td>\n",
       "      <td>0.027405</td>\n",
       "      <td>0.093384</td>\n",
       "    </tr>\n",
       "    <tr>\n",
       "      <th>264651</th>\n",
       "      <td>264651</td>\n",
       "      <td>2019-03-01 10:59:59.281332</td>\n",
       "      <td>0.040039</td>\n",
       "      <td>0.044617</td>\n",
       "    </tr>\n",
       "    <tr>\n",
       "      <th>264652</th>\n",
       "      <td>264652</td>\n",
       "      <td>2019-03-01 10:59:59.282995</td>\n",
       "      <td>0.031006</td>\n",
       "      <td>0.112061</td>\n",
       "    </tr>\n",
       "    <tr>\n",
       "      <th>264653</th>\n",
       "      <td>264653</td>\n",
       "      <td>2019-03-01 10:59:59.284069</td>\n",
       "      <td>0.034302</td>\n",
       "      <td>0.044617</td>\n",
       "    </tr>\n",
       "    <tr>\n",
       "      <th>264654</th>\n",
       "      <td>264654</td>\n",
       "      <td>2019-03-01 10:59:59.285103</td>\n",
       "      <td>0.039246</td>\n",
       "      <td>0.136108</td>\n",
       "    </tr>\n",
       "    <tr>\n",
       "      <th>264655</th>\n",
       "      <td>264655</td>\n",
       "      <td>2019-03-01 10:59:59.286143</td>\n",
       "      <td>0.034668</td>\n",
       "      <td>0.074158</td>\n",
       "    </tr>\n",
       "    <tr>\n",
       "      <th>264656</th>\n",
       "      <td>264656</td>\n",
       "      <td>2019-03-01 10:59:59.349211</td>\n",
       "      <td>0.045288</td>\n",
       "      <td>0.075195</td>\n",
       "    </tr>\n",
       "    <tr>\n",
       "      <th>264657</th>\n",
       "      <td>264657</td>\n",
       "      <td>2019-03-01 10:59:59.350868</td>\n",
       "      <td>-0.009338</td>\n",
       "      <td>0.106689</td>\n",
       "    </tr>\n",
       "    <tr>\n",
       "      <th>264658</th>\n",
       "      <td>264658</td>\n",
       "      <td>2019-03-01 10:59:59.351917</td>\n",
       "      <td>0.084778</td>\n",
       "      <td>0.061462</td>\n",
       "    </tr>\n",
       "    <tr>\n",
       "      <th>264659</th>\n",
       "      <td>264659</td>\n",
       "      <td>2019-03-01 10:59:59.352958</td>\n",
       "      <td>0.006226</td>\n",
       "      <td>0.083557</td>\n",
       "    </tr>\n",
       "    <tr>\n",
       "      <th>264660</th>\n",
       "      <td>264660</td>\n",
       "      <td>2019-03-01 10:59:59.353982</td>\n",
       "      <td>0.052002</td>\n",
       "      <td>0.085083</td>\n",
       "    </tr>\n",
       "    <tr>\n",
       "      <th>264661</th>\n",
       "      <td>264661</td>\n",
       "      <td>2019-03-01 10:59:59.957918</td>\n",
       "      <td>-0.018860</td>\n",
       "      <td>0.119873</td>\n",
       "    </tr>\n",
       "    <tr>\n",
       "      <th>264662</th>\n",
       "      <td>264662</td>\n",
       "      <td>2019-03-01 10:59:59.964543</td>\n",
       "      <td>0.067139</td>\n",
       "      <td>0.056641</td>\n",
       "    </tr>\n",
       "    <tr>\n",
       "      <th>264663</th>\n",
       "      <td>264663</td>\n",
       "      <td>2019-03-01 10:59:59.965586</td>\n",
       "      <td>0.021179</td>\n",
       "      <td>0.110779</td>\n",
       "    </tr>\n",
       "    <tr>\n",
       "      <th>264664</th>\n",
       "      <td>264664</td>\n",
       "      <td>2019-03-01 10:59:59.966604</td>\n",
       "      <td>0.049377</td>\n",
       "      <td>0.043518</td>\n",
       "    </tr>\n",
       "    <tr>\n",
       "      <th>264665</th>\n",
       "      <td>264665</td>\n",
       "      <td>2019-03-01 10:59:59.967627</td>\n",
       "      <td>0.024475</td>\n",
       "      <td>0.112122</td>\n",
       "    </tr>\n",
       "    <tr>\n",
       "      <th>264666</th>\n",
       "      <td>264666</td>\n",
       "      <td>2019-03-01 10:59:59.981809</td>\n",
       "      <td>0.041565</td>\n",
       "      <td>0.050842</td>\n",
       "    </tr>\n",
       "    <tr>\n",
       "      <th>264667</th>\n",
       "      <td>264667</td>\n",
       "      <td>2019-03-01 10:59:59.982906</td>\n",
       "      <td>0.037781</td>\n",
       "      <td>0.075806</td>\n",
       "    </tr>\n",
       "    <tr>\n",
       "      <th>264668</th>\n",
       "      <td>264668</td>\n",
       "      <td>2019-03-01 10:59:59.983938</td>\n",
       "      <td>0.048950</td>\n",
       "      <td>0.070435</td>\n",
       "    </tr>\n",
       "    <tr>\n",
       "      <th>264669</th>\n",
       "      <td>264669</td>\n",
       "      <td>2019-03-01 10:59:59.984970</td>\n",
       "      <td>0.022400</td>\n",
       "      <td>0.076416</td>\n",
       "    </tr>\n",
       "    <tr>\n",
       "      <th>264670</th>\n",
       "      <td>264670</td>\n",
       "      <td>2019-03-01 10:59:59.986005</td>\n",
       "      <td>0.034912</td>\n",
       "      <td>0.077454</td>\n",
       "    </tr>\n",
       "    <tr>\n",
       "      <th>264671</th>\n",
       "      <td>264671</td>\n",
       "      <td>2019-03-01 10:59:59.987027</td>\n",
       "      <td>0.045776</td>\n",
       "      <td>0.068604</td>\n",
       "    </tr>\n",
       "    <tr>\n",
       "      <th>264672</th>\n",
       "      <td>264672</td>\n",
       "      <td>0</td>\n",
       "      <td>0.028320</td>\n",
       "      <td>0.102783</td>\n",
       "    </tr>\n",
       "  </tbody>\n",
       "</table>\n",
       "<p>261899 rows × 4 columns</p>\n",
       "</div>"
      ],
      "text/plain": [
       "         index                   timestamp   data.ax   data.az\n",
       "0         2774  2019-03-01 10:00:00.009512  1.091309 -0.008606\n",
       "1         2775  2019-03-01 10:00:00.019071 -0.002747  0.171997\n",
       "2         2776  2019-03-01 10:00:00.020217  0.045105  0.029175\n",
       "3         2777  2019-03-01 10:00:00.021259  0.026855  0.135559\n",
       "4         2778  2019-03-01 10:00:00.022681  0.025513  0.064941\n",
       "5         2779  2019-03-01 10:00:00.023762  0.034546  0.126831\n",
       "6         2780  2019-03-01 10:00:00.024798  0.032410  0.107178\n",
       "7         2781  2019-03-01 10:00:00.025821  0.038025  0.056763\n",
       "8         2782  2019-03-01 10:00:00.026847  0.035461  0.070557\n",
       "9         2783  2019-03-01 10:00:00.027874  0.037231  0.078613\n",
       "10        2784  2019-03-01 10:00:00.036331  0.034241  0.069031\n",
       "11        2785  2019-03-01 10:00:00.037435  0.033813  0.109375\n",
       "12        2786  2019-03-01 10:00:00.038573  0.024048  0.064819\n",
       "13        2787  2019-03-01 10:00:00.039662  0.042053  0.124023\n",
       "14        2788  2019-03-01 10:00:00.040699  0.033691  0.026611\n",
       "15        2789  2019-03-01 10:00:00.041732  0.024658  0.104736\n",
       "16        2790  2019-03-01 10:00:00.048875  0.038513  0.048828\n",
       "17        2791  2019-03-01 10:00:00.050004  0.031677  0.086426\n",
       "18        2792  2019-03-01 10:00:00.051050  0.040833  0.062012\n",
       "19        2793  2019-03-01 10:00:00.052090  0.031921  0.047546\n",
       "20        2794  2019-03-01 10:00:00.057508  0.038086  0.125427\n",
       "21        2795  2019-03-01 10:00:00.058734  0.032776  0.038879\n",
       "22        2796  2019-03-01 10:00:00.059813  0.032288  0.088684\n",
       "23        2797  2019-03-01 10:00:00.060858  0.035583  0.124390\n",
       "24        2798  2019-03-01 10:00:00.061878  0.033325  0.032776\n",
       "25        2799  2019-03-01 10:00:00.069677  0.038147  0.125671\n",
       "26        2800  2019-03-01 10:00:00.070959  0.030701  0.024292\n",
       "27        2801  2019-03-01 10:00:00.072001  0.045471  0.096497\n",
       "28        2802  2019-03-01 10:00:00.080242  0.032837  0.030884\n",
       "29        2803  2019-03-01 10:00:00.081340  0.037598  0.087280\n",
       "...        ...                         ...       ...       ...\n",
       "264643  264643  2019-03-01 10:59:59.148310  0.042908  0.096558\n",
       "264644  264644  2019-03-01 10:59:59.149500  0.023865  0.024353\n",
       "264645  264645  2019-03-01 10:59:59.151210  0.042969  0.179138\n",
       "264646  264646  2019-03-01 10:59:59.214978  0.018127  0.161743\n",
       "264647  264647  2019-03-01 10:59:59.216098  0.026001  0.036316\n",
       "264648  264648  2019-03-01 10:59:59.217366  0.037903  0.119202\n",
       "264649  264649  2019-03-01 10:59:59.218518  0.037476  0.078369\n",
       "264650  264650  2019-03-01 10:59:59.220005  0.027405  0.093384\n",
       "264651  264651  2019-03-01 10:59:59.281332  0.040039  0.044617\n",
       "264652  264652  2019-03-01 10:59:59.282995  0.031006  0.112061\n",
       "264653  264653  2019-03-01 10:59:59.284069  0.034302  0.044617\n",
       "264654  264654  2019-03-01 10:59:59.285103  0.039246  0.136108\n",
       "264655  264655  2019-03-01 10:59:59.286143  0.034668  0.074158\n",
       "264656  264656  2019-03-01 10:59:59.349211  0.045288  0.075195\n",
       "264657  264657  2019-03-01 10:59:59.350868 -0.009338  0.106689\n",
       "264658  264658  2019-03-01 10:59:59.351917  0.084778  0.061462\n",
       "264659  264659  2019-03-01 10:59:59.352958  0.006226  0.083557\n",
       "264660  264660  2019-03-01 10:59:59.353982  0.052002  0.085083\n",
       "264661  264661  2019-03-01 10:59:59.957918 -0.018860  0.119873\n",
       "264662  264662  2019-03-01 10:59:59.964543  0.067139  0.056641\n",
       "264663  264663  2019-03-01 10:59:59.965586  0.021179  0.110779\n",
       "264664  264664  2019-03-01 10:59:59.966604  0.049377  0.043518\n",
       "264665  264665  2019-03-01 10:59:59.967627  0.024475  0.112122\n",
       "264666  264666  2019-03-01 10:59:59.981809  0.041565  0.050842\n",
       "264667  264667  2019-03-01 10:59:59.982906  0.037781  0.075806\n",
       "264668  264668  2019-03-01 10:59:59.983938  0.048950  0.070435\n",
       "264669  264669  2019-03-01 10:59:59.984970  0.022400  0.076416\n",
       "264670  264670  2019-03-01 10:59:59.986005  0.034912  0.077454\n",
       "264671  264671  2019-03-01 10:59:59.987027  0.045776  0.068604\n",
       "264672  264672                           0  0.028320  0.102783\n",
       "\n",
       "[261899 rows x 4 columns]"
      ]
     },
     "execution_count": 17,
     "metadata": {},
     "output_type": "execute_result"
    }
   ],
   "source": [
    "raw_pp"
   ]
  },
  {
   "cell_type": "code",
   "execution_count": 4,
   "metadata": {},
   "outputs": [],
   "source": [
    "raw_pp_current=pd.read_csv('pickandplace1.csv', usecols=['timestamp', 'data.A1', 'data.A2', 'data.A3'])\n",
    "raw_pp_current.sort_values(by=['timestamp'])\n",
    "raw_pp_current.reset_index(inplace=True)\n",
    "raw_pp_current['total_current']=raw_pp_current['data.A1']+raw_pp_current['data.A2']+raw_pp_current['data.A3']\n",
    "raw_pp_current['timestamp']=pd.to_datetime(raw_pp_current['timestamp'])\n",
    "raw_pp_current.index=raw_pp_current['timestamp']"
   ]
  },
  {
   "cell_type": "code",
   "execution_count": 5,
   "metadata": {},
   "outputs": [
    {
     "name": "stderr",
     "output_type": "stream",
     "text": [
      "/home/raghu/anaconda3/lib/python3.6/site-packages/ipykernel_launcher.py:6: SettingWithCopyWarning: \n",
      "A value is trying to be set on a copy of a slice from a DataFrame.\n",
      "Try using .loc[row_indexer,col_indexer] = value instead\n",
      "\n",
      "See the caveats in the documentation: http://pandas.pydata.org/pandas-docs/stable/indexing.html#indexing-view-versus-copy\n",
      "  \n"
     ]
    }
   ],
   "source": [
    "#Load PP data and plot\n",
    "raw_pp[\"acc\"] = ( raw_pp[\"data.ax\"]**2 + raw_pp[\"data.az\"]**2) ** 0.5\n",
    "acc=raw_pp[[\"timestamp\", \"acc\"]]\n",
    "test_pp=acc\n",
    "# test_pp['acc_rolling_sum']=pd.Series.to_frame(test_pp.acc.rolling(100*10, center=True).sum())\n",
    "test_pp['acc_rolling_std']=pd.Series.to_frame(test_pp.acc.rolling(100*2, center=True).std())\n"
   ]
  },
  {
   "cell_type": "code",
   "execution_count": 6,
   "metadata": {},
   "outputs": [],
   "source": [
    "%matplotlib qt"
   ]
  },
  {
   "cell_type": "code",
   "execution_count": null,
   "metadata": {},
   "outputs": [],
   "source": [
    "plt.plot(test_pp['timestamp'], test_pp['acc'])\n",
    "plt.plot(test_pp['timestamp'], test_pp['acc_rolling_std'])"
   ]
  },
  {
   "cell_type": "code",
   "execution_count": 7,
   "metadata": {},
   "outputs": [
    {
     "name": "stderr",
     "output_type": "stream",
     "text": [
      "/home/raghu/anaconda3/lib/python3.6/site-packages/ipykernel_launcher.py:1: SettingWithCopyWarning: \n",
      "A value is trying to be set on a copy of a slice from a DataFrame.\n",
      "Try using .loc[row_indexer,col_indexer] = value instead\n",
      "\n",
      "See the caveats in the documentation: http://pandas.pydata.org/pandas-docs/stable/indexing.html#indexing-view-versus-copy\n",
      "  \"\"\"Entry point for launching an IPython kernel.\n"
     ]
    }
   ],
   "source": [
    "test_pp['detections']=pd.Series.to_frame(test_pp.acc_rolling_std.rolling(100, center=True).sum())"
   ]
  },
  {
   "cell_type": "code",
   "execution_count": null,
   "metadata": {},
   "outputs": [],
   "source": [
    "plt.plot(test_pp['timestamp'], test_pp['acc']*100)\n",
    "plt.plot(test_pp['timestamp'], test_pp['detections'])"
   ]
  },
  {
   "cell_type": "code",
   "execution_count": null,
   "metadata": {},
   "outputs": [],
   "source": [
    "# plt.plot(test_pp['timestamp'], test_pp['detections'])"
   ]
  },
  {
   "cell_type": "code",
   "execution_count": 8,
   "metadata": {},
   "outputs": [
    {
     "name": "stderr",
     "output_type": "stream",
     "text": [
      "/home/raghu/anaconda3/lib/python3.6/site-packages/ipykernel_launcher.py:2: SettingWithCopyWarning: \n",
      "A value is trying to be set on a copy of a slice from a DataFrame\n",
      "\n",
      "See the caveats in the documentation: http://pandas.pydata.org/pandas-docs/stable/indexing.html#indexing-view-versus-copy\n",
      "  \n"
     ]
    }
   ],
   "source": [
    "test_pp['boards']=0\n",
    "test_pp['boards'][test_pp['detections']>=2]=1"
   ]
  },
  {
   "cell_type": "code",
   "execution_count": null,
   "metadata": {},
   "outputs": [],
   "source": [
    "plt.plot(test_pp['timestamp'], test_pp['acc']*100)\n",
    "plt.plot(test_pp[\"timestamp\"],test_pp[\"boards\"])"
   ]
  },
  {
   "cell_type": "code",
   "execution_count": 9,
   "metadata": {},
   "outputs": [],
   "source": [
    "working_times_raw=scipy.signal.find_peaks(test_pp.boards, width=1)"
   ]
  },
  {
   "cell_type": "code",
   "execution_count": 10,
   "metadata": {},
   "outputs": [],
   "source": [
    "working_times_raw_df=pd.DataFrame({\"sample_number\":working_times_raw[0], \"working_time\":working_times_raw[1]['widths']/72})"
   ]
  },
  {
   "cell_type": "code",
   "execution_count": null,
   "metadata": {},
   "outputs": [],
   "source": [
    "test_pp['boards']=test_pp['boards']*-1\n",
    "idle_times_raw=scipy.signal.find_peaks(test_pp.boards, width=1)\n",
    "idle_times_raw_df=pd.DataFrame({\"sample_number\":idle_times_raw[0], \"working_time\":idle_times_raw[1]['widths']/72})\n",
    "test_pp['boards']=test_pp['boards']*-1"
   ]
  },
  {
   "cell_type": "code",
   "execution_count": null,
   "metadata": {},
   "outputs": [],
   "source": [
    "for x, row in working_times_raw_df.iterrows():\n",
    "    working_times_raw_df.ix[x,'start_time']=test_pp.iloc[int(working_times_raw[1]['left_ips'][x])].timestamp\n",
    "    working_times_raw_df.ix[x,'end_time']=test_pp.iloc[int(working_times_raw[1]['right_ips'][x])].timestamp\n",
    "    working_times_raw_df.ix[x,'timestamp']=test_pp.iloc[int(working_times_raw[0][x])].timestamp"
   ]
  },
  {
   "cell_type": "code",
   "execution_count": null,
   "metadata": {},
   "outputs": [],
   "source": [
    "\n",
    "for x, row in idle_times_raw_df.iterrows():\n",
    "    idle_times_raw_df.ix[x,'start_time']=test_pp.iloc[int(idle_times_raw[1]['left_ips'][x])].timestamp\n",
    "    idle_times_raw_df.ix[x,'end_time']=test_pp.iloc[int(idle_times_raw[1]['right_ips'][x])].timestamp\n",
    "    idle_times_raw_df.ix[x,'timestamp']=test_pp.iloc[int(idle_times_raw[0][x])].timestamp"
   ]
  },
  {
   "cell_type": "code",
   "execution_count": null,
   "metadata": {},
   "outputs": [],
   "source": [
    "working_times_df=working_times_raw_df[working_times_raw_df.working_time>10]"
   ]
  },
  {
   "cell_type": "code",
   "execution_count": null,
   "metadata": {},
   "outputs": [],
   "source": [
    "working_times_df['event']=1\n",
    "idle_times_raw_df['event']=0"
   ]
  },
  {
   "cell_type": "code",
   "execution_count": null,
   "metadata": {},
   "outputs": [],
   "source": [
    "# working_times_df['energy']=raw_pp_current[(raw_pp_current['timestamp'] <= working_times_df['end_time']) & (raw_pp_current['timestamp'] >= working_times_df['start_time'])]['total_current'].sum()*230"
   ]
  },
  {
   "cell_type": "code",
   "execution_count": null,
   "metadata": {},
   "outputs": [],
   "source": [
    "working_times_df['energy'] = working_times_df.apply(lambda x: raw_pp_current.loc[(raw_pp_current.timestamp <= x.end_time) & \n",
    "                                                            (x.start_time <= raw_pp_current.timestamp),\n",
    "                                                            ['total_current']].sum()*230/3600000, axis=1)"
   ]
  },
  {
   "cell_type": "code",
   "execution_count": null,
   "metadata": {},
   "outputs": [],
   "source": [
    "# for index, x in enumerate(working_times_raw[0]):\n",
    "#     working_times_raw_df.ix[index,'energy']=np.trapz(raw_pp_current.ix[int(working_times_raw[1]['left_ips'][index]):int(working_times_raw[1]['right_ips'][index]), 'data.A1'].tolist())\n",
    "# working_times_raw_df['energy']=working_times_raw_df['energy']*230/3600000"
   ]
  },
  {
   "cell_type": "code",
   "execution_count": null,
   "metadata": {},
   "outputs": [],
   "source": [
    "idle_times_raw_df['energy'] = idle_times_raw_df.apply(lambda x: raw_pp_current.loc[(raw_pp_current.timestamp <= x.end_time) & \n",
    "                                                            (x.start_time <= raw_pp_current.timestamp),\n",
    "                                                            ['total_current']].sum()*230/3600000, axis=1)"
   ]
  },
  {
   "cell_type": "code",
   "execution_count": null,
   "metadata": {},
   "outputs": [],
   "source": [
    "# for index, x in enumerate(idle_times_raw[0]):\n",
    "#     idle_times_raw_df.ix[index,'energy']=np.trapz(raw_pp_current.ix[int(idle_times_raw[1]['left_ips'][index]):int(idle_times_raw[1]['right_ips'][index]), 'data.A1'].tolist(), dx=1)\n",
    "# idle_times_raw_df['energy']=idle_times_raw_df['energy']*230/3600000"
   ]
  },
  {
   "cell_type": "code",
   "execution_count": null,
   "metadata": {},
   "outputs": [],
   "source": [
    "working_times_df.index=working_times_df.timestamp\n",
    "working_times_df.drop('timestamp', axis=1, inplace=True)\n",
    "working_times_df.drop('sample_number', axis=1, inplace=True)"
   ]
  },
  {
   "cell_type": "code",
   "execution_count": null,
   "metadata": {},
   "outputs": [],
   "source": [
    "idle_times_raw_df.index=idle_times_raw_df.timestamp\n",
    "idle_times_raw_df.drop('timestamp', axis=1, inplace=True)\n",
    "idle_times_raw_df.drop('sample_number', axis=1, inplace=True)"
   ]
  },
  {
   "cell_type": "code",
   "execution_count": null,
   "metadata": {},
   "outputs": [],
   "source": [
    "# plt.plot(test_pp[\"timestamp\"],test_pp[\"boards\"])\n",
    "# plt.plot(raw_pp_current.timestamp, raw_pp_current['total_current'])"
   ]
  },
  {
   "cell_type": "code",
   "execution_count": null,
   "metadata": {},
   "outputs": [],
   "source": [
    "PP_events=working_times_df[['event', 'working_time', 'energy']]"
   ]
  },
  {
   "cell_type": "code",
   "execution_count": null,
   "metadata": {},
   "outputs": [],
   "source": [
    "idle_times_df=idle_times_raw_df[['event', 'working_time', 'energy']]\n",
    "PP_events=PP_events.append(idle_times_df)"
   ]
  },
  {
   "cell_type": "code",
   "execution_count": null,
   "metadata": {},
   "outputs": [],
   "source": [
    "# sns.distplot(PP_events[PP_events.event==1].working_time)\n",
    "# plt.title('PP1 Working Times Histogram')"
   ]
  },
  {
   "cell_type": "code",
   "execution_count": null,
   "metadata": {},
   "outputs": [],
   "source": [
    "# print('PP working time mode: ', PP_events[PP_events.event==1].working_time.mode().mean())"
   ]
  },
  {
   "cell_type": "code",
   "execution_count": null,
   "metadata": {},
   "outputs": [],
   "source": [
    "# sum(raw_pp_current.total_current.tolist())"
   ]
  },
  {
   "cell_type": "code",
   "execution_count": null,
   "metadata": {},
   "outputs": [],
   "source": [
    "# PP_events.loc[PP_events.event==0, 'energy']"
   ]
  },
  {
   "cell_type": "code",
   "execution_count": null,
   "metadata": {},
   "outputs": [],
   "source": [
    "plt.plot(test_pp.timestamp, test_pp.acc)"
   ]
  },
  {
   "cell_type": "code",
   "execution_count": null,
   "metadata": {},
   "outputs": [],
   "source": [
    "PP_events.sort_values(by=['timestamp'], inplace=True)"
   ]
  },
  {
   "cell_type": "code",
   "execution_count": null,
   "metadata": {},
   "outputs": [],
   "source": [
    "# plt.plot(PP_events.index, PP_events.event)\n",
    "plt.plot(test_pp[\"timestamp\"],test_pp[\"boards\"])"
   ]
  },
  {
   "cell_type": "code",
   "execution_count": null,
   "metadata": {},
   "outputs": [],
   "source": [
    "# PP_events[PP_events.event==0]"
   ]
  },
  {
   "cell_type": "code",
   "execution_count": null,
   "metadata": {},
   "outputs": [],
   "source": [
    "plt.plot(raw_pp_current.timestamp,raw_pp_current.total_current)"
   ]
  },
  {
   "cell_type": "code",
   "execution_count": null,
   "metadata": {},
   "outputs": [],
   "source": [
    "plt.stem(idle_times_df.index, idle_times_df.event)"
   ]
  },
  {
   "cell_type": "code",
   "execution_count": null,
   "metadata": {},
   "outputs": [],
   "source": [
    "# sns.distplot(idle_times_df.power)"
   ]
  },
  {
   "cell_type": "code",
   "execution_count": null,
   "metadata": {},
   "outputs": [],
   "source": [
    "working_times_df['power']=working_times_df['energy']*3600000/working_times_df['working_time']"
   ]
  },
  {
   "cell_type": "code",
   "execution_count": null,
   "metadata": {},
   "outputs": [],
   "source": [
    "#sns.distplot(PP_events[PP_events.event==1].working_time, bins=50)"
   ]
  },
  {
   "cell_type": "code",
   "execution_count": null,
   "metadata": {},
   "outputs": [],
   "source": [
    "PPdist=PP_events[PP_events.event==1]"
   ]
  },
  {
   "cell_type": "code",
   "execution_count": null,
   "metadata": {},
   "outputs": [],
   "source": [
    "PPdist"
   ]
  },
  {
   "cell_type": "code",
   "execution_count": null,
   "metadata": {},
   "outputs": [],
   "source": [
    "PPdist=PPdist[PPdist.working_time < np.percentile(PPdist.working_time,95)]"
   ]
  },
  {
   "cell_type": "code",
   "execution_count": null,
   "metadata": {},
   "outputs": [],
   "source": [
    "print(PPdist.working_time.max())\n",
    "print(PPdist.working_time.min())"
   ]
  },
  {
   "cell_type": "code",
   "execution_count": null,
   "metadata": {},
   "outputs": [],
   "source": [
    "binnum=int(round((PPdist.working_time.max()-PPdist.working_time.min())/5))\n",
    "binnum"
   ]
  },
  {
   "cell_type": "code",
   "execution_count": null,
   "metadata": {},
   "outputs": [],
   "source": [
    "sns.distplot(PP_events[PP_events.event==1].working_time, bins=binnum)"
   ]
  },
  {
   "cell_type": "code",
   "execution_count": null,
   "metadata": {},
   "outputs": [],
   "source": [
    "modeWT=pd.cut(PPdist[PPdist.event==1][\"working_time\"], bins=binnum).value_counts().idxmax().mid"
   ]
  },
  {
   "cell_type": "code",
   "execution_count": null,
   "metadata": {},
   "outputs": [],
   "source": [
    "modeWT"
   ]
  },
  {
   "cell_type": "code",
   "execution_count": null,
   "metadata": {},
   "outputs": [],
   "source": []
  },
  {
   "cell_type": "code",
   "execution_count": null,
   "metadata": {},
   "outputs": [],
   "source": [
    "# statistics.mode(PP_events[PP_events.event==1].working_time.tolist(), bins=10)"
   ]
  },
  {
   "cell_type": "code",
   "execution_count": null,
   "metadata": {},
   "outputs": [],
   "source": [
    "plt.plot(test_pp.timestamp, test_pp.acc)\n",
    "plt.plot(test_pp.timestamp, test_pp.boards)"
   ]
  },
  {
   "cell_type": "code",
   "execution_count": null,
   "metadata": {},
   "outputs": [],
   "source": []
  }
 ],
 "metadata": {
  "kernelspec": {
   "display_name": "Python 3",
   "language": "python",
   "name": "python3"
  },
  "language_info": {
   "codemirror_mode": {
    "name": "ipython",
    "version": 3
   },
   "file_extension": ".py",
   "mimetype": "text/x-python",
   "name": "python",
   "nbconvert_exporter": "python",
   "pygments_lexer": "ipython3",
   "version": "3.7.1"
  }
 },
 "nbformat": 4,
 "nbformat_minor": 2
}
