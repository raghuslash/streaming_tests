{
 "cells": [
  {
   "cell_type": "code",
   "execution_count": 1,
   "metadata": {},
   "outputs": [],
   "source": [
    "import pandas as pd\n",
    "import numpy as np\n",
    "import matplotlib.pyplot as plt\n",
    "from matplotlib import style\n",
    "import matplotlib.dates as mdates\n",
    "import os\n",
    "import sys\n",
    "import time\n",
    "import scipy.signal\n"
   ]
  },
  {
   "cell_type": "code",
   "execution_count": 2,
   "metadata": {},
   "outputs": [],
   "source": [
    "rf_raw=pd.read_csv('reflowoven_vaf.csv', usecols =['timestamp', 'data.A1', 'data.A2', 'data.A3'])"
   ]
  },
  {
   "cell_type": "code",
   "execution_count": 3,
   "metadata": {},
   "outputs": [],
   "source": [
    "rf_raw.timestamp=pd.to_datetime(rf_raw.timestamp)\n",
    "rf_raw.index=rf_raw.timestamp"
   ]
  },
  {
   "cell_type": "code",
   "execution_count": 4,
   "metadata": {},
   "outputs": [],
   "source": [
    "rf_raw['total_current']=rf_raw['data.A1']+rf_raw['data.A2']+rf_raw['data.A3']"
   ]
  },
  {
   "cell_type": "code",
   "execution_count": 5,
   "metadata": {},
   "outputs": [],
   "source": [
    "rf_raw['rolling_mean_p1']=pd.Series.to_frame(rf_raw['data.A1'].rolling(10, center=True).mean())"
   ]
  },
  {
   "cell_type": "code",
   "execution_count": 6,
   "metadata": {},
   "outputs": [],
   "source": [
    "maxcur=62.0\n",
    "rf_raw['state']=0"
   ]
  },
  {
   "cell_type": "code",
   "execution_count": 8,
   "metadata": {},
   "outputs": [
    {
     "name": "stderr",
     "output_type": "stream",
     "text": [
      "/home/raghu/anaconda3/lib/python3.6/site-packages/ipykernel_launcher.py:1: SettingWithCopyWarning: \n",
      "A value is trying to be set on a copy of a slice from a DataFrame\n",
      "\n",
      "See the caveats in the documentation: http://pandas.pydata.org/pandas-docs/stable/indexing.html#indexing-view-versus-copy\n",
      "  \"\"\"Entry point for launching an IPython kernel.\n",
      "/home/raghu/anaconda3/lib/python3.6/site-packages/ipykernel_launcher.py:2: SettingWithCopyWarning: \n",
      "A value is trying to be set on a copy of a slice from a DataFrame\n",
      "\n",
      "See the caveats in the documentation: http://pandas.pydata.org/pandas-docs/stable/indexing.html#indexing-view-versus-copy\n",
      "  \n",
      "/home/raghu/anaconda3/lib/python3.6/site-packages/ipykernel_launcher.py:3: SettingWithCopyWarning: \n",
      "A value is trying to be set on a copy of a slice from a DataFrame\n",
      "\n",
      "See the caveats in the documentation: http://pandas.pydata.org/pandas-docs/stable/indexing.html#indexing-view-versus-copy\n",
      "  This is separate from the ipykernel package so we can avoid doing imports until\n"
     ]
    }
   ],
   "source": [
    "rf_raw['state'][rf_raw['rolling_mean_p1']<=1.5]=0\n",
    "rf_raw['state'][rf_raw['rolling_mean_p1']>= 35]=2\n",
    "rf_raw['state'][(rf_raw['rolling_mean_p1']>1.5) & (rf_raw['rolling_mean_p1']<=35)]=1"
   ]
  },
  {
   "cell_type": "code",
   "execution_count": 9,
   "metadata": {},
   "outputs": [],
   "source": [
    "%matplotlib qt"
   ]
  },
  {
   "cell_type": "code",
   "execution_count": 10,
   "metadata": {},
   "outputs": [
    {
     "name": "stderr",
     "output_type": "stream",
     "text": [
      "/home/raghu/anaconda3/lib/python3.6/site-packages/ipykernel_launcher.py:1: DeprecationWarning: \n",
      ".ix is deprecated. Please use\n",
      ".loc for label based indexing or\n",
      ".iloc for positional indexing\n",
      "\n",
      "See the documentation here:\n",
      "http://pandas.pydata.org/pandas-docs/stable/indexing.html#ix-indexer-is-deprecated\n",
      "  \"\"\"Entry point for launching an IPython kernel.\n",
      "/home/raghu/anaconda3/lib/python3.6/site-packages/ipykernel_launcher.py:2: DeprecationWarning: \n",
      ".ix is deprecated. Please use\n",
      ".loc for label based indexing or\n",
      ".iloc for positional indexing\n",
      "\n",
      "See the documentation here:\n",
      "http://pandas.pydata.org/pandas-docs/stable/indexing.html#ix-indexer-is-deprecated\n",
      "  \n"
     ]
    }
   ],
   "source": [
    "rf_raw.ix[0, 'state']=(rf_raw.ix[0, 'state']+1)%3\n",
    "rf_raw.ix[-1, 'state']=(rf_raw.ix[0, 'state']+1)%3"
   ]
  },
  {
   "cell_type": "code",
   "execution_count": 34,
   "metadata": {},
   "outputs": [
    {
     "data": {
      "text/plain": [
       "[<matplotlib.lines.Line2D at 0x7ff9966cdcf8>]"
      ]
     },
     "execution_count": 34,
     "metadata": {},
     "output_type": "execute_result"
    }
   ],
   "source": [
    "plt.plot(rf_raw.timestamp, rf_raw.rolling_mean_p1)\n",
    "plt.plot(rf_raw.timestamp, rf_raw.state*100)\n",
    "plt.plot(rf_raw.total_current)"
   ]
  },
  {
   "cell_type": "code",
   "execution_count": 12,
   "metadata": {},
   "outputs": [],
   "source": [
    "heating_times=scipy.signal.find_peaks(rf_raw.state, height=1.5, width=1)\n",
    "heating_times_df=pd.DataFrame({\"sample_number\":heating_times[0], \"working_time\":heating_times[1]['widths']})"
   ]
  },
  {
   "cell_type": "code",
   "execution_count": 13,
   "metadata": {},
   "outputs": [],
   "source": [
    "idle_temp=rf_raw[['state']]*-1\n",
    "idle_times=scipy.signal.find_peaks(idle_temp.state, height=-.5, width=1)\n",
    "idle_times_df=pd.DataFrame({\"sample_number\":idle_times[0], \"working_time\":idle_times[1]['widths']})"
   ]
  },
  {
   "cell_type": "code",
   "execution_count": 14,
   "metadata": {},
   "outputs": [
    {
     "name": "stderr",
     "output_type": "stream",
     "text": [
      "/home/raghu/anaconda3/lib/python3.6/site-packages/pandas/core/generic.py:7626: SettingWithCopyWarning: \n",
      "A value is trying to be set on a copy of a slice from a DataFrame\n",
      "\n",
      "See the caveats in the documentation: http://pandas.pydata.org/pandas-docs/stable/indexing.html#indexing-view-versus-copy\n",
      "  self._update_inplace(new_data)\n",
      "/home/raghu/anaconda3/lib/python3.6/site-packages/IPython/core/interactiveshell.py:3267: SettingWithCopyWarning: \n",
      "A value is trying to be set on a copy of a slice from a DataFrame\n",
      "\n",
      "See the caveats in the documentation: http://pandas.pydata.org/pandas-docs/stable/indexing.html#indexing-view-versus-copy\n",
      "  exec(code_obj, self.user_global_ns, self.user_ns)\n"
     ]
    }
   ],
   "source": [
    "maintain_temp=rf_raw[['state']]\n",
    "maintain_temp['state'][rf_raw.state==2]=0\n",
    "maintain_times=scipy.signal.find_peaks(maintain_temp.state, height=.5, width=1)\n",
    "maintain_times_df=pd.DataFrame({\"sample_number\":maintain_times[0], \"working_time\":maintain_times[1]['widths']})"
   ]
  },
  {
   "cell_type": "code",
   "execution_count": 15,
   "metadata": {},
   "outputs": [
    {
     "data": {
      "text/plain": [
       "<matplotlib.axes._subplots.AxesSubplot at 0x7ff997e81400>"
      ]
     },
     "execution_count": 15,
     "metadata": {},
     "output_type": "execute_result"
    }
   ],
   "source": [
    "rf_raw[['state']].plot()"
   ]
  },
  {
   "cell_type": "code",
   "execution_count": 23,
   "metadata": {},
   "outputs": [
    {
     "name": "stderr",
     "output_type": "stream",
     "text": [
      "/home/raghu/anaconda3/lib/python3.6/site-packages/ipykernel_launcher.py:2: DeprecationWarning: \n",
      ".ix is deprecated. Please use\n",
      ".loc for label based indexing or\n",
      ".iloc for positional indexing\n",
      "\n",
      "See the documentation here:\n",
      "http://pandas.pydata.org/pandas-docs/stable/indexing.html#ix-indexer-is-deprecated\n",
      "  \n",
      "/home/raghu/anaconda3/lib/python3.6/site-packages/ipykernel_launcher.py:3: DeprecationWarning: \n",
      ".ix is deprecated. Please use\n",
      ".loc for label based indexing or\n",
      ".iloc for positional indexing\n",
      "\n",
      "See the documentation here:\n",
      "http://pandas.pydata.org/pandas-docs/stable/indexing.html#ix-indexer-is-deprecated\n",
      "  This is separate from the ipykernel package so we can avoid doing imports until\n",
      "/home/raghu/anaconda3/lib/python3.6/site-packages/ipykernel_launcher.py:4: DeprecationWarning: \n",
      ".ix is deprecated. Please use\n",
      ".loc for label based indexing or\n",
      ".iloc for positional indexing\n",
      "\n",
      "See the documentation here:\n",
      "http://pandas.pydata.org/pandas-docs/stable/indexing.html#ix-indexer-is-deprecated\n",
      "  after removing the cwd from sys.path.\n",
      "/home/raghu/anaconda3/lib/python3.6/site-packages/ipykernel_launcher.py:5: DeprecationWarning: \n",
      ".ix is deprecated. Please use\n",
      ".loc for label based indexing or\n",
      ".iloc for positional indexing\n",
      "\n",
      "See the documentation here:\n",
      "http://pandas.pydata.org/pandas-docs/stable/indexing.html#ix-indexer-is-deprecated\n",
      "  \"\"\"\n",
      "/home/raghu/anaconda3/lib/python3.6/site-packages/ipykernel_launcher.py:8: DeprecationWarning: \n",
      ".ix is deprecated. Please use\n",
      ".loc for label based indexing or\n",
      ".iloc for positional indexing\n",
      "\n",
      "See the documentation here:\n",
      "http://pandas.pydata.org/pandas-docs/stable/indexing.html#ix-indexer-is-deprecated\n",
      "  \n",
      "/home/raghu/anaconda3/lib/python3.6/site-packages/ipykernel_launcher.py:9: DeprecationWarning: \n",
      ".ix is deprecated. Please use\n",
      ".loc for label based indexing or\n",
      ".iloc for positional indexing\n",
      "\n",
      "See the documentation here:\n",
      "http://pandas.pydata.org/pandas-docs/stable/indexing.html#ix-indexer-is-deprecated\n",
      "  if __name__ == '__main__':\n",
      "/home/raghu/anaconda3/lib/python3.6/site-packages/ipykernel_launcher.py:10: DeprecationWarning: \n",
      ".ix is deprecated. Please use\n",
      ".loc for label based indexing or\n",
      ".iloc for positional indexing\n",
      "\n",
      "See the documentation here:\n",
      "http://pandas.pydata.org/pandas-docs/stable/indexing.html#ix-indexer-is-deprecated\n",
      "  # Remove the CWD from sys.path while we load stuff.\n",
      "/home/raghu/anaconda3/lib/python3.6/site-packages/ipykernel_launcher.py:11: DeprecationWarning: \n",
      ".ix is deprecated. Please use\n",
      ".loc for label based indexing or\n",
      ".iloc for positional indexing\n",
      "\n",
      "See the documentation here:\n",
      "http://pandas.pydata.org/pandas-docs/stable/indexing.html#ix-indexer-is-deprecated\n",
      "  # This is added back by InteractiveShellApp.init_path()\n",
      "/home/raghu/anaconda3/lib/python3.6/site-packages/ipykernel_launcher.py:14: DeprecationWarning: \n",
      ".ix is deprecated. Please use\n",
      ".loc for label based indexing or\n",
      ".iloc for positional indexing\n",
      "\n",
      "See the documentation here:\n",
      "http://pandas.pydata.org/pandas-docs/stable/indexing.html#ix-indexer-is-deprecated\n",
      "  \n",
      "/home/raghu/anaconda3/lib/python3.6/site-packages/ipykernel_launcher.py:15: DeprecationWarning: \n",
      ".ix is deprecated. Please use\n",
      ".loc for label based indexing or\n",
      ".iloc for positional indexing\n",
      "\n",
      "See the documentation here:\n",
      "http://pandas.pydata.org/pandas-docs/stable/indexing.html#ix-indexer-is-deprecated\n",
      "  from ipykernel import kernelapp as app\n",
      "/home/raghu/anaconda3/lib/python3.6/site-packages/ipykernel_launcher.py:16: DeprecationWarning: \n",
      ".ix is deprecated. Please use\n",
      ".loc for label based indexing or\n",
      ".iloc for positional indexing\n",
      "\n",
      "See the documentation here:\n",
      "http://pandas.pydata.org/pandas-docs/stable/indexing.html#ix-indexer-is-deprecated\n",
      "  app.launch_new_instance()\n",
      "/home/raghu/anaconda3/lib/python3.6/site-packages/ipykernel_launcher.py:17: DeprecationWarning: \n",
      ".ix is deprecated. Please use\n",
      ".loc for label based indexing or\n",
      ".iloc for positional indexing\n",
      "\n",
      "See the documentation here:\n",
      "http://pandas.pydata.org/pandas-docs/stable/indexing.html#ix-indexer-is-deprecated\n"
     ]
    }
   ],
   "source": [
    "for x, row in heating_times_df.iterrows():\n",
    "    heating_times_df.ix[x,'start_time']=rf_raw.iloc[int(heating_times[1]['left_ips'][x])].timestamp\n",
    "    heating_times_df.ix[x,'end_time']=rf_raw.iloc[int(heating_times[1]['right_ips'][x])].timestamp\n",
    "    heating_times_df.ix[x,'timestamp']=rf_raw.iloc[int(heating_times[0][x])].timestamp\n",
    "    heating_times_df.ix[x,'state']=rf_raw.iloc[int(heating_times[0][x])].state\n",
    "    \n",
    "for x, row in maintain_times_df.iterrows():\n",
    "    maintain_times_df.ix[x,'start_time']=rf_raw.iloc[int(maintain_times[1]['left_ips'][x])].timestamp\n",
    "    maintain_times_df.ix[x,'end_time']=rf_raw.iloc[int(maintain_times[1]['right_ips'][x])].timestamp\n",
    "    maintain_times_df.ix[x,'timestamp']=rf_raw.iloc[int(maintain_times[0][x])].timestamp\n",
    "    maintain_times_df.ix[x,'state']=rf_raw.iloc[int(maintain_times[0][x])].state\n",
    "    \n",
    "for x, row in idle_times_df.iterrows():\n",
    "    idle_times_df.ix[x,'start_time']=rf_raw.iloc[int(idle_times[1]['left_ips'][x])].timestamp\n",
    "    idle_times_df.ix[x,'end_time']=rf_raw.iloc[int(idle_times[1]['right_ips'][x])].timestamp\n",
    "    idle_times_df.ix[x,'timestamp']=rf_raw.iloc[int(idle_times[0][x])].timestamp\n",
    "    idle_times_df.ix[x,'state']=rf_raw.iloc[int(idle_times[0][x])].state"
   ]
  },
  {
   "cell_type": "code",
   "execution_count": 25,
   "metadata": {},
   "outputs": [],
   "source": [
    "heating_times_df['energy'] = heating_times_df.apply(lambda x: rf_raw.loc[(rf_raw.timestamp <= x.end_time) & \n",
    "                                                            (x.start_time <= rf_raw.timestamp),\n",
    "                                                            ['total_current']].sum()*230/3600000, axis=1)\n",
    "maintain_times_df['energy'] = maintain_times_df.apply(lambda x: rf_raw.loc[(rf_raw.timestamp <= x.end_time) & \n",
    "                                                            (x.start_time <= rf_raw.timestamp),\n",
    "                                                            ['total_current']].sum()*230/3600000, axis=1)\n",
    "idle_times_df['energy'] = idle_times_df.apply(lambda x: rf_raw.loc[(rf_raw.timestamp <= x.end_time) & \n",
    "                                                            (x.start_time <= rf_raw.timestamp),\n",
    "                                                            ['total_current']].sum()*230/3600000, axis=1)"
   ]
  },
  {
   "cell_type": "code",
   "execution_count": 27,
   "metadata": {},
   "outputs": [],
   "source": [
    "RF_states=heating_times_df[['timestamp', 'state', 'working_time', 'energy']]\n",
    "RF_states=RF_states.append(maintain_times_df[['timestamp', 'state', 'working_time', 'energy']])\n",
    "RF_states=RF_states.append(idle_times_df[['timestamp', 'state', 'working_time', 'energy']])"
   ]
  },
  {
   "cell_type": "code",
   "execution_count": 33,
   "metadata": {},
   "outputs": [
    {
     "data": {
      "text/html": [
       "<div>\n",
       "<style scoped>\n",
       "    .dataframe tbody tr th:only-of-type {\n",
       "        vertical-align: middle;\n",
       "    }\n",
       "\n",
       "    .dataframe tbody tr th {\n",
       "        vertical-align: top;\n",
       "    }\n",
       "\n",
       "    .dataframe thead th {\n",
       "        text-align: right;\n",
       "    }\n",
       "</style>\n",
       "<table border=\"1\" class=\"dataframe\">\n",
       "  <thead>\n",
       "    <tr style=\"text-align: right;\">\n",
       "      <th></th>\n",
       "      <th>state</th>\n",
       "      <th>working_time</th>\n",
       "      <th>energy</th>\n",
       "    </tr>\n",
       "    <tr>\n",
       "      <th>timestamp</th>\n",
       "      <th></th>\n",
       "      <th></th>\n",
       "      <th></th>\n",
       "    </tr>\n",
       "  </thead>\n",
       "  <tbody>\n",
       "    <tr>\n",
       "      <th>2019-01-02 03:05:32.045568</th>\n",
       "      <td>2.0</td>\n",
       "      <td>153.0</td>\n",
       "      <td>1.004869</td>\n",
       "    </tr>\n",
       "    <tr>\n",
       "      <th>2019-01-02 03:08:36.581761</th>\n",
       "      <td>2.0</td>\n",
       "      <td>161.0</td>\n",
       "      <td>1.274620</td>\n",
       "    </tr>\n",
       "    <tr>\n",
       "      <th>2019-01-02 03:12:22.081967</th>\n",
       "      <td>2.0</td>\n",
       "      <td>218.0</td>\n",
       "      <td>1.872150</td>\n",
       "    </tr>\n",
       "    <tr>\n",
       "      <th>2019-01-02 03:19:57.602355</th>\n",
       "      <td>2.0</td>\n",
       "      <td>280.0</td>\n",
       "      <td>1.881140</td>\n",
       "    </tr>\n",
       "    <tr>\n",
       "      <th>2019-01-02 05:09:31.104245</th>\n",
       "      <td>2.0</td>\n",
       "      <td>118.0</td>\n",
       "      <td>0.767437</td>\n",
       "    </tr>\n",
       "    <tr>\n",
       "      <th>2019-01-02 05:11:56.100031</th>\n",
       "      <td>2.0</td>\n",
       "      <td>102.0</td>\n",
       "      <td>0.801639</td>\n",
       "    </tr>\n",
       "    <tr>\n",
       "      <th>2019-01-02 05:14:18.671963</th>\n",
       "      <td>2.0</td>\n",
       "      <td>146.0</td>\n",
       "      <td>1.224384</td>\n",
       "    </tr>\n",
       "    <tr>\n",
       "      <th>2019-01-02 05:20:22.642392</th>\n",
       "      <td>2.0</td>\n",
       "      <td>252.0</td>\n",
       "      <td>1.660270</td>\n",
       "    </tr>\n",
       "    <tr>\n",
       "      <th>2019-01-02 03:04:03.655018</th>\n",
       "      <td>1.0</td>\n",
       "      <td>8.0</td>\n",
       "      <td>0.022719</td>\n",
       "    </tr>\n",
       "    <tr>\n",
       "      <th>2019-01-02 03:07:02.637813</th>\n",
       "      <td>1.0</td>\n",
       "      <td>11.0</td>\n",
       "      <td>0.061158</td>\n",
       "    </tr>\n",
       "    <tr>\n",
       "      <th>2019-01-02 03:10:13.928012</th>\n",
       "      <td>1.0</td>\n",
       "      <td>15.0</td>\n",
       "      <td>0.079963</td>\n",
       "    </tr>\n",
       "    <tr>\n",
       "      <th>2019-01-02 03:15:52.219194</th>\n",
       "      <td>1.0</td>\n",
       "      <td>164.0</td>\n",
       "      <td>0.977794</td>\n",
       "    </tr>\n",
       "    <tr>\n",
       "      <th>2019-01-02 04:15:29.030976</th>\n",
       "      <td>1.0</td>\n",
       "      <td>5748.0</td>\n",
       "      <td>11.629670</td>\n",
       "    </tr>\n",
       "    <tr>\n",
       "      <th>2019-01-02 05:10:47.491623</th>\n",
       "      <td>1.0</td>\n",
       "      <td>22.0</td>\n",
       "      <td>0.109628</td>\n",
       "    </tr>\n",
       "    <tr>\n",
       "      <th>2019-01-02 05:12:54.638724</th>\n",
       "      <td>1.0</td>\n",
       "      <td>6.0</td>\n",
       "      <td>0.038429</td>\n",
       "    </tr>\n",
       "    <tr>\n",
       "      <th>2019-01-02 05:16:51.367091</th>\n",
       "      <td>1.0</td>\n",
       "      <td>131.0</td>\n",
       "      <td>0.770585</td>\n",
       "    </tr>\n",
       "    <tr>\n",
       "      <th>2019-01-02 11:44:48.139128</th>\n",
       "      <td>1.0</td>\n",
       "      <td>41474.0</td>\n",
       "      <td>141.570049</td>\n",
       "    </tr>\n",
       "    <tr>\n",
       "      <th>2019-01-01 22:46:59.736400</th>\n",
       "      <td>0.0</td>\n",
       "      <td>27914.0</td>\n",
       "      <td>1.680227</td>\n",
       "    </tr>\n",
       "    <tr>\n",
       "      <th>2019-01-02 18:18:27.391260</th>\n",
       "      <td>0.0</td>\n",
       "      <td>1251.5</td>\n",
       "      <td>0.074954</td>\n",
       "    </tr>\n",
       "  </tbody>\n",
       "</table>\n",
       "</div>"
      ],
      "text/plain": [
       "                            state  working_time      energy\n",
       "timestamp                                                  \n",
       "2019-01-02 03:05:32.045568    2.0         153.0    1.004869\n",
       "2019-01-02 03:08:36.581761    2.0         161.0    1.274620\n",
       "2019-01-02 03:12:22.081967    2.0         218.0    1.872150\n",
       "2019-01-02 03:19:57.602355    2.0         280.0    1.881140\n",
       "2019-01-02 05:09:31.104245    2.0         118.0    0.767437\n",
       "2019-01-02 05:11:56.100031    2.0         102.0    0.801639\n",
       "2019-01-02 05:14:18.671963    2.0         146.0    1.224384\n",
       "2019-01-02 05:20:22.642392    2.0         252.0    1.660270\n",
       "2019-01-02 03:04:03.655018    1.0           8.0    0.022719\n",
       "2019-01-02 03:07:02.637813    1.0          11.0    0.061158\n",
       "2019-01-02 03:10:13.928012    1.0          15.0    0.079963\n",
       "2019-01-02 03:15:52.219194    1.0         164.0    0.977794\n",
       "2019-01-02 04:15:29.030976    1.0        5748.0   11.629670\n",
       "2019-01-02 05:10:47.491623    1.0          22.0    0.109628\n",
       "2019-01-02 05:12:54.638724    1.0           6.0    0.038429\n",
       "2019-01-02 05:16:51.367091    1.0         131.0    0.770585\n",
       "2019-01-02 11:44:48.139128    1.0       41474.0  141.570049\n",
       "2019-01-01 22:46:59.736400    0.0       27914.0    1.680227\n",
       "2019-01-02 18:18:27.391260    0.0        1251.5    0.074954"
      ]
     },
     "execution_count": 33,
     "metadata": {},
     "output_type": "execute_result"
    }
   ],
   "source": [
    "RF_states.index=RF_states.timestamp\n",
    "RF_states.drop('timestamp', axis=1, inplace=True)\n",
    "RF_states"
   ]
  },
  {
   "cell_type": "code",
   "execution_count": null,
   "metadata": {},
   "outputs": [],
   "source": []
  }
 ],
 "metadata": {
  "kernelspec": {
   "display_name": "Python 3",
   "language": "python",
   "name": "python3"
  },
  "language_info": {
   "codemirror_mode": {
    "name": "ipython",
    "version": 3
   },
   "file_extension": ".py",
   "mimetype": "text/x-python",
   "name": "python",
   "nbconvert_exporter": "python",
   "pygments_lexer": "ipython3",
   "version": "3.6.7"
  }
 },
 "nbformat": 4,
 "nbformat_minor": 2
}
