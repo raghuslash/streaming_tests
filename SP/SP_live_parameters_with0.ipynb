{
 "cells": [
  {
   "cell_type": "code",
   "execution_count": 1,
   "metadata": {},
   "outputs": [],
   "source": [
    "import pandas as pd\n",
    "import matplotlib.pyplot as plt\n",
    "import scipy.signal\n",
    "import numpy as np\n",
    "import seaborn as sns\n",
    "plt.rcParams[\"figure.figsize\"]=[15,5]"
   ]
  },
  {
   "cell_type": "code",
   "execution_count": 2,
   "metadata": {},
   "outputs": [],
   "source": [
    "raw_sp = pd.read_csv('screenprinter_plus_vaf.csv', usecols =['timestamp', 'data.A1'])\n",
    "raw_sp.dropna(axis=0, inplace=True)\n",
    "raw_sp.sort_values(by=['timestamp'])\n",
    "raw_sp.reset_index(inplace=True)\n",
    "raw_sp['timestamp'] =  pd.to_datetime(raw_sp['timestamp'])"
   ]
  },
  {
   "cell_type": "code",
   "execution_count": 3,
   "metadata": {},
   "outputs": [],
   "source": [
    "test_sp=raw_sp\n",
    "sptimethresh=12"
   ]
  },
  {
   "cell_type": "code",
   "execution_count": 4,
   "metadata": {},
   "outputs": [],
   "source": [
    "#Get boards from Screenprinter\n",
    "test_sp=test_sp[['data.A1','timestamp']]\n",
    "# events=scipy.signal.find_peaks(test_sp['data.A1'], height=(2.22, 5), width=1)"
   ]
  },
  {
   "cell_type": "code",
   "execution_count": 5,
   "metadata": {},
   "outputs": [],
   "source": [
    "test_sp['sum']=pd.Series.to_frame(test_sp['data.A1'].rolling(6, center=True).sum())\n",
    "test_sp['sum_forcleaning']=pd.Series.to_frame(test_sp['data.A1'].rolling(12, center=True).sum())"
   ]
  },
  {
   "cell_type": "code",
   "execution_count": 6,
   "metadata": {},
   "outputs": [],
   "source": [
    "%matplotlib qt"
   ]
  },
  {
   "cell_type": "code",
   "execution_count": 9,
   "metadata": {},
   "outputs": [
    {
     "data": {
      "text/plain": [
       "[<matplotlib.lines.Line2D at 0x7f70ba2f7588>]"
      ]
     },
     "execution_count": 9,
     "metadata": {},
     "output_type": "execute_result"
    }
   ],
   "source": [
    "plt.ylabel=\"Screenprinter Current (A)\"\n",
    "plt.plot(test_sp['timestamp'], test_sp['data.A1'])\n"
   ]
  },
  {
   "cell_type": "code",
   "execution_count": 58,
   "metadata": {},
   "outputs": [
    {
     "data": {
      "text/plain": [
       "[<matplotlib.lines.Line2D at 0x7f5739914be0>]"
      ]
     },
     "execution_count": 58,
     "metadata": {},
     "output_type": "execute_result"
    }
   ],
   "source": [
    "plt.plot(test_sp['timestamp'], test_sp['sum'])\n",
    "plt.plot(test_sp['timestamp'], test_sp['data.A1']*10)"
   ]
  },
  {
   "cell_type": "code",
   "execution_count": 17,
   "metadata": {},
   "outputs": [
    {
     "data": {
      "text/plain": [
       "[<matplotlib.lines.Line2D at 0x7f5740065908>]"
      ]
     },
     "execution_count": 17,
     "metadata": {},
     "output_type": "execute_result"
    }
   ],
   "source": [
    "plt.plot(test_sp['timestamp'], test_sp['sum'])"
   ]
  },
  {
   "cell_type": "code",
   "execution_count": 59,
   "metadata": {},
   "outputs": [],
   "source": [
    "test_sp['idle']=2"
   ]
  },
  {
   "cell_type": "code",
   "execution_count": 36,
   "metadata": {},
   "outputs": [],
   "source": [
    "sptimethresh=5\n",
    "printing_delays_raw=scipy.signal.find_peaks(test_sp['sum'], height=(11, 15), distance=sptimethresh, width=1)\n",
    "printing_delays_raw_df=pd.DataFrame({\"sample_number\":printing_delays_raw[0], \"working_time\":printing_delays_raw[1]['widths']})\n",
    "cleaning_delays_raw=scipy.signal.find_peaks(test_sp['sum_forcleaning'], height=60, distance=sptimethresh, width=1)\n",
    "cleaning_delays_raw_df=pd.DataFrame({\"sample_number\":cleaning_delays_raw[0], \"working_time\":cleaning_delays_raw[1]['widths']})"
   ]
  },
  {
   "cell_type": "code",
   "execution_count": 60,
   "metadata": {},
   "outputs": [
    {
     "name": "stderr",
     "output_type": "stream",
     "text": [
      "/home/raghu/anaconda3/lib/python3.6/site-packages/ipykernel_launcher.py:2: DeprecationWarning: \n",
      ".ix is deprecated. Please use\n",
      ".loc for label based indexing or\n",
      ".iloc for positional indexing\n",
      "\n",
      "See the documentation here:\n",
      "http://pandas.pydata.org/pandas-docs/stable/indexing.html#ix-indexer-is-deprecated\n",
      "  \n",
      "/home/raghu/anaconda3/lib/python3.6/site-packages/ipykernel_launcher.py:5: DeprecationWarning: \n",
      ".ix is deprecated. Please use\n",
      ".loc for label based indexing or\n",
      ".iloc for positional indexing\n",
      "\n",
      "See the documentation here:\n",
      "http://pandas.pydata.org/pandas-docs/stable/indexing.html#ix-indexer-is-deprecated\n",
      "  \"\"\"\n"
     ]
    }
   ],
   "source": [
    "for index, i in enumerate(printing_delays_raw[0]):\n",
    "    test_sp.ix[int(printing_delays_raw[1]['left_ips'][index]) : int(printing_delays_raw[1]['right_ips'][index]), 'idle']=0\n",
    "\n",
    "for index, i in enumerate(cleaning_delays_raw[0]):\n",
    "    test_sp.ix[int(cleaning_delays_raw[1]['left_ips'][index]) : int(cleaning_delays_raw[1]['right_ips'][index]), 'idle']=0"
   ]
  },
  {
   "cell_type": "code",
   "execution_count": 61,
   "metadata": {},
   "outputs": [],
   "source": [
    "idle_delays_raw=scipy.signal.find_peaks(test_sp['idle'], height=.5, width=1)\n",
    "idle_delays_raw_df=pd.DataFrame({\"sample_number\":idle_delays_raw[0], \"working_time\":idle_delays_raw[1]['widths']})"
   ]
  },
  {
   "cell_type": "code",
   "execution_count": 62,
   "metadata": {},
   "outputs": [],
   "source": [
    "SP_events=pd.DataFrame({\"timestamp\":test_sp.iloc[printing_delays_raw_df.sample_number].timestamp, \"event\":1, \"working_time\":printing_delays_raw_df.working_time.tolist()})\n",
    "cleanings=pd.DataFrame({\"timestamp\":test_sp.iloc[cleaning_delays_raw_df.sample_number].timestamp, \"event\":2, \"working_time\":cleaning_delays_raw_df.working_time.tolist()})\n",
    "\n",
    "SP_events.reset_index(inplace=True)\n",
    "cleanings.reset_index(inplace=True)"
   ]
  },
  {
   "cell_type": "code",
   "execution_count": 63,
   "metadata": {},
   "outputs": [],
   "source": [
    "idles=pd.DataFrame({\"timestamp\":test_sp.iloc[idle_delays_raw_df.sample_number].timestamp, \"event\":0, \"working_time\":idle_delays_raw_df.working_time.tolist()})\n",
    "idles.reset_index(inplace=True)"
   ]
  },
  {
   "cell_type": "code",
   "execution_count": 64,
   "metadata": {},
   "outputs": [
    {
     "name": "stderr",
     "output_type": "stream",
     "text": [
      "/home/raghu/anaconda3/lib/python3.6/site-packages/ipykernel_launcher.py:2: DeprecationWarning: \n",
      ".ix is deprecated. Please use\n",
      ".loc for label based indexing or\n",
      ".iloc for positional indexing\n",
      "\n",
      "See the documentation here:\n",
      "http://pandas.pydata.org/pandas-docs/stable/indexing.html#ix-indexer-is-deprecated\n",
      "  \n"
     ]
    }
   ],
   "source": [
    "for x, row in SP_events.iterrows():\n",
    "    SP_events.ix[x,'energy']=test_sp.ix[int(printing_delays_raw[1]['left_ips'][x]):int(printing_delays_raw[1]['right_ips'][x]), 'data.A1'].sum()*230/3600000\n",
    "# for index, x in enumerate(printing_delays_raw[0]):\n",
    "#     SP_events.ix[index,'energy']=np.trapz(test_sp.ix[int(printing_delays_raw[1]['left_ips'][index]):int(printing_delays_raw[1]['right_ips'][index]), 'data.A1'].tolist()*230/3600000)"
   ]
  },
  {
   "cell_type": "code",
   "execution_count": 65,
   "metadata": {},
   "outputs": [
    {
     "name": "stderr",
     "output_type": "stream",
     "text": [
      "/home/raghu/anaconda3/lib/python3.6/site-packages/ipykernel_launcher.py:2: DeprecationWarning: \n",
      ".ix is deprecated. Please use\n",
      ".loc for label based indexing or\n",
      ".iloc for positional indexing\n",
      "\n",
      "See the documentation here:\n",
      "http://pandas.pydata.org/pandas-docs/stable/indexing.html#ix-indexer-is-deprecated\n",
      "  \n"
     ]
    }
   ],
   "source": [
    "for x, row in cleanings.iterrows():\n",
    "    cleanings.ix[x,'energy']=test_sp.ix[int(cleaning_delays_raw[1]['left_ips'][x]):int(cleaning_delays_raw[1]['right_ips'][x]), 'data.A1'].sum()*230/3600000\n",
    "\n",
    "# for index,x in enumerate(cleaning_delays_raw[0]):\n",
    "#     cleanings.ix[index,'energy']=np.trapz(test_sp.ix[int(cleaning_delays_raw[1]['left_ips'][index]):int(cleaning_delays_raw[1]['right_ips'][index]), 'data.A1'].tolist()*230)\n",
    "    "
   ]
  },
  {
   "cell_type": "code",
   "execution_count": 66,
   "metadata": {},
   "outputs": [
    {
     "name": "stderr",
     "output_type": "stream",
     "text": [
      "/home/raghu/anaconda3/lib/python3.6/site-packages/ipykernel_launcher.py:2: DeprecationWarning: \n",
      ".ix is deprecated. Please use\n",
      ".loc for label based indexing or\n",
      ".iloc for positional indexing\n",
      "\n",
      "See the documentation here:\n",
      "http://pandas.pydata.org/pandas-docs/stable/indexing.html#ix-indexer-is-deprecated\n",
      "  \n"
     ]
    }
   ],
   "source": [
    "for x, row in idles.iterrows():\n",
    "    idles.ix[x,'energy']=test_sp.ix[int(idle_delays_raw[1]['left_ips'][x]):int(idle_delays_raw[1]['right_ips'][x]), 'data.A1'].sum()*230/3600000"
   ]
  },
  {
   "cell_type": "code",
   "execution_count": 67,
   "metadata": {},
   "outputs": [],
   "source": [
    "SP_events.index=SP_events.timestamp\n",
    "SP_events.drop('timestamp', axis=1, inplace=True)\n",
    "SP_events.drop('index', axis=1, inplace=True)\n",
    "\n",
    "cleanings.index=cleanings.timestamp\n",
    "cleanings.drop('timestamp', axis=1, inplace=True)\n",
    "cleanings.drop('index', axis=1, inplace=True)\n",
    "\n",
    "idles.index=idles.timestamp\n",
    "idles.drop('timestamp', axis=1, inplace=True)\n",
    "idles.drop('index', axis=1, inplace=True)\n",
    "\n",
    "\n",
    "SP_events=SP_events.append(cleanings)\n",
    "SP_events=SP_events.append(idles)"
   ]
  },
  {
   "cell_type": "code",
   "execution_count": 68,
   "metadata": {},
   "outputs": [],
   "source": [
    "# sns.distplot(SP_events.working_time[SP_events['event']==1])\n",
    "# plt.title('SP Printing Times Histogram')"
   ]
  },
  {
   "cell_type": "code",
   "execution_count": 69,
   "metadata": {},
   "outputs": [],
   "source": [
    "# sns.distplot(SP_events.working_time[SP_events['event']==2])\n",
    "# plt.title('SP Cleaning Times Histogram')"
   ]
  },
  {
   "cell_type": "code",
   "execution_count": 70,
   "metadata": {},
   "outputs": [
    {
     "name": "stdout",
     "output_type": "stream",
     "text": [
      "Printing time Mode:  7.531470655934635\n"
     ]
    }
   ],
   "source": [
    "print('Printing time Mode: ', SP_events.working_time[SP_events['event']==1].mode().mean())"
   ]
  },
  {
   "cell_type": "code",
   "execution_count": 71,
   "metadata": {},
   "outputs": [
    {
     "name": "stdout",
     "output_type": "stream",
     "text": [
      "Cleaning time Mode:  12.308590813828767\n"
     ]
    }
   ],
   "source": [
    "print('Cleaning time Mode: ', SP_events.working_time[SP_events['event']==2].mode().mean())"
   ]
  },
  {
   "cell_type": "code",
   "execution_count": 72,
   "metadata": {},
   "outputs": [
    {
     "data": {
      "text/plain": [
       "timestamp\n",
       "2019-01-22 03:15:24.550434    0.029236\n",
       "2019-01-22 03:21:15.915506    0.023951\n",
       "2019-01-22 03:24:04.986968    0.000630\n",
       "2019-01-22 03:24:56.420928    0.006425\n",
       "2019-01-22 03:25:50.309151    0.000988\n",
       "2019-01-22 03:26:30.053417    0.002869\n",
       "2019-01-22 03:33:48.468700    0.064266\n",
       "2019-01-22 03:40:54.388389    0.001115\n",
       "2019-01-22 03:41:31.340452    0.002491\n",
       "2019-01-22 03:42:49.604958    0.008757\n",
       "2019-01-22 03:44:04.932283    0.001567\n",
       "2019-01-22 03:46:46.612632    0.021202\n",
       "2019-01-22 03:49:36.195888    0.004005\n",
       "2019-01-22 03:50:21.027965    0.001463\n",
       "2019-01-22 03:50:58.123721    0.001982\n",
       "2019-01-22 03:51:36.404514    0.003055\n",
       "2019-01-22 03:52:13.365261    0.001576\n",
       "2019-01-22 03:52:46.404299    0.001162\n",
       "2019-01-22 03:55:10.627585    0.020782\n",
       "2019-01-22 03:57:35.892162    0.001330\n",
       "2019-01-22 04:02:14.726063    0.040018\n",
       "2019-01-22 04:07:03.395226    0.003191\n",
       "2019-01-22 04:07:44.266206    0.001365\n",
       "2019-01-22 04:08:16.051696    0.001260\n",
       "2019-01-22 04:11:59.811775    0.033000\n",
       "2019-01-22 04:17:34.183578    0.018611\n",
       "2019-01-22 04:21:59.148132    0.021150\n",
       "2019-01-22 04:27:10.858399    0.026978\n",
       "2019-01-22 04:30:42.451776    0.005185\n",
       "2019-01-22 04:41:49.652291    0.098047\n",
       "                                ...   \n",
       "2019-01-22 11:01:58.890644    0.000795\n",
       "2019-01-22 11:02:33.432295    0.001990\n",
       "2019-01-22 11:03:15.627949    0.003652\n",
       "2019-01-22 11:03:55.566349    0.001675\n",
       "2019-01-22 11:04:32.697298    0.001873\n",
       "2019-01-22 11:04:56.716624    0.000694\n",
       "2019-01-22 11:05:57.628170    0.008518\n",
       "2019-01-22 11:09:12.572094    0.020294\n",
       "2019-01-22 11:11:42.515423    0.003025\n",
       "2019-01-22 11:12:17.181961    0.001597\n",
       "2019-01-22 11:12:50.446851    0.001238\n",
       "2019-01-22 11:13:23.614894    0.003400\n",
       "2019-01-22 11:14:04.607320    0.000441\n",
       "2019-01-22 11:14:44.376870    0.003785\n",
       "2019-01-22 11:15:33.705139    0.002920\n",
       "2019-01-22 11:16:08.388010    0.001601\n",
       "2019-01-22 11:16:40.304744    0.001154\n",
       "2019-01-22 11:16:58.768763    0.000801\n",
       "2019-01-22 11:22:38.722487    0.053313\n",
       "2019-01-22 11:28:26.317685    0.001660\n",
       "2019-01-22 11:28:54.105070    0.000237\n",
       "2019-01-22 11:29:00.727570    0.000824\n",
       "2019-01-22 11:29:45.749809    0.005447\n",
       "2019-01-22 11:30:38.966545    0.001593\n",
       "2019-01-22 11:35:04.408058    0.037857\n",
       "2019-01-22 11:39:20.239427    0.001515\n",
       "2019-01-22 11:39:40.045333    0.001549\n",
       "2019-01-22 11:40:05.354298    0.000845\n",
       "2019-01-22 12:08:59.255768    0.264274\n",
       "2019-01-22 12:40:13.854867    0.029154\n",
       "Name: energy, Length: 274, dtype: float64"
      ]
     },
     "execution_count": 72,
     "metadata": {},
     "output_type": "execute_result"
    }
   ],
   "source": [
    "SP_events[SP_events.event==1].shape[0]"
   ]
  },
  {
   "cell_type": "code",
   "execution_count": 73,
   "metadata": {},
   "outputs": [
    {
     "data": {
      "text/plain": [
       "869"
      ]
     },
     "execution_count": 73,
     "metadata": {},
     "output_type": "execute_result"
    }
   ],
   "source": [
    "cleaning_delays_raw[0][0]"
   ]
  },
  {
   "cell_type": "code",
   "execution_count": 74,
   "metadata": {},
   "outputs": [],
   "source": [
    "# plt.plot(test_sp.timestamp, test_sp.detection)\n",
    "# plt.plot(test_sp.timestamp, test_sp['sum'])"
   ]
  },
  {
   "cell_type": "code",
   "execution_count": 88,
   "metadata": {},
   "outputs": [
    {
     "data": {
      "text/plain": [
       "520.0082511685098"
      ]
     },
     "execution_count": 88,
     "metadata": {},
     "output_type": "execute_result"
    }
   ],
   "source": [
    "SP1spower=SP_events[SP_events.event==1]['energy']*3600000/SP_events[SP_events.event==1]['working_time']\n",
    "SP1spower.mean()"
   ]
  },
  {
   "cell_type": "code",
   "execution_count": 87,
   "metadata": {},
   "outputs": [
    {
     "data": {
      "text/plain": [
       "445.8164916861912"
      ]
     },
     "execution_count": 87,
     "metadata": {},
     "output_type": "execute_result"
    }
   ],
   "source": [
    "SP0spower=SP_events[SP_events.event==0]['energy']*3600000/SP_events[SP_events.event==0]['working_time']\n",
    "SP0spower.mean()"
   ]
  },
  {
   "cell_type": "code",
   "execution_count": 56,
   "metadata": {},
   "outputs": [
    {
     "data": {
      "text/plain": [
       "191"
      ]
     },
     "execution_count": 56,
     "metadata": {},
     "output_type": "execute_result"
    }
   ],
   "source": [
    "SP_events[SP_events.event==1].shape[0]"
   ]
  },
  {
   "cell_type": "code",
   "execution_count": 55,
   "metadata": {},
   "outputs": [
    {
     "data": {
      "text/plain": [
       "85"
      ]
     },
     "execution_count": 55,
     "metadata": {},
     "output_type": "execute_result"
    }
   ],
   "source": [
    "SP_events[SP_events.event==2].shape[0]"
   ]
  },
  {
   "cell_type": "code",
   "execution_count": null,
   "metadata": {},
   "outputs": [],
   "source": []
  }
 ],
 "metadata": {
  "kernelspec": {
   "display_name": "Python 3",
   "language": "python",
   "name": "python3"
  },
  "language_info": {
   "codemirror_mode": {
    "name": "ipython",
    "version": 3
   },
   "file_extension": ".py",
   "mimetype": "text/x-python",
   "name": "python",
   "nbconvert_exporter": "python",
   "pygments_lexer": "ipython3",
   "version": "3.6.7"
  }
 },
 "nbformat": 4,
 "nbformat_minor": 2
}
