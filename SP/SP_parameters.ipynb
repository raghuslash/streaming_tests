{
 "cells": [
  {
   "cell_type": "code",
   "execution_count": 1,
   "metadata": {},
   "outputs": [],
   "source": [
    "import pandas as pd\n",
    "import matplotlib.pyplot as plt\n",
    "import scipy.signal\n",
    "import numpy as np\n",
    "import seaborn as sns\n",
    "plt.rcParams[\"figure.figsize\"]=[15,5]"
   ]
  },
  {
   "cell_type": "code",
   "execution_count": 2,
   "metadata": {},
   "outputs": [],
   "source": [
    "raw_sp = pd.read_csv('sp_jan.csv', usecols =['timestamp', 'data.A1'])"
   ]
  },
  {
   "cell_type": "code",
   "execution_count": 3,
   "metadata": {},
   "outputs": [],
   "source": [
    "test_sp=raw_sp\n",
    "sptimethresh=12"
   ]
  },
  {
   "cell_type": "code",
   "execution_count": 4,
   "metadata": {},
   "outputs": [],
   "source": [
    "#Get boards from Screenprinter\n",
    "test_sp=test_sp[['data.A1','timestamp']]\n",
    "# events=scipy.signal.find_peaks(test_sp['data.A1'], height=(2.22, 5), width=1)\n",
    "events_boards=scipy.signal.find_peaks(test_sp['data.A1'], height=(2.22, 5), distance=sptimethresh, width=1)\n",
    "events_cleaning=scipy.signal.find_peaks(test_sp['data.A1'], height=9, distance=sptimethresh, width=1)\n"
   ]
  },
  {
   "cell_type": "code",
   "execution_count": 5,
   "metadata": {},
   "outputs": [
    {
     "data": {
      "text/plain": [
       "(array([29066, 29142, 29453, 29474, 29510, 29620, 29653, 29665, 29734,\n",
       "        29800, 29843, 29990, 30093, 31486, 31594, 31698, 31791, 31810,\n",
       "        31899, 32009, 32111, 32213, 32311, 32414, 32429, 32522, 32625,\n",
       "        32719, 32832, 32957, 33059, 33162, 33265, 33368, 33471, 33568,\n",
       "        33671, 33779, 33882, 33985, 34083, 34098, 34186, 34294, 35630,\n",
       "        35782, 35925, 35948, 36029, 36143, 36241, 36329, 36535, 36560,\n",
       "        38223, 38899, 38921, 38952, 39060, 39107, 39147, 39193, 39276,\n",
       "        39584, 39632, 39665, 39818, 39903, 40101, 40155, 40249, 40326,\n",
       "        40688, 40710, 41259, 41368, 41421, 41442, 41554, 41586, 41620,\n",
       "        41672, 41756, 41884, 41968, 42053, 42137, 42212, 42530, 42622,\n",
       "        42696, 42778, 42793, 42866, 42952, 43036, 43301, 43387, 43468,\n",
       "        43556, 43640, 43783, 43872, 43956, 44457, 44480, 44496, 44552,\n",
       "        44573, 44594, 44617, 44677, 44762, 44817, 44859, 45032, 45075,\n",
       "        45087, 45322, 45343, 45376, 45659, 45738, 45822, 45957, 46041,\n",
       "        46185, 46283, 46364, 46454, 46532, 46796, 46827, 46937, 46958,\n",
       "        47024, 47140, 47246, 47335, 47568, 47601, 47659, 47743, 47826,\n",
       "        47901, 47994, 48080, 48163, 48248, 48331, 49125, 49144, 49186,\n",
       "        49198, 49305, 49321, 49347, 49392, 49477, 49555, 49570, 49635,\n",
       "        49729, 49890, 49973, 50057, 50141, 50225, 50446, 50786, 50874,\n",
       "        50958, 51043, 51117, 51360, 51393, 53435, 53456, 53523, 53607,\n",
       "        53796, 53913, 54018, 54126, 54206, 54306, 54358, 54415, 54430,\n",
       "        54493, 54620, 54768, 54829]),\n",
       " {'peak_heights': array([2.46, 2.43, 2.43, 3.43, 3.01, 3.29, 3.14, 2.44, 2.62, 2.4 , 3.31,\n",
       "         3.47, 3.35, 2.93, 3.26, 2.73, 2.28, 3.24, 2.53, 2.86, 3.27, 3.32,\n",
       "         2.32, 2.54, 3.11, 3.3 , 3.29, 2.34, 3.26, 3.11, 3.27, 2.54, 3.3 ,\n",
       "         3.34, 3.35, 2.67, 2.95, 3.34, 3.3 , 3.2 , 2.92, 2.22, 2.58, 3.24,\n",
       "         2.29, 2.75, 2.7 , 3.01, 3.21, 2.29, 3.04, 3.13, 2.42, 2.35, 2.22,\n",
       "         3.27, 2.26, 2.38, 3.16, 3.27, 2.29, 2.26, 3.06, 2.26, 2.37, 3.31,\n",
       "         3.18, 3.3 , 3.27, 3.23, 3.34, 3.1 , 2.67, 3.19, 2.84, 3.37, 3.26,\n",
       "         3.46, 2.34, 2.6 , 3.4 , 2.64, 3.12, 3.32, 3.13, 3.21, 3.05, 2.33,\n",
       "         3.35, 3.26, 2.4 , 2.44, 2.37, 2.34, 3.28, 3.4 , 2.43, 3.27, 2.37,\n",
       "         3.18, 2.69, 2.46, 3.33, 3.24, 2.26, 3.39, 2.61, 3.23, 3.36, 3.3 ,\n",
       "         2.37, 3.05, 3.31, 2.44, 3.32, 2.29, 3.28, 2.44, 3.29, 3.36, 3.34,\n",
       "         3.3 , 2.28, 2.69, 2.83, 3.03, 2.53, 3.36, 2.78, 3.29, 2.93, 3.58,\n",
       "         2.23, 3.28, 3.07, 3.47, 2.93, 2.39, 3.35, 3.26, 3.35, 2.92, 3.25,\n",
       "         3.23, 2.22, 3.11, 3.02, 3.21, 3.41, 3.46, 2.22, 2.28, 3.42, 2.37,\n",
       "         3.16, 2.74, 3.39, 2.55, 3.29, 2.59, 2.28, 2.25, 3.12, 3.25, 3.37,\n",
       "         3.3 , 3.43, 3.28, 3.33, 3.36, 3.45, 3.32, 3.29, 2.57, 3.28, 3.28,\n",
       "         3.19, 2.36, 3.2 , 2.93, 3.23, 2.65, 2.92, 2.88, 3.21, 2.65, 3.32,\n",
       "         2.32, 2.35, 2.28, 2.36, 2.65, 3.06]),\n",
       "  'prominences': array([0.78, 0.72, 0.62, 1.77, 1.25, 1.47, 1.36, 0.63, 0.79, 0.5 , 1.48,\n",
       "         1.7 , 1.58, 1.07, 1.48, 0.95, 0.49, 1.46, 0.73, 1.08, 1.5 , 1.57,\n",
       "         0.52, 0.73, 1.34, 1.55, 1.51, 0.52, 1.51, 1.32, 1.51, 0.71, 1.55,\n",
       "         1.59, 1.58, 0.86, 1.18, 1.61, 1.54, 1.34, 1.15, 0.42, 0.83, 1.5 ,\n",
       "         0.63, 1.06, 0.97, 1.34, 1.56, 0.61, 1.37, 1.46, 0.76, 0.64, 0.55,\n",
       "         1.58, 0.5 , 0.6 , 1.45, 1.59, 0.58, 0.52, 1.4 , 0.55, 0.62, 1.56,\n",
       "         1.45, 1.6 , 1.45, 1.47, 1.64, 1.24, 0.88, 1.48, 1.13, 1.51, 1.43,\n",
       "         1.72, 0.55, 0.71, 1.54, 0.83, 1.38, 1.48, 1.4 , 1.47, 1.31, 0.54,\n",
       "         1.62, 1.54, 0.66, 0.62, 0.52, 0.61, 1.57, 1.67, 0.71, 1.55, 0.66,\n",
       "         1.32, 0.95, 0.7 , 1.55, 1.43, 0.44, 1.64, 0.83, 1.44, 1.6 , 1.5 ,\n",
       "         0.48, 1.29, 1.56, 0.58, 1.43, 0.57, 1.56, 0.58, 1.41, 1.46, 1.6 ,\n",
       "         1.56, 0.54, 0.9 , 1.08, 1.29, 0.78, 1.54, 1.02, 1.56, 1.21, 1.81,\n",
       "         0.39, 1.49, 1.22, 1.52, 1.18, 0.64, 1.61, 1.43, 1.58, 1.19, 1.53,\n",
       "         1.33, 0.48, 1.38, 1.29, 1.38, 1.65, 1.73, 0.46, 0.54, 1.62, 0.53,\n",
       "         1.4 , 0.95, 1.61, 0.66, 1.54, 0.82, 0.51, 0.48, 1.09, 1.49, 1.65,\n",
       "         1.55, 1.61, 1.52, 1.58, 1.63, 1.61, 1.58, 1.56, 0.84, 1.48, 1.37,\n",
       "         1.43, 0.57, 1.46, 1.18, 1.48, 0.8 , 1.16, 1.13, 1.47, 0.86, 1.58,\n",
       "         0.5 , 0.62, 0.56, 0.64, 0.93, 1.35]),\n",
       "  'left_bases': array([22919, 29123, 29332, 22919, 29485, 29540, 29645, 29660, 29710,\n",
       "         29772, 29829, 29886, 30050, 30148, 31540, 31667, 31756, 31667,\n",
       "         31883, 31974, 31974, 32138, 32284, 32345, 32345, 32345, 32568,\n",
       "         32636, 32771, 32900, 32900, 33073, 33229, 33317, 33417, 33547,\n",
       "         33648, 33720, 33821, 33957, 34051, 34087, 34139, 34247, 34792,\n",
       "         34792, 35816, 34792, 34792, 36127, 36156, 36311, 36457, 36544,\n",
       "         37553, 38695, 38915, 38940, 39034, 39034, 39114, 39183, 39256,\n",
       "         39323, 39622, 39663, 39734, 39734, 39955, 40146, 40196, 40307,\n",
       "         40421, 40421, 40819, 40819, 41408, 41430, 41499, 41499, 41612,\n",
       "         41649, 41702, 41702, 41940, 42012, 42120, 42149, 42248, 42575,\n",
       "         42654, 42749, 42791, 42851, 42851, 42851, 43290, 43376, 43398,\n",
       "         43398, 43584, 43758, 43584, 43939, 44060, 44060, 44489, 44540,\n",
       "         44540, 44587, 44615, 44658, 44729, 44787, 44849, 45015, 45060,\n",
       "         45086, 45060, 45060, 45366, 45437, 45680, 45792, 45952, 45981,\n",
       "         46130, 46223, 46334, 46409, 46492, 46710, 46822, 46841, 46949,\n",
       "         46841, 47096, 47208, 47208, 47545, 47600, 47628, 47628, 47754,\n",
       "         47872, 47927, 48065, 48135, 48198, 48198, 49106, 49106, 49106,\n",
       "         49195, 49283, 49313, 49283, 49379, 49419, 49526, 49569, 49617,\n",
       "         49526, 49854, 49854, 49992, 50111, 50209, 50428, 50473, 50473,\n",
       "         50903, 50987, 51088, 51164, 51384, 51609, 53448, 53508, 53559,\n",
       "         53767, 53855, 53939, 54065, 54065, 54281, 54343, 54385, 54385,\n",
       "         54473, 54586, 54640, 54810]),\n",
       "  'right_bases': array([29332, 29332, 29458, 29536, 29536, 29627, 29710, 29710, 29759,\n",
       "         29801, 29886, 30034, 30148, 31498, 31667, 31709, 31795, 31873,\n",
       "         31902, 32018, 32138, 32284, 32327, 32418, 32459, 32636, 32636,\n",
       "         32720, 32872, 32988, 33073, 33169, 33317, 33417, 33482, 33580,\n",
       "         33720, 33821, 33957, 33986, 34247, 34100, 34247, 34792, 35767,\n",
       "         35795, 35930, 36018, 37305, 36156, 36311, 37305, 37305, 37305,\n",
       "         38275, 38940, 38940, 38959, 39089, 39114, 39172, 39201, 39323,\n",
       "         39590, 39640, 39734, 39881, 39955, 40102, 40196, 40307, 40333,\n",
       "         40696, 40819, 41337, 41375, 41430, 41499, 41556, 41594, 41702,\n",
       "         41702, 41767, 41891, 42012, 42074, 42149, 42214, 42749, 42749,\n",
       "         42749, 42791, 42794, 42900, 42995, 43061, 43375, 43398, 43492,\n",
       "         43563, 43655, 43818, 43939, 43965, 44468, 44537, 44537, 44563,\n",
       "         44587, 44601, 44658, 44729, 44787, 44819, 45060, 45060, 45095,\n",
       "         45095, 45329, 45350, 45437, 45680, 45792, 45825, 45981, 46223,\n",
       "         46223, 46292, 46409, 46710, 46710, 46805, 46841, 46969, 46969,\n",
       "         47032, 47208, 47274, 47449, 47577, 47754, 47723, 47754, 47835,\n",
       "         47927, 48135, 48135, 48170, 48262, 48512, 49126, 49154, 49195,\n",
       "         49199, 49313, 49335, 49400, 49400, 49526, 49569, 49571, 49668,\n",
       "         49736, 49906, 50111, 50111, 50148, 50419, 50473, 50813, 50881,\n",
       "         50987, 51088, 51164, 51369, 51609, 53448, 53464, 53666, 53666,\n",
       "         53855, 53921, 54065, 54143, 54278, 54309, 64727, 54426, 54473,\n",
       "         54586, 54640, 54786, 64727]),\n",
       "  'widths': array([1.22955665, 2.20306716, 1.71095335, 1.78770973, 1.26469085,\n",
       "         1.67245514, 1.06747107, 1.21558442, 1.33898305, 1.23529412,\n",
       "         1.56429638, 1.97108844, 1.13274746, 1.20361476, 1.20281653,\n",
       "         1.19047619, 1.18502331, 1.24908985, 1.46058423, 1.23626374,\n",
       "         1.2302521 , 1.11066393, 1.87727273, 1.04285714, 1.21708534,\n",
       "         1.2285401 , 1.2099359 , 1.16666667, 1.77712863, 1.45599446,\n",
       "         1.70058057, 1.30166667, 1.22247309, 1.39191919, 1.17943168,\n",
       "         1.28725512, 1.41458541, 2.15787851, 1.16673363, 1.66666667,\n",
       "         1.29375   , 1.51741935, 1.47190835, 1.69071109, 1.614375  ,\n",
       "         1.09324827, 1.04313136, 1.23990198, 1.11428571, 1.34211799,\n",
       "         1.17534317, 1.09052397, 1.16037296, 1.05850191, 3.50795594,\n",
       "         1.80633803, 1.16185897, 1.33823529, 1.07257888, 1.63836996,\n",
       "         1.3208502 , 1.29361179, 1.19323952, 2.0846395 , 1.20399698,\n",
       "         1.16834339, 1.28084069, 1.41353383, 1.50862069, 1.64547071,\n",
       "         1.76720304, 1.17805531, 1.08469449, 1.12588222, 1.20430839,\n",
       "         1.66714729, 1.08872742, 1.27653328, 1.19621749, 1.0713964 ,\n",
       "         1.44710127, 1.29311594, 1.09229133, 1.17408755, 1.1156084 ,\n",
       "         1.91698966, 1.37924672, 1.05882353, 1.47261236, 1.80856548,\n",
       "         1.56354515, 1.48376068, 1.06521739, 1.25324948, 1.65025253,\n",
       "         1.35491394, 1.33728636, 1.22808659, 1.63586291, 1.37611336,\n",
       "         1.3134058 , 1.67511261, 1.68886555, 1.28315629, 1.84615385,\n",
       "         1.85515873, 1.09210526, 1.81130409, 1.6647619 , 1.43458805,\n",
       "         1.0952381 , 1.33216225, 1.15561896, 1.38860887, 1.62917032,\n",
       "         2.52272727, 1.42069632, 1.11702128, 1.28007519, 1.13637456,\n",
       "         1.31121433, 1.20930233, 3.05555556, 1.34448161, 1.33516484,\n",
       "         1.28529151, 1.51666667, 1.23215523, 1.31830986, 1.30807453,\n",
       "         1.3905306 , 1.7220614 , 1.48815789, 1.50432692, 1.81356873,\n",
       "         1.77567476, 1.30709914, 2.08717949, 1.07338104, 1.14407322,\n",
       "         1.05633803, 1.28682488, 1.29392663, 1.18759467, 1.3010989 ,\n",
       "         1.35307123, 1.83470427, 1.46936115, 1.97979798, 1.54655573,\n",
       "         1.15714286, 1.27076412, 1.0998343 , 1.14634146, 1.38122605,\n",
       "         1.4504662 , 1.15746753, 1.41842105, 1.73023256, 1.51491525,\n",
       "         1.        , 1.83157895, 1.2861793 , 1.26717117, 1.35692619,\n",
       "         1.66619605, 1.65123457, 1.31840141, 1.52770035, 1.72214286,\n",
       "         1.29674023, 1.24788557, 1.81213097, 1.2994804 , 1.05499746,\n",
       "         1.12664474, 1.15836941, 1.147343  , 1.71103671, 1.89666667,\n",
       "         1.37615153, 1.1579818 , 1.97625969, 1.27110718, 1.28613816,\n",
       "         1.53668564, 1.75357143, 1.23929009, 1.395     , 4.14141414,\n",
       "         1.40350877, 1.05736434, 1.2943892 ]),\n",
       "  'width_heights': array([2.07 , 2.07 , 2.12 , 2.545, 2.385, 2.555, 2.46 , 2.125, 2.225,\n",
       "         2.15 , 2.57 , 2.62 , 2.56 , 2.395, 2.52 , 2.255, 2.035, 2.51 ,\n",
       "         2.165, 2.32 , 2.52 , 2.535, 2.06 , 2.175, 2.44 , 2.525, 2.535,\n",
       "         2.08 , 2.505, 2.45 , 2.515, 2.185, 2.525, 2.545, 2.56 , 2.24 ,\n",
       "         2.36 , 2.535, 2.53 , 2.53 , 2.345, 2.01 , 2.165, 2.49 , 1.975,\n",
       "         2.22 , 2.215, 2.34 , 2.43 , 1.985, 2.355, 2.4  , 2.04 , 2.03 ,\n",
       "         1.945, 2.48 , 2.01 , 2.08 , 2.435, 2.475, 2.   , 2.   , 2.36 ,\n",
       "         1.985, 2.06 , 2.53 , 2.455, 2.5  , 2.545, 2.495, 2.52 , 2.48 ,\n",
       "         2.23 , 2.45 , 2.275, 2.615, 2.545, 2.6  , 2.065, 2.245, 2.63 ,\n",
       "         2.225, 2.43 , 2.58 , 2.43 , 2.475, 2.395, 2.06 , 2.54 , 2.49 ,\n",
       "         2.07 , 2.13 , 2.11 , 2.035, 2.495, 2.565, 2.075, 2.495, 2.04 ,\n",
       "         2.52 , 2.215, 2.11 , 2.555, 2.525, 2.04 , 2.57 , 2.195, 2.51 ,\n",
       "         2.56 , 2.55 , 2.13 , 2.405, 2.53 , 2.15 , 2.605, 2.005, 2.5  ,\n",
       "         2.15 , 2.585, 2.63 , 2.54 , 2.52 , 2.01 , 2.24 , 2.29 , 2.385,\n",
       "         2.14 , 2.59 , 2.27 , 2.51 , 2.325, 2.675, 2.035, 2.535, 2.46 ,\n",
       "         2.71 , 2.34 , 2.07 , 2.545, 2.545, 2.56 , 2.325, 2.485, 2.565,\n",
       "         1.98 , 2.42 , 2.375, 2.52 , 2.585, 2.595, 1.99 , 2.01 , 2.61 ,\n",
       "         2.105, 2.46 , 2.265, 2.585, 2.22 , 2.52 , 2.18 , 2.025, 2.01 ,\n",
       "         2.575, 2.505, 2.545, 2.525, 2.625, 2.52 , 2.54 , 2.545, 2.645,\n",
       "         2.53 , 2.51 , 2.15 , 2.54 , 2.595, 2.475, 2.075, 2.47 , 2.34 ,\n",
       "         2.49 , 2.25 , 2.34 , 2.315, 2.475, 2.22 , 2.53 , 2.07 , 2.04 ,\n",
       "         2.   , 2.04 , 2.185, 2.385]),\n",
       "  'left_ips': array([29065.44285714, 29140.38709677, 29452.46551724, 29472.80625   ,\n",
       "         29509.34210526, 29618.85632184, 29652.48091603, 29664.35714286,\n",
       "         29733.33050847, 29799.26470588, 29841.96052632, 29988.60714286,\n",
       "         30092.43971631, 31485.37790698, 31593.36206897, 31697.43452381,\n",
       "         31790.37179487, 31809.33027523, 31898.25510204, 32008.35714286,\n",
       "         32110.3697479 , 32212.46232877, 32309.77272727, 32413.47857143,\n",
       "         32428.33663366, 32521.35416667, 32624.37083333, 32718.33333333,\n",
       "         32830.79054054, 32956.10810811, 33057.86708861, 33161.29      ,\n",
       "         33264.34322034, 33367.1969697 , 33470.37301587, 33567.27118644,\n",
       "         33670.23376623, 33777.41304348, 33881.42105263, 33983.83333333,\n",
       "         34082.28125   , 34097.16      , 34185.29661017, 34292.86075949,\n",
       "         35629.37      , 35781.44210526, 35924.48404255, 35947.30927835,\n",
       "         36028.44285714, 36142.30681818, 36240.35981308, 36328.47101449,\n",
       "         36534.41538462, 36559.48387097, 38220.13157895, 38897.75      ,\n",
       "         38920.35897436, 38951.25      , 39059.48943662, 39105.92948718,\n",
       "         39146.23684211, 39192.40909091, 39275.38053097, 39583.05172414,\n",
       "         39631.40384615, 39664.38095238, 39817.26020408, 39902.15789474,\n",
       "         40099.99137931, 40153.89102564, 40247.78313253, 40325.34736842,\n",
       "         40687.49425287, 40709.44776119, 41258.37222222, 41366.86082474,\n",
       "         41420.47426471, 41441.2892562 , 41553.38888889, 41585.52027027,\n",
       "         41619.11494253, 41671.39855072, 41755.47328244, 41883.37815126,\n",
       "         41967.47761194, 42051.65277778, 42136.21084337, 42211.47058824,\n",
       "         42529.08988764, 42620.77922078, 42695.15384615, 42777.20512821,\n",
       "         42792.43478261, 42865.32222222, 42950.94444444, 43035.29237288,\n",
       "         43300.24468085, 43386.33760684, 43467.13157895, 43555.13157895,\n",
       "         43639.3115942 , 43782.05405405, 43870.86470588, 43955.3440367 ,\n",
       "         44456.        , 44478.71428571, 44495.45394737, 44550.74683544,\n",
       "         44571.90666667, 44593.13793103, 44616.33333333, 44676.36138614,\n",
       "         44761.41791045, 44816.546875  , 44857.90441176, 45030.125     ,\n",
       "         45074.17021277, 45086.5       , 45321.25      , 45342.38135593,\n",
       "         45375.27272727, 45658.39534884, 45737.        , 45821.30769231,\n",
       "         45956.30769231, 46040.30645161, 46184.13333333, 46282.30630631,\n",
       "         46363.28169014, 46453.25714286, 46531.25308642, 46794.87333333,\n",
       "         46826.025     , 46936.06875   , 46956.72151899, 47022.77906977,\n",
       "         47139.31395349, 47244.73333333, 47334.46688742, 47567.4233871 ,\n",
       "         47600.5       , 47658.36702128, 47742.32300885, 47825.4009009 ,\n",
       "         47900.31428571, 47993.33009709, 48078.74637681, 48162.11538462,\n",
       "         48246.63131313, 48330.08947368, 49124.34285714, 49143.37209302,\n",
       "         49185.47058824, 49197.35365854, 49304.22222222, 49320.28030303,\n",
       "         49346.39015152, 49391.45      , 49475.86666667, 49554.18      ,\n",
       "         49569.5       , 49633.8       , 49728.25342466, 49889.32882883,\n",
       "         49972.2826087 , 50055.91216216, 50139.93209877, 50224.23232323,\n",
       "         50445.03658537, 50784.86      , 50873.25462963, 50957.34166667,\n",
       "         51041.75308642, 51116.27586207, 51359.49315068, 51392.38839286,\n",
       "         53434.43253968, 53455.47222222, 53521.88732394, 53605.69333333,\n",
       "         53795.26732673, 53912.48717949, 54016.62790698, 54125.34302326,\n",
       "         54205.30660377, 54305.15686275, 54356.9047619 , 54414.34210526,\n",
       "         54429.225     , 54489.63636364, 54619.43859649, 54767.45930233,\n",
       "         54828.23295455]),\n",
       "  'right_ips': array([29066.67241379, 29142.59016393, 29454.17647059, 29474.59395973,\n",
       "         29510.60679612, 29620.52877698, 29653.5483871 , 29665.57272727,\n",
       "         29734.66949153, 29800.5       , 29843.5248227 , 29990.57823129,\n",
       "         30093.57246377, 31486.58152174, 31594.5648855 , 31698.625     ,\n",
       "         31791.55681818, 31810.57936508, 31899.71568627, 32009.59340659,\n",
       "         32111.6       , 32213.5729927 , 32311.65      , 32414.52142857,\n",
       "         32429.55371901, 32522.58270677, 32625.58076923, 32719.5       ,\n",
       "         32832.56766917, 32957.56410256, 33059.56766917, 33162.59166667,\n",
       "         33265.56569343, 33368.58888889, 33471.55244755, 33568.55844156,\n",
       "         33671.64835165, 33779.57092199, 33882.58778626, 33985.5       ,\n",
       "         34083.575     , 34098.67741935, 34186.76851852, 34294.55147059,\n",
       "         35630.984375  , 35782.53535354, 35925.52717391, 35948.54918033,\n",
       "         36029.55714286, 36143.64893617, 36241.53515625, 36329.56153846,\n",
       "         36535.57575758, 36560.54237288, 38223.63953488, 38899.55633803,\n",
       "         38921.52083333, 38952.58823529, 39060.5620155 , 39107.56785714,\n",
       "         39147.55769231, 39193.7027027 , 39276.57377049, 39585.13636364,\n",
       "         39632.60784314, 39665.54929577, 39818.54104478, 39903.57142857,\n",
       "         40101.5       , 40155.53649635, 40249.55033557, 40326.52542373,\n",
       "         40688.57894737, 40710.57364341, 41259.57653061, 41368.52797203,\n",
       "         41421.56299213, 41442.56578947, 41554.58510638, 41586.59166667,\n",
       "         41620.5620438 , 41672.69166667, 41756.56557377, 41884.55223881,\n",
       "         41968.59322034, 42053.56976744, 42137.59009009, 42212.52941176,\n",
       "         42530.5625    , 42622.58778626, 42696.7173913 , 42778.68888889,\n",
       "         42793.5       , 42866.5754717 , 42952.59469697, 43036.64728682,\n",
       "         43301.58196721, 43387.56569343, 43468.76744186, 43556.50769231,\n",
       "         43640.625     , 43783.72916667, 43872.55357143, 43956.62719298,\n",
       "         44457.84615385, 44480.56944444, 44496.54605263, 44552.55813953,\n",
       "         44573.57142857, 44594.57251908, 44617.42857143, 44677.69354839,\n",
       "         44762.57352941, 44817.93548387, 44859.53358209, 45032.64772727,\n",
       "         45075.59090909, 45087.61702128, 45322.53007519, 45343.5177305 ,\n",
       "         45376.58394161, 45659.60465116, 45740.05555556, 45822.65217391,\n",
       "         45957.64285714, 46041.59174312, 46185.65      , 46283.53846154,\n",
       "         46364.6       , 46454.56521739, 46532.64361702, 46796.59539474,\n",
       "         46827.51315789, 46937.57307692, 46958.53508772, 47024.55474453,\n",
       "         47140.62105263, 47246.82051282, 47335.54026846, 47568.56746032,\n",
       "         47601.55633803, 47659.65384615, 47743.61693548, 47826.58849558,\n",
       "         47901.61538462, 47994.68316832, 48080.58108108, 48163.58474576,\n",
       "         48248.61111111, 48331.63602941, 49125.5       , 49144.64285714,\n",
       "         49186.57042254, 49198.5       , 49305.60344828, 49321.73076923,\n",
       "         49347.54761905, 49392.86842105, 49477.59689922, 49555.69491525,\n",
       "         49570.5       , 49635.63157895, 49729.53960396, 49890.596     ,\n",
       "         49973.63953488, 50057.57835821, 50141.58333333, 50225.55072464,\n",
       "         50446.56428571, 50786.58214286, 50874.55136986, 50958.58955224,\n",
       "         51043.56521739, 51117.57534247, 51360.54814815, 51393.51503759,\n",
       "         53435.59090909, 53456.61956522, 53523.59836066, 53607.59      ,\n",
       "         53796.64347826, 53913.64516129, 54018.60416667, 54126.61413043,\n",
       "         54206.59274194, 54306.69354839, 54358.65833333, 54415.58139535,\n",
       "         54430.62      , 54493.77777778, 54620.84210526, 54768.51666667,\n",
       "         54829.52734375])})"
      ]
     },
     "execution_count": 5,
     "metadata": {},
     "output_type": "execute_result"
    }
   ],
   "source": [
    "events_boards"
   ]
  },
  {
   "cell_type": "code",
   "execution_count": 20,
   "metadata": {},
   "outputs": [],
   "source": [
    "# events_boards"
   ]
  },
  {
   "cell_type": "code",
   "execution_count": 6,
   "metadata": {},
   "outputs": [
    {
     "name": "stderr",
     "output_type": "stream",
     "text": [
      "/home/raghu/anaconda3/lib/python3.6/site-packages/ipykernel_launcher.py:7: SettingWithCopyWarning: \n",
      "A value is trying to be set on a copy of a slice from a DataFrame.\n",
      "Try using .loc[row_indexer,col_indexer] = value instead\n",
      "\n",
      "See the caveats in the documentation: http://pandas.pydata.org/pandas-docs/stable/indexing.html#indexing-view-versus-copy\n",
      "  import sys\n",
      "/home/raghu/anaconda3/lib/python3.6/site-packages/ipykernel_launcher.py:8: SettingWithCopyWarning: \n",
      "A value is trying to be set on a copy of a slice from a DataFrame.\n",
      "Try using .loc[row_indexer,col_indexer] = value instead\n",
      "\n",
      "See the caveats in the documentation: http://pandas.pydata.org/pandas-docs/stable/indexing.html#indexing-view-versus-copy\n",
      "  \n"
     ]
    },
    {
     "data": {
      "text/html": [
       "<div>\n",
       "<style scoped>\n",
       "    .dataframe tbody tr th:only-of-type {\n",
       "        vertical-align: middle;\n",
       "    }\n",
       "\n",
       "    .dataframe tbody tr th {\n",
       "        vertical-align: top;\n",
       "    }\n",
       "\n",
       "    .dataframe thead th {\n",
       "        text-align: right;\n",
       "    }\n",
       "</style>\n",
       "<table border=\"1\" class=\"dataframe\">\n",
       "  <thead>\n",
       "    <tr style=\"text-align: right;\">\n",
       "      <th></th>\n",
       "      <th>data.A1</th>\n",
       "      <th>timestamp</th>\n",
       "      <th>state</th>\n",
       "    </tr>\n",
       "  </thead>\n",
       "  <tbody>\n",
       "    <tr>\n",
       "      <th>29631</th>\n",
       "      <td>15.31</td>\n",
       "      <td>2019-01-02 05:24:08.647470</td>\n",
       "      <td>2</td>\n",
       "    </tr>\n",
       "    <tr>\n",
       "      <th>29815</th>\n",
       "      <td>14.15</td>\n",
       "      <td>2019-01-02 05:28:11.501388</td>\n",
       "      <td>2</td>\n",
       "    </tr>\n",
       "    <tr>\n",
       "      <th>31503</th>\n",
       "      <td>13.25</td>\n",
       "      <td>2019-01-02 06:05:21.998008</td>\n",
       "      <td>2</td>\n",
       "    </tr>\n",
       "    <tr>\n",
       "      <th>31916</th>\n",
       "      <td>14.46</td>\n",
       "      <td>2019-01-02 06:14:28.045247</td>\n",
       "      <td>2</td>\n",
       "    </tr>\n",
       "    <tr>\n",
       "      <th>32328</th>\n",
       "      <td>13.44</td>\n",
       "      <td>2019-01-02 06:23:33.464741</td>\n",
       "      <td>2</td>\n",
       "    </tr>\n",
       "  </tbody>\n",
       "</table>\n",
       "</div>"
      ],
      "text/plain": [
       "       data.A1                  timestamp  state\n",
       "29631    15.31 2019-01-02 05:24:08.647470      2\n",
       "29815    14.15 2019-01-02 05:28:11.501388      2\n",
       "31503    13.25 2019-01-02 06:05:21.998008      2\n",
       "31916    14.46 2019-01-02 06:14:28.045247      2\n",
       "32328    13.44 2019-01-02 06:23:33.464741      2"
      ]
     },
     "execution_count": 6,
     "metadata": {},
     "output_type": "execute_result"
    }
   ],
   "source": [
    "import datetime as dt\n",
    "import time\n",
    "import matplotlib.dates as mdates\n",
    "\n",
    "pattern=\"%Y-%m-%dT%H:%M:%S.%f\"\n",
    "detect_sp=test_sp[test_sp['state'] == 2]\n",
    "test_sp['timestamp'] =  pd.to_datetime(test_sp['timestamp'], format=pattern)\n",
    "detect_sp['timestamp'] =  pd.to_datetime(detect_sp['timestamp'], format=pattern)\n",
    "detect_sp.head()"
   ]
  },
  {
   "cell_type": "code",
   "execution_count": 7,
   "metadata": {},
   "outputs": [],
   "source": [
    "# detect_sp=detect_sp[[\"timestamp\"]].applymap(lambda x: x.seconds)"
   ]
  },
  {
   "cell_type": "code",
   "execution_count": 8,
   "metadata": {},
   "outputs": [],
   "source": [
    "%matplotlib qt"
   ]
  },
  {
   "cell_type": "code",
   "execution_count": 9,
   "metadata": {},
   "outputs": [
    {
     "data": {
      "text/plain": [
       "Text(0.5, 1.0, 'Board Detections')"
      ]
     },
     "execution_count": 9,
     "metadata": {},
     "output_type": "execute_result"
    }
   ],
   "source": [
    "fig, ax1 = plt.subplots()\n",
    "\n",
    "ax1.stem(detect_sp['timestamp'], detect_sp['state'], 'red')\n",
    "\n",
    "# ax1.xaxis.set_major_locator(mdates.DateFormatter('%H:%M'))\n",
    "\n",
    "ax1.set_xlabel('Time')\n",
    "\n",
    "ax2 = ax1.twinx()\n",
    "\n",
    "ax2.plot(test_sp['timestamp'], test_sp['data.A1'], 'orange')\n",
    "\n",
    "plt.title('Board Detections')"
   ]
  },
  {
   "cell_type": "code",
   "execution_count": 10,
   "metadata": {},
   "outputs": [
    {
     "name": "stderr",
     "output_type": "stream",
     "text": [
      "/home/raghu/anaconda3/lib/python3.6/site-packages/ipykernel_launcher.py:1: SettingWithCopyWarning: \n",
      "A value is trying to be set on a copy of a slice from a DataFrame.\n",
      "Try using .loc[row_indexer,col_indexer] = value instead\n",
      "\n",
      "See the caveats in the documentation: http://pandas.pydata.org/pandas-docs/stable/indexing.html#indexing-view-versus-copy\n",
      "  \"\"\"Entry point for launching an IPython kernel.\n"
     ]
    }
   ],
   "source": [
    "test_sp['sum']=pd.Series.to_frame(test_sp['data.A1'].rolling(12, center=True).sum())"
   ]
  },
  {
   "cell_type": "code",
   "execution_count": 11,
   "metadata": {},
   "outputs": [
    {
     "data": {
      "text/plain": [
       "[<matplotlib.lines.Line2D at 0x7fc788067f28>]"
      ]
     },
     "execution_count": 11,
     "metadata": {},
     "output_type": "execute_result"
    }
   ],
   "source": [
    "plt.plot(test_sp['timestamp'], test_sp['sum'])\n",
    "plt.plot(test_sp['timestamp'], test_sp['data.A1']*10)"
   ]
  },
  {
   "cell_type": "code",
   "execution_count": 12,
   "metadata": {},
   "outputs": [],
   "source": [
    "printing_delays_raw=scipy.signal.find_peaks(test_sp['sum'], height=(24, 30), distance=sptimethresh, width=1)[1]['widths']"
   ]
  },
  {
   "cell_type": "code",
   "execution_count": 13,
   "metadata": {},
   "outputs": [],
   "source": [
    "import statistics"
   ]
  },
  {
   "cell_type": "code",
   "execution_count": 14,
   "metadata": {},
   "outputs": [],
   "source": [
    "# printing_delays[1]['widths']\n",
    "q1 = np.percentile(printing_delays_raw, 10)\n",
    "q3 = np.percentile(printing_delays_raw, 95)\n",
    "printing_delays = [i for i in printing_delays_raw if i > q1 and i < q3]\n",
    "# printing_delays = filter(lambda x: x)"
   ]
  },
  {
   "cell_type": "code",
   "execution_count": 15,
   "metadata": {},
   "outputs": [
    {
     "data": {
      "text/plain": [
       "12.992193390786397"
      ]
     },
     "execution_count": 15,
     "metadata": {},
     "output_type": "execute_result"
    }
   ],
   "source": [
    "statistics.mean(printing_delays)\n",
    "# printing_delays"
   ]
  },
  {
   "cell_type": "code",
   "execution_count": 16,
   "metadata": {},
   "outputs": [
    {
     "name": "stderr",
     "output_type": "stream",
     "text": [
      "/home/raghu/anaconda3/lib/python3.6/site-packages/scipy/stats/stats.py:1713: FutureWarning: Using a non-tuple sequence for multidimensional indexing is deprecated; use `arr[tuple(seq)]` instead of `arr[seq]`. In the future this will be interpreted as an array index, `arr[np.array(seq)]`, which will result either in an error or a different result.\n",
      "  return np.add.reduce(sorted[indexer] * weights, axis=axis) / sumval\n"
     ]
    },
    {
     "data": {
      "text/plain": [
       "<matplotlib.axes._subplots.AxesSubplot at 0x7fc7869fa438>"
      ]
     },
     "execution_count": 16,
     "metadata": {},
     "output_type": "execute_result"
    }
   ],
   "source": [
    "sns.distplot(printing_delays,bins=10)"
   ]
  },
  {
   "cell_type": "code",
   "execution_count": 17,
   "metadata": {},
   "outputs": [],
   "source": [
    "cleaning_delays=scipy.signal.find_peaks(test_sp['sum'], height=60, distance=sptimethresh, width=1)[1]['widths']\n",
    "# cleaning_delays"
   ]
  },
  {
   "cell_type": "code",
   "execution_count": 18,
   "metadata": {},
   "outputs": [
    {
     "data": {
      "text/plain": [
       "<matplotlib.axes._subplots.AxesSubplot at 0x7fc7869fa438>"
      ]
     },
     "execution_count": 18,
     "metadata": {},
     "output_type": "execute_result"
    }
   ],
   "source": [
    "sns.distplot(cleaning_delays,bins=50)"
   ]
  },
  {
   "cell_type": "code",
   "execution_count": 19,
   "metadata": {},
   "outputs": [
    {
     "data": {
      "text/plain": [
       "12.350014895841353"
      ]
     },
     "execution_count": 19,
     "metadata": {},
     "output_type": "execute_result"
    },
    {
     "name": "stderr",
     "output_type": "stream",
     "text": [
      "Exception in Tkinter callback\n",
      "Traceback (most recent call last):\n",
      "  File \"/home/raghu/anaconda3/lib/python3.6/tkinter/__init__.py\", line 1705, in __call__\n",
      "    return self.func(*args)\n",
      "  File \"/home/raghu/anaconda3/lib/python3.6/tkinter/__init__.py\", line 749, in callit\n",
      "    func(*args)\n",
      "  File \"/home/raghu/anaconda3/lib/python3.6/site-packages/matplotlib/backends/_backend_tk.py\", line 346, in idle_draw\n",
      "    self.draw()\n",
      "  File \"/home/raghu/anaconda3/lib/python3.6/site-packages/matplotlib/backends/backend_tkagg.py\", line 9, in draw\n",
      "    super(FigureCanvasTkAgg, self).draw()\n",
      "  File \"/home/raghu/anaconda3/lib/python3.6/site-packages/matplotlib/backends/backend_agg.py\", line 402, in draw\n",
      "    self.figure.draw(self.renderer)\n",
      "  File \"/home/raghu/anaconda3/lib/python3.6/site-packages/matplotlib/artist.py\", line 50, in draw_wrapper\n",
      "    return draw(artist, renderer, *args, **kwargs)\n",
      "  File \"/home/raghu/anaconda3/lib/python3.6/site-packages/matplotlib/figure.py\", line 1649, in draw\n",
      "    renderer, self, artists, self.suppressComposite)\n",
      "  File \"/home/raghu/anaconda3/lib/python3.6/site-packages/matplotlib/image.py\", line 138, in _draw_list_compositing_images\n",
      "    a.draw(renderer)\n",
      "  File \"/home/raghu/anaconda3/lib/python3.6/site-packages/matplotlib/artist.py\", line 50, in draw_wrapper\n",
      "    return draw(artist, renderer, *args, **kwargs)\n",
      "  File \"/home/raghu/anaconda3/lib/python3.6/site-packages/matplotlib/axes/_base.py\", line 2628, in draw\n",
      "    mimage._draw_list_compositing_images(renderer, self, artists)\n",
      "  File \"/home/raghu/anaconda3/lib/python3.6/site-packages/matplotlib/image.py\", line 138, in _draw_list_compositing_images\n",
      "    a.draw(renderer)\n",
      "  File \"/home/raghu/anaconda3/lib/python3.6/site-packages/matplotlib/artist.py\", line 50, in draw_wrapper\n",
      "    return draw(artist, renderer, *args, **kwargs)\n",
      "  File \"/home/raghu/anaconda3/lib/python3.6/site-packages/matplotlib/axis.py\", line 1185, in draw\n",
      "    ticks_to_draw = self._update_ticks(renderer)\n",
      "  File \"/home/raghu/anaconda3/lib/python3.6/site-packages/matplotlib/axis.py\", line 1023, in _update_ticks\n",
      "    tick_tups = list(self.iter_ticks())  # iter_ticks calls the locator\n",
      "  File \"/home/raghu/anaconda3/lib/python3.6/site-packages/matplotlib/axis.py\", line 967, in iter_ticks\n",
      "    majorLocs = self.major.locator()\n",
      "  File \"/home/raghu/anaconda3/lib/python3.6/site-packages/matplotlib/dates.py\", line 1230, in __call__\n",
      "    self.refresh()\n",
      "  File \"/home/raghu/anaconda3/lib/python3.6/site-packages/matplotlib/dates.py\", line 1250, in refresh\n",
      "    dmin, dmax = self.viewlim_to_dt()\n",
      "  File \"/home/raghu/anaconda3/lib/python3.6/site-packages/matplotlib/dates.py\", line 1001, in viewlim_to_dt\n",
      "    .format(vmin))\n",
      "ValueError: view limit minimum -36851.16248927434 is less than 1 and is an invalid Matplotlib date value. This often happens if you pass a non-datetime value to an axis that has datetime units\n",
      "Exception in Tkinter callback\n",
      "Traceback (most recent call last):\n",
      "  File \"/home/raghu/anaconda3/lib/python3.6/tkinter/__init__.py\", line 1705, in __call__\n",
      "    return self.func(*args)\n",
      "  File \"/home/raghu/anaconda3/lib/python3.6/site-packages/matplotlib/backends/_backend_tk.py\", line 267, in resize\n",
      "    self.draw()\n",
      "  File \"/home/raghu/anaconda3/lib/python3.6/site-packages/matplotlib/backends/backend_tkagg.py\", line 9, in draw\n",
      "    super(FigureCanvasTkAgg, self).draw()\n",
      "  File \"/home/raghu/anaconda3/lib/python3.6/site-packages/matplotlib/backends/backend_agg.py\", line 402, in draw\n",
      "    self.figure.draw(self.renderer)\n",
      "  File \"/home/raghu/anaconda3/lib/python3.6/site-packages/matplotlib/artist.py\", line 50, in draw_wrapper\n",
      "    return draw(artist, renderer, *args, **kwargs)\n",
      "  File \"/home/raghu/anaconda3/lib/python3.6/site-packages/matplotlib/figure.py\", line 1649, in draw\n",
      "    renderer, self, artists, self.suppressComposite)\n",
      "  File \"/home/raghu/anaconda3/lib/python3.6/site-packages/matplotlib/image.py\", line 138, in _draw_list_compositing_images\n",
      "    a.draw(renderer)\n",
      "  File \"/home/raghu/anaconda3/lib/python3.6/site-packages/matplotlib/artist.py\", line 50, in draw_wrapper\n",
      "    return draw(artist, renderer, *args, **kwargs)\n",
      "  File \"/home/raghu/anaconda3/lib/python3.6/site-packages/matplotlib/axes/_base.py\", line 2628, in draw\n",
      "    mimage._draw_list_compositing_images(renderer, self, artists)\n",
      "  File \"/home/raghu/anaconda3/lib/python3.6/site-packages/matplotlib/image.py\", line 138, in _draw_list_compositing_images\n",
      "    a.draw(renderer)\n",
      "  File \"/home/raghu/anaconda3/lib/python3.6/site-packages/matplotlib/artist.py\", line 50, in draw_wrapper\n",
      "    return draw(artist, renderer, *args, **kwargs)\n",
      "  File \"/home/raghu/anaconda3/lib/python3.6/site-packages/matplotlib/axis.py\", line 1185, in draw\n",
      "    ticks_to_draw = self._update_ticks(renderer)\n",
      "  File \"/home/raghu/anaconda3/lib/python3.6/site-packages/matplotlib/axis.py\", line 1023, in _update_ticks\n",
      "    tick_tups = list(self.iter_ticks())  # iter_ticks calls the locator\n",
      "  File \"/home/raghu/anaconda3/lib/python3.6/site-packages/matplotlib/axis.py\", line 967, in iter_ticks\n",
      "    majorLocs = self.major.locator()\n",
      "  File \"/home/raghu/anaconda3/lib/python3.6/site-packages/matplotlib/dates.py\", line 1230, in __call__\n",
      "    self.refresh()\n",
      "  File \"/home/raghu/anaconda3/lib/python3.6/site-packages/matplotlib/dates.py\", line 1250, in refresh\n",
      "    dmin, dmax = self.viewlim_to_dt()\n",
      "  File \"/home/raghu/anaconda3/lib/python3.6/site-packages/matplotlib/dates.py\", line 1001, in viewlim_to_dt\n",
      "    .format(vmin))\n",
      "ValueError: view limit minimum -36851.16248927434 is less than 1 and is an invalid Matplotlib date value. This often happens if you pass a non-datetime value to an axis that has datetime units\n",
      "Exception in Tkinter callback\n",
      "Traceback (most recent call last):\n",
      "  File \"/home/raghu/anaconda3/lib/python3.6/tkinter/__init__.py\", line 1705, in __call__\n",
      "    return self.func(*args)\n",
      "  File \"/home/raghu/anaconda3/lib/python3.6/tkinter/__init__.py\", line 749, in callit\n",
      "    func(*args)\n",
      "  File \"/home/raghu/anaconda3/lib/python3.6/site-packages/matplotlib/backends/_backend_tk.py\", line 346, in idle_draw\n",
      "    self.draw()\n",
      "  File \"/home/raghu/anaconda3/lib/python3.6/site-packages/matplotlib/backends/backend_tkagg.py\", line 9, in draw\n",
      "    super(FigureCanvasTkAgg, self).draw()\n",
      "  File \"/home/raghu/anaconda3/lib/python3.6/site-packages/matplotlib/backends/backend_agg.py\", line 402, in draw\n",
      "    self.figure.draw(self.renderer)\n",
      "  File \"/home/raghu/anaconda3/lib/python3.6/site-packages/matplotlib/artist.py\", line 50, in draw_wrapper\n",
      "    return draw(artist, renderer, *args, **kwargs)\n",
      "  File \"/home/raghu/anaconda3/lib/python3.6/site-packages/matplotlib/figure.py\", line 1649, in draw\n",
      "    renderer, self, artists, self.suppressComposite)\n",
      "  File \"/home/raghu/anaconda3/lib/python3.6/site-packages/matplotlib/image.py\", line 138, in _draw_list_compositing_images\n",
      "    a.draw(renderer)\n",
      "  File \"/home/raghu/anaconda3/lib/python3.6/site-packages/matplotlib/artist.py\", line 50, in draw_wrapper\n",
      "    return draw(artist, renderer, *args, **kwargs)\n",
      "  File \"/home/raghu/anaconda3/lib/python3.6/site-packages/matplotlib/axes/_base.py\", line 2628, in draw\n",
      "    mimage._draw_list_compositing_images(renderer, self, artists)\n",
      "  File \"/home/raghu/anaconda3/lib/python3.6/site-packages/matplotlib/image.py\", line 138, in _draw_list_compositing_images\n",
      "    a.draw(renderer)\n",
      "  File \"/home/raghu/anaconda3/lib/python3.6/site-packages/matplotlib/artist.py\", line 50, in draw_wrapper\n",
      "    return draw(artist, renderer, *args, **kwargs)\n",
      "  File \"/home/raghu/anaconda3/lib/python3.6/site-packages/matplotlib/axis.py\", line 1185, in draw\n",
      "    ticks_to_draw = self._update_ticks(renderer)\n",
      "  File \"/home/raghu/anaconda3/lib/python3.6/site-packages/matplotlib/axis.py\", line 1023, in _update_ticks\n",
      "    tick_tups = list(self.iter_ticks())  # iter_ticks calls the locator\n",
      "  File \"/home/raghu/anaconda3/lib/python3.6/site-packages/matplotlib/axis.py\", line 967, in iter_ticks\n",
      "    majorLocs = self.major.locator()\n",
      "  File \"/home/raghu/anaconda3/lib/python3.6/site-packages/matplotlib/dates.py\", line 1230, in __call__\n",
      "    self.refresh()\n",
      "  File \"/home/raghu/anaconda3/lib/python3.6/site-packages/matplotlib/dates.py\", line 1250, in refresh\n",
      "    dmin, dmax = self.viewlim_to_dt()\n",
      "  File \"/home/raghu/anaconda3/lib/python3.6/site-packages/matplotlib/dates.py\", line 1001, in viewlim_to_dt\n",
      "    .format(vmin))\n",
      "ValueError: view limit minimum -36851.16248927434 is less than 1 and is an invalid Matplotlib date value. This often happens if you pass a non-datetime value to an axis that has datetime units\n"
     ]
    }
   ],
   "source": [
    "statistics.mean(cleaning_delays)"
   ]
  },
  {
   "cell_type": "code",
   "execution_count": null,
   "metadata": {},
   "outputs": [],
   "source": []
  },
  {
   "cell_type": "code",
   "execution_count": null,
   "metadata": {},
   "outputs": [],
   "source": []
  },
  {
   "cell_type": "code",
   "execution_count": null,
   "metadata": {},
   "outputs": [],
   "source": []
  }
 ],
 "metadata": {
  "kernelspec": {
   "display_name": "Python 3",
   "language": "python",
   "name": "python3"
  },
  "language_info": {
   "codemirror_mode": {
    "name": "ipython",
    "version": 3
   },
   "file_extension": ".py",
   "mimetype": "text/x-python",
   "name": "python",
   "nbconvert_exporter": "python",
   "pygments_lexer": "ipython3",
   "version": "3.6.7"
  }
 },
 "nbformat": 4,
 "nbformat_minor": 2
}
