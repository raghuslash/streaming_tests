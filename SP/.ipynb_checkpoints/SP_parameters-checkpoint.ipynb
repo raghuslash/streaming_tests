{
 "cells": [
  {
   "cell_type": "code",
   "execution_count": 1,
   "metadata": {},
   "outputs": [],
   "source": [
    "import pandas as pd\n",
    "import matplotlib.pyplot as plt\n",
    "import scipy.signal\n",
    "import numpy as np\n",
    "import seaborn as sns\n",
    "plt.rcParams[\"figure.figsize\"]=[15,5]"
   ]
  },
  {
   "cell_type": "code",
   "execution_count": 2,
   "metadata": {},
   "outputs": [],
   "source": [
    "raw_sp = pd.read_csv('sp_jan.csv', usecols =['timestamp', 'data.A1'])"
   ]
  },
  {
   "cell_type": "code",
   "execution_count": 3,
   "metadata": {},
   "outputs": [],
   "source": [
    "test_sp=raw_sp\n",
    "sptimethresh=12"
   ]
  },
  {
   "cell_type": "code",
   "execution_count": 4,
   "metadata": {},
   "outputs": [],
   "source": [
    "#Get boards from Screenprinter\n",
    "test_sp=test_sp[['data.A1','timestamp']]\n",
    "# events=scipy.signal.find_peaks(test_sp['data.A1'], height=(2.22, 5), width=1)\n",
    "events_boards=scipy.signal.find_peaks(test_sp['data.A1'], height=(2.22, 5), distance=sptimethresh, width=1)\n",
    "events_cleaning=scipy.signal.find_peaks(test_sp['data.A1'], height=9, distance=sptimethresh, width=1)\n"
   ]
  },
  {
   "cell_type": "code",
   "execution_count": null,
   "metadata": {},
   "outputs": [],
   "source": [
    "sp_printing_times_df="
   ]
  },
  {
   "cell_type": "code",
   "execution_count": 20,
   "metadata": {},
   "outputs": [],
   "source": [
    "# events_boards"
   ]
  },
  {
   "cell_type": "code",
   "execution_count": 6,
   "metadata": {},
   "outputs": [
    {
     "name": "stderr",
     "output_type": "stream",
     "text": [
      "/home/raghu/anaconda3/lib/python3.6/site-packages/ipykernel_launcher.py:7: SettingWithCopyWarning: \n",
      "A value is trying to be set on a copy of a slice from a DataFrame.\n",
      "Try using .loc[row_indexer,col_indexer] = value instead\n",
      "\n",
      "See the caveats in the documentation: http://pandas.pydata.org/pandas-docs/stable/indexing.html#indexing-view-versus-copy\n",
      "  import sys\n",
      "/home/raghu/anaconda3/lib/python3.6/site-packages/ipykernel_launcher.py:8: SettingWithCopyWarning: \n",
      "A value is trying to be set on a copy of a slice from a DataFrame.\n",
      "Try using .loc[row_indexer,col_indexer] = value instead\n",
      "\n",
      "See the caveats in the documentation: http://pandas.pydata.org/pandas-docs/stable/indexing.html#indexing-view-versus-copy\n",
      "  \n"
     ]
    },
    {
     "data": {
      "text/html": [
       "<div>\n",
       "<style scoped>\n",
       "    .dataframe tbody tr th:only-of-type {\n",
       "        vertical-align: middle;\n",
       "    }\n",
       "\n",
       "    .dataframe tbody tr th {\n",
       "        vertical-align: top;\n",
       "    }\n",
       "\n",
       "    .dataframe thead th {\n",
       "        text-align: right;\n",
       "    }\n",
       "</style>\n",
       "<table border=\"1\" class=\"dataframe\">\n",
       "  <thead>\n",
       "    <tr style=\"text-align: right;\">\n",
       "      <th></th>\n",
       "      <th>data.A1</th>\n",
       "      <th>timestamp</th>\n",
       "      <th>state</th>\n",
       "    </tr>\n",
       "  </thead>\n",
       "  <tbody>\n",
       "    <tr>\n",
       "      <th>29631</th>\n",
       "      <td>15.31</td>\n",
       "      <td>2019-01-02 05:24:08.647470</td>\n",
       "      <td>2</td>\n",
       "    </tr>\n",
       "    <tr>\n",
       "      <th>29815</th>\n",
       "      <td>14.15</td>\n",
       "      <td>2019-01-02 05:28:11.501388</td>\n",
       "      <td>2</td>\n",
       "    </tr>\n",
       "    <tr>\n",
       "      <th>31503</th>\n",
       "      <td>13.25</td>\n",
       "      <td>2019-01-02 06:05:21.998008</td>\n",
       "      <td>2</td>\n",
       "    </tr>\n",
       "    <tr>\n",
       "      <th>31916</th>\n",
       "      <td>14.46</td>\n",
       "      <td>2019-01-02 06:14:28.045247</td>\n",
       "      <td>2</td>\n",
       "    </tr>\n",
       "    <tr>\n",
       "      <th>32328</th>\n",
       "      <td>13.44</td>\n",
       "      <td>2019-01-02 06:23:33.464741</td>\n",
       "      <td>2</td>\n",
       "    </tr>\n",
       "  </tbody>\n",
       "</table>\n",
       "</div>"
      ],
      "text/plain": [
       "       data.A1                  timestamp  state\n",
       "29631    15.31 2019-01-02 05:24:08.647470      2\n",
       "29815    14.15 2019-01-02 05:28:11.501388      2\n",
       "31503    13.25 2019-01-02 06:05:21.998008      2\n",
       "31916    14.46 2019-01-02 06:14:28.045247      2\n",
       "32328    13.44 2019-01-02 06:23:33.464741      2"
      ]
     },
     "execution_count": 6,
     "metadata": {},
     "output_type": "execute_result"
    }
   ],
   "source": [
    "import datetime as dt\n",
    "import time\n",
    "import matplotlib.dates as mdates\n",
    "\n",
    "pattern=\"%Y-%m-%dT%H:%M:%S.%f\"\n",
    "detect_sp=test_sp[test_sp['state'] == 2]\n",
    "test_sp['timestamp'] =  pd.to_datetime(test_sp['timestamp'], format=pattern)\n",
    "detect_sp['timestamp'] =  pd.to_datetime(detect_sp['timestamp'], format=pattern)\n",
    "detect_sp.head()"
   ]
  },
  {
   "cell_type": "code",
   "execution_count": 7,
   "metadata": {},
   "outputs": [],
   "source": [
    "# detect_sp=detect_sp[[\"timestamp\"]].applymap(lambda x: x.seconds)"
   ]
  },
  {
   "cell_type": "code",
   "execution_count": 8,
   "metadata": {},
   "outputs": [],
   "source": [
    "%matplotlib qt"
   ]
  },
  {
   "cell_type": "code",
   "execution_count": 9,
   "metadata": {},
   "outputs": [
    {
     "data": {
      "text/plain": [
       "Text(0.5, 1.0, 'Board Detections')"
      ]
     },
     "execution_count": 9,
     "metadata": {},
     "output_type": "execute_result"
    }
   ],
   "source": [
    "fig, ax1 = plt.subplots()\n",
    "\n",
    "ax1.stem(detect_sp['timestamp'], detect_sp['state'], 'red')\n",
    "\n",
    "# ax1.xaxis.set_major_locator(mdates.DateFormatter('%H:%M'))\n",
    "\n",
    "ax1.set_xlabel('Time')\n",
    "\n",
    "ax2 = ax1.twinx()\n",
    "\n",
    "ax2.plot(test_sp['timestamp'], test_sp['data.A1'], 'orange')\n",
    "\n",
    "plt.title('Board Detections')"
   ]
  },
  {
   "cell_type": "code",
   "execution_count": 10,
   "metadata": {},
   "outputs": [
    {
     "name": "stderr",
     "output_type": "stream",
     "text": [
      "/home/raghu/anaconda3/lib/python3.6/site-packages/ipykernel_launcher.py:1: SettingWithCopyWarning: \n",
      "A value is trying to be set on a copy of a slice from a DataFrame.\n",
      "Try using .loc[row_indexer,col_indexer] = value instead\n",
      "\n",
      "See the caveats in the documentation: http://pandas.pydata.org/pandas-docs/stable/indexing.html#indexing-view-versus-copy\n",
      "  \"\"\"Entry point for launching an IPython kernel.\n"
     ]
    }
   ],
   "source": [
    "test_sp['sum']=pd.Series.to_frame(test_sp['data.A1'].rolling(12, center=True).sum())"
   ]
  },
  {
   "cell_type": "code",
   "execution_count": 11,
   "metadata": {},
   "outputs": [
    {
     "data": {
      "text/plain": [
       "[<matplotlib.lines.Line2D at 0x7fc788067f28>]"
      ]
     },
     "execution_count": 11,
     "metadata": {},
     "output_type": "execute_result"
    }
   ],
   "source": [
    "plt.plot(test_sp['timestamp'], test_sp['sum'])\n",
    "plt.plot(test_sp['timestamp'], test_sp['data.A1']*10)"
   ]
  },
  {
   "cell_type": "code",
   "execution_count": 12,
   "metadata": {},
   "outputs": [],
   "source": [
    "printing_delays_raw=scipy.signal.find_peaks(test_sp['sum'], height=(24, 30), distance=sptimethresh, width=1)[1]['widths']"
   ]
  },
  {
   "cell_type": "code",
   "execution_count": 13,
   "metadata": {},
   "outputs": [],
   "source": [
    "import statistics"
   ]
  },
  {
   "cell_type": "code",
   "execution_count": 14,
   "metadata": {},
   "outputs": [],
   "source": [
    "# printing_delays[1]['widths']\n",
    "q1 = np.percentile(printing_delays_raw, 10)\n",
    "q3 = np.percentile(printing_delays_raw, 95)\n",
    "printing_delays = [i for i in printing_delays_raw if i > q1 and i < q3]\n",
    "# printing_delays = filter(lambda x: x)"
   ]
  },
  {
   "cell_type": "code",
   "execution_count": 15,
   "metadata": {},
   "outputs": [
    {
     "data": {
      "text/plain": [
       "12.992193390786397"
      ]
     },
     "execution_count": 15,
     "metadata": {},
     "output_type": "execute_result"
    }
   ],
   "source": [
    "statistics.mean(printing_delays)\n",
    "# printing_delays"
   ]
  },
  {
   "cell_type": "code",
   "execution_count": 16,
   "metadata": {},
   "outputs": [
    {
     "name": "stderr",
     "output_type": "stream",
     "text": [
      "/home/raghu/anaconda3/lib/python3.6/site-packages/scipy/stats/stats.py:1713: FutureWarning: Using a non-tuple sequence for multidimensional indexing is deprecated; use `arr[tuple(seq)]` instead of `arr[seq]`. In the future this will be interpreted as an array index, `arr[np.array(seq)]`, which will result either in an error or a different result.\n",
      "  return np.add.reduce(sorted[indexer] * weights, axis=axis) / sumval\n"
     ]
    },
    {
     "data": {
      "text/plain": [
       "<matplotlib.axes._subplots.AxesSubplot at 0x7fc7869fa438>"
      ]
     },
     "execution_count": 16,
     "metadata": {},
     "output_type": "execute_result"
    }
   ],
   "source": [
    "sns.distplot(printing_delays,bins=10)"
   ]
  },
  {
   "cell_type": "code",
   "execution_count": 17,
   "metadata": {},
   "outputs": [],
   "source": [
    "cleaning_delays=scipy.signal.find_peaks(test_sp['sum'], height=60, distance=sptimethresh, width=1)[1]['widths']\n",
    "# cleaning_delays"
   ]
  },
  {
   "cell_type": "code",
   "execution_count": 18,
   "metadata": {},
   "outputs": [
    {
     "data": {
      "text/plain": [
       "<matplotlib.axes._subplots.AxesSubplot at 0x7fc7869fa438>"
      ]
     },
     "execution_count": 18,
     "metadata": {},
     "output_type": "execute_result"
    }
   ],
   "source": [
    "sns.distplot(cleaning_delays,bins=50)"
   ]
  },
  {
   "cell_type": "code",
   "execution_count": 19,
   "metadata": {},
   "outputs": [
    {
     "data": {
      "text/plain": [
       "12.350014895841353"
      ]
     },
     "execution_count": 19,
     "metadata": {},
     "output_type": "execute_result"
    },
    {
     "name": "stderr",
     "output_type": "stream",
     "text": [
      "Exception in Tkinter callback\n",
      "Traceback (most recent call last):\n",
      "  File \"/home/raghu/anaconda3/lib/python3.6/tkinter/__init__.py\", line 1705, in __call__\n",
      "    return self.func(*args)\n",
      "  File \"/home/raghu/anaconda3/lib/python3.6/tkinter/__init__.py\", line 749, in callit\n",
      "    func(*args)\n",
      "  File \"/home/raghu/anaconda3/lib/python3.6/site-packages/matplotlib/backends/_backend_tk.py\", line 346, in idle_draw\n",
      "    self.draw()\n",
      "  File \"/home/raghu/anaconda3/lib/python3.6/site-packages/matplotlib/backends/backend_tkagg.py\", line 9, in draw\n",
      "    super(FigureCanvasTkAgg, self).draw()\n",
      "  File \"/home/raghu/anaconda3/lib/python3.6/site-packages/matplotlib/backends/backend_agg.py\", line 402, in draw\n",
      "    self.figure.draw(self.renderer)\n",
      "  File \"/home/raghu/anaconda3/lib/python3.6/site-packages/matplotlib/artist.py\", line 50, in draw_wrapper\n",
      "    return draw(artist, renderer, *args, **kwargs)\n",
      "  File \"/home/raghu/anaconda3/lib/python3.6/site-packages/matplotlib/figure.py\", line 1649, in draw\n",
      "    renderer, self, artists, self.suppressComposite)\n",
      "  File \"/home/raghu/anaconda3/lib/python3.6/site-packages/matplotlib/image.py\", line 138, in _draw_list_compositing_images\n",
      "    a.draw(renderer)\n",
      "  File \"/home/raghu/anaconda3/lib/python3.6/site-packages/matplotlib/artist.py\", line 50, in draw_wrapper\n",
      "    return draw(artist, renderer, *args, **kwargs)\n",
      "  File \"/home/raghu/anaconda3/lib/python3.6/site-packages/matplotlib/axes/_base.py\", line 2628, in draw\n",
      "    mimage._draw_list_compositing_images(renderer, self, artists)\n",
      "  File \"/home/raghu/anaconda3/lib/python3.6/site-packages/matplotlib/image.py\", line 138, in _draw_list_compositing_images\n",
      "    a.draw(renderer)\n",
      "  File \"/home/raghu/anaconda3/lib/python3.6/site-packages/matplotlib/artist.py\", line 50, in draw_wrapper\n",
      "    return draw(artist, renderer, *args, **kwargs)\n",
      "  File \"/home/raghu/anaconda3/lib/python3.6/site-packages/matplotlib/axis.py\", line 1185, in draw\n",
      "    ticks_to_draw = self._update_ticks(renderer)\n",
      "  File \"/home/raghu/anaconda3/lib/python3.6/site-packages/matplotlib/axis.py\", line 1023, in _update_ticks\n",
      "    tick_tups = list(self.iter_ticks())  # iter_ticks calls the locator\n",
      "  File \"/home/raghu/anaconda3/lib/python3.6/site-packages/matplotlib/axis.py\", line 967, in iter_ticks\n",
      "    majorLocs = self.major.locator()\n",
      "  File \"/home/raghu/anaconda3/lib/python3.6/site-packages/matplotlib/dates.py\", line 1230, in __call__\n",
      "    self.refresh()\n",
      "  File \"/home/raghu/anaconda3/lib/python3.6/site-packages/matplotlib/dates.py\", line 1250, in refresh\n",
      "    dmin, dmax = self.viewlim_to_dt()\n",
      "  File \"/home/raghu/anaconda3/lib/python3.6/site-packages/matplotlib/dates.py\", line 1001, in viewlim_to_dt\n",
      "    .format(vmin))\n",
      "ValueError: view limit minimum -36851.16248927434 is less than 1 and is an invalid Matplotlib date value. This often happens if you pass a non-datetime value to an axis that has datetime units\n",
      "Exception in Tkinter callback\n",
      "Traceback (most recent call last):\n",
      "  File \"/home/raghu/anaconda3/lib/python3.6/tkinter/__init__.py\", line 1705, in __call__\n",
      "    return self.func(*args)\n",
      "  File \"/home/raghu/anaconda3/lib/python3.6/site-packages/matplotlib/backends/_backend_tk.py\", line 267, in resize\n",
      "    self.draw()\n",
      "  File \"/home/raghu/anaconda3/lib/python3.6/site-packages/matplotlib/backends/backend_tkagg.py\", line 9, in draw\n",
      "    super(FigureCanvasTkAgg, self).draw()\n",
      "  File \"/home/raghu/anaconda3/lib/python3.6/site-packages/matplotlib/backends/backend_agg.py\", line 402, in draw\n",
      "    self.figure.draw(self.renderer)\n",
      "  File \"/home/raghu/anaconda3/lib/python3.6/site-packages/matplotlib/artist.py\", line 50, in draw_wrapper\n",
      "    return draw(artist, renderer, *args, **kwargs)\n",
      "  File \"/home/raghu/anaconda3/lib/python3.6/site-packages/matplotlib/figure.py\", line 1649, in draw\n",
      "    renderer, self, artists, self.suppressComposite)\n",
      "  File \"/home/raghu/anaconda3/lib/python3.6/site-packages/matplotlib/image.py\", line 138, in _draw_list_compositing_images\n",
      "    a.draw(renderer)\n",
      "  File \"/home/raghu/anaconda3/lib/python3.6/site-packages/matplotlib/artist.py\", line 50, in draw_wrapper\n",
      "    return draw(artist, renderer, *args, **kwargs)\n",
      "  File \"/home/raghu/anaconda3/lib/python3.6/site-packages/matplotlib/axes/_base.py\", line 2628, in draw\n",
      "    mimage._draw_list_compositing_images(renderer, self, artists)\n",
      "  File \"/home/raghu/anaconda3/lib/python3.6/site-packages/matplotlib/image.py\", line 138, in _draw_list_compositing_images\n",
      "    a.draw(renderer)\n",
      "  File \"/home/raghu/anaconda3/lib/python3.6/site-packages/matplotlib/artist.py\", line 50, in draw_wrapper\n",
      "    return draw(artist, renderer, *args, **kwargs)\n",
      "  File \"/home/raghu/anaconda3/lib/python3.6/site-packages/matplotlib/axis.py\", line 1185, in draw\n",
      "    ticks_to_draw = self._update_ticks(renderer)\n",
      "  File \"/home/raghu/anaconda3/lib/python3.6/site-packages/matplotlib/axis.py\", line 1023, in _update_ticks\n",
      "    tick_tups = list(self.iter_ticks())  # iter_ticks calls the locator\n",
      "  File \"/home/raghu/anaconda3/lib/python3.6/site-packages/matplotlib/axis.py\", line 967, in iter_ticks\n",
      "    majorLocs = self.major.locator()\n",
      "  File \"/home/raghu/anaconda3/lib/python3.6/site-packages/matplotlib/dates.py\", line 1230, in __call__\n",
      "    self.refresh()\n",
      "  File \"/home/raghu/anaconda3/lib/python3.6/site-packages/matplotlib/dates.py\", line 1250, in refresh\n",
      "    dmin, dmax = self.viewlim_to_dt()\n",
      "  File \"/home/raghu/anaconda3/lib/python3.6/site-packages/matplotlib/dates.py\", line 1001, in viewlim_to_dt\n",
      "    .format(vmin))\n",
      "ValueError: view limit minimum -36851.16248927434 is less than 1 and is an invalid Matplotlib date value. This often happens if you pass a non-datetime value to an axis that has datetime units\n",
      "Exception in Tkinter callback\n",
      "Traceback (most recent call last):\n",
      "  File \"/home/raghu/anaconda3/lib/python3.6/tkinter/__init__.py\", line 1705, in __call__\n",
      "    return self.func(*args)\n",
      "  File \"/home/raghu/anaconda3/lib/python3.6/tkinter/__init__.py\", line 749, in callit\n",
      "    func(*args)\n",
      "  File \"/home/raghu/anaconda3/lib/python3.6/site-packages/matplotlib/backends/_backend_tk.py\", line 346, in idle_draw\n",
      "    self.draw()\n",
      "  File \"/home/raghu/anaconda3/lib/python3.6/site-packages/matplotlib/backends/backend_tkagg.py\", line 9, in draw\n",
      "    super(FigureCanvasTkAgg, self).draw()\n",
      "  File \"/home/raghu/anaconda3/lib/python3.6/site-packages/matplotlib/backends/backend_agg.py\", line 402, in draw\n",
      "    self.figure.draw(self.renderer)\n",
      "  File \"/home/raghu/anaconda3/lib/python3.6/site-packages/matplotlib/artist.py\", line 50, in draw_wrapper\n",
      "    return draw(artist, renderer, *args, **kwargs)\n",
      "  File \"/home/raghu/anaconda3/lib/python3.6/site-packages/matplotlib/figure.py\", line 1649, in draw\n",
      "    renderer, self, artists, self.suppressComposite)\n",
      "  File \"/home/raghu/anaconda3/lib/python3.6/site-packages/matplotlib/image.py\", line 138, in _draw_list_compositing_images\n",
      "    a.draw(renderer)\n",
      "  File \"/home/raghu/anaconda3/lib/python3.6/site-packages/matplotlib/artist.py\", line 50, in draw_wrapper\n",
      "    return draw(artist, renderer, *args, **kwargs)\n",
      "  File \"/home/raghu/anaconda3/lib/python3.6/site-packages/matplotlib/axes/_base.py\", line 2628, in draw\n",
      "    mimage._draw_list_compositing_images(renderer, self, artists)\n",
      "  File \"/home/raghu/anaconda3/lib/python3.6/site-packages/matplotlib/image.py\", line 138, in _draw_list_compositing_images\n",
      "    a.draw(renderer)\n",
      "  File \"/home/raghu/anaconda3/lib/python3.6/site-packages/matplotlib/artist.py\", line 50, in draw_wrapper\n",
      "    return draw(artist, renderer, *args, **kwargs)\n",
      "  File \"/home/raghu/anaconda3/lib/python3.6/site-packages/matplotlib/axis.py\", line 1185, in draw\n",
      "    ticks_to_draw = self._update_ticks(renderer)\n",
      "  File \"/home/raghu/anaconda3/lib/python3.6/site-packages/matplotlib/axis.py\", line 1023, in _update_ticks\n",
      "    tick_tups = list(self.iter_ticks())  # iter_ticks calls the locator\n",
      "  File \"/home/raghu/anaconda3/lib/python3.6/site-packages/matplotlib/axis.py\", line 967, in iter_ticks\n",
      "    majorLocs = self.major.locator()\n",
      "  File \"/home/raghu/anaconda3/lib/python3.6/site-packages/matplotlib/dates.py\", line 1230, in __call__\n",
      "    self.refresh()\n",
      "  File \"/home/raghu/anaconda3/lib/python3.6/site-packages/matplotlib/dates.py\", line 1250, in refresh\n",
      "    dmin, dmax = self.viewlim_to_dt()\n",
      "  File \"/home/raghu/anaconda3/lib/python3.6/site-packages/matplotlib/dates.py\", line 1001, in viewlim_to_dt\n",
      "    .format(vmin))\n",
      "ValueError: view limit minimum -36851.16248927434 is less than 1 and is an invalid Matplotlib date value. This often happens if you pass a non-datetime value to an axis that has datetime units\n"
     ]
    }
   ],
   "source": [
    "statistics.mean(cleaning_delays)"
   ]
  },
  {
   "cell_type": "code",
   "execution_count": null,
   "metadata": {},
   "outputs": [],
   "source": []
  },
  {
   "cell_type": "code",
   "execution_count": null,
   "metadata": {},
   "outputs": [],
   "source": []
  },
  {
   "cell_type": "code",
   "execution_count": null,
   "metadata": {},
   "outputs": [],
   "source": []
  }
 ],
 "metadata": {
  "kernelspec": {
   "display_name": "Python 3",
   "language": "python",
   "name": "python3"
  },
  "language_info": {
   "codemirror_mode": {
    "name": "ipython",
    "version": 3
   },
   "file_extension": ".py",
   "mimetype": "text/x-python",
   "name": "python",
   "nbconvert_exporter": "python",
   "pygments_lexer": "ipython3",
   "version": "3.6.7"
  }
 },
 "nbformat": 4,
 "nbformat_minor": 2
}
