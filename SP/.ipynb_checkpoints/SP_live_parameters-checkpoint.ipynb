{
 "cells": [
  {
   "cell_type": "code",
   "execution_count": 1,
   "metadata": {},
   "outputs": [],
   "source": [
    "import pandas as pd\n",
    "import matplotlib.pyplot as plt\n",
    "import scipy.signal\n",
    "import numpy as np\n",
    "import seaborn as sns\n",
    "plt.rcParams[\"figure.figsize\"]=[15,5]"
   ]
  },
  {
   "cell_type": "code",
   "execution_count": 2,
   "metadata": {},
   "outputs": [],
   "source": [
    "raw_sp = pd.read_csv('sp_jan.csv', usecols =['timestamp', 'data.A1'])\n",
    "raw_sp.dropna(axis=0, inplace=True)\n",
    "raw_sp.sort_values(by=['timestamp'])\n",
    "raw_sp.reset_index(inplace=True)\n",
    "raw_sp['timestamp'] =  pd.to_datetime(raw_sp['timestamp'])"
   ]
  },
  {
   "cell_type": "code",
   "execution_count": 3,
   "metadata": {},
   "outputs": [],
   "source": [
    "test_sp=raw_sp\n",
    "sptimethresh=12"
   ]
  },
  {
   "cell_type": "code",
   "execution_count": 4,
   "metadata": {},
   "outputs": [],
   "source": [
    "#Get boards from Screenprinter\n",
    "test_sp=test_sp[['data.A1','timestamp']]\n",
    "# events=scipy.signal.find_peaks(test_sp['data.A1'], height=(2.22, 5), width=1)"
   ]
  },
  {
   "cell_type": "code",
   "execution_count": 5,
   "metadata": {},
   "outputs": [],
   "source": [
    "test_sp['sum']=pd.Series.to_frame(test_sp['data.A1'].rolling(12, center=True).sum())"
   ]
  },
  {
   "cell_type": "code",
   "execution_count": 6,
   "metadata": {},
   "outputs": [],
   "source": [
    "%matplotlib qt"
   ]
  },
  {
   "cell_type": "code",
   "execution_count": 7,
   "metadata": {},
   "outputs": [
    {
     "data": {
      "text/plain": [
       "[<matplotlib.lines.Line2D at 0x7f433015c9b0>]"
      ]
     },
     "execution_count": 7,
     "metadata": {},
     "output_type": "execute_result"
    }
   ],
   "source": [
    "plt.plot(test_sp['timestamp'], test_sp['sum'])\n",
    "plt.plot(test_sp['timestamp'], test_sp['data.A1']*10)"
   ]
  },
  {
   "cell_type": "code",
   "execution_count": 8,
   "metadata": {},
   "outputs": [
    {
     "data": {
      "text/plain": [
       "[<matplotlib.lines.Line2D at 0x7f433015cef0>]"
      ]
     },
     "execution_count": 8,
     "metadata": {},
     "output_type": "execute_result"
    }
   ],
   "source": [
    "plt.plot(test_sp['timestamp'], test_sp['sum'])"
   ]
  },
  {
   "cell_type": "code",
   "execution_count": 12,
   "metadata": {},
   "outputs": [],
   "source": [
    "sptimethresh=12\n",
    "printing_delays_raw=scipy.signal.find_peaks(test_sp['sum'], height=(24, 30), distance=sptimethresh, width=1)\n",
    "printing_delays_raw_df=pd.DataFrame({\"sample_number\":printing_delays_raw[0], \"working_time\":printing_delays_raw[1]['widths']})\n",
    "cleaning_delays_raw=scipy.signal.find_peaks(test_sp['sum'], height=60, distance=sptimethresh, width=1)\n",
    "cleaning_delays_raw_df=pd.DataFrame({\"sample_number\":cleaning_delays_raw[0], \"working_time\":cleaning_delays_raw[1]['widths']})"
   ]
  },
  {
   "cell_type": "code",
   "execution_count": 13,
   "metadata": {},
   "outputs": [
    {
     "name": "stderr",
     "output_type": "stream",
     "text": [
      "/home/raghu/anaconda3/lib/python3.6/site-packages/ipykernel_launcher.py:2: SettingWithCopyWarning: \n",
      "A value is trying to be set on a copy of a slice from a DataFrame\n",
      "\n",
      "See the caveats in the documentation: http://pandas.pydata.org/pandas-docs/stable/indexing.html#indexing-view-versus-copy\n",
      "  \n",
      "/home/raghu/anaconda3/lib/python3.6/site-packages/ipykernel_launcher.py:3: SettingWithCopyWarning: \n",
      "A value is trying to be set on a copy of a slice from a DataFrame\n",
      "\n",
      "See the caveats in the documentation: http://pandas.pydata.org/pandas-docs/stable/indexing.html#indexing-view-versus-copy\n",
      "  This is separate from the ipykernel package so we can avoid doing imports until\n"
     ]
    }
   ],
   "source": [
    "# test_sp['detection']=0\n",
    "# test_sp['detection'][(test_sp['sum']>=24) & (test_sp['sum']<=30) ]=1\n",
    "# test_sp['detection'][test_sp['sum']>=60]=2"
   ]
  },
  {
   "cell_type": "code",
   "execution_count": 14,
   "metadata": {},
   "outputs": [],
   "source": [
    "SP_events=pd.DataFrame({\"timestamp\":test_sp.iloc[printing_delays_raw_df.sample_number].timestamp, \"event\":1, \"working_time\":printing_delays_raw_df.working_time.tolist()})\n",
    "cleanings=pd.DataFrame({\"timestamp\":test_sp.iloc[cleaning_delays_raw_df.sample_number].timestamp, \"event\":2, \"working_time\":cleaning_delays_raw_df.working_time.tolist()})\n",
    "# idles=pd.DataFrame({\"timestamp\":test_sp.iloc[idle_delays_raw_df.sample_number].timestamp, \"event\":0, \"working_time\":idle_delays_raw_df.working_time.tolist()})\n",
    "\n",
    "SP_events.reset_index(inplace=True)\n",
    "cleanings.reset_index(inplace=True)\n",
    "# idles.reset_index(inplace=True)"
   ]
  },
  {
   "cell_type": "code",
   "execution_count": 15,
   "metadata": {},
   "outputs": [
    {
     "name": "stderr",
     "output_type": "stream",
     "text": [
      "/home/raghu/anaconda3/lib/python3.6/site-packages/ipykernel_launcher.py:2: DeprecationWarning: \n",
      ".ix is deprecated. Please use\n",
      ".loc for label based indexing or\n",
      ".iloc for positional indexing\n",
      "\n",
      "See the documentation here:\n",
      "http://pandas.pydata.org/pandas-docs/stable/indexing.html#ix-indexer-is-deprecated\n",
      "  \n"
     ]
    }
   ],
   "source": [
    "for x, row in SP_events.iterrows():\n",
    "    SP_events.ix[x,'energy']=test_sp.ix[int(printing_delays_raw[1]['left_ips'][x]):int(printing_delays_raw[1]['right_ips'][x]), 'data.A1'].sum()*230/3600000\n",
    "\n",
    "# for index, x in enumerate(printing_delays_raw[0]):\n",
    "#     SP_events.ix[index,'energy']=np.trapz(test_sp.ix[int(printing_delays_raw[1]['left_ips'][index]):int(printing_delays_raw[1]['right_ips'][index]), 'data.A1'].tolist()*230/3600000)"
   ]
  },
  {
   "cell_type": "code",
   "execution_count": 16,
   "metadata": {},
   "outputs": [
    {
     "name": "stderr",
     "output_type": "stream",
     "text": [
      "/home/raghu/anaconda3/lib/python3.6/site-packages/ipykernel_launcher.py:2: DeprecationWarning: \n",
      ".ix is deprecated. Please use\n",
      ".loc for label based indexing or\n",
      ".iloc for positional indexing\n",
      "\n",
      "See the documentation here:\n",
      "http://pandas.pydata.org/pandas-docs/stable/indexing.html#ix-indexer-is-deprecated\n",
      "  \n"
     ]
    }
   ],
   "source": [
    "for x, row in cleanings.iterrows():\n",
    "    cleanings.ix[x,'energy']=test_sp.ix[int(cleaning_delays_raw[1]['left_ips'][x]):int(cleaning_delays_raw[1]['right_ips'][x]), 'data.A1'].sum()*230/3600000\n",
    "\n",
    "# for index,x in enumerate(cleaning_delays_raw[0]):\n",
    "#     cleanings.ix[index,'energy']=np.trapz(test_sp.ix[int(cleaning_delays_raw[1]['left_ips'][index]):int(cleaning_delays_raw[1]['right_ips'][index]), 'data.A1'].tolist()*230)\n",
    "    "
   ]
  },
  {
   "cell_type": "code",
   "execution_count": 17,
   "metadata": {},
   "outputs": [],
   "source": [
    "# for x, row in idles.iterrows():\n",
    "#     idles.ix[x,'energy']=test_sp.ix[int(idle_delays_raw[1]['left_ips'][x]):int(idle_delays_raw[1]['right_ips'][x]), 'data.A1'].sum()*230/3600000"
   ]
  },
  {
   "cell_type": "code",
   "execution_count": 18,
   "metadata": {},
   "outputs": [],
   "source": [
    "SP_events.index=SP_events.timestamp\n",
    "SP_events.drop('timestamp', axis=1, inplace=True)\n",
    "SP_events.drop('index', axis=1, inplace=True)\n",
    "\n",
    "cleanings.index=cleanings.timestamp\n",
    "cleanings.drop('timestamp', axis=1, inplace=True)\n",
    "cleanings.drop('index', axis=1, inplace=True)\n",
    "\n",
    "# idles.index=idles.timestamp\n",
    "# idles.drop('timestamp', axis=1, inplace=True)\n",
    "# idles.drop('index', axis=1, inplace=True)\n",
    "\n",
    "\n",
    "SP_events=SP_events.append(cleanings)\n",
    "# SP_events=SP_events.append(idles)"
   ]
  },
  {
   "cell_type": "code",
   "execution_count": 19,
   "metadata": {},
   "outputs": [
    {
     "name": "stderr",
     "output_type": "stream",
     "text": [
      "/home/raghu/anaconda3/lib/python3.6/site-packages/scipy/stats/stats.py:1713: FutureWarning: Using a non-tuple sequence for multidimensional indexing is deprecated; use `arr[tuple(seq)]` instead of `arr[seq]`. In the future this will be interpreted as an array index, `arr[np.array(seq)]`, which will result either in an error or a different result.\n",
      "  return np.add.reduce(sorted[indexer] * weights, axis=axis) / sumval\n"
     ]
    },
    {
     "data": {
      "text/plain": [
       "Text(0.5, 1.0, 'SP Printing Times Histogram')"
      ]
     },
     "execution_count": 19,
     "metadata": {},
     "output_type": "execute_result"
    }
   ],
   "source": [
    "sns.distplot(SP_events.working_time[SP_events['event']==1])\n",
    "plt.title('SP Printing Times Histogram')"
   ]
  },
  {
   "cell_type": "code",
   "execution_count": 20,
   "metadata": {},
   "outputs": [
    {
     "data": {
      "text/plain": [
       "Text(0.5, 1.0, 'SP Cleaning Times Histogram')"
      ]
     },
     "execution_count": 20,
     "metadata": {},
     "output_type": "execute_result"
    }
   ],
   "source": [
    "sns.distplot(SP_events.working_time[SP_events['event']==2])\n",
    "plt.title('SP Cleaning Times Histogram')"
   ]
  },
  {
   "cell_type": "code",
   "execution_count": 21,
   "metadata": {},
   "outputs": [
    {
     "name": "stdout",
     "output_type": "stream",
     "text": [
      "Printing time Mode:  12.96700976109289\n"
     ]
    }
   ],
   "source": [
    "print('Printing time Mode: ', SP_events.working_time[SP_events['event']==1].mode().mean())"
   ]
  },
  {
   "cell_type": "code",
   "execution_count": 22,
   "metadata": {},
   "outputs": [
    {
     "name": "stdout",
     "output_type": "stream",
     "text": [
      "Cleaning time Mode:  12.350014895841353\n"
     ]
    }
   ],
   "source": [
    "print('Cleaning time Mode: ', SP_events.working_time[SP_events['event']==2].mode().mean())"
   ]
  },
  {
   "cell_type": "code",
   "execution_count": 23,
   "metadata": {},
   "outputs": [],
   "source": [
    "# SP_events.to_csv('using_trap.csv')"
   ]
  },
  {
   "cell_type": "code",
   "execution_count": 30,
   "metadata": {},
   "outputs": [
    {
     "data": {
      "text/plain": [
       "{'peak_heights': array([76.18, 72.33, 70.57, 72.17, 69.8 , 72.24, 73.38, 77.51, 73.11,\n",
       "        73.23, 76.55, 72.02, 76.03, 70.08, 73.14, 71.02, 76.39, 71.32,\n",
       "        76.65, 70.19, 69.49, 70.44, 72.82, 67.  , 73.52, 71.84, 74.26,\n",
       "        64.53, 70.38, 75.98, 72.2 , 76.65, 77.5 , 74.79, 71.91, 70.41,\n",
       "        72.69, 73.23, 73.35, 77.18, 70.91, 68.03, 72.26]),\n",
       " 'prominences': array([54.55, 50.67, 48.69, 50.3 , 47.96, 50.6 , 51.71, 61.4 , 51.38,\n",
       "        52.46, 55.93, 51.06, 54.98, 46.96, 52.04, 49.82, 55.1 , 49.88,\n",
       "        55.37, 48.82, 48.03, 49.03, 51.44, 45.35, 52.02, 50.22, 52.93,\n",
       "        42.83, 48.91, 54.36, 50.38, 55.15, 57.02, 53.17, 50.12, 48.61,\n",
       "        51.02, 51.76, 51.77, 55.79, 49.44, 46.51, 51.32]),\n",
       " 'left_bases': array([22914, 29708, 30007, 30007, 32288, 32373, 32373, 22914, 33953,\n",
       "        34681, 34681, 39040, 39040, 39636, 39952, 40283, 39040, 41501,\n",
       "        39040, 41940, 42745, 41940, 41940, 43588, 41940, 44732, 41940,\n",
       "        45443, 46240, 41940, 46847, 41940, 39040, 48125, 49020, 49261,\n",
       "        49020, 49020, 49020, 49020, 52091, 53624, 52091]),\n",
       " 'right_bases': array([32373, 32373, 31551, 32373, 32373, 32902, 33316, 65048, 34681,\n",
       "        38114, 39040, 39310, 40796, 39952, 40796, 40796, 41501, 41846,\n",
       "        41940, 42745, 42850, 43371, 43588, 44253, 45116, 45116, 46712,\n",
       "        46240, 46712, 47489, 47489, 47764, 65048, 49020, 49261, 49422,\n",
       "        49839, 50855, 51260, 65048, 54083, 54083, 65048]),\n",
       " 'widths': array([12.27996093, 12.31622468, 12.18192925, 12.24158927, 12.09259899,\n",
       "        12.2965386 , 12.28772535, 13.31863882, 12.27865613, 12.4036316 ,\n",
       "        12.39380312, 12.18028026, 12.09328693, 12.06397246, 12.29860719,\n",
       "        12.24219846, 12.35292346, 12.53771874, 12.4293855 , 12.2998362 ,\n",
       "        12.31593364, 12.42482436, 12.25479899, 12.39540834, 12.39845582,\n",
       "        12.47566721, 12.3694958 , 12.22693115, 12.23052305, 12.35330345,\n",
       "        12.45875795, 12.39384649, 12.81394892, 12.27160267, 12.29697806,\n",
       "        12.29156337, 12.53651884, 12.31731933, 12.27256198, 12.41364923,\n",
       "        12.21963446, 12.26052557, 12.46888589]),\n",
       " 'width_heights': array([48.905, 46.995, 46.225, 47.02 , 45.82 , 46.94 , 47.525, 46.81 ,\n",
       "        47.42 , 47.   , 48.585, 46.49 , 48.54 , 46.6  , 47.12 , 46.11 ,\n",
       "        48.84 , 46.38 , 48.965, 45.78 , 45.475, 45.925, 47.1  , 44.325,\n",
       "        47.51 , 46.73 , 47.795, 43.115, 45.925, 48.8  , 47.01 , 49.075,\n",
       "        48.99 , 48.205, 46.85 , 46.105, 47.18 , 47.35 , 47.465, 49.285,\n",
       "        46.19 , 44.775, 46.6  ]),\n",
       " 'left_ips': array([29627.66501976, 29812.00901804, 31500.21245059, 31913.02156863,\n",
       "        32325.20523139, 32736.97194389, 33169.78542094, 33580.16056911,\n",
       "        33992.85968379, 37454.68583162, 38960.383     , 39201.85596708,\n",
       "        39603.69920319, 39641.3523622 , 40108.74901186, 40333.91304348,\n",
       "        41375.46843177, 41594.91382766, 41891.56376518, 42229.96855346,\n",
       "        42792.27469136, 43128.87166324, 43563.72727273, 43964.37713675,\n",
       "        44601.75664622, 44834.89775051, 45350.6355042 , 45835.7035124 ,\n",
       "        46291.15858586, 46803.52916667, 47031.66179541, 47575.4533195 ,\n",
       "        47833.3       , 48170.57368421, 49215.79245283, 49400.96960168,\n",
       "        49736.64908722, 50148.80793319, 50881.73243802, 51367.53995902,\n",
       "        53465.15757576, 53922.08987603, 54319.86639676]),\n",
       " 'right_ips': array([29639.94498069, 29824.32524272, 31512.39437984, 31925.26315789,\n",
       "        32337.29783037, 32749.26848249, 33182.07314629, 33593.47920792,\n",
       "        34005.13833992, 37467.08946322, 38972.77680312, 39214.03624733,\n",
       "        39615.79249012, 39653.41633466, 40121.04761905, 40346.15524194,\n",
       "        41387.82135524, 41607.45154639, 41903.99315068, 42242.26838966,\n",
       "        42804.590625  , 43141.2964876 , 43575.98207171, 43976.77254509,\n",
       "        44614.15510204, 44847.37341772, 45363.005     , 45847.93044355,\n",
       "        46303.38910891, 46815.88247012, 47044.12055336, 47587.84716599,\n",
       "        47846.11394892, 48182.84528689, 49228.08943089, 49413.26116505,\n",
       "        49749.18560606, 50161.12525253, 50894.005     , 51379.95360825,\n",
       "        53477.37721022, 53934.35040161, 54332.33528265])}"
      ]
     },
     "execution_count": 30,
     "metadata": {},
     "output_type": "execute_result"
    }
   ],
   "source": [
    "cleaning_delays_raw[1]"
   ]
  },
  {
   "cell_type": "code",
   "execution_count": 31,
   "metadata": {},
   "outputs": [
    {
     "data": {
      "text/plain": [
       "[<matplotlib.lines.Line2D at 0x7f43283d22b0>]"
      ]
     },
     "execution_count": 31,
     "metadata": {},
     "output_type": "execute_result"
    }
   ],
   "source": [
    "plt.plot(test_sp.timestamp, test_sp.detection)\n",
    "plt.plot(test_sp.timestamp, test_sp['sum'])"
   ]
  },
  {
   "cell_type": "code",
   "execution_count": 29,
   "metadata": {},
   "outputs": [
    {
     "data": {
      "text/html": [
       "<div>\n",
       "<style scoped>\n",
       "    .dataframe tbody tr th:only-of-type {\n",
       "        vertical-align: middle;\n",
       "    }\n",
       "\n",
       "    .dataframe tbody tr th {\n",
       "        vertical-align: top;\n",
       "    }\n",
       "\n",
       "    .dataframe thead th {\n",
       "        text-align: right;\n",
       "    }\n",
       "</style>\n",
       "<table border=\"1\" class=\"dataframe\">\n",
       "  <thead>\n",
       "    <tr style=\"text-align: right;\">\n",
       "      <th></th>\n",
       "      <th>event</th>\n",
       "      <th>working_time</th>\n",
       "      <th>energy</th>\n",
       "    </tr>\n",
       "    <tr>\n",
       "      <th>timestamp</th>\n",
       "      <th></th>\n",
       "      <th></th>\n",
       "      <th></th>\n",
       "    </tr>\n",
       "  </thead>\n",
       "  <tbody>\n",
       "    <tr>\n",
       "      <th>2019-01-02 05:20:41.111115</th>\n",
       "      <td>1</td>\n",
       "      <td>16.586123</td>\n",
       "      <td>0.002300</td>\n",
       "    </tr>\n",
       "    <tr>\n",
       "      <th>2019-01-02 05:21:29.991422</th>\n",
       "      <td>1</td>\n",
       "      <td>12.435687</td>\n",
       "      <td>0.001692</td>\n",
       "    </tr>\n",
       "    <tr>\n",
       "      <th>2019-01-02 05:23:52.747297</th>\n",
       "      <td>1</td>\n",
       "      <td>4.672222</td>\n",
       "      <td>0.000737</td>\n",
       "    </tr>\n",
       "    <tr>\n",
       "      <th>2019-01-02 05:24:37.703624</th>\n",
       "      <td>1</td>\n",
       "      <td>8.347243</td>\n",
       "      <td>0.001277</td>\n",
       "    </tr>\n",
       "    <tr>\n",
       "      <th>2019-01-02 05:24:58.905420</th>\n",
       "      <td>1</td>\n",
       "      <td>7.631132</td>\n",
       "      <td>0.001177</td>\n",
       "    </tr>\n",
       "    <tr>\n",
       "      <th>2019-01-02 05:26:30.983379</th>\n",
       "      <td>1</td>\n",
       "      <td>16.717014</td>\n",
       "      <td>0.002361</td>\n",
       "    </tr>\n",
       "    <tr>\n",
       "      <th>2019-01-02 05:27:55.581802</th>\n",
       "      <td>1</td>\n",
       "      <td>8.315972</td>\n",
       "      <td>0.001209</td>\n",
       "    </tr>\n",
       "    <tr>\n",
       "      <th>2019-01-02 05:28:42.039630</th>\n",
       "      <td>1</td>\n",
       "      <td>12.395092</td>\n",
       "      <td>0.001926</td>\n",
       "    </tr>\n",
       "    <tr>\n",
       "      <th>2019-01-02 05:32:02.769066</th>\n",
       "      <td>1</td>\n",
       "      <td>12.865236</td>\n",
       "      <td>0.001959</td>\n",
       "    </tr>\n",
       "    <tr>\n",
       "      <th>2019-01-02 05:34:18.736451</th>\n",
       "      <td>1</td>\n",
       "      <td>13.865489</td>\n",
       "      <td>0.002020</td>\n",
       "    </tr>\n",
       "    <tr>\n",
       "      <th>2019-01-02 06:05:02.218920</th>\n",
       "      <td>1</td>\n",
       "      <td>6.976636</td>\n",
       "      <td>0.001124</td>\n",
       "    </tr>\n",
       "    <tr>\n",
       "      <th>2019-01-02 06:07:15.548520</th>\n",
       "      <td>1</td>\n",
       "      <td>15.230542</td>\n",
       "      <td>0.002128</td>\n",
       "    </tr>\n",
       "    <tr>\n",
       "      <th>2019-01-02 06:09:46.391418</th>\n",
       "      <td>1</td>\n",
       "      <td>19.720513</td>\n",
       "      <td>0.002787</td>\n",
       "    </tr>\n",
       "    <tr>\n",
       "      <th>2019-01-02 06:12:03.026856</th>\n",
       "      <td>1</td>\n",
       "      <td>14.016133</td>\n",
       "      <td>0.002009</td>\n",
       "    </tr>\n",
       "    <tr>\n",
       "      <th>2019-01-02 06:14:08.284226</th>\n",
       "      <td>1</td>\n",
       "      <td>6.359542</td>\n",
       "      <td>0.000973</td>\n",
       "    </tr>\n",
       "    <tr>\n",
       "      <th>2019-01-02 06:16:30.830947</th>\n",
       "      <td>1</td>\n",
       "      <td>14.766162</td>\n",
       "      <td>0.002107</td>\n",
       "    </tr>\n",
       "    <tr>\n",
       "      <th>2019-01-02 06:18:45.955332</th>\n",
       "      <td>1</td>\n",
       "      <td>16.597807</td>\n",
       "      <td>0.002413</td>\n",
       "    </tr>\n",
       "    <tr>\n",
       "      <th>2019-01-02 06:21:01.185737</th>\n",
       "      <td>1</td>\n",
       "      <td>12.550241</td>\n",
       "      <td>0.001780</td>\n",
       "    </tr>\n",
       "    <tr>\n",
       "      <th>2019-01-02 06:23:12.335219</th>\n",
       "      <td>1</td>\n",
       "      <td>9.811189</td>\n",
       "      <td>0.001447</td>\n",
       "    </tr>\n",
       "    <tr>\n",
       "      <th>2019-01-02 06:25:47.000184</th>\n",
       "      <td>1</td>\n",
       "      <td>12.736815</td>\n",
       "      <td>0.001723</td>\n",
       "    </tr>\n",
       "    <tr>\n",
       "      <th>2019-01-02 06:27:49.738513</th>\n",
       "      <td>1</td>\n",
       "      <td>16.027647</td>\n",
       "      <td>0.002291</td>\n",
       "    </tr>\n",
       "    <tr>\n",
       "      <th>2019-01-02 06:30:05.561044</th>\n",
       "      <td>1</td>\n",
       "      <td>13.736021</td>\n",
       "      <td>0.002021</td>\n",
       "    </tr>\n",
       "    <tr>\n",
       "      <th>2019-01-02 06:32:17.961933</th>\n",
       "      <td>1</td>\n",
       "      <td>3.666667</td>\n",
       "      <td>0.000532</td>\n",
       "    </tr>\n",
       "    <tr>\n",
       "      <th>2019-01-02 06:34:32.616162</th>\n",
       "      <td>1</td>\n",
       "      <td>14.592075</td>\n",
       "      <td>0.002173</td>\n",
       "    </tr>\n",
       "    <tr>\n",
       "      <th>2019-01-02 06:37:24.423847</th>\n",
       "      <td>1</td>\n",
       "      <td>14.719170</td>\n",
       "      <td>0.002148</td>\n",
       "    </tr>\n",
       "    <tr>\n",
       "      <th>2019-01-02 06:39:39.741303</th>\n",
       "      <td>1</td>\n",
       "      <td>12.789378</td>\n",
       "      <td>0.001916</td>\n",
       "    </tr>\n",
       "    <tr>\n",
       "      <th>2019-01-02 06:41:50.903203</th>\n",
       "      <td>1</td>\n",
       "      <td>7.171233</td>\n",
       "      <td>0.001082</td>\n",
       "    </tr>\n",
       "    <tr>\n",
       "      <th>2019-01-02 06:44:05.692210</th>\n",
       "      <td>1</td>\n",
       "      <td>15.158126</td>\n",
       "      <td>0.002141</td>\n",
       "    </tr>\n",
       "    <tr>\n",
       "      <th>2019-01-02 06:46:28.201668</th>\n",
       "      <td>1</td>\n",
       "      <td>13.123843</td>\n",
       "      <td>0.001884</td>\n",
       "    </tr>\n",
       "    <tr>\n",
       "      <th>2019-01-02 06:48:44.359551</th>\n",
       "      <td>1</td>\n",
       "      <td>13.417009</td>\n",
       "      <td>0.002010</td>\n",
       "    </tr>\n",
       "    <tr>\n",
       "      <th>...</th>\n",
       "      <td>...</td>\n",
       "      <td>...</td>\n",
       "      <td>...</td>\n",
       "    </tr>\n",
       "    <tr>\n",
       "      <th>2019-01-02 12:51:14.914102</th>\n",
       "      <td>1</td>\n",
       "      <td>14.955952</td>\n",
       "      <td>0.002112</td>\n",
       "    </tr>\n",
       "    <tr>\n",
       "      <th>2019-01-02 12:53:00.816876</th>\n",
       "      <td>1</td>\n",
       "      <td>16.414342</td>\n",
       "      <td>0.002556</td>\n",
       "    </tr>\n",
       "    <tr>\n",
       "      <th>2019-01-02 12:54:56.400479</th>\n",
       "      <td>1</td>\n",
       "      <td>12.792241</td>\n",
       "      <td>0.001883</td>\n",
       "    </tr>\n",
       "    <tr>\n",
       "      <th>2019-01-02 12:56:47.745174</th>\n",
       "      <td>1</td>\n",
       "      <td>7.626291</td>\n",
       "      <td>0.001323</td>\n",
       "    </tr>\n",
       "    <tr>\n",
       "      <th>2019-01-02 12:58:38.839323</th>\n",
       "      <td>1</td>\n",
       "      <td>13.086555</td>\n",
       "      <td>0.001905</td>\n",
       "    </tr>\n",
       "    <tr>\n",
       "      <th>2019-01-02 13:03:31.533575</th>\n",
       "      <td>1</td>\n",
       "      <td>13.598601</td>\n",
       "      <td>0.002047</td>\n",
       "    </tr>\n",
       "    <tr>\n",
       "      <th>2019-01-02 13:11:01.287404</th>\n",
       "      <td>1</td>\n",
       "      <td>12.731475</td>\n",
       "      <td>0.001905</td>\n",
       "    </tr>\n",
       "    <tr>\n",
       "      <th>2019-01-02 13:12:57.254682</th>\n",
       "      <td>1</td>\n",
       "      <td>7.708392</td>\n",
       "      <td>0.001326</td>\n",
       "    </tr>\n",
       "    <tr>\n",
       "      <th>2019-01-02 13:14:43.030682</th>\n",
       "      <td>1</td>\n",
       "      <td>14.395440</td>\n",
       "      <td>0.002166</td>\n",
       "    </tr>\n",
       "    <tr>\n",
       "      <th>2019-01-02 13:16:40.429509</th>\n",
       "      <td>1</td>\n",
       "      <td>13.203225</td>\n",
       "      <td>0.001942</td>\n",
       "    </tr>\n",
       "    <tr>\n",
       "      <th>2019-01-02 13:18:25.066858</th>\n",
       "      <td>1</td>\n",
       "      <td>17.239177</td>\n",
       "      <td>0.002460</td>\n",
       "    </tr>\n",
       "    <tr>\n",
       "      <th>2019-01-02 13:23:39.998649</th>\n",
       "      <td>1</td>\n",
       "      <td>6.953147</td>\n",
       "      <td>0.001154</td>\n",
       "    </tr>\n",
       "    <tr>\n",
       "      <th>2019-01-02 13:24:17.051653</th>\n",
       "      <td>1</td>\n",
       "      <td>6.631579</td>\n",
       "      <td>0.001185</td>\n",
       "    </tr>\n",
       "    <tr>\n",
       "      <th>2019-01-02 14:09:22.811790</th>\n",
       "      <td>1</td>\n",
       "      <td>11.883913</td>\n",
       "      <td>0.001747</td>\n",
       "    </tr>\n",
       "    <tr>\n",
       "      <th>2019-01-02 14:09:49.278052</th>\n",
       "      <td>1</td>\n",
       "      <td>3.232125</td>\n",
       "      <td>0.000523</td>\n",
       "    </tr>\n",
       "    <tr>\n",
       "      <th>2019-01-02 14:11:19.213509</th>\n",
       "      <td>1</td>\n",
       "      <td>14.976260</td>\n",
       "      <td>0.002130</td>\n",
       "    </tr>\n",
       "    <tr>\n",
       "      <th>2019-01-02 14:13:09.516479</th>\n",
       "      <td>1</td>\n",
       "      <td>15.734945</td>\n",
       "      <td>0.002272</td>\n",
       "    </tr>\n",
       "    <tr>\n",
       "      <th>2019-01-02 14:17:26.059410</th>\n",
       "      <td>1</td>\n",
       "      <td>17.635946</td>\n",
       "      <td>0.002515</td>\n",
       "    </tr>\n",
       "    <tr>\n",
       "      <th>2019-01-02 14:20:01.351735</th>\n",
       "      <td>1</td>\n",
       "      <td>6.701994</td>\n",
       "      <td>0.001080</td>\n",
       "    </tr>\n",
       "    <tr>\n",
       "      <th>2019-01-02 14:22:20.603356</th>\n",
       "      <td>1</td>\n",
       "      <td>16.091481</td>\n",
       "      <td>0.002283</td>\n",
       "    </tr>\n",
       "    <tr>\n",
       "      <th>2019-01-02 14:24:44.727396</th>\n",
       "      <td>1</td>\n",
       "      <td>17.755549</td>\n",
       "      <td>0.002430</td>\n",
       "    </tr>\n",
       "    <tr>\n",
       "      <th>2019-01-02 14:26:29.786455</th>\n",
       "      <td>1</td>\n",
       "      <td>13.369156</td>\n",
       "      <td>0.001909</td>\n",
       "    </tr>\n",
       "    <tr>\n",
       "      <th>2019-01-02 14:28:44.791609</th>\n",
       "      <td>1</td>\n",
       "      <td>9.696078</td>\n",
       "      <td>0.001446</td>\n",
       "    </tr>\n",
       "    <tr>\n",
       "      <th>2019-01-02 14:29:56.099073</th>\n",
       "      <td>1</td>\n",
       "      <td>13.790670</td>\n",
       "      <td>0.001978</td>\n",
       "    </tr>\n",
       "    <tr>\n",
       "      <th>2019-01-02 14:31:08.920057</th>\n",
       "      <td>1</td>\n",
       "      <td>25.007115</td>\n",
       "      <td>0.003259</td>\n",
       "    </tr>\n",
       "    <tr>\n",
       "      <th>2019-01-02 14:32:53.563537</th>\n",
       "      <td>1</td>\n",
       "      <td>17.865385</td>\n",
       "      <td>0.002394</td>\n",
       "    </tr>\n",
       "    <tr>\n",
       "      <th>2019-01-02 14:37:47.191476</th>\n",
       "      <td>1</td>\n",
       "      <td>20.955314</td>\n",
       "      <td>0.002814</td>\n",
       "    </tr>\n",
       "    <tr>\n",
       "      <th>2019-01-02 14:38:46.731271</th>\n",
       "      <td>1</td>\n",
       "      <td>12.643411</td>\n",
       "      <td>0.001668</td>\n",
       "    </tr>\n",
       "    <tr>\n",
       "      <th>2019-01-02 14:40:08.615529</th>\n",
       "      <td>1</td>\n",
       "      <td>13.436975</td>\n",
       "      <td>0.001953</td>\n",
       "    </tr>\n",
       "    <tr>\n",
       "      <th>2019-01-02 14:47:22.712228</th>\n",
       "      <td>1</td>\n",
       "      <td>50.014737</td>\n",
       "      <td>0.006448</td>\n",
       "    </tr>\n",
       "  </tbody>\n",
       "</table>\n",
       "<p>168 rows × 3 columns</p>\n",
       "</div>"
      ],
      "text/plain": [
       "                            event  working_time    energy\n",
       "timestamp                                                \n",
       "2019-01-02 05:20:41.111115      1     16.586123  0.002300\n",
       "2019-01-02 05:21:29.991422      1     12.435687  0.001692\n",
       "2019-01-02 05:23:52.747297      1      4.672222  0.000737\n",
       "2019-01-02 05:24:37.703624      1      8.347243  0.001277\n",
       "2019-01-02 05:24:58.905420      1      7.631132  0.001177\n",
       "2019-01-02 05:26:30.983379      1     16.717014  0.002361\n",
       "2019-01-02 05:27:55.581802      1      8.315972  0.001209\n",
       "2019-01-02 05:28:42.039630      1     12.395092  0.001926\n",
       "2019-01-02 05:32:02.769066      1     12.865236  0.001959\n",
       "2019-01-02 05:34:18.736451      1     13.865489  0.002020\n",
       "2019-01-02 06:05:02.218920      1      6.976636  0.001124\n",
       "2019-01-02 06:07:15.548520      1     15.230542  0.002128\n",
       "2019-01-02 06:09:46.391418      1     19.720513  0.002787\n",
       "2019-01-02 06:12:03.026856      1     14.016133  0.002009\n",
       "2019-01-02 06:14:08.284226      1      6.359542  0.000973\n",
       "2019-01-02 06:16:30.830947      1     14.766162  0.002107\n",
       "2019-01-02 06:18:45.955332      1     16.597807  0.002413\n",
       "2019-01-02 06:21:01.185737      1     12.550241  0.001780\n",
       "2019-01-02 06:23:12.335219      1      9.811189  0.001447\n",
       "2019-01-02 06:25:47.000184      1     12.736815  0.001723\n",
       "2019-01-02 06:27:49.738513      1     16.027647  0.002291\n",
       "2019-01-02 06:30:05.561044      1     13.736021  0.002021\n",
       "2019-01-02 06:32:17.961933      1      3.666667  0.000532\n",
       "2019-01-02 06:34:32.616162      1     14.592075  0.002173\n",
       "2019-01-02 06:37:24.423847      1     14.719170  0.002148\n",
       "2019-01-02 06:39:39.741303      1     12.789378  0.001916\n",
       "2019-01-02 06:41:50.903203      1      7.171233  0.001082\n",
       "2019-01-02 06:44:05.692210      1     15.158126  0.002141\n",
       "2019-01-02 06:46:28.201668      1     13.123843  0.001884\n",
       "2019-01-02 06:48:44.359551      1     13.417009  0.002010\n",
       "...                           ...           ...       ...\n",
       "2019-01-02 12:51:14.914102      1     14.955952  0.002112\n",
       "2019-01-02 12:53:00.816876      1     16.414342  0.002556\n",
       "2019-01-02 12:54:56.400479      1     12.792241  0.001883\n",
       "2019-01-02 12:56:47.745174      1      7.626291  0.001323\n",
       "2019-01-02 12:58:38.839323      1     13.086555  0.001905\n",
       "2019-01-02 13:03:31.533575      1     13.598601  0.002047\n",
       "2019-01-02 13:11:01.287404      1     12.731475  0.001905\n",
       "2019-01-02 13:12:57.254682      1      7.708392  0.001326\n",
       "2019-01-02 13:14:43.030682      1     14.395440  0.002166\n",
       "2019-01-02 13:16:40.429509      1     13.203225  0.001942\n",
       "2019-01-02 13:18:25.066858      1     17.239177  0.002460\n",
       "2019-01-02 13:23:39.998649      1      6.953147  0.001154\n",
       "2019-01-02 13:24:17.051653      1      6.631579  0.001185\n",
       "2019-01-02 14:09:22.811790      1     11.883913  0.001747\n",
       "2019-01-02 14:09:49.278052      1      3.232125  0.000523\n",
       "2019-01-02 14:11:19.213509      1     14.976260  0.002130\n",
       "2019-01-02 14:13:09.516479      1     15.734945  0.002272\n",
       "2019-01-02 14:17:26.059410      1     17.635946  0.002515\n",
       "2019-01-02 14:20:01.351735      1      6.701994  0.001080\n",
       "2019-01-02 14:22:20.603356      1     16.091481  0.002283\n",
       "2019-01-02 14:24:44.727396      1     17.755549  0.002430\n",
       "2019-01-02 14:26:29.786455      1     13.369156  0.001909\n",
       "2019-01-02 14:28:44.791609      1      9.696078  0.001446\n",
       "2019-01-02 14:29:56.099073      1     13.790670  0.001978\n",
       "2019-01-02 14:31:08.920057      1     25.007115  0.003259\n",
       "2019-01-02 14:32:53.563537      1     17.865385  0.002394\n",
       "2019-01-02 14:37:47.191476      1     20.955314  0.002814\n",
       "2019-01-02 14:38:46.731271      1     12.643411  0.001668\n",
       "2019-01-02 14:40:08.615529      1     13.436975  0.001953\n",
       "2019-01-02 14:47:22.712228      1     50.014737  0.006448\n",
       "\n",
       "[168 rows x 3 columns]"
      ]
     },
     "execution_count": 29,
     "metadata": {},
     "output_type": "execute_result"
    }
   ],
   "source": [
    "SP_events[SP_events.event==1]"
   ]
  },
  {
   "cell_type": "code",
   "execution_count": 27,
   "metadata": {},
   "outputs": [
    {
     "data": {
      "text/plain": [
       "168"
      ]
     },
     "execution_count": 27,
     "metadata": {},
     "output_type": "execute_result"
    }
   ],
   "source": [
    "SP_events[SP_events.event==1].shape[0]"
   ]
  },
  {
   "cell_type": "code",
   "execution_count": 28,
   "metadata": {},
   "outputs": [
    {
     "data": {
      "text/plain": [
       "43"
      ]
     },
     "execution_count": 28,
     "metadata": {},
     "output_type": "execute_result"
    }
   ],
   "source": [
    "SP_events[SP_events.event==2].shape[0]"
   ]
  },
  {
   "cell_type": "code",
   "execution_count": null,
   "metadata": {},
   "outputs": [],
   "source": []
  }
 ],
 "metadata": {
  "kernelspec": {
   "display_name": "Python 3",
   "language": "python",
   "name": "python3"
  },
  "language_info": {
   "codemirror_mode": {
    "name": "ipython",
    "version": 3
   },
   "file_extension": ".py",
   "mimetype": "text/x-python",
   "name": "python",
   "nbconvert_exporter": "python",
   "pygments_lexer": "ipython3",
   "version": "3.6.7"
  }
 },
 "nbformat": 4,
 "nbformat_minor": 2
}
