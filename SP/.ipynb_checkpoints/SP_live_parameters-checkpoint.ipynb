{
 "cells": [
  {
   "cell_type": "code",
   "execution_count": 1,
   "metadata": {},
   "outputs": [],
   "source": [
    "import pandas as pd\n",
    "import matplotlib.pyplot as plt\n",
    "import scipy.signal\n",
    "import numpy as np\n",
    "import seaborn as sns\n",
    "plt.rcParams[\"figure.figsize\"]=[15,5]"
   ]
  },
  {
   "cell_type": "code",
   "execution_count": 18,
   "metadata": {},
   "outputs": [],
   "source": [
    "raw_sp = pd.read_csv('sp_jan.csv', usecols =['timestamp', 'data.A1'])\n",
    "raw_sp.sort_values(by=['timestamp'])\n",
    "raw_sp.reset_index(inplace=True)\n",
    "raw_sp['timestamp'] =  pd.to_datetime(raw_sp['timestamp'])"
   ]
  },
  {
   "cell_type": "code",
   "execution_count": 3,
   "metadata": {},
   "outputs": [],
   "source": [
    "test_sp=raw_sp\n",
    "sptimethresh=12"
   ]
  },
  {
   "cell_type": "code",
   "execution_count": 4,
   "metadata": {},
   "outputs": [],
   "source": [
    "#Get boards from Screenprinter\n",
    "test_sp=test_sp[['data.A1','timestamp']]\n",
    "# events=scipy.signal.find_peaks(test_sp['data.A1'], height=(2.22, 5), width=1)"
   ]
  },
  {
   "cell_type": "code",
   "execution_count": 5,
   "metadata": {},
   "outputs": [
    {
     "name": "stderr",
     "output_type": "stream",
     "text": [
      "/home/raghu/anaconda3/lib/python3.6/site-packages/ipykernel_launcher.py:1: SettingWithCopyWarning: \n",
      "A value is trying to be set on a copy of a slice from a DataFrame.\n",
      "Try using .loc[row_indexer,col_indexer] = value instead\n",
      "\n",
      "See the caveats in the documentation: http://pandas.pydata.org/pandas-docs/stable/indexing.html#indexing-view-versus-copy\n",
      "  \"\"\"Entry point for launching an IPython kernel.\n"
     ]
    }
   ],
   "source": [
    "test_sp['sum']=pd.Series.to_frame(test_sp['data.A1'].rolling(12, center=True).sum())"
   ]
  },
  {
   "cell_type": "code",
   "execution_count": 6,
   "metadata": {},
   "outputs": [],
   "source": [
    "%matplotlib qt"
   ]
  },
  {
   "cell_type": "code",
   "execution_count": 7,
   "metadata": {},
   "outputs": [
    {
     "data": {
      "text/plain": [
       "[<matplotlib.lines.Line2D at 0x7eff75493e80>]"
      ]
     },
     "execution_count": 7,
     "metadata": {},
     "output_type": "execute_result"
    }
   ],
   "source": [
    "plt.plot(test_sp['timestamp'], test_sp['sum'])\n",
    "plt.plot(test_sp['timestamp'], test_sp['data.A1']*10)"
   ]
  },
  {
   "cell_type": "code",
   "execution_count": 8,
   "metadata": {},
   "outputs": [
    {
     "data": {
      "text/plain": [
       "[<matplotlib.lines.Line2D at 0x7effb0246e80>]"
      ]
     },
     "execution_count": 8,
     "metadata": {},
     "output_type": "execute_result"
    }
   ],
   "source": [
    "plt.plot(test_sp['timestamp'], test_sp['sum'])"
   ]
  },
  {
   "cell_type": "code",
   "execution_count": 9,
   "metadata": {},
   "outputs": [],
   "source": [
    "sptimethresh=12\n",
    "printing_delays_raw=scipy.signal.find_peaks(test_sp['sum'], height=(24, 30), distance=sptimethresh, width=1)\n",
    "printing_delays_raw_df=pd.DataFrame({\"sample_number\":printing_delays_raw[0], \"working_time\":printing_delays_raw[1]['widths']})\n",
    "cleaning_delays_raw=scipy.signal.find_peaks(test_sp['sum'], height=60, distance=sptimethresh, width=1)\n",
    "cleaning_delays_raw_df=pd.DataFrame({\"sample_number\":cleaning_delays_raw[0], \"working_time\":cleaning_delays_raw[1]['widths']})"
   ]
  },
  {
   "cell_type": "code",
   "execution_count": 10,
   "metadata": {},
   "outputs": [],
   "source": [
    "SP_events=pd.DataFrame({\"timestamp\":test_sp.iloc[printing_delays_raw_df.sample_number].timestamp, \"event\":1, \"working_time\":printing_delays_raw_df.working_time.tolist()})\n",
    "cleanings=pd.DataFrame({\"timestamp\":test_sp.iloc[cleaning_delays_raw_df.sample_number].timestamp, \"event\":2, \"working_time\":cleaning_delays_raw_df.working_time.tolist()})\n",
    "SP_events.reset_index(inplace=True)\n",
    "cleanings.reset_index(inplace=True)"
   ]
  },
  {
   "cell_type": "code",
   "execution_count": 11,
   "metadata": {},
   "outputs": [
    {
     "name": "stderr",
     "output_type": "stream",
     "text": [
      "/home/raghu/anaconda3/lib/python3.6/site-packages/ipykernel_launcher.py:2: DeprecationWarning: \n",
      ".ix is deprecated. Please use\n",
      ".loc for label based indexing or\n",
      ".iloc for positional indexing\n",
      "\n",
      "See the documentation here:\n",
      "http://pandas.pydata.org/pandas-docs/stable/indexing.html#ix-indexer-is-deprecated\n",
      "  \n"
     ]
    }
   ],
   "source": [
    "for x, row in SP_events.iterrows():\n",
    "    SP_events.ix[x,'energy']=test_sp.ix[int(printing_delays_raw[1]['left_ips'][x]):int(printing_delays_raw[1]['right_ips'][x]), 'data.A1'].sum()*230"
   ]
  },
  {
   "cell_type": "code",
   "execution_count": 13,
   "metadata": {},
   "outputs": [
    {
     "name": "stderr",
     "output_type": "stream",
     "text": [
      "/home/raghu/anaconda3/lib/python3.6/site-packages/ipykernel_launcher.py:2: DeprecationWarning: \n",
      ".ix is deprecated. Please use\n",
      ".loc for label based indexing or\n",
      ".iloc for positional indexing\n",
      "\n",
      "See the documentation here:\n",
      "http://pandas.pydata.org/pandas-docs/stable/indexing.html#ix-indexer-is-deprecated\n",
      "  \n"
     ]
    }
   ],
   "source": [
    "for x, row in cleanings.iterrows():\n",
    "    cleanings.ix[x,'energy']=test_sp.ix[int(cleaning_delays_raw[1]['left_ips'][x]):int(cleaning_delays_raw[1]['right_ips'][x]), 'data.A1'].sum()*230"
   ]
  },
  {
   "cell_type": "code",
   "execution_count": 14,
   "metadata": {},
   "outputs": [],
   "source": [
    "SP_events.index=SP_events.timestamp\n",
    "SP_events.drop('timestamp', axis=1, inplace=True)\n",
    "SP_events.drop('index', axis=1, inplace=True)\n",
    "\n",
    "cleanings.index=cleanings.timestamp\n",
    "cleanings.drop('timestamp', axis=1, inplace=True)\n",
    "cleanings.drop('index', axis=1, inplace=True)\n",
    "\n",
    "SP_events=SP_events.append(cleanings)"
   ]
  },
  {
   "cell_type": "code",
   "execution_count": 23,
   "metadata": {},
   "outputs": [
    {
     "data": {
      "text/plain": [
       "Text(0.5, 1.0, 'SP Printing Times Histogram')"
      ]
     },
     "execution_count": 23,
     "metadata": {},
     "output_type": "execute_result"
    }
   ],
   "source": [
    "sns.distplot(SP_events.working_time[SP_events['event']==1])\n",
    "plt.title('SP Printing Times Histogram')"
   ]
  },
  {
   "cell_type": "code",
   "execution_count": 24,
   "metadata": {},
   "outputs": [
    {
     "data": {
      "text/plain": [
       "Text(0.5, 1.0, 'SP Cleaning Times Histogram')"
      ]
     },
     "execution_count": 24,
     "metadata": {},
     "output_type": "execute_result"
    }
   ],
   "source": [
    "sns.distplot(SP_events.working_time[SP_events['event']==2])\n",
    "plt.title('SP Cleaning Times Histogram')"
   ]
  },
  {
   "cell_type": "code",
   "execution_count": 27,
   "metadata": {},
   "outputs": [
    {
     "name": "stdout",
     "output_type": "stream",
     "text": [
      "Printing time Mode:  12.96700976109289\n"
     ]
    }
   ],
   "source": [
    "print('Printing time Mode: ', SP_events.working_time[SP_events['event']==1].mode().mean())"
   ]
  },
  {
   "cell_type": "code",
   "execution_count": 28,
   "metadata": {},
   "outputs": [
    {
     "name": "stdout",
     "output_type": "stream",
     "text": [
      "Cleaning time Mode:  12.350014895841353\n"
     ]
    }
   ],
   "source": [
    "print('Cleaning time Mode: ', SP_events.working_time[SP_events['event']==2].mode().mean())"
   ]
  },
  {
   "cell_type": "code",
   "execution_count": null,
   "metadata": {},
   "outputs": [],
   "source": []
  }
 ],
 "metadata": {
  "kernelspec": {
   "display_name": "Python 3",
   "language": "python",
   "name": "python3"
  },
  "language_info": {
   "codemirror_mode": {
    "name": "ipython",
    "version": 3
   },
   "file_extension": ".py",
   "mimetype": "text/x-python",
   "name": "python",
   "nbconvert_exporter": "python",
   "pygments_lexer": "ipython3",
   "version": "3.6.7"
  }
 },
 "nbformat": 4,
 "nbformat_minor": 2
}
