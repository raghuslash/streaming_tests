{
 "cells": [
  {
   "cell_type": "code",
   "execution_count": 1,
   "metadata": {},
   "outputs": [],
   "source": [
    "import pandas as pd\n",
    "import matplotlib.pyplot as plt\n",
    "import scipy.signal\n",
    "import numpy as np"
   ]
  },
  {
   "cell_type": "code",
   "execution_count": 2,
   "metadata": {},
   "outputs": [],
   "source": [
    "plt.rcParams[\"figure.figsize\"]=[15,5]\n",
    "plt.rcParams['backend']=\"TkAgg\""
   ]
  },
  {
   "cell_type": "code",
   "execution_count": 3,
   "metadata": {},
   "outputs": [
    {
     "name": "stderr",
     "output_type": "stream",
     "text": [
      "/home/raghu/anaconda3/lib/python3.6/site-packages/ipykernel_launcher.py:15: SettingWithCopyWarning: \n",
      "A value is trying to be set on a copy of a slice from a DataFrame.\n",
      "Try using .loc[row_indexer,col_indexer] = value instead\n",
      "\n",
      "See the caveats in the documentation: http://pandas.pydata.org/pandas-docs/stable/indexing.html#indexing-view-versus-copy\n",
      "  from ipykernel import kernelapp as app\n"
     ]
    }
   ],
   "source": [
    "#Load LD data and plot\n",
    "\n",
    "raw_ld=pd.read_csv('loader_jan.csv', usecols=['timestamp', 'data.ax', 'data.ay', 'data.az'])\n",
    "\n",
    "raw_ld[\"acc\"] = ( raw_ld[\"data.ax\"]**2 + raw_ld[\"data.az\"]**2 ) ** 0.5\n",
    "\n",
    "# window = mins * 60 * 100\n",
    "\n",
    "acc=raw_ld[[\"timestamp\", \"acc\"]]\n",
    "acc.set_index('timestamp')\n",
    "\n",
    "# test_ld.plot()\n",
    "# test_ld['timestamp']=acc.head(window)['timestamp']\n",
    "test_ld=acc\n",
    "test_ld['acc']=pd.Series.to_frame(test_ld.acc.rolling(75, center=True).std())"
   ]
  },
  {
   "cell_type": "code",
   "execution_count": 4,
   "metadata": {},
   "outputs": [],
   "source": [
    "timethresh=20"
   ]
  },
  {
   "cell_type": "code",
   "execution_count": 5,
   "metadata": {},
   "outputs": [
    {
     "name": "stderr",
     "output_type": "stream",
     "text": [
      "/home/raghu/anaconda3/lib/python3.6/site-packages/pandas/core/indexing.py:362: SettingWithCopyWarning: \n",
      "A value is trying to be set on a copy of a slice from a DataFrame.\n",
      "Try using .loc[row_indexer,col_indexer] = value instead\n",
      "\n",
      "See the caveats in the documentation: http://pandas.pydata.org/pandas-docs/stable/indexing.html#indexing-view-versus-copy\n",
      "  self.obj[key] = _infer_fill_value(value)\n",
      "/home/raghu/anaconda3/lib/python3.6/site-packages/pandas/core/indexing.py:543: SettingWithCopyWarning: \n",
      "A value is trying to be set on a copy of a slice from a DataFrame.\n",
      "Try using .loc[row_indexer,col_indexer] = value instead\n",
      "\n",
      "See the caveats in the documentation: http://pandas.pydata.org/pandas-docs/stable/indexing.html#indexing-view-versus-copy\n",
      "  self.obj[item] = s\n"
     ]
    },
    {
     "name": "stdout",
     "output_type": "stream",
     "text": [
      "Boards detected in LD: 232\n"
     ]
    }
   ],
   "source": [
    "#Get boards from Loader\n",
    "board=scipy.signal.find_peaks(test_ld.acc,height=(0.01), width=1)\n",
    "boards=[]\n",
    "differ=np.diff(board[0])\n",
    "differ=differ.tolist()\n",
    "# test_ld.insert(2,'state',0)\n",
    "boards=[]\n",
    "boards.append(board[0][0])\n",
    "sumdiffer=0\n",
    "for i, x in enumerate(board[0]):\n",
    "    try:\n",
    "        sumdiffer+=differ[i]\n",
    "        if sumdiffer>timethresh*100:\n",
    "            boards.append(board[0][i])\n",
    "            test_ld.at[x, 'state']=1\n",
    "            sumdiffer=0\n",
    "        if differ[i] < timethresh*100:\n",
    "            test_ld.at[x, 'state']=2\n",
    "    except:\n",
    "        continue\n",
    "print('Boards detected in LD:', len(boards))\n",
    "ld_boards=test_ld[test_ld['state']==1]"
   ]
  },
  {
   "cell_type": "code",
   "execution_count": 6,
   "metadata": {},
   "outputs": [
    {
     "name": "stderr",
     "output_type": "stream",
     "text": [
      "/home/raghu/anaconda3/lib/python3.6/site-packages/ipykernel_launcher.py:6: SettingWithCopyWarning: \n",
      "A value is trying to be set on a copy of a slice from a DataFrame.\n",
      "Try using .loc[row_indexer,col_indexer] = value instead\n",
      "\n",
      "See the caveats in the documentation: http://pandas.pydata.org/pandas-docs/stable/indexing.html#indexing-view-versus-copy\n",
      "  \n",
      "/home/raghu/anaconda3/lib/python3.6/site-packages/ipykernel_launcher.py:7: SettingWithCopyWarning: \n",
      "A value is trying to be set on a copy of a slice from a DataFrame.\n",
      "Try using .loc[row_indexer,col_indexer] = value instead\n",
      "\n",
      "See the caveats in the documentation: http://pandas.pydata.org/pandas-docs/stable/indexing.html#indexing-view-versus-copy\n",
      "  import sys\n"
     ]
    }
   ],
   "source": [
    "import datetime as dt\n",
    "import time\n",
    "import matplotlib.dates as mdates\n",
    "\n",
    "pattern=\"%Y-%m-%dT%H:%M:%S.%f\"\n",
    "test_ld['timestamp'] =  pd.to_datetime(test_ld['timestamp'], format=pattern)\n",
    "ld_boards['timestamp'] =  pd.to_datetime(ld_boards['timestamp'], format=pattern)"
   ]
  },
  {
   "cell_type": "code",
   "execution_count": 9,
   "metadata": {},
   "outputs": [
    {
     "data": {
      "text/plain": [
       "Text(0.5, 1.0, 'Board Detections')"
      ]
     },
     "execution_count": 9,
     "metadata": {},
     "output_type": "execute_result"
    },
    {
     "data": {
      "image/png": "[encoded data removed]",
      "text/plain": [
       "<Figure size 1080x360 with 2 Axes>"
      ]
     },
     "metadata": {
      "needs_background": "light"
     },
     "output_type": "display_data"
    }
   ],
   "source": [
    "fig, ax1 = plt.subplots()\n",
    "\n",
    "ax1.stem(ld_boards['timestamp'], ld_boards['state'], 'orange')\n",
    "\n",
    "# ax1.xaxis.set_major_locator(mdates.DateFormatter('%H:%M'))\n",
    "\n",
    "ax1.set_xlabel('Time')\n",
    "\n",
    "ax2 = ax1.twinx()\n",
    "\n",
    "ax2.plot(test_ld['timestamp'], test_ld['acc'], 'blue')\n",
    "\n",
    "plt.title('Board Detections')"
   ]
  },
  {
   "cell_type": "code",
   "execution_count": null,
   "metadata": {},
   "outputs": [],
   "source": []
  }
 ],
 "metadata": {
  "kernelspec": {
   "display_name": "Python 3",
   "language": "python",
   "name": "python3"
  },
  "language_info": {
   "codemirror_mode": {
    "name": "ipython",
    "version": 3
   },
   "file_extension": ".py",
   "mimetype": "text/x-python",
   "name": "python",
   "nbconvert_exporter": "python",
   "pygments_lexer": "ipython3",
   "version": "3.6.7"
  }
 },
 "nbformat": 4,
 "nbformat_minor": 2
}
