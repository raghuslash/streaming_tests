{
 "cells": [
  {
   "cell_type": "code",
   "execution_count": 1,
   "metadata": {},
   "outputs": [],
   "source": [
    "import pandas as pd\n",
    "import matplotlib.pyplot as plt\n",
    "import scipy.signal\n",
    "import numpy as np\n",
    "import seaborn as sns"
   ]
  },
  {
   "cell_type": "code",
   "execution_count": 2,
   "metadata": {},
   "outputs": [],
   "source": [
    "plt.rcParams[\"figure.figsize\"]=[15,5]"
   ]
  },
  {
   "cell_type": "code",
   "execution_count": 3,
   "metadata": {},
   "outputs": [],
   "source": [
    "raw_ld=pd.read_csv('6thHour.csv', usecols=['timestamp', 'data.ax', 'data.az'])\n",
    "raw_ld.sort_values(by=['timestamp'], inplace=True)\n",
    "raw_ld.reset_index(inplace=True)\n",
    "raw_ld.dropna(axis=0, inplace=True)\n",
    "raw_ld.timestamp=pd.to_datetime(raw_ld.timestamp)"
   ]
  },
  {
   "cell_type": "code",
   "execution_count": 4,
   "metadata": {},
   "outputs": [
    {
     "name": "stderr",
     "output_type": "stream",
     "text": [
      "/home/raghu/anaconda3/lib/python3.7/site-packages/ipykernel_launcher.py:6: SettingWithCopyWarning: \n",
      "A value is trying to be set on a copy of a slice from a DataFrame.\n",
      "Try using .loc[row_indexer,col_indexer] = value instead\n",
      "\n",
      "See the caveats in the documentation: http://pandas.pydata.org/pandas-docs/stable/indexing.html#indexing-view-versus-copy\n",
      "  \n",
      "/home/raghu/anaconda3/lib/python3.7/site-packages/ipykernel_launcher.py:7: SettingWithCopyWarning: \n",
      "A value is trying to be set on a copy of a slice from a DataFrame.\n",
      "Try using .loc[row_indexer,col_indexer] = value instead\n",
      "\n",
      "See the caveats in the documentation: http://pandas.pydata.org/pandas-docs/stable/indexing.html#indexing-view-versus-copy\n",
      "  import sys\n"
     ]
    }
   ],
   "source": [
    "#Load LD data and plot\n",
    "raw_ld[\"acc\"] = ( raw_ld[\"data.ax\"]**2 + raw_ld[\"data.az\"]**2 ) ** 0.5\n",
    "acc=raw_ld[[\"timestamp\", \"acc\"]]\n",
    "acc.set_index('timestamp')\n",
    "test_ld=acc\n",
    "test_ld['acc_raw']=test_ld['acc']\n",
    "test_ld['acc']=pd.Series.to_frame(test_ld.acc.rolling(100, center=True).std())"
   ]
  },
  {
   "cell_type": "code",
   "execution_count": 5,
   "metadata": {},
   "outputs": [],
   "source": [
    "# test_ld['timestamp'] =  pd.to_datetime(test_ld['timestamp'])"
   ]
  },
  {
   "cell_type": "code",
   "execution_count": 6,
   "metadata": {},
   "outputs": [],
   "source": [
    "timethresh=12\n",
    "test_ld.insert(2,'state',0)"
   ]
  },
  {
   "cell_type": "code",
   "execution_count": 7,
   "metadata": {},
   "outputs": [
    {
     "name": "stdout",
     "output_type": "stream",
     "text": [
      "Using matplotlib backend: Qt5Agg\n"
     ]
    }
   ],
   "source": [
    "%matplotlib"
   ]
  },
  {
   "cell_type": "code",
   "execution_count": 8,
   "metadata": {},
   "outputs": [
    {
     "data": {
      "text/plain": [
       "[<matplotlib.lines.Line2D at 0x7f7a47d81b00>]"
      ]
     },
     "execution_count": 8,
     "metadata": {},
     "output_type": "execute_result"
    }
   ],
   "source": [
    "plt.plot(test_ld['timestamp'], test_ld['acc'])"
   ]
  },
  {
   "cell_type": "code",
   "execution_count": 9,
   "metadata": {},
   "outputs": [
    {
     "name": "stdout",
     "output_type": "stream",
     "text": [
      "Boards detected in LD: 34\n"
     ]
    }
   ],
   "source": [
    "#Get boards from Loader\n",
    "board=scipy.signal.find_peaks(test_ld.acc, height=(0.01), distance=timethresh*72, width=1)\n",
    "differ=np.diff(board[0])\n",
    "differ=differ.tolist()\n",
    "\n",
    "# boards=[]\n",
    "# boards.append(board[0][0])\n",
    "# sumdiffer=0\n",
    "# for i, x in enumerate(board[0]):\n",
    "#     try:\n",
    "#         sumdiffer+=differ[i]\n",
    "#         if sumdiffer>timethresh*100:\n",
    "#             boards.append(board[0][i])\n",
    "#             test_ld.at[x, 'state']=1\n",
    "#             sumdiffer=0\n",
    "#         if differ[i] < timethresh*100:\n",
    "#             test_ld.at[x, 'state']=2\n",
    "#     except:\n",
    "#         continue\n",
    "for x in board[0]:\n",
    "    test_ld.at[x, 'state'] = 1\n",
    "\n",
    "ld_boards=test_ld[test_ld['state']==1]\n",
    "print('Boards detected in LD:', ld_boards.shape[0])"
   ]
  },
  {
   "cell_type": "code",
   "execution_count": 33,
   "metadata": {},
   "outputs": [
    {
     "data": {
      "text/plain": [
       "Text(0.5, 1.0, 'Board Detections')"
      ]
     },
     "execution_count": 33,
     "metadata": {},
     "output_type": "execute_result"
    }
   ],
   "source": [
    "fig, ax1 = plt.subplots()\n",
    "\n",
    "\n",
    "# ax1.plot(test_ld['timestamp'], test_ld['acc_raw'], 'green')\n",
    "ax1.plot(test_ld['timestamp'], np.ones(test_ld.shape[0])*0.01, 'green')\n",
    "ax1.plot(test_ld['timestamp'], test_ld['acc'], 'orange')\n",
    "\n",
    "# ax1.plot(test_ld['timestamp'], np.ones(test_ld.shape[0]*0.01), 'green')\n",
    "# ax1.xaxis.set_major_locator(mdates.DateFormatter('%H:%M'))\n",
    "\n",
    "ax1.set_xlabel('Time')\n",
    "\n",
    "ax2 = ax1.twinx()\n",
    "ax2.stem(ld_boards['timestamp'], ld_boards['state'], 'b:')\n",
    "\n",
    "plt.title('Board Detections')"
   ]
  },
  {
   "cell_type": "code",
   "execution_count": null,
   "metadata": {},
   "outputs": [],
   "source": [
    "loading_delays_rawdf=pd.DataFrame({\"sample_number\":board[0], \"working_time\":board[1]['widths']/72})\n"
   ]
  },
  {
   "cell_type": "code",
   "execution_count": null,
   "metadata": {},
   "outputs": [],
   "source": [
    "LD_events=pd.DataFrame({\"timestamp\":test_ld.iloc[loading_delays_rawdf.sample_number].timestamp, \"event\":1, \"working_time\":(loading_delays_rawdf.working_time).tolist()})"
   ]
  },
  {
   "cell_type": "code",
   "execution_count": null,
   "metadata": {},
   "outputs": [],
   "source": [
    "LD_events.index=LD_events.timestamp\n",
    "LD_events.drop('timestamp', axis=1, inplace=True)\n",
    "LD_events['energy']=float('nan')"
   ]
  },
  {
   "cell_type": "code",
   "execution_count": null,
   "metadata": {},
   "outputs": [],
   "source": [
    "LD_events"
   ]
  },
  {
   "cell_type": "code",
   "execution_count": null,
   "metadata": {},
   "outputs": [],
   "source": [
    "sns.distplot(LD_events.working_time)\n",
    "plt.title('Loader Loading Times Histogram')"
   ]
  },
  {
   "cell_type": "code",
   "execution_count": null,
   "metadata": {},
   "outputs": [],
   "source": [
    "print('LD loading time mode: ', LD_events.working_time.mode().mean())"
   ]
  },
  {
   "cell_type": "code",
   "execution_count": null,
   "metadata": {},
   "outputs": [],
   "source": []
  }
 ],
 "metadata": {
  "kernelspec": {
   "display_name": "Python 3",
   "language": "python",
   "name": "python3"
  },
  "language_info": {
   "codemirror_mode": {
    "name": "ipython",
    "version": 3
   },
   "file_extension": ".py",
   "mimetype": "text/x-python",
   "name": "python",
   "nbconvert_exporter": "python",
   "pygments_lexer": "ipython3",
   "version": "3.7.1"
  }
 },
 "nbformat": 4,
 "nbformat_minor": 2
}
