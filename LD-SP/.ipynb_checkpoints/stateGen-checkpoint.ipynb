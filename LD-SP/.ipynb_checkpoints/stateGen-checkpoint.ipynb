{
 "cells": [
  {
   "cell_type": "code",
   "execution_count": 1,
   "metadata": {},
   "outputs": [],
   "source": [
    "import pandas as pd\n",
    "import os\n",
    "import sys"
   ]
  },
  {
   "cell_type": "code",
   "execution_count": 2,
   "metadata": {},
   "outputs": [],
   "source": [
    "import matplotlib.pyplot as plt"
   ]
  },
  {
   "cell_type": "code",
   "execution_count": 3,
   "metadata": {},
   "outputs": [
    {
     "name": "stdout",
     "output_type": "stream",
     "text": [
      "File not found!\n"
     ]
    }
   ],
   "source": [
    "# plt.rcParams[\"figure.figsize\"]=[15,5]\n",
    "if len(sys.argv) <  2:\n",
    "\n",
    "        print(\"No filename passed. Place the CSV file in the same folder.\")\n",
    "\n",
    "        exit(2)\n",
    "\n",
    "ldfile=sys.argv[1]\n",
    "\n",
    "if not os.path.isfile(ldfile):\n",
    "\n",
    "        print(\"File not found!\")\n",
    "\n",
    "#         exit(1)\n",
    "\n",
    "try:\n",
    "        \n",
    "#         raw = pd.read_csv(ldfile, usecols=['timestamp', 'data.ax', 'data.ay', 'data.az', 'data.A1'])\n",
    "          raw = pd.read_csv('loader.csv', usecols=['timestamp', 'data.ax', 'data.ay', 'data.az', 'data.A1'])\n",
    "\n",
    "except:\n",
    "\n",
    "        print(\"Invalid file!\")"
   ]
  },
  {
   "cell_type": "code",
   "execution_count": 4,
   "metadata": {},
   "outputs": [],
   "source": [
    "raw[\"acc\"] = ( raw[\"data.ax\"]**2 + raw[\"data.az\"]**2 ) ** 0.5"
   ]
  },
  {
   "cell_type": "code",
   "execution_count": 5,
   "metadata": {},
   "outputs": [],
   "source": [
    "# mins = 50\n",
    "# window = 50 * 60 * 75"
   ]
  },
  {
   "cell_type": "code",
   "execution_count": 6,
   "metadata": {},
   "outputs": [
    {
     "data": {
      "text/html": [
       "<div>\n",
       "<style scoped>\n",
       "    .dataframe tbody tr th:only-of-type {\n",
       "        vertical-align: middle;\n",
       "    }\n",
       "\n",
       "    .dataframe tbody tr th {\n",
       "        vertical-align: top;\n",
       "    }\n",
       "\n",
       "    .dataframe thead th {\n",
       "        text-align: right;\n",
       "    }\n",
       "</style>\n",
       "<table border=\"1\" class=\"dataframe\">\n",
       "  <thead>\n",
       "    <tr style=\"text-align: right;\">\n",
       "      <th></th>\n",
       "      <th>acc</th>\n",
       "    </tr>\n",
       "    <tr>\n",
       "      <th>timestamp</th>\n",
       "      <th></th>\n",
       "    </tr>\n",
       "  </thead>\n",
       "  <tbody>\n",
       "    <tr>\n",
       "      <th>2018-03-13T18:29:59.828691</th>\n",
       "      <td>0.058550</td>\n",
       "    </tr>\n",
       "    <tr>\n",
       "      <th>2018-03-13T18:29:59.829822</th>\n",
       "      <td>0.058662</td>\n",
       "    </tr>\n",
       "    <tr>\n",
       "      <th>2018-03-13T18:29:59.830879</th>\n",
       "      <td>0.055355</td>\n",
       "    </tr>\n",
       "    <tr>\n",
       "      <th>2018-03-13T18:29:59.831915</th>\n",
       "      <td>0.055459</td>\n",
       "    </tr>\n",
       "    <tr>\n",
       "      <th>2018-03-13T18:29:59.832950</th>\n",
       "      <td>0.057423</td>\n",
       "    </tr>\n",
       "    <tr>\n",
       "      <th>2018-03-13T18:29:59.850131</th>\n",
       "      <td>0.054581</td>\n",
       "    </tr>\n",
       "    <tr>\n",
       "      <th>2018-03-13T18:29:59.851286</th>\n",
       "      <td>0.058043</td>\n",
       "    </tr>\n",
       "    <tr>\n",
       "      <th>2018-03-13T18:29:59.852322</th>\n",
       "      <td>0.056593</td>\n",
       "    </tr>\n",
       "    <tr>\n",
       "      <th>2018-03-13T18:29:59.853362</th>\n",
       "      <td>0.055390</td>\n",
       "    </tr>\n",
       "    <tr>\n",
       "      <th>2018-03-13T18:29:59.866181</th>\n",
       "      <td>0.055682</td>\n",
       "    </tr>\n",
       "    <tr>\n",
       "      <th>2018-03-13T18:29:59.867301</th>\n",
       "      <td>0.056407</td>\n",
       "    </tr>\n",
       "    <tr>\n",
       "      <th>2018-03-13T18:29:59.874439</th>\n",
       "      <td>0.059516</td>\n",
       "    </tr>\n",
       "    <tr>\n",
       "      <th>2018-03-13T18:29:59.875582</th>\n",
       "      <td>0.054864</td>\n",
       "    </tr>\n",
       "    <tr>\n",
       "      <th>2018-03-13T18:29:59.876620</th>\n",
       "      <td>0.060024</td>\n",
       "    </tr>\n",
       "    <tr>\n",
       "      <th>2018-03-13T18:29:59.877669</th>\n",
       "      <td>0.056305</td>\n",
       "    </tr>\n",
       "    <tr>\n",
       "      <th>2018-03-13T18:29:59.890243</th>\n",
       "      <td>0.058447</td>\n",
       "    </tr>\n",
       "    <tr>\n",
       "      <th>2018-03-13T18:29:59.893022</th>\n",
       "      <td>0.057790</td>\n",
       "    </tr>\n",
       "    <tr>\n",
       "      <th>2018-03-13T18:29:59.894255</th>\n",
       "      <td>0.054376</td>\n",
       "    </tr>\n",
       "    <tr>\n",
       "      <th>2018-03-13T18:29:59.895327</th>\n",
       "      <td>0.059338</td>\n",
       "    </tr>\n",
       "    <tr>\n",
       "      <th>2018-03-13T18:29:59.896383</th>\n",
       "      <td>0.056579</td>\n",
       "    </tr>\n",
       "    <tr>\n",
       "      <th>2018-03-13T18:29:59.897423</th>\n",
       "      <td>0.054987</td>\n",
       "    </tr>\n",
       "    <tr>\n",
       "      <th>2018-03-13T18:29:59.898469</th>\n",
       "      <td>0.054266</td>\n",
       "    </tr>\n",
       "    <tr>\n",
       "      <th>2018-03-13T18:29:59.910036</th>\n",
       "      <td>0.055724</td>\n",
       "    </tr>\n",
       "    <tr>\n",
       "      <th>2018-03-13T18:29:59.911112</th>\n",
       "      <td>0.053714</td>\n",
       "    </tr>\n",
       "    <tr>\n",
       "      <th>2018-03-13T18:29:59.912171</th>\n",
       "      <td>0.057354</td>\n",
       "    </tr>\n",
       "    <tr>\n",
       "      <th>2018-03-13T18:29:59.913203</th>\n",
       "      <td>0.058744</td>\n",
       "    </tr>\n",
       "    <tr>\n",
       "      <th>2018-03-13T18:29:59.918423</th>\n",
       "      <td>0.057510</td>\n",
       "    </tr>\n",
       "    <tr>\n",
       "      <th>2018-03-13T18:29:59.919775</th>\n",
       "      <td>0.056592</td>\n",
       "    </tr>\n",
       "    <tr>\n",
       "      <th>2018-03-13T18:29:59.920874</th>\n",
       "      <td>0.058140</td>\n",
       "    </tr>\n",
       "    <tr>\n",
       "      <th>2018-03-13T18:29:59.921923</th>\n",
       "      <td>0.053582</td>\n",
       "    </tr>\n",
       "    <tr>\n",
       "      <th>...</th>\n",
       "      <td>...</td>\n",
       "    </tr>\n",
       "    <tr>\n",
       "      <th>2018-03-14T18:29:58.461867</th>\n",
       "      <td>0.057631</td>\n",
       "    </tr>\n",
       "    <tr>\n",
       "      <th>2018-03-14T18:29:58.462949</th>\n",
       "      <td>0.056322</td>\n",
       "    </tr>\n",
       "    <tr>\n",
       "      <th>2018-03-14T18:29:58.467577</th>\n",
       "      <td>0.058066</td>\n",
       "    </tr>\n",
       "    <tr>\n",
       "      <th>2018-03-14T18:29:58.468705</th>\n",
       "      <td>0.056068</td>\n",
       "    </tr>\n",
       "    <tr>\n",
       "      <th>2018-03-14T18:29:58.525101</th>\n",
       "      <td>0.054544</td>\n",
       "    </tr>\n",
       "    <tr>\n",
       "      <th>2018-03-14T18:29:58.526833</th>\n",
       "      <td>0.058003</td>\n",
       "    </tr>\n",
       "    <tr>\n",
       "      <th>2018-03-14T18:29:58.527931</th>\n",
       "      <td>0.055406</td>\n",
       "    </tr>\n",
       "    <tr>\n",
       "      <th>2018-03-14T18:29:58.529001</th>\n",
       "      <td>0.057422</td>\n",
       "    </tr>\n",
       "    <tr>\n",
       "      <th>2018-03-14T18:29:58.530079</th>\n",
       "      <td>0.056215</td>\n",
       "    </tr>\n",
       "    <tr>\n",
       "      <th>2018-03-14T18:29:58.591146</th>\n",
       "      <td>0.058243</td>\n",
       "    </tr>\n",
       "    <tr>\n",
       "      <th>2018-03-14T18:29:58.593614</th>\n",
       "      <td>0.056597</td>\n",
       "    </tr>\n",
       "    <tr>\n",
       "      <th>2018-03-14T18:29:58.595115</th>\n",
       "      <td>0.057106</td>\n",
       "    </tr>\n",
       "    <tr>\n",
       "      <th>2018-03-14T18:29:58.596447</th>\n",
       "      <td>0.058839</td>\n",
       "    </tr>\n",
       "    <tr>\n",
       "      <th>2018-03-14T18:29:58.597569</th>\n",
       "      <td>0.055461</td>\n",
       "    </tr>\n",
       "    <tr>\n",
       "      <th>2018-03-14T18:29:58.659867</th>\n",
       "      <td>0.058721</td>\n",
       "    </tr>\n",
       "    <tr>\n",
       "      <th>2018-03-14T18:29:58.661590</th>\n",
       "      <td>0.058432</td>\n",
       "    </tr>\n",
       "    <tr>\n",
       "      <th>2018-03-14T18:29:58.662703</th>\n",
       "      <td>0.056815</td>\n",
       "    </tr>\n",
       "    <tr>\n",
       "      <th>2018-03-14T18:29:58.663789</th>\n",
       "      <td>0.057529</td>\n",
       "    </tr>\n",
       "    <tr>\n",
       "      <th>2018-03-14T18:29:58.665021</th>\n",
       "      <td>0.055860</td>\n",
       "    </tr>\n",
       "    <tr>\n",
       "      <th>2018-03-14T18:29:58.727646</th>\n",
       "      <td>0.059593</td>\n",
       "    </tr>\n",
       "    <tr>\n",
       "      <th>2018-03-14T18:29:58.729379</th>\n",
       "      <td>0.057611</td>\n",
       "    </tr>\n",
       "    <tr>\n",
       "      <th>2018-03-14T18:29:58.730474</th>\n",
       "      <td>0.056541</td>\n",
       "    </tr>\n",
       "    <tr>\n",
       "      <th>2018-03-14T18:29:58.731561</th>\n",
       "      <td>0.058149</td>\n",
       "    </tr>\n",
       "    <tr>\n",
       "      <th>2018-03-14T18:29:58.732641</th>\n",
       "      <td>0.059684</td>\n",
       "    </tr>\n",
       "    <tr>\n",
       "      <th>2018-03-14T18:29:58.793570</th>\n",
       "      <td>0.058194</td>\n",
       "    </tr>\n",
       "    <tr>\n",
       "      <th>2018-03-14T18:29:58.796295</th>\n",
       "      <td>0.057107</td>\n",
       "    </tr>\n",
       "    <tr>\n",
       "      <th>2018-03-14T18:29:58.797437</th>\n",
       "      <td>0.059829</td>\n",
       "    </tr>\n",
       "    <tr>\n",
       "      <th>2018-03-14T18:29:58.806542</th>\n",
       "      <td>0.054986</td>\n",
       "    </tr>\n",
       "    <tr>\n",
       "      <th>2018-03-14T18:29:58.807724</th>\n",
       "      <td>0.056782</td>\n",
       "    </tr>\n",
       "    <tr>\n",
       "      <th>2018-03-14T18:29:58.861032</th>\n",
       "      <td>0.056237</td>\n",
       "    </tr>\n",
       "  </tbody>\n",
       "</table>\n",
       "<p>6212850 rows × 1 columns</p>\n",
       "</div>"
      ],
      "text/plain": [
       "                                 acc\n",
       "timestamp                           \n",
       "2018-03-13T18:29:59.828691  0.058550\n",
       "2018-03-13T18:29:59.829822  0.058662\n",
       "2018-03-13T18:29:59.830879  0.055355\n",
       "2018-03-13T18:29:59.831915  0.055459\n",
       "2018-03-13T18:29:59.832950  0.057423\n",
       "2018-03-13T18:29:59.850131  0.054581\n",
       "2018-03-13T18:29:59.851286  0.058043\n",
       "2018-03-13T18:29:59.852322  0.056593\n",
       "2018-03-13T18:29:59.853362  0.055390\n",
       "2018-03-13T18:29:59.866181  0.055682\n",
       "2018-03-13T18:29:59.867301  0.056407\n",
       "2018-03-13T18:29:59.874439  0.059516\n",
       "2018-03-13T18:29:59.875582  0.054864\n",
       "2018-03-13T18:29:59.876620  0.060024\n",
       "2018-03-13T18:29:59.877669  0.056305\n",
       "2018-03-13T18:29:59.890243  0.058447\n",
       "2018-03-13T18:29:59.893022  0.057790\n",
       "2018-03-13T18:29:59.894255  0.054376\n",
       "2018-03-13T18:29:59.895327  0.059338\n",
       "2018-03-13T18:29:59.896383  0.056579\n",
       "2018-03-13T18:29:59.897423  0.054987\n",
       "2018-03-13T18:29:59.898469  0.054266\n",
       "2018-03-13T18:29:59.910036  0.055724\n",
       "2018-03-13T18:29:59.911112  0.053714\n",
       "2018-03-13T18:29:59.912171  0.057354\n",
       "2018-03-13T18:29:59.913203  0.058744\n",
       "2018-03-13T18:29:59.918423  0.057510\n",
       "2018-03-13T18:29:59.919775  0.056592\n",
       "2018-03-13T18:29:59.920874  0.058140\n",
       "2018-03-13T18:29:59.921923  0.053582\n",
       "...                              ...\n",
       "2018-03-14T18:29:58.461867  0.057631\n",
       "2018-03-14T18:29:58.462949  0.056322\n",
       "2018-03-14T18:29:58.467577  0.058066\n",
       "2018-03-14T18:29:58.468705  0.056068\n",
       "2018-03-14T18:29:58.525101  0.054544\n",
       "2018-03-14T18:29:58.526833  0.058003\n",
       "2018-03-14T18:29:58.527931  0.055406\n",
       "2018-03-14T18:29:58.529001  0.057422\n",
       "2018-03-14T18:29:58.530079  0.056215\n",
       "2018-03-14T18:29:58.591146  0.058243\n",
       "2018-03-14T18:29:58.593614  0.056597\n",
       "2018-03-14T18:29:58.595115  0.057106\n",
       "2018-03-14T18:29:58.596447  0.058839\n",
       "2018-03-14T18:29:58.597569  0.055461\n",
       "2018-03-14T18:29:58.659867  0.058721\n",
       "2018-03-14T18:29:58.661590  0.058432\n",
       "2018-03-14T18:29:58.662703  0.056815\n",
       "2018-03-14T18:29:58.663789  0.057529\n",
       "2018-03-14T18:29:58.665021  0.055860\n",
       "2018-03-14T18:29:58.727646  0.059593\n",
       "2018-03-14T18:29:58.729379  0.057611\n",
       "2018-03-14T18:29:58.730474  0.056541\n",
       "2018-03-14T18:29:58.731561  0.058149\n",
       "2018-03-14T18:29:58.732641  0.059684\n",
       "2018-03-14T18:29:58.793570  0.058194\n",
       "2018-03-14T18:29:58.796295  0.057107\n",
       "2018-03-14T18:29:58.797437  0.059829\n",
       "2018-03-14T18:29:58.806542  0.054986\n",
       "2018-03-14T18:29:58.807724  0.056782\n",
       "2018-03-14T18:29:58.861032  0.056237\n",
       "\n",
       "[6212850 rows x 1 columns]"
      ]
     },
     "execution_count": 6,
     "metadata": {},
     "output_type": "execute_result"
    }
   ],
   "source": [
    "acc=raw[[\"timestamp\", \"acc\"]]\n",
    "acc.set_index('timestamp')\n",
    "# acc.head()"
   ]
  },
  {
   "cell_type": "code",
   "execution_count": 7,
   "metadata": {},
   "outputs": [],
   "source": [
    "# acc.head(window).to_csv('loader_head.csv', index=False)"
   ]
  },
  {
   "cell_type": "code",
   "execution_count": 8,
   "metadata": {},
   "outputs": [],
   "source": [
    "# test=pd.read_csv('loader_head.csv')\n",
    "# test.plot()\n",
    "# test['timestamp']=acc.head(window)['timestamp']"
   ]
  },
  {
   "cell_type": "code",
   "execution_count": 9,
   "metadata": {},
   "outputs": [
    {
     "name": "stderr",
     "output_type": "stream",
     "text": [
      "/home/raghu/anaconda3/lib/python3.6/site-packages/ipykernel_launcher.py:3: SettingWithCopyWarning: \n",
      "A value is trying to be set on a copy of a slice from a DataFrame.\n",
      "Try using .loc[row_indexer,col_indexer] = value instead\n",
      "\n",
      "See the caveats in the documentation: http://pandas.pydata.org/pandas-docs/stable/indexing.html#indexing-view-versus-copy\n",
      "  This is separate from the ipykernel package so we can avoid doing imports until\n"
     ]
    }
   ],
   "source": [
    "# acc=pd.read_csv('loader_head.csv')\n",
    "test=acc\n",
    "test['acc']=pd.Series.to_frame(test.acc.rolling(75, center=True).std())\n",
    "# test1.to_csv('rollingstd.csv', index=False)"
   ]
  },
  {
   "cell_type": "code",
   "execution_count": 10,
   "metadata": {},
   "outputs": [],
   "source": [
    "# test=pd.read_csv('rollingstd.csv')\n",
    "# test.plot()"
   ]
  },
  {
   "cell_type": "code",
   "execution_count": 11,
   "metadata": {},
   "outputs": [],
   "source": [
    "import scipy.signal\n",
    "import numpy as np"
   ]
  },
  {
   "cell_type": "code",
   "execution_count": 12,
   "metadata": {},
   "outputs": [],
   "source": [
    "refill=scipy.signal.find_peaks(test.acc, height=(0.0050, 0.020), width=100)"
   ]
  },
  {
   "cell_type": "code",
   "execution_count": 13,
   "metadata": {},
   "outputs": [],
   "source": [
    "brd=scipy.signal.find_peaks(test.acc,height=(0.015), width=75)\n",
    "\n",
    "board=scipy.signal.find_peaks(test.acc,height=(0.015), width=75)"
   ]
  },
  {
   "cell_type": "code",
   "execution_count": 14,
   "metadata": {},
   "outputs": [],
   "source": [
    "# board"
   ]
  },
  {
   "cell_type": "code",
   "execution_count": 15,
   "metadata": {
    "scrolled": true
   },
   "outputs": [],
   "source": [
    "# test.plot()\n",
    "# plt.margins(0)"
   ]
  },
  {
   "cell_type": "code",
   "execution_count": 16,
   "metadata": {},
   "outputs": [],
   "source": [
    "# plt.stem(refill[0], refill[1]['peak_heights'])\n",
    "# plt.ylim(ymax = 0.04, ymin = 0)\n",
    "# plt.title(\"Refill Detection\")\n",
    "# plt.xlim(xmax = 500000, xmin = 0)\n",
    "# plt.stem(np.fft.fft(refill[1]['peak_heights']))"
   ]
  },
  {
   "cell_type": "code",
   "execution_count": 17,
   "metadata": {},
   "outputs": [],
   "source": [
    "# test.plot()\n",
    "# plt.margins(0)\n",
    "# plt.ylim(ymax = 0.04, ymin = 0)\n",
    "# plt.xlim(xmax = 500000, xmin = 0)"
   ]
  },
  {
   "cell_type": "code",
   "execution_count": 18,
   "metadata": {},
   "outputs": [],
   "source": [
    "# plt.stem(board[0], board[1]['peak_heights'])\n",
    "# plt.margins(0)"
   ]
  },
  {
   "cell_type": "code",
   "execution_count": 19,
   "metadata": {},
   "outputs": [],
   "source": [
    "start=board[0][0]\n",
    "end=board[0][-1]\n",
    "block_size=75*60*1\n",
    "board[1]['refill_status']=[0]*len(refill[0])"
   ]
  },
  {
   "cell_type": "code",
   "execution_count": 20,
   "metadata": {},
   "outputs": [],
   "source": [
    "boards=[]\n",
    "differ=np.diff(board[0])\n",
    "differ=differ.tolist()\n",
    "# differ"
   ]
  },
  {
   "cell_type": "code",
   "execution_count": 21,
   "metadata": {},
   "outputs": [
    {
     "name": "stdout",
     "output_type": "stream",
     "text": [
      "1908.9\n"
     ]
    }
   ],
   "source": [
    "# binwidth=200\n",
    "# plt.hist(differ, bins=np.arange(min(differ), max(differ) + binwidth, binwidth))\n",
    "# print(np.percentile(differ, 30))\n"
   ]
  },
  {
   "cell_type": "code",
   "execution_count": 22,
   "metadata": {},
   "outputs": [
    {
     "ename": "IndexError",
     "evalue": "list index out of range",
     "output_type": "error",
     "traceback": [
      "\u001b[0;31m---------------------------------------------------------------------------\u001b[0m",
      "\u001b[0;31mIndexError\u001b[0m                                Traceback (most recent call last)",
      "\u001b[0;32m<ipython-input-22-2add0880ead8>\u001b[0m in \u001b[0;36m<module>\u001b[0;34m()\u001b[0m\n\u001b[1;32m      3\u001b[0m \u001b[0mboards\u001b[0m\u001b[0;34m.\u001b[0m\u001b[0mappend\u001b[0m\u001b[0;34m(\u001b[0m\u001b[0mboard\u001b[0m\u001b[0;34m[\u001b[0m\u001b[0;36m0\u001b[0m\u001b[0;34m]\u001b[0m\u001b[0;34m[\u001b[0m\u001b[0;36m0\u001b[0m\u001b[0;34m]\u001b[0m\u001b[0;34m)\u001b[0m\u001b[0;34m\u001b[0m\u001b[0m\n\u001b[1;32m      4\u001b[0m \u001b[0;32mfor\u001b[0m \u001b[0mi\u001b[0m\u001b[0;34m,\u001b[0m \u001b[0mx\u001b[0m \u001b[0;32min\u001b[0m \u001b[0menumerate\u001b[0m\u001b[0;34m(\u001b[0m\u001b[0mboard\u001b[0m\u001b[0;34m[\u001b[0m\u001b[0;36m0\u001b[0m\u001b[0;34m]\u001b[0m\u001b[0;34m)\u001b[0m\u001b[0;34m:\u001b[0m\u001b[0;34m\u001b[0m\u001b[0m\n\u001b[0;32m----> 5\u001b[0;31m     \u001b[0;32mif\u001b[0m \u001b[0mdiffer\u001b[0m\u001b[0;34m[\u001b[0m\u001b[0mi\u001b[0m\u001b[0;34m]\u001b[0m\u001b[0;34m>\u001b[0m\u001b[0;36m5000\u001b[0m\u001b[0;34m:\u001b[0m\u001b[0;34m\u001b[0m\u001b[0m\n\u001b[0m\u001b[1;32m      6\u001b[0m \u001b[0;31m#         print(x)\u001b[0m\u001b[0;34m\u001b[0m\u001b[0;34m\u001b[0m\u001b[0m\n\u001b[1;32m      7\u001b[0m         \u001b[0mboards\u001b[0m\u001b[0;34m.\u001b[0m\u001b[0mappend\u001b[0m\u001b[0;34m(\u001b[0m\u001b[0mboard\u001b[0m\u001b[0;34m[\u001b[0m\u001b[0;36m0\u001b[0m\u001b[0;34m]\u001b[0m\u001b[0;34m[\u001b[0m\u001b[0mi\u001b[0m\u001b[0;34m+\u001b[0m\u001b[0;36m1\u001b[0m\u001b[0;34m]\u001b[0m\u001b[0;34m)\u001b[0m\u001b[0;34m\u001b[0m\u001b[0m\n",
      "\u001b[0;31mIndexError\u001b[0m: list index out of range"
     ]
    }
   ],
   "source": [
    "test.insert(2,'state',0)\n",
    "boards=[]\n",
    "boards.append(board[0][0])\n",
    "for i, x in enumerate(board[0]):\n",
    "    if differ[i]>5000:\n",
    "#         print(x)\n",
    "        boards.append(board[0][i+1])\n",
    "        test.at[x, 'state']=1\n",
    "    else:\n",
    "        test.at[x, 'state']=2"
   ]
  },
  {
   "cell_type": "code",
   "execution_count": null,
   "metadata": {},
   "outputs": [],
   "source": [
    "# plt.stem(board[0], board[1]['peak_heights'])\n",
    "# plt.margins(0)"
   ]
  },
  {
   "cell_type": "code",
   "execution_count": null,
   "metadata": {},
   "outputs": [],
   "source": [
    "# test.plot()\n",
    "# plt.margins(0)"
   ]
  },
  {
   "cell_type": "code",
   "execution_count": null,
   "metadata": {
    "scrolled": true
   },
   "outputs": [],
   "source": [
    "# test.plot()\n",
    "# plt.margins(0)\n",
    "# plt.stem(boards, np.ones(len(boards))*0.04, 'orange', '--',)\n",
    "# plt.margins(0)"
   ]
  },
  {
   "cell_type": "code",
   "execution_count": null,
   "metadata": {},
   "outputs": [],
   "source": [
    "# plt.stem(boards, np.ones(len(boards)))\n",
    "# plt.margins(0)"
   ]
  },
  {
   "cell_type": "code",
   "execution_count": 23,
   "metadata": {},
   "outputs": [
    {
     "name": "stdout",
     "output_type": "stream",
     "text": [
      "504\n"
     ]
    }
   ],
   "source": [
    "print(len(boards))"
   ]
  },
  {
   "cell_type": "code",
   "execution_count": 24,
   "metadata": {},
   "outputs": [
    {
     "name": "stderr",
     "output_type": "stream",
     "text": [
      "/home/raghu/anaconda3/lib/python3.6/site-packages/pandas/core/frame.py:3697: SettingWithCopyWarning: \n",
      "A value is trying to be set on a copy of a slice from a DataFrame\n",
      "\n",
      "See the caveats in the documentation: http://pandas.pydata.org/pandas-docs/stable/indexing.html#indexing-view-versus-copy\n",
      "  errors=errors)\n"
     ]
    },
    {
     "name": "stdout",
     "output_type": "stream",
     "text": [
      "Saving States with file name - 2018-11-15_17-17-10LD.csv\n",
      "                          timestamp  state\n",
      "0        2018-03-13T18:29:59.828691      0\n",
      "1        2018-03-13T18:29:59.829822      0\n",
      "2        2018-03-13T18:29:59.830879      0\n",
      "3        2018-03-13T18:29:59.831915      0\n",
      "4        2018-03-13T18:29:59.832950      0\n",
      "5        2018-03-13T18:29:59.850131      0\n",
      "6        2018-03-13T18:29:59.851286      0\n",
      "7        2018-03-13T18:29:59.852322      0\n",
      "8        2018-03-13T18:29:59.853362      0\n",
      "9        2018-03-13T18:29:59.866181      0\n",
      "10       2018-03-13T18:29:59.867301      0\n",
      "11       2018-03-13T18:29:59.874439      0\n",
      "12       2018-03-13T18:29:59.875582      0\n",
      "13       2018-03-13T18:29:59.876620      0\n",
      "14       2018-03-13T18:29:59.877669      0\n",
      "15       2018-03-13T18:29:59.890243      0\n",
      "16       2018-03-13T18:29:59.893022      0\n",
      "17       2018-03-13T18:29:59.894255      0\n",
      "18       2018-03-13T18:29:59.895327      0\n",
      "19       2018-03-13T18:29:59.896383      0\n",
      "20       2018-03-13T18:29:59.897423      0\n",
      "21       2018-03-13T18:29:59.898469      0\n",
      "22       2018-03-13T18:29:59.910036      0\n",
      "23       2018-03-13T18:29:59.911112      0\n",
      "24       2018-03-13T18:29:59.912171      0\n",
      "25       2018-03-13T18:29:59.913203      0\n",
      "26       2018-03-13T18:29:59.918423      0\n",
      "27       2018-03-13T18:29:59.919775      0\n",
      "28       2018-03-13T18:29:59.920874      0\n",
      "29       2018-03-13T18:29:59.921923      0\n",
      "...                             ...    ...\n",
      "6212820  2018-03-14T18:29:58.461867      0\n",
      "6212821  2018-03-14T18:29:58.462949      0\n",
      "6212822  2018-03-14T18:29:58.467577      0\n",
      "6212823  2018-03-14T18:29:58.468705      0\n",
      "6212824  2018-03-14T18:29:58.525101      0\n",
      "6212825  2018-03-14T18:29:58.526833      0\n",
      "6212826  2018-03-14T18:29:58.527931      0\n",
      "6212827  2018-03-14T18:29:58.529001      0\n",
      "6212828  2018-03-14T18:29:58.530079      0\n",
      "6212829  2018-03-14T18:29:58.591146      0\n",
      "6212830  2018-03-14T18:29:58.593614      0\n",
      "6212831  2018-03-14T18:29:58.595115      0\n",
      "6212832  2018-03-14T18:29:58.596447      0\n",
      "6212833  2018-03-14T18:29:58.597569      0\n",
      "6212834  2018-03-14T18:29:58.659867      0\n",
      "6212835  2018-03-14T18:29:58.661590      0\n",
      "6212836  2018-03-14T18:29:58.662703      0\n",
      "6212837  2018-03-14T18:29:58.663789      0\n",
      "6212838  2018-03-14T18:29:58.665021      0\n",
      "6212839  2018-03-14T18:29:58.727646      0\n",
      "6212840  2018-03-14T18:29:58.729379      0\n",
      "6212841  2018-03-14T18:29:58.730474      0\n",
      "6212842  2018-03-14T18:29:58.731561      0\n",
      "6212843  2018-03-14T18:29:58.732641      0\n",
      "6212844  2018-03-14T18:29:58.793570      0\n",
      "6212845  2018-03-14T18:29:58.796295      0\n",
      "6212846  2018-03-14T18:29:58.797437      0\n",
      "6212847  2018-03-14T18:29:58.806542      0\n",
      "6212848  2018-03-14T18:29:58.807724      0\n",
      "6212849  2018-03-14T18:29:58.861032      0\n",
      "\n",
      "[6212850 rows x 2 columns]\n"
     ]
    }
   ],
   "source": [
    "test.drop('acc', inplace=True)\n",
    "\n",
    "import time\n",
    "\n",
    "timestr = time.strftime(\"%Y-%m-%d_%H-%M-%S\")\n",
    "print(\"Saving States with file name -\", timestr+\"LD.csv\")\n",
    "#test.to_csv('/mnt/UltraHD/streamingStates/LD/'+ timestr+\"LD.csv\")\n",
    "test.to_csv(timestr+\"LD.csv\")"
   ]
  },
  {
   "cell_type": "code",
   "execution_count": null,
   "metadata": {},
   "outputs": [],
   "source": []
  }
 ],
 "metadata": {
  "kernelspec": {
   "display_name": "Python 3",
   "language": "python",
   "name": "python3"
  },
  "language_info": {
   "codemirror_mode": {
    "name": "ipython",
    "version": 3
   },
   "file_extension": ".py",
   "mimetype": "text/x-python",
   "name": "python",
   "nbconvert_exporter": "python",
   "pygments_lexer": "ipython3",
   "version": "3.6.6"
  }
 },
 "nbformat": 4,
 "nbformat_minor": 2
}
