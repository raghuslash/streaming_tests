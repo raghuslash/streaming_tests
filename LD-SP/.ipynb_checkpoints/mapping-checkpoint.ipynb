{
 "cells": [
  {
   "cell_type": "code",
   "execution_count": 1,
   "metadata": {},
   "outputs": [],
   "source": [
    "import pandas as pd\n",
    "import matplotlib.pyplot as plt\n",
    "import scipy.signal\n",
    "import numpy as np"
   ]
  },
  {
   "cell_type": "code",
   "execution_count": 2,
   "metadata": {},
   "outputs": [],
   "source": [
    "plt.rcParams[\"figure.figsize\"]=[15,5]"
   ]
  },
  {
   "cell_type": "code",
   "execution_count": 3,
   "metadata": {},
   "outputs": [],
   "source": [
    "#Load SP current data and plot\n",
    "raw_sp = pd.read_csv('sp_jan.csv', usecols =['timestamp', 'data.A1'])\n",
    "#only one phase for sp\n",
    "\n",
    "# mins=90\n",
    "# test_sp=raw_sp.head(60*mins)\n",
    "# test_sp.index=test_sp['timestamp']\n",
    "# test_sp.to_csv('sp_head.csv', index=False)\n",
    "# test_sp"
   ]
  },
  {
   "cell_type": "code",
   "execution_count": 4,
   "metadata": {},
   "outputs": [],
   "source": [
    "# %matplotlib notebook\n",
    "# test_sp=pd.read_csv('sp_head.csv')\n",
    "test_sp=raw_sp\n",
    "# test_sp.plot(x='timestamp', y='data.A1')\n",
    "# plt.margins(0)"
   ]
  },
  {
   "cell_type": "code",
   "execution_count": 5,
   "metadata": {},
   "outputs": [
    {
     "name": "stderr",
     "output_type": "stream",
     "text": [
      "/home/raghu/anaconda3/lib/python3.6/site-packages/ipykernel_launcher.py:15: SettingWithCopyWarning: \n",
      "A value is trying to be set on a copy of a slice from a DataFrame.\n",
      "Try using .loc[row_indexer,col_indexer] = value instead\n",
      "\n",
      "See the caveats in the documentation: http://pandas.pydata.org/pandas-docs/stable/indexing.html#indexing-view-versus-copy\n",
      "  from ipykernel import kernelapp as app\n"
     ]
    }
   ],
   "source": [
    "#Load LD data and plot\n",
    "\n",
    "raw_ld=pd.read_csv('loader_jan.csv', usecols=['timestamp', 'data.ax', 'data.ay', 'data.az'])\n",
    "\n",
    "raw_ld[\"acc\"] = ( raw_ld[\"data.ax\"]**2 + raw_ld[\"data.az\"]**2 ) ** 0.5\n",
    "\n",
    "# window = mins * 60 * 100\n",
    "\n",
    "acc=raw_ld[[\"timestamp\", \"acc\"]]\n",
    "acc.set_index('timestamp')\n",
    "\n",
    "# test_ld.plot()\n",
    "# test_ld['timestamp']=acc.head(window)['timestamp']\n",
    "test_ld=acc\n",
    "test_ld['acc']=pd.Series.to_frame(test_ld.acc.rolling(75, center=True).std())"
   ]
  },
  {
   "cell_type": "code",
   "execution_count": 6,
   "metadata": {},
   "outputs": [],
   "source": [
    "# test_ld=pd.read_csv('loader14.csv')"
   ]
  },
  {
   "cell_type": "code",
   "execution_count": 7,
   "metadata": {},
   "outputs": [],
   "source": [
    "# test_ld.plot(x='timestamp', y='acc')\n",
    "# plt.margins(0)"
   ]
  },
  {
   "cell_type": "code",
   "execution_count": 8,
   "metadata": {},
   "outputs": [],
   "source": [
    "# test_ld.plot(x='timestamp', y='acc', color='r')\n",
    "# test_sp.plot(x='timestamp', y='data.A1')"
   ]
  },
  {
   "cell_type": "code",
   "execution_count": null,
   "metadata": {},
   "outputs": [],
   "source": [
    "timethresh=20\n",
    "sptimethresh=20"
   ]
  },
  {
   "cell_type": "code",
   "execution_count": 9,
   "metadata": {},
   "outputs": [],
   "source": [
    "#Get boards from Screenprinter\n",
    "# %matplotlib\n",
    "test_sp=test_sp[['data.A1','timestamp']]\n",
    "events=scipy.signal.find_peaks(test_sp['data.A1'], height=(2.22), distance=sptimethresh, width=1)\n",
    "test_sp.insert(2,'state_new',0)\n",
    "sampleno=0\n",
    "for x in events[0]:\n",
    "    if test_sp.at[x, 'data.A1'] < 5:\n",
    "        test_sp.at[x, 'state_new'] = 1\n",
    "    elif test_sp.at[x, 'data.A1'] > 9:\n",
    "        test_sp.at[x, 'state_new'] = 2\n",
    "# print('Boards detected in SP:',len(test_sp.query('state == 1'))-1)\n",
    "detect_sp=test_sp[test_sp['state_new'] == 1]\n",
    "# plt.stem(detect_sp.index, detect_sp['state_new'])"
   ]
  },
  {
   "cell_type": "code",
   "execution_count": 10,
   "metadata": {},
   "outputs": [],
   "source": [
    "# sp_boards.shape[0]"
   ]
  },
  {
   "cell_type": "code",
   "execution_count": 11,
   "metadata": {},
   "outputs": [
    {
     "name": "stderr",
     "output_type": "stream",
     "text": [
      "/home/raghu/anaconda3/lib/python3.6/site-packages/ipykernel_launcher.py:7: SettingWithCopyWarning: \n",
      "A value is trying to be set on a copy of a slice from a DataFrame.\n",
      "Try using .loc[row_indexer,col_indexer] = value instead\n",
      "\n",
      "See the caveats in the documentation: http://pandas.pydata.org/pandas-docs/stable/indexing.html#indexing-view-versus-copy\n",
      "  import sys\n",
      "/home/raghu/anaconda3/lib/python3.6/site-packages/ipykernel_launcher.py:8: SettingWithCopyWarning: \n",
      "A value is trying to be set on a copy of a slice from a DataFrame.\n",
      "Try using .loc[row_indexer,col_indexer] = value instead\n",
      "\n",
      "See the caveats in the documentation: http://pandas.pydata.org/pandas-docs/stable/indexing.html#indexing-view-versus-copy\n",
      "  \n"
     ]
    },
    {
     "data": {
      "text/html": [
       "<div>\n",
       "<style scoped>\n",
       "    .dataframe tbody tr th:only-of-type {\n",
       "        vertical-align: middle;\n",
       "    }\n",
       "\n",
       "    .dataframe tbody tr th {\n",
       "        vertical-align: top;\n",
       "    }\n",
       "\n",
       "    .dataframe thead th {\n",
       "        text-align: right;\n",
       "    }\n",
       "</style>\n",
       "<table border=\"1\" class=\"dataframe\">\n",
       "  <thead>\n",
       "    <tr style=\"text-align: right;\">\n",
       "      <th></th>\n",
       "      <th>data.A1</th>\n",
       "      <th>timestamp</th>\n",
       "      <th>state_new</th>\n",
       "    </tr>\n",
       "  </thead>\n",
       "  <tbody>\n",
       "    <tr>\n",
       "      <th>29066</th>\n",
       "      <td>2.46</td>\n",
       "      <td>2019-01-02 05:11:42.316191</td>\n",
       "      <td>1</td>\n",
       "    </tr>\n",
       "    <tr>\n",
       "      <th>29142</th>\n",
       "      <td>2.43</td>\n",
       "      <td>2019-01-02 05:13:22.319302</td>\n",
       "      <td>1</td>\n",
       "    </tr>\n",
       "    <tr>\n",
       "      <th>29453</th>\n",
       "      <td>2.43</td>\n",
       "      <td>2019-01-02 05:20:13.401158</td>\n",
       "      <td>1</td>\n",
       "    </tr>\n",
       "    <tr>\n",
       "      <th>29459</th>\n",
       "      <td>2.40</td>\n",
       "      <td>2019-01-02 05:20:21.352520</td>\n",
       "      <td>1</td>\n",
       "    </tr>\n",
       "    <tr>\n",
       "      <th>29471</th>\n",
       "      <td>2.27</td>\n",
       "      <td>2019-01-02 05:20:37.191434</td>\n",
       "      <td>1</td>\n",
       "    </tr>\n",
       "  </tbody>\n",
       "</table>\n",
       "</div>"
      ],
      "text/plain": [
       "       data.A1                  timestamp  state_new\n",
       "29066     2.46 2019-01-02 05:11:42.316191          1\n",
       "29142     2.43 2019-01-02 05:13:22.319302          1\n",
       "29453     2.43 2019-01-02 05:20:13.401158          1\n",
       "29459     2.40 2019-01-02 05:20:21.352520          1\n",
       "29471     2.27 2019-01-02 05:20:37.191434          1"
      ]
     },
     "execution_count": 11,
     "metadata": {},
     "output_type": "execute_result"
    }
   ],
   "source": [
    "import datetime as dt\n",
    "import time\n",
    "import matplotlib.dates as mdates\n",
    "\n",
    "pattern=\"%Y-%m-%dT%H:%M:%S.%f\"\n",
    "detect_sp=test_sp[test_sp['state_new'] == 1]\n",
    "test_sp['timestamp'] =  pd.to_datetime(test_sp['timestamp'], format=pattern)\n",
    "detect_sp['timestamp'] =  pd.to_datetime(detect_sp['timestamp'], format=pattern)\n",
    "detect_sp.head()"
   ]
  },
  {
   "cell_type": "code",
   "execution_count": 13,
   "metadata": {},
   "outputs": [
    {
     "name": "stderr",
     "output_type": "stream",
     "text": [
      "/home/raghu/anaconda3/lib/python3.6/site-packages/ipykernel_launcher.py:15: DeprecationWarning: \n",
      ".ix is deprecated. Please use\n",
      ".loc for label based indexing or\n",
      ".iloc for positional indexing\n",
      "\n",
      "See the documentation here:\n",
      "http://pandas.pydata.org/pandas-docs/stable/indexing.html#ix-indexer-is-deprecated\n",
      "  from ipykernel import kernelapp as app\n"
     ]
    }
   ],
   "source": [
    "detect_sp=detect_sp.diff(1)\n",
    "test_sp.insert(2,'state',0)\n",
    "detect_sp=detect_sp[[\"timestamp\"]].applymap(lambda x: x.seconds)\n",
    "# lastkey=detect_sp.index.tolist()[0]\n",
    "\n",
    "# for x in detect_sp.index.tolist():\n",
    "#     if detect_sp.ix[x, 'timestamp'] > sptimethresh:\n",
    "#         test_sp.at[x, 'state']=0\n",
    "#         test_sp.at[lastkey, 'state']=1\n",
    "#     else:\n",
    "#         test_sp.at[x, 'state']=0\n",
    "#         lastkey=x\n",
    "\n",
    "# for x in detect_sp.index.tolist():\n",
    "#     if detect_sp.ix[x, 'timestamp'] > sptimethresh:\n",
    "#         test_sp.at[x, 'state']=1\n",
    "#     else:\n",
    "#         test_sp.at[x, 'state']=0\n",
    "#     lastkey=x\n",
    "# sp_boards=test_sp[test_sp['state'] == 1]\n",
    "# print('Boards detected in SP:', len(sp_boards))"
   ]
  },
  {
   "cell_type": "code",
   "execution_count": 14,
   "metadata": {},
   "outputs": [
    {
     "name": "stdout",
     "output_type": "stream",
     "text": [
      "Boards detected in SP: 367\n"
     ]
    }
   ],
   "source": [
    "sp_boards=test_sp[(test_sp['state_new'] == 1)]\n",
    "print('Boards detected in SP:', sp_boards.shape[0])"
   ]
  },
  {
   "cell_type": "code",
   "execution_count": 15,
   "metadata": {},
   "outputs": [
    {
     "name": "stderr",
     "output_type": "stream",
     "text": [
      "/home/raghu/anaconda3/lib/python3.6/site-packages/pandas/core/indexing.py:362: SettingWithCopyWarning: \n",
      "A value is trying to be set on a copy of a slice from a DataFrame.\n",
      "Try using .loc[row_indexer,col_indexer] = value instead\n",
      "\n",
      "See the caveats in the documentation: http://pandas.pydata.org/pandas-docs/stable/indexing.html#indexing-view-versus-copy\n",
      "  self.obj[key] = _infer_fill_value(value)\n",
      "/home/raghu/anaconda3/lib/python3.6/site-packages/pandas/core/indexing.py:543: SettingWithCopyWarning: \n",
      "A value is trying to be set on a copy of a slice from a DataFrame.\n",
      "Try using .loc[row_indexer,col_indexer] = value instead\n",
      "\n",
      "See the caveats in the documentation: http://pandas.pydata.org/pandas-docs/stable/indexing.html#indexing-view-versus-copy\n",
      "  self.obj[item] = s\n"
     ]
    },
    {
     "name": "stdout",
     "output_type": "stream",
     "text": [
      "Boards detected in LD: 194\n"
     ]
    }
   ],
   "source": [
    "#Get boards from Loader\n",
    "board=scipy.signal.find_peaks(test_ld.acc,height=(0.016), width=1)\n",
    "boards=[]\n",
    "differ=np.diff(board[0])\n",
    "differ=differ.tolist()\n",
    "# test_ld.insert(2,'state',0)\n",
    "boards=[]\n",
    "boards.append(board[0][0])\n",
    "sumdiffer=0\n",
    "for i, x in enumerate(board[0]):\n",
    "    try:\n",
    "        sumdiffer+=differ[i]\n",
    "        if sumdiffer>timethresh*100:\n",
    "            boards.append(board[0][i])\n",
    "            test_ld.at[x, 'state']=1\n",
    "            sumdiffer=0\n",
    "        if differ[i] < timethresh*100:\n",
    "            test_ld.at[x, 'state']=2\n",
    "    except:\n",
    "        continue\n",
    "print('Boards detected in LD:', len(boards))\n",
    "ld_boards=test_ld[test_ld['state']==1]"
   ]
  },
  {
   "cell_type": "code",
   "execution_count": 16,
   "metadata": {},
   "outputs": [
    {
     "name": "stderr",
     "output_type": "stream",
     "text": [
      "/home/raghu/anaconda3/lib/python3.6/site-packages/ipykernel_launcher.py:1: SettingWithCopyWarning: \n",
      "A value is trying to be set on a copy of a slice from a DataFrame.\n",
      "Try using .loc[row_indexer,col_indexer] = value instead\n",
      "\n",
      "See the caveats in the documentation: http://pandas.pydata.org/pandas-docs/stable/indexing.html#indexing-view-versus-copy\n",
      "  \"\"\"Entry point for launching an IPython kernel.\n",
      "/home/raghu/anaconda3/lib/python3.6/site-packages/ipykernel_launcher.py:2: SettingWithCopyWarning: \n",
      "A value is trying to be set on a copy of a slice from a DataFrame.\n",
      "Try using .loc[row_indexer,col_indexer] = value instead\n",
      "\n",
      "See the caveats in the documentation: http://pandas.pydata.org/pandas-docs/stable/indexing.html#indexing-view-versus-copy\n",
      "  \n"
     ]
    }
   ],
   "source": [
    "test_ld['timestamp'] =  pd.to_datetime(test_ld['timestamp'], format=pattern)\n",
    "ld_boards['timestamp'] =  pd.to_datetime(ld_boards['timestamp'], format=pattern)"
   ]
  },
  {
   "cell_type": "code",
   "execution_count": 27,
   "metadata": {
    "scrolled": true
   },
   "outputs": [
    {
     "data": {
      "text/plain": [
       "Text(0.5, 1.0, 'Board Detections')"
      ]
     },
     "execution_count": 27,
     "metadata": {},
     "output_type": "execute_result"
    }
   ],
   "source": [
    "# %matplotlib notebook\n",
    "fig, ax1 = plt.subplots()\n",
    "\n",
    "ax1.stem(sp_boards['timestamp'], sp_boards['state'], 'red')\n",
    "\n",
    "# ax1.xaxis.set_major_locator(mdates.DateFormatter('%H:%M'))\n",
    "\n",
    "ax1.set_xlabel('Time')\n",
    "\n",
    "ax2 = ax1.twinx()\n",
    "\n",
    "ax2.plot(test_sp['timestamp'], test_sp['data.A1'], 'orange')\n",
    "\n",
    "plt.title('Board Detections')"
   ]
  },
  {
   "cell_type": "code",
   "execution_count": 18,
   "metadata": {},
   "outputs": [],
   "source": [
    "# %matplotlib  notebook\n",
    "# fig, ax1 = plt.subplots()\n",
    "\n",
    "# ax1.stem(ld_boards['timestamp'], ld_boards['state'], 'orange')\n",
    "\n",
    "# ax1.xaxis.set_major_locator(mdates.DateFormatter('%H:%M'))\n",
    "\n",
    "# ax1.set_xlabel('Time')\n",
    "\n",
    "# ax2 = ax1.twinx()\n",
    "\n",
    "# ax2.plot(test_ld['timestamp'], test_ld['acc'], 'blue')\n",
    "\n",
    "# plt.title('Board Detections')"
   ]
  },
  {
   "cell_type": "code",
   "execution_count": 23,
   "metadata": {},
   "outputs": [
    {
     "data": {
      "text/plain": [
       "Text(0.5, 1.0, 'Board Detections')"
      ]
     },
     "execution_count": 23,
     "metadata": {},
     "output_type": "execute_result"
    }
   ],
   "source": [
    "# %matplotlib notebook\n",
    "# fig, ax1 = plt.subplots()\n",
    "\n",
    "# ax1.stem(ld_boards['timestamp'], ld_boards['state'], 'green')\n",
    "\n",
    "# # ax1.xaxis.set_major_locator(mdates.DateFormatter('%H:%M'))\n",
    "\n",
    "# ax1.set_xlabel('Time')\n",
    "\n",
    "# ax2 = ax1.twinx()\n",
    "\n",
    "# ax2.stem(sp_boards['timestamp'], sp_boards['state'], 'red')\n",
    "\n",
    "# plt.title('Board Detections')"
   ]
  },
  {
   "cell_type": "code",
   "execution_count": 20,
   "metadata": {
    "scrolled": true
   },
   "outputs": [
    {
     "data": {
      "text/plain": [
       "Text(0.5, 1.0, 'Board Detections')"
      ]
     },
     "execution_count": 20,
     "metadata": {},
     "output_type": "execute_result"
    }
   ],
   "source": [
    "%matplotlib tk\n",
    "fig, ax1 = plt.subplots()\n",
    "\n",
    "ax1.plot(test_ld['timestamp'], -1*test_ld['acc'], 'blue')\n",
    "ax1.stem(ld_boards['timestamp'], -0.4*ld_boards['state'], 'green', '.')\n",
    "ax1.set_xlabel('Time')\n",
    "\n",
    "ax2 = ax1.twinx()\n",
    "\n",
    "ax2.plot(test_sp['timestamp'], test_sp['data.A1'], 'orange')\n",
    "ax2.stem(sp_boards['timestamp'], 10*sp_boards['state'], 'red', '.')\n",
    "ax2.stem(sp_boards['timestamp'], 5*sp_boards['state_new'], 'purple', '.')\n",
    "plt.title('Board Detections')"
   ]
  },
  {
   "cell_type": "code",
   "execution_count": null,
   "metadata": {},
   "outputs": [],
   "source": [
    "# imt=[]\n",
    "# ldLists=ld_boards.timestamp.unique()\n",
    "# ldLists=\n",
    "# spLists=sp_boards.timestamp.unique()\n",
    "# for x in ldLists:\n",
    "#     for y in spLists:\n",
    "#         if y>x:\n",
    "#             imt=y-x\n",
    "#             print(imt.dtype)"
   ]
  },
  {
   "cell_type": "code",
   "execution_count": null,
   "metadata": {},
   "outputs": [],
   "source": [
    "# clean=test_ld[(test_ld['timestamp'] >= '2018-03-17 02:17:00') & (test_ld['timestamp'] < '2018-03-17 05:17:00')]\n",
    "# test_ld.to_csv('LD14clean.csv', index=False)\n",
    "# clean=test_sp[(test_sp['timestamp'] >= '2018-03-17 02:17:00') & (test_sp['timestamp'] < '2018-03-17 05:17:00')]\n",
    "# test_sp.to_csv('SP14clean.csv', index=False)"
   ]
  },
  {
   "cell_type": "code",
   "execution_count": null,
   "metadata": {},
   "outputs": [],
   "source": [
    "# board_mapping=pd.DataFrame(columns=['BoardID','LD_Time','SP_Time'])\n",
    "# board_mapping"
   ]
  },
  {
   "cell_type": "code",
   "execution_count": null,
   "metadata": {},
   "outputs": [],
   "source": [
    "matching_list=[]\n",
    "spmatch=0\n",
    "posdiff=0\n",
    "for ldindex, ldrow in ld_boards.iterrows():\n",
    "#     print (index, row[\"timestamp\"], row[\"state\"])\n",
    "    ldts=ldrow['timestamp']\n",
    "#     print(ldts)\n",
    "    bestdiff=-1\n",
    "    for spindex, sprow in sp_boards.iterrows():\n",
    "        spts=sprow['timestamp']\n",
    "        posdiff=abs(spts-ldts)                  #Time difference between loader detection \n",
    "        if bestdiff==-1:                         #and screenprinter detection\n",
    "            bestdiff=posdiff\n",
    "        elif posdiff<bestdiff:\n",
    "            bestdiff=posdiff\n",
    "            spmatch=sprow['timestamp']\n",
    "        elif posdiff>bestdiff:\n",
    "#             print(bestdiff.seconds)\n",
    "            if (bestdiff.seconds >50) or (bestdiff.seconds <0): #If the best difference is more than 19secs,\n",
    "                spmatch='No match'                              #Tag as match not found\n",
    "            break\n",
    "\n",
    "    try:\n",
    "        spmatch=spmatch.strftime(pattern)\n",
    "    except:\n",
    "        continue\n",
    "    matchrow={\"BoardID\":ldts.strftime(pattern), \"LD_Time\": ldts.strftime(pattern), \"SP_Time\": spmatch}\n",
    "    matching_list.append(matchrow)"
   ]
  },
  {
   "cell_type": "code",
   "execution_count": null,
   "metadata": {},
   "outputs": [],
   "source": [
    "board_mapping=pd.DataFrame(matching_list)\n",
    "board_mapping.head()"
   ]
  },
  {
   "cell_type": "code",
   "execution_count": null,
   "metadata": {},
   "outputs": [],
   "source": [
    "ldt=pd.to_datetime(board_mapping[\"LD_Time\"])\n",
    "spt=pd.to_datetime(board_mapping[\"SP_Time\"])"
   ]
  },
  {
   "cell_type": "code",
   "execution_count": null,
   "metadata": {},
   "outputs": [],
   "source": [
    "ldt=ldt.apply (lambda x: x.to_pydatetime().timestamp())\n",
    "spt=spt.apply (lambda x: x.to_pydatetime().timestamp())"
   ]
  },
  {
   "cell_type": "code",
   "execution_count": null,
   "metadata": {},
   "outputs": [],
   "source": [
    "diff=spt - ldt"
   ]
  },
  {
   "cell_type": "code",
   "execution_count": null,
   "metadata": {},
   "outputs": [],
   "source": [
    "sns.distplot(diff,bins=100)"
   ]
  },
  {
   "cell_type": "code",
   "execution_count": null,
   "metadata": {},
   "outputs": [],
   "source": [
    "sns.distplot(diff[diff.between(-5,10)],bins=100)"
   ]
  },
  {
   "cell_type": "code",
   "execution_count": null,
   "metadata": {},
   "outputs": [],
   "source": [
    "diff.plot.hist(bins=100)"
   ]
  },
  {
   "cell_type": "code",
   "execution_count": null,
   "metadata": {},
   "outputs": [],
   "source": [
    "diff[diff.between(-5,10)].plot.hist(bins=100)"
   ]
  },
  {
   "cell_type": "code",
   "execution_count": null,
   "metadata": {},
   "outputs": [],
   "source": []
  }
 ],
 "metadata": {
  "kernelspec": {
   "display_name": "Python 3",
   "language": "python",
   "name": "python3"
  },
  "language_info": {
   "codemirror_mode": {
    "name": "ipython",
    "version": 3
   },
   "file_extension": ".py",
   "mimetype": "text/x-python",
   "name": "python",
   "nbconvert_exporter": "python",
   "pygments_lexer": "ipython3",
   "version": "3.6.7"
  }
 },
 "nbformat": 4,
 "nbformat_minor": 2
}
