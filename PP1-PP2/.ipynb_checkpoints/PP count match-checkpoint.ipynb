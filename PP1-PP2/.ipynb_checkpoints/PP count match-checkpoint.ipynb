{
 "cells": [
  {
   "cell_type": "code",
   "execution_count": 1,
   "metadata": {},
   "outputs": [],
   "source": [
    "import pandas as pd\n",
    "import matplotlib.pyplot as plt\n",
    "import numpy as np"
   ]
  },
  {
   "cell_type": "code",
   "execution_count": 2,
   "metadata": {},
   "outputs": [],
   "source": [
    "pp1_raw=pd.read_csv('pickandplace1.csv', usecols=('timestamp', 'data.ax', 'data.ay', 'data.az'))\n",
    "pp1_raw.dropna(inplace=True)\n",
    "pp2_raw=pd.read_csv('pickandplace2.csv', usecols=('timestamp', 'data.ax', 'data.ay', 'data.az'))\n",
    "pp2_raw.dropna(inplace=True)\n",
    "pp1_raw.timestamp=pd.to_datetime(pp1_raw.timestamp)\n",
    "pp2_raw.timestamp=pd.to_datetime(pp2_raw.timestamp)"
   ]
  },
  {
   "cell_type": "code",
   "execution_count": 10,
   "metadata": {},
   "outputs": [],
   "source": [
    "pp1_result=pd.read_csv('2019-05-27_16-48-48_PP1.csv')\n",
    "pp2_result=pd.read_csv('2019-05-27_16-59-29_PP2.csv')\n",
    "pp1_result.timestamp=pd.to_datetime(pp1_result.timestamp)\n",
    "pp2_result.timestamp=pd.to_datetime(pp2_result.timestamp)\n",
    "pp2_result02=pd.read_csv('2019-05-28_15-43-42_PP2_with0.2.csv')\n",
    "pp2_result02.timestamp=pd.to_datetime(pp2_result.timestamp)\n",
    "pp2_result03=pd.read_csv('2019-05-29_15-53-21_PP2_newPrakash.csv')\n",
    "pp2_result03.timestamp=pd.to_datetime(pp3_result.timestamp)"
   ]
  },
  {
   "cell_type": "code",
   "execution_count": 11,
   "metadata": {},
   "outputs": [
    {
     "data": {
      "text/plain": [
       "775"
      ]
     },
     "execution_count": 11,
     "metadata": {},
     "output_type": "execute_result"
    }
   ],
   "source": [
    "pp1_result[pp1_result.event==1].shape[0]"
   ]
  },
  {
   "cell_type": "code",
   "execution_count": 12,
   "metadata": {},
   "outputs": [
    {
     "data": {
      "text/plain": [
       "1418"
      ]
     },
     "execution_count": 12,
     "metadata": {},
     "output_type": "execute_result"
    }
   ],
   "source": [
    "pp2_result[pp2_result.event==1].shape[0]"
   ]
  },
  {
   "cell_type": "code",
   "execution_count": 15,
   "metadata": {},
   "outputs": [
    {
     "data": {
      "text/plain": [
       "703"
      ]
     },
     "execution_count": 15,
     "metadata": {},
     "output_type": "execute_result"
    }
   ],
   "source": [
    "pp2_result02[pp2_result02.event==1].shape[0]"
   ]
  },
  {
   "cell_type": "code",
   "execution_count": 16,
   "metadata": {},
   "outputs": [
    {
     "name": "stdout",
     "output_type": "stream",
     "text": [
      "Using matplotlib backend: Qt5Agg\n"
     ]
    }
   ],
   "source": [
    "%matplotlib"
   ]
  },
  {
   "cell_type": "code",
   "execution_count": 8,
   "metadata": {},
   "outputs": [
    {
     "data": {
      "text/plain": [
       "<StemContainer object of 3 artists>"
      ]
     },
     "execution_count": 8,
     "metadata": {},
     "output_type": "execute_result"
    }
   ],
   "source": [
    "fig, (pp1, pp2)=plt.subplots(2,1, sharex=True)\n",
    "pp1.plot(pp1_raw.timestamp, pp1_raw['data.ax'], 'orange')\n",
    "pp1.stem(pp1_result[pp1_result.event==1].timestamp, 0.05*np.ones(len(pp1_result[pp1_result.event==1])))\n",
    "pp2.plot(pp2_raw.timestamp, pp2_raw['data.ax'], 'orange')\n",
    "pp2.stem(pp2_result[pp2_result.event==1].timestamp, 0.05*np.ones(len(pp2_result[pp2_result.event==1])))"
   ]
  },
  {
   "cell_type": "code",
   "execution_count": null,
   "metadata": {},
   "outputs": [],
   "source": []
  }
 ],
 "metadata": {
  "kernelspec": {
   "display_name": "Python 3",
   "language": "python",
   "name": "python3"
  },
  "language_info": {
   "codemirror_mode": {
    "name": "ipython",
    "version": 3
   },
   "file_extension": ".py",
   "mimetype": "text/x-python",
   "name": "python",
   "nbconvert_exporter": "python",
   "pygments_lexer": "ipython3",
   "version": "3.7.1"
  }
 },
 "nbformat": 4,
 "nbformat_minor": 2
}
