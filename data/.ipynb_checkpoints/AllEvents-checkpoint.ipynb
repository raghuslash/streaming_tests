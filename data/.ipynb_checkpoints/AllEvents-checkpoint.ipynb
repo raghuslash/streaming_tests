{
 "cells": [
  {
   "cell_type": "code",
   "execution_count": 1,
   "metadata": {},
   "outputs": [],
   "source": [
    "import pandas as pd\n",
    "import matplotlib.pyplot as plt\n",
    "import scipy.signal\n",
    "import numpy as np"
   ]
  },
  {
   "cell_type": "code",
   "execution_count": 2,
   "metadata": {},
   "outputs": [],
   "source": [
    "plt.rcParams[\"figure.figsize\"]=[16,9]"
   ]
  },
  {
   "cell_type": "code",
   "execution_count": 3,
   "metadata": {},
   "outputs": [],
   "source": [
    "%matplotlib qt"
   ]
  },
  {
   "cell_type": "code",
   "execution_count": 4,
   "metadata": {},
   "outputs": [
    {
     "name": "stdout",
     "output_type": "stream",
     "text": [
      "Boards detected in LD: 23\n"
     ]
    },
    {
     "name": "stderr",
     "output_type": "stream",
     "text": [
      "/home/raghu/anaconda3/lib/python3.6/site-packages/ipykernel_launcher.py:13: SettingWithCopyWarning: \n",
      "A value is trying to be set on a copy of a slice from a DataFrame.\n",
      "Try using .loc[row_indexer,col_indexer] = value instead\n",
      "\n",
      "See the caveats in the documentation: http://pandas.pydata.org/pandas-docs/stable/indexing.html#indexing-view-versus-copy\n",
      "  del sys.path[0]\n"
     ]
    }
   ],
   "source": [
    "#Get Loader Events\n",
    "\n",
    "raw_ld=pd.read_csv('loader.csv', usecols=['timestamp', 'data.ax', 'data.az'])\n",
    "raw_ld.sort_values(by=['timestamp'], inplace=True)\n",
    "raw_ld.timestamp=pd.to_datetime(raw_ld.timestamp)\n",
    "raw_ld.reset_index(inplace=True)\n",
    "raw_ld.dropna(axis=0, inplace=True)\n",
    "#Load LD data and plot\n",
    "raw_ld[\"acc\"] = ( raw_ld[\"data.ax\"]**2 + raw_ld[\"data.az\"]**2 ) ** 0.5\n",
    "acc=raw_ld[[\"timestamp\", \"acc\"]]\n",
    "acc.set_index('timestamp')\n",
    "test_ld=acc\n",
    "test_ld['acc']=pd.Series.to_frame(test_ld.acc.rolling(100, center=True).std())\n",
    "timethresh=10\n",
    "test_ld.insert(2,'state',0)\n",
    "#Get boards from Loader\n",
    "board=scipy.signal.find_peaks(test_ld.acc, height=(0.01), distance=timethresh*72, width=1)\n",
    "differ=np.diff(board[0])\n",
    "differ=differ.tolist()\n",
    "for x in board[0]:\n",
    "    test_ld.at[x, 'state'] = 1\n",
    "ld_boards=test_ld[test_ld['state']==1]\n",
    "print('Boards detected in LD:', ld_boards.shape[0])\n",
    "loading_delays_rawdf=pd.DataFrame({\"sample_number\":board[0], \"working_time\":board[1]['widths']/72})\n",
    "LD_events=pd.DataFrame({\"timestamp\":test_ld.iloc[loading_delays_rawdf.sample_number].timestamp, \"event\":1, \"working_time\":(loading_delays_rawdf.working_time).tolist()})\n",
    "LD_events.index=LD_events.timestamp\n",
    "LD_events.drop('timestamp', axis=1, inplace=True)\n",
    "LD_events['energy']=float('nan')"
   ]
  },
  {
   "cell_type": "code",
   "execution_count": 9,
   "metadata": {},
   "outputs": [
    {
     "data": {
      "text/plain": [
       "[<matplotlib.lines.Line2D at 0x7f31a9535be0>]"
      ]
     },
     "execution_count": 9,
     "metadata": {},
     "output_type": "execute_result"
    }
   ],
   "source": [
    "#plot Loader RAW and Processed detection signal\n",
    "\n",
    "plt.plot(test_ld.timestamp, test_ld.acc)\n",
    "plt.plot(test_ld.timestamp, test_ld.state*0.05, alpha=.5)"
   ]
  },
  {
   "cell_type": "code",
   "execution_count": 35,
   "metadata": {},
   "outputs": [
    {
     "name": "stderr",
     "output_type": "stream",
     "text": [
      "/home/raghu/anaconda3/lib/python3.6/site-packages/ipykernel_launcher.py:18: DeprecationWarning: \n",
      ".ix is deprecated. Please use\n",
      ".loc for label based indexing or\n",
      ".iloc for positional indexing\n",
      "\n",
      "See the documentation here:\n",
      "http://pandas.pydata.org/pandas-docs/stable/indexing.html#ix-indexer-is-deprecated\n",
      "/home/raghu/anaconda3/lib/python3.6/site-packages/ipykernel_launcher.py:20: DeprecationWarning: \n",
      ".ix is deprecated. Please use\n",
      ".loc for label based indexing or\n",
      ".iloc for positional indexing\n",
      "\n",
      "See the documentation here:\n",
      "http://pandas.pydata.org/pandas-docs/stable/indexing.html#ix-indexer-is-deprecated\n"
     ]
    }
   ],
   "source": [
    "#Get SP Events\n",
    "raw_sp = pd.read_csv('screenprinter_plus_vaf.csv', usecols =['timestamp', 'data.A1'])\n",
    "raw_sp.dropna(axis=0, inplace=True)\n",
    "raw_sp.sort_values(by=['timestamp'])\n",
    "raw_sp.reset_index(inplace=True)\n",
    "raw_sp['timestamp'] =  pd.to_datetime(raw_sp['timestamp'])\n",
    "test_sp=raw_sp\n",
    "test_sp=test_sp[['data.A1','timestamp']]\n",
    "test_sp['sum']=pd.Series.to_frame(test_sp['data.A1'].rolling(12, center=True).sum())\n",
    "# test_sp['sum_forcleaning']=pd.Series.to_frame(test_sp['data.A1'].rolling(12, center=True).sum())\n",
    "sptimethresh=12\n",
    "printing_delays_raw=scipy.signal.find_peaks(test_sp['sum'], height=(22,30), distance=sptimethresh, width=1)\n",
    "# printing_delays_raw_df=pd.DataFrame({\"sample_number\":printing_delays_raw[0], \"working_time\":printing_delays_raw[1]['widths']})\n",
    "cleaning_delays_raw=scipy.signal.find_peaks(test_sp['sum'], height=60, distance=sptimethresh, width=1)\n",
    "# cleaning_delays_raw_df=pd.DataFrame({\"sample_number\":cleaning_delays_raw[0], \"working_time\":cleaning_delays_raw[1]['widths']})\n",
    "test_sp['event']=0\n",
    "for index, i in enumerate(printing_delays_raw[0]):\n",
    "    test_sp.ix[int(printing_delays_raw[1]['left_ips'][index]) : int(printing_delays_raw[1]['right_ips'][index]), 'event']=1\n",
    "for index, i in enumerate(cleaning_delays_raw[0]):\n",
    "    test_sp.ix[int(cleaning_delays_raw[1]['left_ips'][index]) : int(cleaning_delays_raw[1]['right_ips'][index]), 'event']=2"
   ]
  },
  {
   "cell_type": "code",
   "execution_count": 37,
   "metadata": {},
   "outputs": [
    {
     "data": {
      "text/plain": [
       "[<matplotlib.lines.Line2D at 0x7f31a3c10fd0>]"
      ]
     },
     "execution_count": 37,
     "metadata": {},
     "output_type": "execute_result"
    }
   ],
   "source": [
    "#plot SP RAW and Processed detection signal\n",
    "\n",
    "plt.plot(test_sp.timestamp, test_sp['data.A1']/28, color='blue')\n",
    "plt.plot(test_sp.timestamp, test_sp['sum']/120, color='blue')\n",
    "plt.plot(test_sp.timestamp, test_sp['event']/4, color='orange')"
   ]
  },
  {
   "cell_type": "code",
   "execution_count": null,
   "metadata": {},
   "outputs": [],
   "source": [
    "#Get PP1 Events\n",
    "\n",
    "raw_pp=pd.read_csv('pickandplace1.csv', usecols=['timestamp', 'data.ax', 'data.az'])\n",
    "raw_pp.sort_values(by=['timestamp'], inplace=True)\n",
    "raw_pp.reset_index(inplace=True)\n",
    "raw_pp.dropna(axis=0, inplace=True)\n",
    "raw_pp['timestamp'] =  pd.to_datetime(raw_pp['timestamp'])\n",
    "# raw_pp_current=pd.read_csv('out_pickandplace1.csv', usecols=['timestamp', 'data.A1', 'data.A2', 'data.A3'])\n",
    "# raw_pp_current.sort_values(by=['timestamp'])\n",
    "# raw_pp_current.reset_index(inplace=True)\n",
    "# raw_pp_current['total_current']=raw_pp_current['data.A1']+raw_pp_current['data.A2']+raw_pp_current['data.A3']\n",
    "# raw_pp_current['timestamp']=pd.to_datetime(raw_pp_current['timestamp'])\n",
    "# raw_pp_current.index=raw_pp_current['timestamp']\n",
    "raw_pp[\"acc\"] = ( raw_pp[\"data.ax\"]**2 + raw_pp[\"data.az\"]**2) ** 0.5\n",
    "acc=raw_pp[[\"timestamp\", \"acc\"]]\n",
    "test_pp=acc\n",
    "test_pp['acc_rolling_std']=pd.Series.to_frame(test_pp.acc.rolling(100*2, center=True).std())\n",
    "test_pp['detections']=pd.Series.to_frame(test_pp.acc_rolling_std.rolling(100, center=True).sum())\n",
    "test_pp['boards']=0\n",
    "test_pp['boards'][test_pp['detections']>=2]=1\n",
    "working_times_raw=scipy.signal.find_peaks(test_pp.boards, height=0.5, width=1)\n",
    "working_times_raw_df=pd.DataFrame({\"sample_number\":working_times_raw[0], \"working_time\":working_times_raw[1]['widths']/72, \"left_ips\":working_times_raw[1]['left_ips'], \"right_ips\":working_times_raw[1]['right_ips']})\n",
    "for x, row in working_times_raw_df.iterrows():\n",
    "    working_times_raw_df.ix[x,'start_time']=test_pp.iloc[int(working_times_raw[1]['left_ips'][x])].timestamp\n",
    "    working_times_raw_df.ix[x,'end_time']=test_pp.iloc[int(working_times_raw[1]['right_ips'][x])].timestamp\n",
    "    working_times_raw_df.ix[x,'timestamp']=test_pp.iloc[int(working_times_raw[0][x])].timestamp\n",
    "\n",
    "working_times_df=working_times_raw_df[working_times_raw_df['working_time']>20]\n",
    "test_pp['event']=0\n"
   ]
  },
  {
   "cell_type": "code",
   "execution_count": null,
   "metadata": {},
   "outputs": [],
   "source": [
    "for index, row in working_times_df.iterrows():\n",
    "#     test_pp2.ix[int(row.left_ips):int(row.right_ips), 'event']=1\n",
    "    test_pp.loc[(test_pp.timestamp <= row.end_time) & (row.start_time <= test_pp.timestamp), ['event']]=1"
   ]
  },
  {
   "cell_type": "code",
   "execution_count": null,
   "metadata": {},
   "outputs": [],
   "source": [
    "#plot PP2 RAW and Processed detection signal\n",
    "plt.plot(test_pp.timestamp, test_pp['event']*.5 + 1, alpha=.5)\n",
    "plt.plot(test_pp.timestamp, test_pp['acc'] + 1)"
   ]
  },
  {
   "cell_type": "code",
   "execution_count": null,
   "metadata": {},
   "outputs": [],
   "source": [
    "#Get PP2 Events\n",
    "\n",
    "raw_pp=pd.read_csv('pickandplace2.csv', usecols=['timestamp', 'data.ax', 'data.az'])\n",
    "raw_pp.sort_values(by=['timestamp'], inplace=True)\n",
    "raw_pp.reset_index(inplace=True)\n",
    "raw_pp.dropna(axis=0, inplace=True)\n",
    "raw_pp['timestamp'] =  pd.to_datetime(raw_pp['timestamp'])\n",
    "# raw_pp_current=pd.read_csv('out_pickandplace1.csv', usecols=['timestamp', 'data.A1', 'data.A2', 'data.A3'])\n",
    "# raw_pp_current.sort_values(by=['timestamp'])\n",
    "# raw_pp_current.reset_index(inplace=True)\n",
    "# raw_pp_current['total_current']=raw_pp_current['data.A1']+raw_pp_current['data.A2']+raw_pp_current['data.A3']\n",
    "# raw_pp_current['timestamp']=pd.to_datetime(raw_pp_current['timestamp'])\n",
    "# raw_pp_current.index=raw_pp_current['timestamp']\n",
    "raw_pp[\"acc\"] = ( raw_pp[\"data.ax\"]**2 + raw_pp[\"data.az\"]**2) ** 0.5\n",
    "acc=raw_pp[[\"timestamp\", \"acc\"]]\n",
    "test_pp2=acc\n",
    "test_pp2['acc_rolling_std']=pd.Series.to_frame(test_pp2.acc.rolling(100*2, center=True).std())\n",
    "test_pp2['detections']=pd.Series.to_frame(test_pp2.acc_rolling_std.rolling(100, center=True).sum())\n",
    "test_pp2['boards']=0\n",
    "test_pp2['boards'][test_pp2['detections']>=2]=1\n",
    "working_times_raw=scipy.signal.find_peaks(test_pp2.boards, height=0.5, width=1)\n",
    "working_times_raw_df=pd.DataFrame({\"sample_number\":working_times_raw[0], \"working_time\":working_times_raw[1]['widths']/72, \"left_ips\":working_times_raw[1]['left_ips'], \"right_ips\":working_times_raw[1]['right_ips']})\n",
    "for x, row in working_times_raw_df.iterrows():\n",
    "    working_times_raw_df.ix[x,'start_time']=test_pp2.iloc[int(working_times_raw[1]['left_ips'][x])].timestamp\n",
    "    working_times_raw_df.ix[x,'end_time']=test_pp2.iloc[int(working_times_raw[1]['right_ips'][x])].timestamp\n",
    "    working_times_raw_df.ix[x,'timestamp']=test_pp2.iloc[int(working_times_raw[0][x])].timestamp\n",
    "\n",
    "working_times_df=working_times_raw_df[working_times_raw_df['working_time']>20]\n",
    "test_pp2['event']=0\n",
    "\n",
    "for index, row in working_times_df.iterrows():\n",
    "#     test_pp2.ix[int(row.left_ips):int(row.right_ips), 'event']=1\n",
    "    test_pp2.loc[(test_pp2.timestamp <= row.end_time) & (row.start_time <= test_pp2.timestamp), ['event']]=1"
   ]
  },
  {
   "cell_type": "code",
   "execution_count": null,
   "metadata": {},
   "outputs": [],
   "source": [
    "#plot PP2 RAW and Processed detection signal\n",
    "\n",
    "plt.plot(test_pp2.timestamp, test_pp2['event']*.5, alpha=.5)\n",
    "plt.plot(test_pp2.timestamp, test_pp2['acc'])"
   ]
  },
  {
   "cell_type": "code",
   "execution_count": null,
   "metadata": {},
   "outputs": [],
   "source": []
  }
 ],
 "metadata": {
  "kernelspec": {
   "display_name": "Python 3",
   "language": "python",
   "name": "python3"
  },
  "language_info": {
   "codemirror_mode": {
    "name": "ipython",
    "version": 3
   },
   "file_extension": ".py",
   "mimetype": "text/x-python",
   "name": "python",
   "nbconvert_exporter": "python",
   "pygments_lexer": "ipython3",
   "version": "3.6.7"
  }
 },
 "nbformat": 4,
 "nbformat_minor": 2
}
